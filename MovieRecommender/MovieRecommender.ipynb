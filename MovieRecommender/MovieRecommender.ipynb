{
 "cells": [
  {
   "cell_type": "raw",
   "id": "d0455e45",
   "metadata": {
    "_cell_guid": "b1076dfc-b9ad-4769-8c92-a6c4dae69d19",
    "_uuid": "8f2839f25d086af736a60e9eeb907d3b93b6e0e5",
    "execution": {
     "iopub.execute_input": "2022-02-21T09:24:33.535418Z",
     "iopub.status.busy": "2022-02-21T09:24:33.535059Z",
     "iopub.status.idle": "2022-02-21T09:24:33.54678Z",
     "shell.execute_reply": "2022-02-21T09:24:33.546111Z",
     "shell.execute_reply.started": "2022-02-21T09:24:33.535379Z"
    },
    "papermill": {
     "duration": 0.053099,
     "end_time": "2022-02-22T14:21:47.170773",
     "exception": false,
     "start_time": "2022-02-22T14:21:47.117674",
     "status": "completed"
    },
    "tags": []
   },
   "source": []
  },
  {
   "cell_type": "code",
   "execution_count": 1,
   "id": "b7a585b9",
   "metadata": {
    "execution": {
     "iopub.execute_input": "2022-02-22T14:21:47.274567Z",
     "iopub.status.busy": "2022-02-22T14:21:47.273493Z",
     "iopub.status.idle": "2022-02-22T14:21:48.882504Z",
     "shell.execute_reply": "2022-02-22T14:21:48.881415Z",
     "shell.execute_reply.started": "2022-02-22T14:07:05.834672Z"
    },
    "papermill": {
     "duration": 1.662015,
     "end_time": "2022-02-22T14:21:48.882684",
     "exception": false,
     "start_time": "2022-02-22T14:21:47.220669",
     "status": "completed"
    },
    "tags": []
   },
   "outputs": [],
   "source": [
    "from surprise import SVD\n",
    "from surprise import Dataset\n",
    "from surprise.model_selection import cross_validate\n",
    "from surprise import Reader, Dataset\n",
    "import numpy as np # linear algebra\n",
    "import pandas as pd # data processing, CSV file I/O (e.g. pd.read_csv)\n",
    "from ast import literal_eval\n",
    "from sklearn.feature_extraction.text import TfidfVectorizer\n",
    "from sklearn.metrics.pairwise import linear_kernel\n",
    "from nltk.stem.snowball import SnowballStemmer\n",
    "from sklearn.feature_extraction.text import TfidfVectorizer, CountVectorizer\n",
    "from sklearn.metrics.pairwise import linear_kernel, cosine_similarity"
   ]
  },
  {
   "cell_type": "code",
   "execution_count": 2,
   "id": "27444673",
   "metadata": {
    "execution": {
     "iopub.execute_input": "2022-02-22T14:21:48.985964Z",
     "iopub.status.busy": "2022-02-22T14:21:48.985302Z",
     "iopub.status.idle": "2022-02-22T14:21:48.988007Z",
     "shell.execute_reply": "2022-02-22T14:21:48.987528Z",
     "shell.execute_reply.started": "2022-02-22T14:07:05.846176Z"
    },
    "papermill": {
     "duration": 0.056024,
     "end_time": "2022-02-22T14:21:48.988141",
     "exception": false,
     "start_time": "2022-02-22T14:21:48.932117",
     "status": "completed"
    },
    "tags": []
   },
   "outputs": [],
   "source": [
    "#SIMPLE RECOMENDER (BASIS OF POPULARITY AND GENRE)"
   ]
  },
  {
   "cell_type": "code",
   "execution_count": 3,
   "id": "a98b73e4",
   "metadata": {
    "execution": {
     "iopub.execute_input": "2022-02-22T14:21:49.091827Z",
     "iopub.status.busy": "2022-02-22T14:21:49.091108Z",
     "iopub.status.idle": "2022-02-22T14:21:50.175038Z",
     "shell.execute_reply": "2022-02-22T14:21:50.175766Z",
     "shell.execute_reply.started": "2022-02-22T14:07:05.862157Z"
    },
    "papermill": {
     "duration": 1.138682,
     "end_time": "2022-02-22T14:21:50.175991",
     "exception": false,
     "start_time": "2022-02-22T14:21:49.037309",
     "status": "completed"
    },
    "tags": []
   },
   "outputs": [
    {
     "name": "stderr",
     "output_type": "stream",
     "text": [
      "/opt/conda/lib/python3.7/site-packages/IPython/core/interactiveshell.py:3457: DtypeWarning: Columns (10) have mixed types.Specify dtype option on import or set low_memory=False.\n",
      "  exec(code_obj, self.user_global_ns, self.user_ns)\n"
     ]
    },
    {
     "data": {
      "text/html": [
       "<div>\n",
       "<style scoped>\n",
       "    .dataframe tbody tr th:only-of-type {\n",
       "        vertical-align: middle;\n",
       "    }\n",
       "\n",
       "    .dataframe tbody tr th {\n",
       "        vertical-align: top;\n",
       "    }\n",
       "\n",
       "    .dataframe thead th {\n",
       "        text-align: right;\n",
       "    }\n",
       "</style>\n",
       "<table border=\"1\" class=\"dataframe\">\n",
       "  <thead>\n",
       "    <tr style=\"text-align: right;\">\n",
       "      <th></th>\n",
       "      <th>adult</th>\n",
       "      <th>belongs_to_collection</th>\n",
       "      <th>budget</th>\n",
       "      <th>genres</th>\n",
       "      <th>homepage</th>\n",
       "      <th>id</th>\n",
       "      <th>imdb_id</th>\n",
       "      <th>original_language</th>\n",
       "      <th>original_title</th>\n",
       "      <th>overview</th>\n",
       "      <th>...</th>\n",
       "      <th>release_date</th>\n",
       "      <th>revenue</th>\n",
       "      <th>runtime</th>\n",
       "      <th>spoken_languages</th>\n",
       "      <th>status</th>\n",
       "      <th>tagline</th>\n",
       "      <th>title</th>\n",
       "      <th>video</th>\n",
       "      <th>vote_average</th>\n",
       "      <th>vote_count</th>\n",
       "    </tr>\n",
       "  </thead>\n",
       "  <tbody>\n",
       "    <tr>\n",
       "      <th>0</th>\n",
       "      <td>False</td>\n",
       "      <td>{'id': 10194, 'name': 'Toy Story Collection', ...</td>\n",
       "      <td>30000000</td>\n",
       "      <td>[{'id': 16, 'name': 'Animation'}, {'id': 35, '...</td>\n",
       "      <td>http://toystory.disney.com/toy-story</td>\n",
       "      <td>862</td>\n",
       "      <td>tt0114709</td>\n",
       "      <td>en</td>\n",
       "      <td>Toy Story</td>\n",
       "      <td>Led by Woody, Andy's toys live happily in his ...</td>\n",
       "      <td>...</td>\n",
       "      <td>1995-10-30</td>\n",
       "      <td>373554033.0</td>\n",
       "      <td>81.0</td>\n",
       "      <td>[{'iso_639_1': 'en', 'name': 'English'}]</td>\n",
       "      <td>Released</td>\n",
       "      <td>NaN</td>\n",
       "      <td>Toy Story</td>\n",
       "      <td>False</td>\n",
       "      <td>7.7</td>\n",
       "      <td>5415.0</td>\n",
       "    </tr>\n",
       "    <tr>\n",
       "      <th>1</th>\n",
       "      <td>False</td>\n",
       "      <td>NaN</td>\n",
       "      <td>65000000</td>\n",
       "      <td>[{'id': 12, 'name': 'Adventure'}, {'id': 14, '...</td>\n",
       "      <td>NaN</td>\n",
       "      <td>8844</td>\n",
       "      <td>tt0113497</td>\n",
       "      <td>en</td>\n",
       "      <td>Jumanji</td>\n",
       "      <td>When siblings Judy and Peter discover an encha...</td>\n",
       "      <td>...</td>\n",
       "      <td>1995-12-15</td>\n",
       "      <td>262797249.0</td>\n",
       "      <td>104.0</td>\n",
       "      <td>[{'iso_639_1': 'en', 'name': 'English'}, {'iso...</td>\n",
       "      <td>Released</td>\n",
       "      <td>Roll the dice and unleash the excitement!</td>\n",
       "      <td>Jumanji</td>\n",
       "      <td>False</td>\n",
       "      <td>6.9</td>\n",
       "      <td>2413.0</td>\n",
       "    </tr>\n",
       "    <tr>\n",
       "      <th>2</th>\n",
       "      <td>False</td>\n",
       "      <td>{'id': 119050, 'name': 'Grumpy Old Men Collect...</td>\n",
       "      <td>0</td>\n",
       "      <td>[{'id': 10749, 'name': 'Romance'}, {'id': 35, ...</td>\n",
       "      <td>NaN</td>\n",
       "      <td>15602</td>\n",
       "      <td>tt0113228</td>\n",
       "      <td>en</td>\n",
       "      <td>Grumpier Old Men</td>\n",
       "      <td>A family wedding reignites the ancient feud be...</td>\n",
       "      <td>...</td>\n",
       "      <td>1995-12-22</td>\n",
       "      <td>0.0</td>\n",
       "      <td>101.0</td>\n",
       "      <td>[{'iso_639_1': 'en', 'name': 'English'}]</td>\n",
       "      <td>Released</td>\n",
       "      <td>Still Yelling. Still Fighting. Still Ready for...</td>\n",
       "      <td>Grumpier Old Men</td>\n",
       "      <td>False</td>\n",
       "      <td>6.5</td>\n",
       "      <td>92.0</td>\n",
       "    </tr>\n",
       "    <tr>\n",
       "      <th>3</th>\n",
       "      <td>False</td>\n",
       "      <td>NaN</td>\n",
       "      <td>16000000</td>\n",
       "      <td>[{'id': 35, 'name': 'Comedy'}, {'id': 18, 'nam...</td>\n",
       "      <td>NaN</td>\n",
       "      <td>31357</td>\n",
       "      <td>tt0114885</td>\n",
       "      <td>en</td>\n",
       "      <td>Waiting to Exhale</td>\n",
       "      <td>Cheated on, mistreated and stepped on, the wom...</td>\n",
       "      <td>...</td>\n",
       "      <td>1995-12-22</td>\n",
       "      <td>81452156.0</td>\n",
       "      <td>127.0</td>\n",
       "      <td>[{'iso_639_1': 'en', 'name': 'English'}]</td>\n",
       "      <td>Released</td>\n",
       "      <td>Friends are the people who let you be yourself...</td>\n",
       "      <td>Waiting to Exhale</td>\n",
       "      <td>False</td>\n",
       "      <td>6.1</td>\n",
       "      <td>34.0</td>\n",
       "    </tr>\n",
       "    <tr>\n",
       "      <th>4</th>\n",
       "      <td>False</td>\n",
       "      <td>{'id': 96871, 'name': 'Father of the Bride Col...</td>\n",
       "      <td>0</td>\n",
       "      <td>[{'id': 35, 'name': 'Comedy'}]</td>\n",
       "      <td>NaN</td>\n",
       "      <td>11862</td>\n",
       "      <td>tt0113041</td>\n",
       "      <td>en</td>\n",
       "      <td>Father of the Bride Part II</td>\n",
       "      <td>Just when George Banks has recovered from his ...</td>\n",
       "      <td>...</td>\n",
       "      <td>1995-02-10</td>\n",
       "      <td>76578911.0</td>\n",
       "      <td>106.0</td>\n",
       "      <td>[{'iso_639_1': 'en', 'name': 'English'}]</td>\n",
       "      <td>Released</td>\n",
       "      <td>Just When His World Is Back To Normal... He's ...</td>\n",
       "      <td>Father of the Bride Part II</td>\n",
       "      <td>False</td>\n",
       "      <td>5.7</td>\n",
       "      <td>173.0</td>\n",
       "    </tr>\n",
       "  </tbody>\n",
       "</table>\n",
       "<p>5 rows × 24 columns</p>\n",
       "</div>"
      ],
      "text/plain": [
       "   adult                              belongs_to_collection    budget  \\\n",
       "0  False  {'id': 10194, 'name': 'Toy Story Collection', ...  30000000   \n",
       "1  False                                                NaN  65000000   \n",
       "2  False  {'id': 119050, 'name': 'Grumpy Old Men Collect...         0   \n",
       "3  False                                                NaN  16000000   \n",
       "4  False  {'id': 96871, 'name': 'Father of the Bride Col...         0   \n",
       "\n",
       "                                              genres  \\\n",
       "0  [{'id': 16, 'name': 'Animation'}, {'id': 35, '...   \n",
       "1  [{'id': 12, 'name': 'Adventure'}, {'id': 14, '...   \n",
       "2  [{'id': 10749, 'name': 'Romance'}, {'id': 35, ...   \n",
       "3  [{'id': 35, 'name': 'Comedy'}, {'id': 18, 'nam...   \n",
       "4                     [{'id': 35, 'name': 'Comedy'}]   \n",
       "\n",
       "                               homepage     id    imdb_id original_language  \\\n",
       "0  http://toystory.disney.com/toy-story    862  tt0114709                en   \n",
       "1                                   NaN   8844  tt0113497                en   \n",
       "2                                   NaN  15602  tt0113228                en   \n",
       "3                                   NaN  31357  tt0114885                en   \n",
       "4                                   NaN  11862  tt0113041                en   \n",
       "\n",
       "                original_title  \\\n",
       "0                    Toy Story   \n",
       "1                      Jumanji   \n",
       "2             Grumpier Old Men   \n",
       "3            Waiting to Exhale   \n",
       "4  Father of the Bride Part II   \n",
       "\n",
       "                                            overview  ... release_date  \\\n",
       "0  Led by Woody, Andy's toys live happily in his ...  ...   1995-10-30   \n",
       "1  When siblings Judy and Peter discover an encha...  ...   1995-12-15   \n",
       "2  A family wedding reignites the ancient feud be...  ...   1995-12-22   \n",
       "3  Cheated on, mistreated and stepped on, the wom...  ...   1995-12-22   \n",
       "4  Just when George Banks has recovered from his ...  ...   1995-02-10   \n",
       "\n",
       "       revenue runtime                                   spoken_languages  \\\n",
       "0  373554033.0    81.0           [{'iso_639_1': 'en', 'name': 'English'}]   \n",
       "1  262797249.0   104.0  [{'iso_639_1': 'en', 'name': 'English'}, {'iso...   \n",
       "2          0.0   101.0           [{'iso_639_1': 'en', 'name': 'English'}]   \n",
       "3   81452156.0   127.0           [{'iso_639_1': 'en', 'name': 'English'}]   \n",
       "4   76578911.0   106.0           [{'iso_639_1': 'en', 'name': 'English'}]   \n",
       "\n",
       "     status                                            tagline  \\\n",
       "0  Released                                                NaN   \n",
       "1  Released          Roll the dice and unleash the excitement!   \n",
       "2  Released  Still Yelling. Still Fighting. Still Ready for...   \n",
       "3  Released  Friends are the people who let you be yourself...   \n",
       "4  Released  Just When His World Is Back To Normal... He's ...   \n",
       "\n",
       "                         title  video vote_average vote_count  \n",
       "0                    Toy Story  False          7.7     5415.0  \n",
       "1                      Jumanji  False          6.9     2413.0  \n",
       "2             Grumpier Old Men  False          6.5       92.0  \n",
       "3            Waiting to Exhale  False          6.1       34.0  \n",
       "4  Father of the Bride Part II  False          5.7      173.0  \n",
       "\n",
       "[5 rows x 24 columns]"
      ]
     },
     "execution_count": 3,
     "metadata": {},
     "output_type": "execute_result"
    }
   ],
   "source": [
    "md = pd. read_csv('../input/moviesdataset/movies_metadata.csv')\n",
    "md.head()\n"
   ]
  },
  {
   "cell_type": "code",
   "execution_count": 4,
   "id": "0b414c8d",
   "metadata": {
    "execution": {
     "iopub.execute_input": "2022-02-22T14:21:50.319233Z",
     "iopub.status.busy": "2022-02-22T14:21:50.292237Z",
     "iopub.status.idle": "2022-02-22T14:21:51.534662Z",
     "shell.execute_reply": "2022-02-22T14:21:51.534068Z",
     "shell.execute_reply.started": "2022-02-22T14:07:07.410656Z"
    },
    "papermill": {
     "duration": 1.304633,
     "end_time": "2022-02-22T14:21:51.534799",
     "exception": false,
     "start_time": "2022-02-22T14:21:50.230166",
     "status": "completed"
    },
    "tags": []
   },
   "outputs": [],
   "source": [
    "md['genres'] = md['genres'].fillna('[]').apply(literal_eval).apply(lambda x: [i['name'] for i in x] if isinstance(x, list) else [])\n",
    "\n",
    "#filling empty slots with empty lists.\n",
    "#literal_eval converting strings to lists.\n"
   ]
  },
  {
   "cell_type": "code",
   "execution_count": 5,
   "id": "54c3467a",
   "metadata": {
    "execution": {
     "iopub.execute_input": "2022-02-22T14:21:51.643750Z",
     "iopub.status.busy": "2022-02-22T14:21:51.643061Z",
     "iopub.status.idle": "2022-02-22T14:21:51.688183Z",
     "shell.execute_reply": "2022-02-22T14:21:51.687736Z",
     "shell.execute_reply.started": "2022-02-22T14:07:20.853450Z"
    },
    "papermill": {
     "duration": 0.101627,
     "end_time": "2022-02-22T14:21:51.688327",
     "exception": false,
     "start_time": "2022-02-22T14:21:51.586700",
     "status": "completed"
    },
    "tags": []
   },
   "outputs": [
    {
     "data": {
      "text/plain": [
       "5.244896612406511"
      ]
     },
     "execution_count": 5,
     "metadata": {},
     "output_type": "execute_result"
    }
   ],
   "source": [
    "vote_counts = md[md['vote_count'].notnull()]['vote_count'].astype('int')\n",
    "vote_averages = md[md['vote_average'].notnull()]['vote_average'].astype('int')\n",
    "C = vote_averages.mean()\n",
    "C\n",
    "#C = mean vote"
   ]
  },
  {
   "cell_type": "code",
   "execution_count": 6,
   "id": "9c73f5ea",
   "metadata": {
    "execution": {
     "iopub.execute_input": "2022-02-22T14:21:51.795830Z",
     "iopub.status.busy": "2022-02-22T14:21:51.795120Z",
     "iopub.status.idle": "2022-02-22T14:21:51.801716Z",
     "shell.execute_reply": "2022-02-22T14:21:51.802253Z",
     "shell.execute_reply.started": "2022-02-22T14:07:20.907624Z"
    },
    "papermill": {
     "duration": 0.063376,
     "end_time": "2022-02-22T14:21:51.802431",
     "exception": false,
     "start_time": "2022-02-22T14:21:51.739055",
     "status": "completed"
    },
    "tags": []
   },
   "outputs": [
    {
     "data": {
      "text/plain": [
       "434.0"
      ]
     },
     "execution_count": 6,
     "metadata": {},
     "output_type": "execute_result"
    }
   ],
   "source": [
    "m = vote_counts.quantile(0.95)\n",
    "m\n",
    "#m = minimum votes req"
   ]
  },
  {
   "cell_type": "code",
   "execution_count": 7,
   "id": "329aa48e",
   "metadata": {
    "execution": {
     "iopub.execute_input": "2022-02-22T14:21:51.911798Z",
     "iopub.status.busy": "2022-02-22T14:21:51.907841Z",
     "iopub.status.idle": "2022-02-22T14:21:52.291520Z",
     "shell.execute_reply": "2022-02-22T14:21:52.290975Z",
     "shell.execute_reply.started": "2022-02-22T14:07:20.918002Z"
    },
    "papermill": {
     "duration": 0.437809,
     "end_time": "2022-02-22T14:21:52.291656",
     "exception": false,
     "start_time": "2022-02-22T14:21:51.853847",
     "status": "completed"
    },
    "tags": []
   },
   "outputs": [],
   "source": [
    "md['year'] = pd.to_datetime(md['release_date'], errors='coerce').apply(lambda x: str(x).split('-')[0] if x != np.nan else np.nan)"
   ]
  },
  {
   "cell_type": "code",
   "execution_count": 8,
   "id": "bceb3a56",
   "metadata": {
    "execution": {
     "iopub.execute_input": "2022-02-22T14:21:52.399133Z",
     "iopub.status.busy": "2022-02-22T14:21:52.398216Z",
     "iopub.status.idle": "2022-02-22T14:21:52.451124Z",
     "shell.execute_reply": "2022-02-22T14:21:52.450672Z",
     "shell.execute_reply.started": "2022-02-22T14:07:21.329365Z"
    },
    "papermill": {
     "duration": 0.107904,
     "end_time": "2022-02-22T14:21:52.451256",
     "exception": false,
     "start_time": "2022-02-22T14:21:52.343352",
     "status": "completed"
    },
    "tags": []
   },
   "outputs": [
    {
     "data": {
      "text/plain": [
       "(2274, 6)"
      ]
     },
     "execution_count": 8,
     "metadata": {},
     "output_type": "execute_result"
    }
   ],
   "source": [
    "qualified = md[(md['vote_count'] >= m) & (md['vote_count'].notnull()) & (md['vote_average'].notnull())][['title', 'year', 'vote_count', 'vote_average', 'popularity', 'genres']]\n",
    "qualified['vote_count'] = qualified['vote_count'].astype('int')\n",
    "qualified['vote_average'] = qualified['vote_average'].astype('int')\n",
    "qualified.shape"
   ]
  },
  {
   "cell_type": "code",
   "execution_count": 9,
   "id": "51987ee1",
   "metadata": {
    "execution": {
     "iopub.execute_input": "2022-02-22T14:21:52.559161Z",
     "iopub.status.busy": "2022-02-22T14:21:52.558577Z",
     "iopub.status.idle": "2022-02-22T14:21:52.560163Z",
     "shell.execute_reply": "2022-02-22T14:21:52.560626Z",
     "shell.execute_reply.started": "2022-02-22T14:07:21.373908Z"
    },
    "papermill": {
     "duration": 0.058089,
     "end_time": "2022-02-22T14:21:52.560779",
     "exception": false,
     "start_time": "2022-02-22T14:21:52.502690",
     "status": "completed"
    },
    "tags": []
   },
   "outputs": [],
   "source": [
    "def weighted_rating(x):\n",
    "    v = x['vote_count']\n",
    "    R = x['vote_average']\n",
    "    return (v/(v+m) * R) + (m/(m+v) * C)\n",
    "#APPLYING THE WEIGHTAGE RATING FORMULA"
   ]
  },
  {
   "cell_type": "code",
   "execution_count": 10,
   "id": "57ea640e",
   "metadata": {
    "execution": {
     "iopub.execute_input": "2022-02-22T14:21:52.667061Z",
     "iopub.status.busy": "2022-02-22T14:21:52.666441Z",
     "iopub.status.idle": "2022-02-22T14:21:52.702428Z",
     "shell.execute_reply": "2022-02-22T14:21:52.702894Z",
     "shell.execute_reply.started": "2022-02-22T14:07:21.380927Z"
    },
    "papermill": {
     "duration": 0.090861,
     "end_time": "2022-02-22T14:21:52.703066",
     "exception": false,
     "start_time": "2022-02-22T14:21:52.612205",
     "status": "completed"
    },
    "tags": []
   },
   "outputs": [],
   "source": [
    "qualified['wr'] = qualified.apply(weighted_rating, axis=1)"
   ]
  },
  {
   "cell_type": "code",
   "execution_count": 11,
   "id": "b0bab85a",
   "metadata": {
    "execution": {
     "iopub.execute_input": "2022-02-22T14:21:52.809578Z",
     "iopub.status.busy": "2022-02-22T14:21:52.808931Z",
     "iopub.status.idle": "2022-02-22T14:21:52.825210Z",
     "shell.execute_reply": "2022-02-22T14:21:52.825667Z",
     "shell.execute_reply.started": "2022-02-22T14:07:21.450202Z"
    },
    "papermill": {
     "duration": 0.071253,
     "end_time": "2022-02-22T14:21:52.825824",
     "exception": false,
     "start_time": "2022-02-22T14:21:52.754571",
     "status": "completed"
    },
    "tags": []
   },
   "outputs": [
    {
     "data": {
      "text/html": [
       "<div>\n",
       "<style scoped>\n",
       "    .dataframe tbody tr th:only-of-type {\n",
       "        vertical-align: middle;\n",
       "    }\n",
       "\n",
       "    .dataframe tbody tr th {\n",
       "        vertical-align: top;\n",
       "    }\n",
       "\n",
       "    .dataframe thead th {\n",
       "        text-align: right;\n",
       "    }\n",
       "</style>\n",
       "<table border=\"1\" class=\"dataframe\">\n",
       "  <thead>\n",
       "    <tr style=\"text-align: right;\">\n",
       "      <th></th>\n",
       "      <th>title</th>\n",
       "      <th>year</th>\n",
       "      <th>vote_count</th>\n",
       "      <th>vote_average</th>\n",
       "      <th>popularity</th>\n",
       "      <th>genres</th>\n",
       "      <th>wr</th>\n",
       "    </tr>\n",
       "  </thead>\n",
       "  <tbody>\n",
       "    <tr>\n",
       "      <th>15480</th>\n",
       "      <td>Inception</td>\n",
       "      <td>2010</td>\n",
       "      <td>14075</td>\n",
       "      <td>8</td>\n",
       "      <td>29.108149</td>\n",
       "      <td>[Action, Thriller, Science Fiction, Mystery, A...</td>\n",
       "      <td>7.917588</td>\n",
       "    </tr>\n",
       "    <tr>\n",
       "      <th>12481</th>\n",
       "      <td>The Dark Knight</td>\n",
       "      <td>2008</td>\n",
       "      <td>12269</td>\n",
       "      <td>8</td>\n",
       "      <td>123.167259</td>\n",
       "      <td>[Drama, Action, Crime, Thriller]</td>\n",
       "      <td>7.905871</td>\n",
       "    </tr>\n",
       "    <tr>\n",
       "      <th>22879</th>\n",
       "      <td>Interstellar</td>\n",
       "      <td>2014</td>\n",
       "      <td>11187</td>\n",
       "      <td>8</td>\n",
       "      <td>32.213481</td>\n",
       "      <td>[Adventure, Drama, Science Fiction]</td>\n",
       "      <td>7.897107</td>\n",
       "    </tr>\n",
       "    <tr>\n",
       "      <th>2843</th>\n",
       "      <td>Fight Club</td>\n",
       "      <td>1999</td>\n",
       "      <td>9678</td>\n",
       "      <td>8</td>\n",
       "      <td>63.869599</td>\n",
       "      <td>[Drama]</td>\n",
       "      <td>7.881753</td>\n",
       "    </tr>\n",
       "    <tr>\n",
       "      <th>4863</th>\n",
       "      <td>The Lord of the Rings: The Fellowship of the Ring</td>\n",
       "      <td>2001</td>\n",
       "      <td>8892</td>\n",
       "      <td>8</td>\n",
       "      <td>32.070725</td>\n",
       "      <td>[Adventure, Fantasy, Action]</td>\n",
       "      <td>7.871787</td>\n",
       "    </tr>\n",
       "    <tr>\n",
       "      <th>292</th>\n",
       "      <td>Pulp Fiction</td>\n",
       "      <td>1994</td>\n",
       "      <td>8670</td>\n",
       "      <td>8</td>\n",
       "      <td>140.950236</td>\n",
       "      <td>[Thriller, Crime]</td>\n",
       "      <td>7.868660</td>\n",
       "    </tr>\n",
       "    <tr>\n",
       "      <th>314</th>\n",
       "      <td>The Shawshank Redemption</td>\n",
       "      <td>1994</td>\n",
       "      <td>8358</td>\n",
       "      <td>8</td>\n",
       "      <td>51.645403</td>\n",
       "      <td>[Drama, Crime]</td>\n",
       "      <td>7.864000</td>\n",
       "    </tr>\n",
       "    <tr>\n",
       "      <th>7000</th>\n",
       "      <td>The Lord of the Rings: The Return of the King</td>\n",
       "      <td>2003</td>\n",
       "      <td>8226</td>\n",
       "      <td>8</td>\n",
       "      <td>29.324358</td>\n",
       "      <td>[Adventure, Fantasy, Action]</td>\n",
       "      <td>7.861927</td>\n",
       "    </tr>\n",
       "    <tr>\n",
       "      <th>351</th>\n",
       "      <td>Forrest Gump</td>\n",
       "      <td>1994</td>\n",
       "      <td>8147</td>\n",
       "      <td>8</td>\n",
       "      <td>48.307194</td>\n",
       "      <td>[Comedy, Drama, Romance]</td>\n",
       "      <td>7.860656</td>\n",
       "    </tr>\n",
       "    <tr>\n",
       "      <th>5814</th>\n",
       "      <td>The Lord of the Rings: The Two Towers</td>\n",
       "      <td>2002</td>\n",
       "      <td>7641</td>\n",
       "      <td>8</td>\n",
       "      <td>29.423537</td>\n",
       "      <td>[Adventure, Fantasy, Action]</td>\n",
       "      <td>7.851924</td>\n",
       "    </tr>\n",
       "    <tr>\n",
       "      <th>256</th>\n",
       "      <td>Star Wars</td>\n",
       "      <td>1977</td>\n",
       "      <td>6778</td>\n",
       "      <td>8</td>\n",
       "      <td>42.149697</td>\n",
       "      <td>[Adventure, Action, Science Fiction]</td>\n",
       "      <td>7.834205</td>\n",
       "    </tr>\n",
       "    <tr>\n",
       "      <th>1225</th>\n",
       "      <td>Back to the Future</td>\n",
       "      <td>1985</td>\n",
       "      <td>6239</td>\n",
       "      <td>8</td>\n",
       "      <td>25.778509</td>\n",
       "      <td>[Adventure, Comedy, Science Fiction, Family]</td>\n",
       "      <td>7.820813</td>\n",
       "    </tr>\n",
       "    <tr>\n",
       "      <th>834</th>\n",
       "      <td>The Godfather</td>\n",
       "      <td>1972</td>\n",
       "      <td>6024</td>\n",
       "      <td>8</td>\n",
       "      <td>41.109264</td>\n",
       "      <td>[Drama, Crime]</td>\n",
       "      <td>7.814847</td>\n",
       "    </tr>\n",
       "    <tr>\n",
       "      <th>1154</th>\n",
       "      <td>The Empire Strikes Back</td>\n",
       "      <td>1980</td>\n",
       "      <td>5998</td>\n",
       "      <td>8</td>\n",
       "      <td>19.470959</td>\n",
       "      <td>[Adventure, Action, Science Fiction]</td>\n",
       "      <td>7.814099</td>\n",
       "    </tr>\n",
       "    <tr>\n",
       "      <th>46</th>\n",
       "      <td>Se7en</td>\n",
       "      <td>1995</td>\n",
       "      <td>5915</td>\n",
       "      <td>8</td>\n",
       "      <td>18.45743</td>\n",
       "      <td>[Crime, Mystery, Thriller]</td>\n",
       "      <td>7.811669</td>\n",
       "    </tr>\n",
       "  </tbody>\n",
       "</table>\n",
       "</div>"
      ],
      "text/plain": [
       "                                                   title  year  vote_count  \\\n",
       "15480                                          Inception  2010       14075   \n",
       "12481                                    The Dark Knight  2008       12269   \n",
       "22879                                       Interstellar  2014       11187   \n",
       "2843                                          Fight Club  1999        9678   \n",
       "4863   The Lord of the Rings: The Fellowship of the Ring  2001        8892   \n",
       "292                                         Pulp Fiction  1994        8670   \n",
       "314                             The Shawshank Redemption  1994        8358   \n",
       "7000       The Lord of the Rings: The Return of the King  2003        8226   \n",
       "351                                         Forrest Gump  1994        8147   \n",
       "5814               The Lord of the Rings: The Two Towers  2002        7641   \n",
       "256                                            Star Wars  1977        6778   \n",
       "1225                                  Back to the Future  1985        6239   \n",
       "834                                        The Godfather  1972        6024   \n",
       "1154                             The Empire Strikes Back  1980        5998   \n",
       "46                                                 Se7en  1995        5915   \n",
       "\n",
       "       vote_average  popularity  \\\n",
       "15480             8   29.108149   \n",
       "12481             8  123.167259   \n",
       "22879             8   32.213481   \n",
       "2843              8   63.869599   \n",
       "4863              8   32.070725   \n",
       "292               8  140.950236   \n",
       "314               8   51.645403   \n",
       "7000              8   29.324358   \n",
       "351               8   48.307194   \n",
       "5814              8   29.423537   \n",
       "256               8   42.149697   \n",
       "1225              8   25.778509   \n",
       "834               8   41.109264   \n",
       "1154              8   19.470959   \n",
       "46                8    18.45743   \n",
       "\n",
       "                                                  genres        wr  \n",
       "15480  [Action, Thriller, Science Fiction, Mystery, A...  7.917588  \n",
       "12481                   [Drama, Action, Crime, Thriller]  7.905871  \n",
       "22879                [Adventure, Drama, Science Fiction]  7.897107  \n",
       "2843                                             [Drama]  7.881753  \n",
       "4863                        [Adventure, Fantasy, Action]  7.871787  \n",
       "292                                    [Thriller, Crime]  7.868660  \n",
       "314                                       [Drama, Crime]  7.864000  \n",
       "7000                        [Adventure, Fantasy, Action]  7.861927  \n",
       "351                             [Comedy, Drama, Romance]  7.860656  \n",
       "5814                        [Adventure, Fantasy, Action]  7.851924  \n",
       "256                 [Adventure, Action, Science Fiction]  7.834205  \n",
       "1225        [Adventure, Comedy, Science Fiction, Family]  7.820813  \n",
       "834                                       [Drama, Crime]  7.814847  \n",
       "1154                [Adventure, Action, Science Fiction]  7.814099  \n",
       "46                            [Crime, Mystery, Thriller]  7.811669  "
      ]
     },
     "execution_count": 11,
     "metadata": {},
     "output_type": "execute_result"
    }
   ],
   "source": [
    "qualified = qualified.sort_values('wr', ascending=False).head(250)\n",
    "qualified.head(15)"
   ]
  },
  {
   "cell_type": "code",
   "execution_count": 12,
   "id": "e592f9de",
   "metadata": {
    "execution": {
     "iopub.execute_input": "2022-02-22T14:21:52.932537Z",
     "iopub.status.busy": "2022-02-22T14:21:52.931851Z",
     "iopub.status.idle": "2022-02-22T14:21:52.934880Z",
     "shell.execute_reply": "2022-02-22T14:21:52.935428Z",
     "shell.execute_reply.started": "2022-02-22T14:07:21.476176Z"
    },
    "papermill": {
     "duration": 0.058151,
     "end_time": "2022-02-22T14:21:52.935596",
     "exception": false,
     "start_time": "2022-02-22T14:21:52.877445",
     "status": "completed"
    },
    "tags": []
   },
   "outputs": [],
   "source": [
    "#CONTENT BASED RECOMMENDER"
   ]
  },
  {
   "cell_type": "code",
   "execution_count": 13,
   "id": "70c7e68f",
   "metadata": {
    "execution": {
     "iopub.execute_input": "2022-02-22T14:21:53.042238Z",
     "iopub.status.busy": "2022-02-22T14:21:53.041703Z",
     "iopub.status.idle": "2022-02-22T14:21:53.061203Z",
     "shell.execute_reply": "2022-02-22T14:21:53.061709Z",
     "shell.execute_reply.started": "2022-02-22T14:07:21.481922Z"
    },
    "papermill": {
     "duration": 0.074396,
     "end_time": "2022-02-22T14:21:53.061890",
     "exception": false,
     "start_time": "2022-02-22T14:21:52.987494",
     "status": "completed"
    },
    "tags": []
   },
   "outputs": [],
   "source": [
    "links_small = pd.read_csv('../input/moviesdataset/links_small.csv')\n",
    "links_small = links_small[links_small['tmdbId'].notnull()]['tmdbId'].astype('int')"
   ]
  },
  {
   "cell_type": "code",
   "execution_count": 14,
   "id": "0f0e1545",
   "metadata": {
    "execution": {
     "iopub.execute_input": "2022-02-22T14:21:53.170568Z",
     "iopub.status.busy": "2022-02-22T14:21:53.169960Z",
     "iopub.status.idle": "2022-02-22T14:21:53.174855Z",
     "shell.execute_reply": "2022-02-22T14:21:53.175296Z",
     "shell.execute_reply.started": "2022-02-22T14:07:21.517453Z"
    },
    "papermill": {
     "duration": 0.06097,
     "end_time": "2022-02-22T14:21:53.175462",
     "exception": false,
     "start_time": "2022-02-22T14:21:53.114492",
     "status": "completed"
    },
    "tags": []
   },
   "outputs": [
    {
     "data": {
      "text/plain": [
       "0      862\n",
       "1     8844\n",
       "2    15602\n",
       "3    31357\n",
       "4    11862\n",
       "Name: tmdbId, dtype: int64"
      ]
     },
     "execution_count": 14,
     "metadata": {},
     "output_type": "execute_result"
    }
   ],
   "source": [
    "links_small.head()"
   ]
  },
  {
   "cell_type": "code",
   "execution_count": 15,
   "id": "c8152ad1",
   "metadata": {
    "execution": {
     "iopub.execute_input": "2022-02-22T14:21:53.285603Z",
     "iopub.status.busy": "2022-02-22T14:21:53.284647Z",
     "iopub.status.idle": "2022-02-22T14:21:53.351502Z",
     "shell.execute_reply": "2022-02-22T14:21:53.351928Z",
     "shell.execute_reply.started": "2022-02-22T14:07:21.525749Z"
    },
    "papermill": {
     "duration": 0.123921,
     "end_time": "2022-02-22T14:21:53.352079",
     "exception": false,
     "start_time": "2022-02-22T14:21:53.228158",
     "status": "completed"
    },
    "tags": []
   },
   "outputs": [
    {
     "data": {
      "text/html": [
       "<div>\n",
       "<style scoped>\n",
       "    .dataframe tbody tr th:only-of-type {\n",
       "        vertical-align: middle;\n",
       "    }\n",
       "\n",
       "    .dataframe tbody tr th {\n",
       "        vertical-align: top;\n",
       "    }\n",
       "\n",
       "    .dataframe thead th {\n",
       "        text-align: right;\n",
       "    }\n",
       "</style>\n",
       "<table border=\"1\" class=\"dataframe\">\n",
       "  <thead>\n",
       "    <tr style=\"text-align: right;\">\n",
       "      <th></th>\n",
       "      <th>adult</th>\n",
       "      <th>belongs_to_collection</th>\n",
       "      <th>budget</th>\n",
       "      <th>genres</th>\n",
       "      <th>homepage</th>\n",
       "      <th>id</th>\n",
       "      <th>imdb_id</th>\n",
       "      <th>original_language</th>\n",
       "      <th>original_title</th>\n",
       "      <th>overview</th>\n",
       "      <th>...</th>\n",
       "      <th>revenue</th>\n",
       "      <th>runtime</th>\n",
       "      <th>spoken_languages</th>\n",
       "      <th>status</th>\n",
       "      <th>tagline</th>\n",
       "      <th>title</th>\n",
       "      <th>video</th>\n",
       "      <th>vote_average</th>\n",
       "      <th>vote_count</th>\n",
       "      <th>year</th>\n",
       "    </tr>\n",
       "  </thead>\n",
       "  <tbody>\n",
       "    <tr>\n",
       "      <th>0</th>\n",
       "      <td>False</td>\n",
       "      <td>{'id': 10194, 'name': 'Toy Story Collection', ...</td>\n",
       "      <td>30000000</td>\n",
       "      <td>[Animation, Comedy, Family]</td>\n",
       "      <td>http://toystory.disney.com/toy-story</td>\n",
       "      <td>862</td>\n",
       "      <td>tt0114709</td>\n",
       "      <td>en</td>\n",
       "      <td>Toy Story</td>\n",
       "      <td>Led by Woody, Andy's toys live happily in his ...</td>\n",
       "      <td>...</td>\n",
       "      <td>373554033.0</td>\n",
       "      <td>81.0</td>\n",
       "      <td>[{'iso_639_1': 'en', 'name': 'English'}]</td>\n",
       "      <td>Released</td>\n",
       "      <td>NaN</td>\n",
       "      <td>Toy Story</td>\n",
       "      <td>False</td>\n",
       "      <td>7.7</td>\n",
       "      <td>5415.0</td>\n",
       "      <td>1995</td>\n",
       "    </tr>\n",
       "    <tr>\n",
       "      <th>1</th>\n",
       "      <td>False</td>\n",
       "      <td>NaN</td>\n",
       "      <td>65000000</td>\n",
       "      <td>[Adventure, Fantasy, Family]</td>\n",
       "      <td>NaN</td>\n",
       "      <td>8844</td>\n",
       "      <td>tt0113497</td>\n",
       "      <td>en</td>\n",
       "      <td>Jumanji</td>\n",
       "      <td>When siblings Judy and Peter discover an encha...</td>\n",
       "      <td>...</td>\n",
       "      <td>262797249.0</td>\n",
       "      <td>104.0</td>\n",
       "      <td>[{'iso_639_1': 'en', 'name': 'English'}, {'iso...</td>\n",
       "      <td>Released</td>\n",
       "      <td>Roll the dice and unleash the excitement!</td>\n",
       "      <td>Jumanji</td>\n",
       "      <td>False</td>\n",
       "      <td>6.9</td>\n",
       "      <td>2413.0</td>\n",
       "      <td>1995</td>\n",
       "    </tr>\n",
       "    <tr>\n",
       "      <th>2</th>\n",
       "      <td>False</td>\n",
       "      <td>{'id': 119050, 'name': 'Grumpy Old Men Collect...</td>\n",
       "      <td>0</td>\n",
       "      <td>[Romance, Comedy]</td>\n",
       "      <td>NaN</td>\n",
       "      <td>15602</td>\n",
       "      <td>tt0113228</td>\n",
       "      <td>en</td>\n",
       "      <td>Grumpier Old Men</td>\n",
       "      <td>A family wedding reignites the ancient feud be...</td>\n",
       "      <td>...</td>\n",
       "      <td>0.0</td>\n",
       "      <td>101.0</td>\n",
       "      <td>[{'iso_639_1': 'en', 'name': 'English'}]</td>\n",
       "      <td>Released</td>\n",
       "      <td>Still Yelling. Still Fighting. Still Ready for...</td>\n",
       "      <td>Grumpier Old Men</td>\n",
       "      <td>False</td>\n",
       "      <td>6.5</td>\n",
       "      <td>92.0</td>\n",
       "      <td>1995</td>\n",
       "    </tr>\n",
       "    <tr>\n",
       "      <th>3</th>\n",
       "      <td>False</td>\n",
       "      <td>NaN</td>\n",
       "      <td>16000000</td>\n",
       "      <td>[Comedy, Drama, Romance]</td>\n",
       "      <td>NaN</td>\n",
       "      <td>31357</td>\n",
       "      <td>tt0114885</td>\n",
       "      <td>en</td>\n",
       "      <td>Waiting to Exhale</td>\n",
       "      <td>Cheated on, mistreated and stepped on, the wom...</td>\n",
       "      <td>...</td>\n",
       "      <td>81452156.0</td>\n",
       "      <td>127.0</td>\n",
       "      <td>[{'iso_639_1': 'en', 'name': 'English'}]</td>\n",
       "      <td>Released</td>\n",
       "      <td>Friends are the people who let you be yourself...</td>\n",
       "      <td>Waiting to Exhale</td>\n",
       "      <td>False</td>\n",
       "      <td>6.1</td>\n",
       "      <td>34.0</td>\n",
       "      <td>1995</td>\n",
       "    </tr>\n",
       "    <tr>\n",
       "      <th>4</th>\n",
       "      <td>False</td>\n",
       "      <td>{'id': 96871, 'name': 'Father of the Bride Col...</td>\n",
       "      <td>0</td>\n",
       "      <td>[Comedy]</td>\n",
       "      <td>NaN</td>\n",
       "      <td>11862</td>\n",
       "      <td>tt0113041</td>\n",
       "      <td>en</td>\n",
       "      <td>Father of the Bride Part II</td>\n",
       "      <td>Just when George Banks has recovered from his ...</td>\n",
       "      <td>...</td>\n",
       "      <td>76578911.0</td>\n",
       "      <td>106.0</td>\n",
       "      <td>[{'iso_639_1': 'en', 'name': 'English'}]</td>\n",
       "      <td>Released</td>\n",
       "      <td>Just When His World Is Back To Normal... He's ...</td>\n",
       "      <td>Father of the Bride Part II</td>\n",
       "      <td>False</td>\n",
       "      <td>5.7</td>\n",
       "      <td>173.0</td>\n",
       "      <td>1995</td>\n",
       "    </tr>\n",
       "  </tbody>\n",
       "</table>\n",
       "<p>5 rows × 25 columns</p>\n",
       "</div>"
      ],
      "text/plain": [
       "   adult                              belongs_to_collection    budget  \\\n",
       "0  False  {'id': 10194, 'name': 'Toy Story Collection', ...  30000000   \n",
       "1  False                                                NaN  65000000   \n",
       "2  False  {'id': 119050, 'name': 'Grumpy Old Men Collect...         0   \n",
       "3  False                                                NaN  16000000   \n",
       "4  False  {'id': 96871, 'name': 'Father of the Bride Col...         0   \n",
       "\n",
       "                         genres                              homepage     id  \\\n",
       "0   [Animation, Comedy, Family]  http://toystory.disney.com/toy-story    862   \n",
       "1  [Adventure, Fantasy, Family]                                   NaN   8844   \n",
       "2             [Romance, Comedy]                                   NaN  15602   \n",
       "3      [Comedy, Drama, Romance]                                   NaN  31357   \n",
       "4                      [Comedy]                                   NaN  11862   \n",
       "\n",
       "     imdb_id original_language               original_title  \\\n",
       "0  tt0114709                en                    Toy Story   \n",
       "1  tt0113497                en                      Jumanji   \n",
       "2  tt0113228                en             Grumpier Old Men   \n",
       "3  tt0114885                en            Waiting to Exhale   \n",
       "4  tt0113041                en  Father of the Bride Part II   \n",
       "\n",
       "                                            overview  ...      revenue  \\\n",
       "0  Led by Woody, Andy's toys live happily in his ...  ...  373554033.0   \n",
       "1  When siblings Judy and Peter discover an encha...  ...  262797249.0   \n",
       "2  A family wedding reignites the ancient feud be...  ...          0.0   \n",
       "3  Cheated on, mistreated and stepped on, the wom...  ...   81452156.0   \n",
       "4  Just when George Banks has recovered from his ...  ...   76578911.0   \n",
       "\n",
       "  runtime                                   spoken_languages    status  \\\n",
       "0    81.0           [{'iso_639_1': 'en', 'name': 'English'}]  Released   \n",
       "1   104.0  [{'iso_639_1': 'en', 'name': 'English'}, {'iso...  Released   \n",
       "2   101.0           [{'iso_639_1': 'en', 'name': 'English'}]  Released   \n",
       "3   127.0           [{'iso_639_1': 'en', 'name': 'English'}]  Released   \n",
       "4   106.0           [{'iso_639_1': 'en', 'name': 'English'}]  Released   \n",
       "\n",
       "                                             tagline  \\\n",
       "0                                                NaN   \n",
       "1          Roll the dice and unleash the excitement!   \n",
       "2  Still Yelling. Still Fighting. Still Ready for...   \n",
       "3  Friends are the people who let you be yourself...   \n",
       "4  Just When His World Is Back To Normal... He's ...   \n",
       "\n",
       "                         title  video vote_average vote_count  year  \n",
       "0                    Toy Story  False          7.7     5415.0  1995  \n",
       "1                      Jumanji  False          6.9     2413.0  1995  \n",
       "2             Grumpier Old Men  False          6.5       92.0  1995  \n",
       "3            Waiting to Exhale  False          6.1       34.0  1995  \n",
       "4  Father of the Bride Part II  False          5.7      173.0  1995  \n",
       "\n",
       "[5 rows x 25 columns]"
      ]
     },
     "execution_count": 15,
     "metadata": {},
     "output_type": "execute_result"
    }
   ],
   "source": [
    "md = md.drop([19730, 29503, 35587])\n",
    "md['id'] = md['id'].astype('int')\n",
    "md.head()"
   ]
  },
  {
   "cell_type": "code",
   "execution_count": 16,
   "id": "bbb780d6",
   "metadata": {
    "execution": {
     "iopub.execute_input": "2022-02-22T14:21:53.460536Z",
     "iopub.status.busy": "2022-02-22T14:21:53.459922Z",
     "iopub.status.idle": "2022-02-22T14:21:53.472377Z",
     "shell.execute_reply": "2022-02-22T14:21:53.472867Z",
     "shell.execute_reply.started": "2022-02-22T14:07:21.608524Z"
    },
    "papermill": {
     "duration": 0.068199,
     "end_time": "2022-02-22T14:21:53.473023",
     "exception": false,
     "start_time": "2022-02-22T14:21:53.404824",
     "status": "completed"
    },
    "tags": []
   },
   "outputs": [
    {
     "data": {
      "text/plain": [
       "(9099, 25)"
      ]
     },
     "execution_count": 16,
     "metadata": {},
     "output_type": "execute_result"
    }
   ],
   "source": [
    "smd = md[md['id'].isin(links_small)]\n",
    "smd.shape"
   ]
  },
  {
   "cell_type": "code",
   "execution_count": 17,
   "id": "9557d044",
   "metadata": {
    "execution": {
     "iopub.execute_input": "2022-02-22T14:21:53.585126Z",
     "iopub.status.busy": "2022-02-22T14:21:53.584514Z",
     "iopub.status.idle": "2022-02-22T14:21:53.587057Z",
     "shell.execute_reply": "2022-02-22T14:21:53.587553Z",
     "shell.execute_reply.started": "2022-02-22T14:07:21.624988Z"
    },
    "papermill": {
     "duration": 0.060691,
     "end_time": "2022-02-22T14:21:53.587725",
     "exception": false,
     "start_time": "2022-02-22T14:21:53.527034",
     "status": "completed"
    },
    "tags": []
   },
   "outputs": [],
   "source": [
    "#using a subset of all the movies available to us for easier computing."
   ]
  },
  {
   "cell_type": "code",
   "execution_count": 18,
   "id": "c70160d8",
   "metadata": {
    "execution": {
     "iopub.execute_input": "2022-02-22T14:21:53.698078Z",
     "iopub.status.busy": "2022-02-22T14:21:53.697528Z",
     "iopub.status.idle": "2022-02-22T14:21:53.709789Z",
     "shell.execute_reply": "2022-02-22T14:21:53.710212Z",
     "shell.execute_reply.started": "2022-02-22T14:07:21.630253Z"
    },
    "papermill": {
     "duration": 0.068792,
     "end_time": "2022-02-22T14:21:53.710374",
     "exception": false,
     "start_time": "2022-02-22T14:21:53.641582",
     "status": "completed"
    },
    "tags": []
   },
   "outputs": [
    {
     "name": "stderr",
     "output_type": "stream",
     "text": [
      "/opt/conda/lib/python3.7/site-packages/ipykernel_launcher.py:1: SettingWithCopyWarning: \n",
      "A value is trying to be set on a copy of a slice from a DataFrame.\n",
      "Try using .loc[row_indexer,col_indexer] = value instead\n",
      "\n",
      "See the caveats in the documentation: https://pandas.pydata.org/pandas-docs/stable/user_guide/indexing.html#returning-a-view-versus-a-copy\n",
      "  \"\"\"Entry point for launching an IPython kernel.\n",
      "/opt/conda/lib/python3.7/site-packages/ipykernel_launcher.py:2: SettingWithCopyWarning: \n",
      "A value is trying to be set on a copy of a slice from a DataFrame.\n",
      "Try using .loc[row_indexer,col_indexer] = value instead\n",
      "\n",
      "See the caveats in the documentation: https://pandas.pydata.org/pandas-docs/stable/user_guide/indexing.html#returning-a-view-versus-a-copy\n",
      "  \n",
      "/opt/conda/lib/python3.7/site-packages/ipykernel_launcher.py:3: SettingWithCopyWarning: \n",
      "A value is trying to be set on a copy of a slice from a DataFrame.\n",
      "Try using .loc[row_indexer,col_indexer] = value instead\n",
      "\n",
      "See the caveats in the documentation: https://pandas.pydata.org/pandas-docs/stable/user_guide/indexing.html#returning-a-view-versus-a-copy\n",
      "  This is separate from the ipykernel package so we can avoid doing imports until\n"
     ]
    }
   ],
   "source": [
    "smd['tagline'] = smd['tagline'].fillna('')\n",
    "smd['description'] = smd['overview'] + smd['tagline']\n",
    "smd['description'] = smd['description'].fillna('')\n",
    "\n",
    "\n",
    "#FOR DESCRIPTION BASED RECOMMENDER"
   ]
  },
  {
   "cell_type": "code",
   "execution_count": 19,
   "id": "92e67497",
   "metadata": {
    "execution": {
     "iopub.execute_input": "2022-02-22T14:21:53.822320Z",
     "iopub.status.busy": "2022-02-22T14:21:53.821349Z",
     "iopub.status.idle": "2022-02-22T14:21:55.466321Z",
     "shell.execute_reply": "2022-02-22T14:21:55.466992Z",
     "shell.execute_reply.started": "2022-02-22T14:07:21.663538Z"
    },
    "papermill": {
     "duration": 1.703051,
     "end_time": "2022-02-22T14:21:55.467180",
     "exception": false,
     "start_time": "2022-02-22T14:21:53.764129",
     "status": "completed"
    },
    "tags": []
   },
   "outputs": [
    {
     "data": {
      "text/plain": [
       "(9099, 268124)"
      ]
     },
     "execution_count": 19,
     "metadata": {},
     "output_type": "execute_result"
    }
   ],
   "source": [
    "tf = TfidfVectorizer(analyzer='word',ngram_range=(1, 2),min_df=0, stop_words='english')\n",
    "tfidf_matrix = tf.fit_transform(smd['description'])\n",
    "#Constructing the required TF-IDF matrix by fitting and transforming the data\n",
    "tfidf_matrix.shape"
   ]
  },
  {
   "cell_type": "code",
   "execution_count": 20,
   "id": "7d125900",
   "metadata": {
    "execution": {
     "iopub.execute_input": "2022-02-22T14:21:55.579541Z",
     "iopub.status.busy": "2022-02-22T14:21:55.578654Z",
     "iopub.status.idle": "2022-02-22T14:21:55.581489Z",
     "shell.execute_reply": "2022-02-22T14:21:55.581976Z",
     "shell.execute_reply.started": "2022-02-22T14:07:24.116504Z"
    },
    "papermill": {
     "duration": 0.060641,
     "end_time": "2022-02-22T14:21:55.582128",
     "exception": false,
     "start_time": "2022-02-22T14:21:55.521487",
     "status": "completed"
    },
    "tags": []
   },
   "outputs": [],
   "source": [
    "#We see that over 20,000 different words were used to describe the 9099 movies in our dataset."
   ]
  },
  {
   "cell_type": "code",
   "execution_count": 21,
   "id": "1060a0ee",
   "metadata": {
    "execution": {
     "iopub.execute_input": "2022-02-22T14:21:55.693830Z",
     "iopub.status.busy": "2022-02-22T14:21:55.692173Z",
     "iopub.status.idle": "2022-02-22T14:21:57.372730Z",
     "shell.execute_reply": "2022-02-22T14:21:57.373152Z",
     "shell.execute_reply.started": "2022-02-22T14:07:24.123090Z"
    },
    "papermill": {
     "duration": 1.737616,
     "end_time": "2022-02-22T14:21:57.373334",
     "exception": false,
     "start_time": "2022-02-22T14:21:55.635718",
     "status": "completed"
    },
    "tags": []
   },
   "outputs": [],
   "source": [
    "cosine_sim = linear_kernel(tfidf_matrix, tfidf_matrix)"
   ]
  },
  {
   "cell_type": "code",
   "execution_count": 22,
   "id": "d9a7289e",
   "metadata": {
    "execution": {
     "iopub.execute_input": "2022-02-22T14:21:57.488688Z",
     "iopub.status.busy": "2022-02-22T14:21:57.487968Z",
     "iopub.status.idle": "2022-02-22T14:21:57.490905Z",
     "shell.execute_reply": "2022-02-22T14:21:57.491316Z",
     "shell.execute_reply.started": "2022-02-22T14:07:26.814260Z"
    },
    "papermill": {
     "duration": 0.063665,
     "end_time": "2022-02-22T14:21:57.491516",
     "exception": false,
     "start_time": "2022-02-22T14:21:57.427851",
     "status": "completed"
    },
    "tags": []
   },
   "outputs": [
    {
     "data": {
      "text/plain": [
       "array([1.        , 0.00680476, 0.        , ..., 0.        , 0.00344913,\n",
       "       0.        ])"
      ]
     },
     "execution_count": 22,
     "metadata": {},
     "output_type": "execute_result"
    }
   ],
   "source": [
    "cosine_sim[0]"
   ]
  },
  {
   "cell_type": "code",
   "execution_count": 23,
   "id": "0fe978ba",
   "metadata": {
    "execution": {
     "iopub.execute_input": "2022-02-22T14:21:57.605416Z",
     "iopub.status.busy": "2022-02-22T14:21:57.604324Z",
     "iopub.status.idle": "2022-02-22T14:21:57.636214Z",
     "shell.execute_reply": "2022-02-22T14:21:57.635731Z",
     "shell.execute_reply.started": "2022-02-22T14:07:26.826398Z"
    },
    "papermill": {
     "duration": 0.091105,
     "end_time": "2022-02-22T14:21:57.636340",
     "exception": false,
     "start_time": "2022-02-22T14:21:57.545235",
     "status": "completed"
    },
    "tags": []
   },
   "outputs": [
    {
     "data": {
      "text/html": [
       "<div>\n",
       "<style scoped>\n",
       "    .dataframe tbody tr th:only-of-type {\n",
       "        vertical-align: middle;\n",
       "    }\n",
       "\n",
       "    .dataframe tbody tr th {\n",
       "        vertical-align: top;\n",
       "    }\n",
       "\n",
       "    .dataframe thead th {\n",
       "        text-align: right;\n",
       "    }\n",
       "</style>\n",
       "<table border=\"1\" class=\"dataframe\">\n",
       "  <thead>\n",
       "    <tr style=\"text-align: right;\">\n",
       "      <th></th>\n",
       "      <th>index</th>\n",
       "      <th>adult</th>\n",
       "      <th>belongs_to_collection</th>\n",
       "      <th>budget</th>\n",
       "      <th>genres</th>\n",
       "      <th>homepage</th>\n",
       "      <th>id</th>\n",
       "      <th>imdb_id</th>\n",
       "      <th>original_language</th>\n",
       "      <th>original_title</th>\n",
       "      <th>...</th>\n",
       "      <th>runtime</th>\n",
       "      <th>spoken_languages</th>\n",
       "      <th>status</th>\n",
       "      <th>tagline</th>\n",
       "      <th>title</th>\n",
       "      <th>video</th>\n",
       "      <th>vote_average</th>\n",
       "      <th>vote_count</th>\n",
       "      <th>year</th>\n",
       "      <th>description</th>\n",
       "    </tr>\n",
       "  </thead>\n",
       "  <tbody>\n",
       "    <tr>\n",
       "      <th>0</th>\n",
       "      <td>0</td>\n",
       "      <td>False</td>\n",
       "      <td>{'id': 10194, 'name': 'Toy Story Collection', ...</td>\n",
       "      <td>30000000</td>\n",
       "      <td>[Animation, Comedy, Family]</td>\n",
       "      <td>http://toystory.disney.com/toy-story</td>\n",
       "      <td>862</td>\n",
       "      <td>tt0114709</td>\n",
       "      <td>en</td>\n",
       "      <td>Toy Story</td>\n",
       "      <td>...</td>\n",
       "      <td>81.0</td>\n",
       "      <td>[{'iso_639_1': 'en', 'name': 'English'}]</td>\n",
       "      <td>Released</td>\n",
       "      <td></td>\n",
       "      <td>Toy Story</td>\n",
       "      <td>False</td>\n",
       "      <td>7.7</td>\n",
       "      <td>5415.0</td>\n",
       "      <td>1995</td>\n",
       "      <td>Led by Woody, Andy's toys live happily in his ...</td>\n",
       "    </tr>\n",
       "    <tr>\n",
       "      <th>1</th>\n",
       "      <td>1</td>\n",
       "      <td>False</td>\n",
       "      <td>NaN</td>\n",
       "      <td>65000000</td>\n",
       "      <td>[Adventure, Fantasy, Family]</td>\n",
       "      <td>NaN</td>\n",
       "      <td>8844</td>\n",
       "      <td>tt0113497</td>\n",
       "      <td>en</td>\n",
       "      <td>Jumanji</td>\n",
       "      <td>...</td>\n",
       "      <td>104.0</td>\n",
       "      <td>[{'iso_639_1': 'en', 'name': 'English'}, {'iso...</td>\n",
       "      <td>Released</td>\n",
       "      <td>Roll the dice and unleash the excitement!</td>\n",
       "      <td>Jumanji</td>\n",
       "      <td>False</td>\n",
       "      <td>6.9</td>\n",
       "      <td>2413.0</td>\n",
       "      <td>1995</td>\n",
       "      <td>When siblings Judy and Peter discover an encha...</td>\n",
       "    </tr>\n",
       "    <tr>\n",
       "      <th>2</th>\n",
       "      <td>2</td>\n",
       "      <td>False</td>\n",
       "      <td>{'id': 119050, 'name': 'Grumpy Old Men Collect...</td>\n",
       "      <td>0</td>\n",
       "      <td>[Romance, Comedy]</td>\n",
       "      <td>NaN</td>\n",
       "      <td>15602</td>\n",
       "      <td>tt0113228</td>\n",
       "      <td>en</td>\n",
       "      <td>Grumpier Old Men</td>\n",
       "      <td>...</td>\n",
       "      <td>101.0</td>\n",
       "      <td>[{'iso_639_1': 'en', 'name': 'English'}]</td>\n",
       "      <td>Released</td>\n",
       "      <td>Still Yelling. Still Fighting. Still Ready for...</td>\n",
       "      <td>Grumpier Old Men</td>\n",
       "      <td>False</td>\n",
       "      <td>6.5</td>\n",
       "      <td>92.0</td>\n",
       "      <td>1995</td>\n",
       "      <td>A family wedding reignites the ancient feud be...</td>\n",
       "    </tr>\n",
       "    <tr>\n",
       "      <th>3</th>\n",
       "      <td>3</td>\n",
       "      <td>False</td>\n",
       "      <td>NaN</td>\n",
       "      <td>16000000</td>\n",
       "      <td>[Comedy, Drama, Romance]</td>\n",
       "      <td>NaN</td>\n",
       "      <td>31357</td>\n",
       "      <td>tt0114885</td>\n",
       "      <td>en</td>\n",
       "      <td>Waiting to Exhale</td>\n",
       "      <td>...</td>\n",
       "      <td>127.0</td>\n",
       "      <td>[{'iso_639_1': 'en', 'name': 'English'}]</td>\n",
       "      <td>Released</td>\n",
       "      <td>Friends are the people who let you be yourself...</td>\n",
       "      <td>Waiting to Exhale</td>\n",
       "      <td>False</td>\n",
       "      <td>6.1</td>\n",
       "      <td>34.0</td>\n",
       "      <td>1995</td>\n",
       "      <td>Cheated on, mistreated and stepped on, the wom...</td>\n",
       "    </tr>\n",
       "    <tr>\n",
       "      <th>4</th>\n",
       "      <td>4</td>\n",
       "      <td>False</td>\n",
       "      <td>{'id': 96871, 'name': 'Father of the Bride Col...</td>\n",
       "      <td>0</td>\n",
       "      <td>[Comedy]</td>\n",
       "      <td>NaN</td>\n",
       "      <td>11862</td>\n",
       "      <td>tt0113041</td>\n",
       "      <td>en</td>\n",
       "      <td>Father of the Bride Part II</td>\n",
       "      <td>...</td>\n",
       "      <td>106.0</td>\n",
       "      <td>[{'iso_639_1': 'en', 'name': 'English'}]</td>\n",
       "      <td>Released</td>\n",
       "      <td>Just When His World Is Back To Normal... He's ...</td>\n",
       "      <td>Father of the Bride Part II</td>\n",
       "      <td>False</td>\n",
       "      <td>5.7</td>\n",
       "      <td>173.0</td>\n",
       "      <td>1995</td>\n",
       "      <td>Just when George Banks has recovered from his ...</td>\n",
       "    </tr>\n",
       "  </tbody>\n",
       "</table>\n",
       "<p>5 rows × 27 columns</p>\n",
       "</div>"
      ],
      "text/plain": [
       "   index  adult                              belongs_to_collection    budget  \\\n",
       "0      0  False  {'id': 10194, 'name': 'Toy Story Collection', ...  30000000   \n",
       "1      1  False                                                NaN  65000000   \n",
       "2      2  False  {'id': 119050, 'name': 'Grumpy Old Men Collect...         0   \n",
       "3      3  False                                                NaN  16000000   \n",
       "4      4  False  {'id': 96871, 'name': 'Father of the Bride Col...         0   \n",
       "\n",
       "                         genres                              homepage     id  \\\n",
       "0   [Animation, Comedy, Family]  http://toystory.disney.com/toy-story    862   \n",
       "1  [Adventure, Fantasy, Family]                                   NaN   8844   \n",
       "2             [Romance, Comedy]                                   NaN  15602   \n",
       "3      [Comedy, Drama, Romance]                                   NaN  31357   \n",
       "4                      [Comedy]                                   NaN  11862   \n",
       "\n",
       "     imdb_id original_language               original_title  ... runtime  \\\n",
       "0  tt0114709                en                    Toy Story  ...    81.0   \n",
       "1  tt0113497                en                      Jumanji  ...   104.0   \n",
       "2  tt0113228                en             Grumpier Old Men  ...   101.0   \n",
       "3  tt0114885                en            Waiting to Exhale  ...   127.0   \n",
       "4  tt0113041                en  Father of the Bride Part II  ...   106.0   \n",
       "\n",
       "                                    spoken_languages    status  \\\n",
       "0           [{'iso_639_1': 'en', 'name': 'English'}]  Released   \n",
       "1  [{'iso_639_1': 'en', 'name': 'English'}, {'iso...  Released   \n",
       "2           [{'iso_639_1': 'en', 'name': 'English'}]  Released   \n",
       "3           [{'iso_639_1': 'en', 'name': 'English'}]  Released   \n",
       "4           [{'iso_639_1': 'en', 'name': 'English'}]  Released   \n",
       "\n",
       "                                             tagline  \\\n",
       "0                                                      \n",
       "1          Roll the dice and unleash the excitement!   \n",
       "2  Still Yelling. Still Fighting. Still Ready for...   \n",
       "3  Friends are the people who let you be yourself...   \n",
       "4  Just When His World Is Back To Normal... He's ...   \n",
       "\n",
       "                         title  video  vote_average  vote_count  year  \\\n",
       "0                    Toy Story  False           7.7      5415.0  1995   \n",
       "1                      Jumanji  False           6.9      2413.0  1995   \n",
       "2             Grumpier Old Men  False           6.5        92.0  1995   \n",
       "3            Waiting to Exhale  False           6.1        34.0  1995   \n",
       "4  Father of the Bride Part II  False           5.7       173.0  1995   \n",
       "\n",
       "                                         description  \n",
       "0  Led by Woody, Andy's toys live happily in his ...  \n",
       "1  When siblings Judy and Peter discover an encha...  \n",
       "2  A family wedding reignites the ancient feud be...  \n",
       "3  Cheated on, mistreated and stepped on, the wom...  \n",
       "4  Just when George Banks has recovered from his ...  \n",
       "\n",
       "[5 rows x 27 columns]"
      ]
     },
     "execution_count": 23,
     "metadata": {},
     "output_type": "execute_result"
    }
   ],
   "source": [
    "smd = smd.reset_index()\n",
    "titles = smd['title']\n",
    "indices = pd.Series(smd.index, index=smd['title'])\n",
    "smd.head()"
   ]
  },
  {
   "cell_type": "code",
   "execution_count": 24,
   "id": "79a6550d",
   "metadata": {
    "execution": {
     "iopub.execute_input": "2022-02-22T14:21:57.753445Z",
     "iopub.status.busy": "2022-02-22T14:21:57.752555Z",
     "iopub.status.idle": "2022-02-22T14:21:57.754683Z",
     "shell.execute_reply": "2022-02-22T14:21:57.755091Z",
     "shell.execute_reply.started": "2022-02-22T14:07:27.024913Z"
    },
    "papermill": {
     "duration": 0.063343,
     "end_time": "2022-02-22T14:21:57.755246",
     "exception": false,
     "start_time": "2022-02-22T14:21:57.691903",
     "status": "completed"
    },
    "tags": []
   },
   "outputs": [],
   "source": [
    "def get_recommendations(title):\n",
    "    idx = indices[title]\n",
    "    sim_scores = list(enumerate(cosine_sim[idx]))\n",
    "    sim_scores = sorted(sim_scores, key=lambda x: x[1], reverse=True)\n",
    "    sim_scores = sim_scores[1:31]\n",
    "    movie_indices = [i[0] for i in sim_scores]\n",
    "    return titles.iloc[movie_indices]"
   ]
  },
  {
   "cell_type": "code",
   "execution_count": 25,
   "id": "471c6b00",
   "metadata": {
    "execution": {
     "iopub.execute_input": "2022-02-22T14:21:57.868784Z",
     "iopub.status.busy": "2022-02-22T14:21:57.867908Z",
     "iopub.status.idle": "2022-02-22T14:21:57.887604Z",
     "shell.execute_reply": "2022-02-22T14:21:57.888027Z",
     "shell.execute_reply.started": "2022-02-22T14:07:27.034565Z"
    },
    "papermill": {
     "duration": 0.077922,
     "end_time": "2022-02-22T14:21:57.888194",
     "exception": false,
     "start_time": "2022-02-22T14:21:57.810272",
     "status": "completed"
    },
    "tags": []
   },
   "outputs": [
    {
     "data": {
      "text/plain": [
       "973      The Godfather: Part II\n",
       "8387                 The Family\n",
       "3509                       Made\n",
       "4196         Johnny Dangerously\n",
       "29               Shanghai Triad\n",
       "5667                       Fury\n",
       "2412             American Movie\n",
       "1582    The Godfather: Part III\n",
       "4221                    8 Women\n",
       "2159              Summer of Sam\n",
       "Name: title, dtype: object"
      ]
     },
     "execution_count": 25,
     "metadata": {},
     "output_type": "execute_result"
    }
   ],
   "source": [
    "get_recommendations('The Godfather').head(10)"
   ]
  },
  {
   "cell_type": "code",
   "execution_count": 26,
   "id": "cb8b851e",
   "metadata": {
    "execution": {
     "iopub.execute_input": "2022-02-22T14:21:58.004971Z",
     "iopub.status.busy": "2022-02-22T14:21:58.004280Z",
     "iopub.status.idle": "2022-02-22T14:21:58.006591Z",
     "shell.execute_reply": "2022-02-22T14:21:58.006993Z",
     "shell.execute_reply.started": "2022-02-22T14:07:27.069783Z"
    },
    "papermill": {
     "duration": 0.061721,
     "end_time": "2022-02-22T14:21:58.007150",
     "exception": false,
     "start_time": "2022-02-22T14:21:57.945429",
     "status": "completed"
    },
    "tags": []
   },
   "outputs": [],
   "source": [
    "#INCLUDING CREDITS, KEYWORDS, CREW AND CASTS AS A CRITERIA TO MAKE THE PREDICTIONS MORE ACCURATE"
   ]
  },
  {
   "cell_type": "code",
   "execution_count": 27,
   "id": "6ffdc52a",
   "metadata": {
    "execution": {
     "iopub.execute_input": "2022-02-22T14:21:58.121488Z",
     "iopub.status.busy": "2022-02-22T14:21:58.120823Z",
     "iopub.status.idle": "2022-02-22T14:22:02.052093Z",
     "shell.execute_reply": "2022-02-22T14:22:02.051447Z",
     "shell.execute_reply.started": "2022-02-22T14:07:27.082789Z"
    },
    "papermill": {
     "duration": 3.990383,
     "end_time": "2022-02-22T14:22:02.052229",
     "exception": false,
     "start_time": "2022-02-22T14:21:58.061846",
     "status": "completed"
    },
    "tags": []
   },
   "outputs": [],
   "source": [
    "credits = pd.read_csv('../input/moviesdataset/credits.csv')\n",
    "keywords = pd.read_csv('../input/moviesdataset/keywords.csv')\n"
   ]
  },
  {
   "cell_type": "code",
   "execution_count": null,
   "id": "89a715e6",
   "metadata": {
    "papermill": {
     "duration": 0.056182,
     "end_time": "2022-02-22T14:22:02.165542",
     "exception": false,
     "start_time": "2022-02-22T14:22:02.109360",
     "status": "completed"
    },
    "tags": []
   },
   "outputs": [],
   "source": []
  },
  {
   "cell_type": "code",
   "execution_count": null,
   "id": "cf70d4a4",
   "metadata": {
    "papermill": {
     "duration": 0.055922,
     "end_time": "2022-02-22T14:22:02.278655",
     "exception": false,
     "start_time": "2022-02-22T14:22:02.222733",
     "status": "completed"
    },
    "tags": []
   },
   "outputs": [],
   "source": []
  },
  {
   "cell_type": "code",
   "execution_count": 28,
   "id": "c75ea864",
   "metadata": {
    "execution": {
     "iopub.execute_input": "2022-02-22T14:22:02.396945Z",
     "iopub.status.busy": "2022-02-22T14:22:02.395859Z",
     "iopub.status.idle": "2022-02-22T14:22:02.400682Z",
     "shell.execute_reply": "2022-02-22T14:22:02.400172Z",
     "shell.execute_reply.started": "2022-02-22T14:07:31.301369Z"
    },
    "papermill": {
     "duration": 0.065935,
     "end_time": "2022-02-22T14:22:02.400813",
     "exception": false,
     "start_time": "2022-02-22T14:22:02.334878",
     "status": "completed"
    },
    "tags": []
   },
   "outputs": [],
   "source": [
    "keywords['id'] = keywords['id'].astype('int')\n",
    "credits['id'] = credits['id'].astype('int')\n",
    "md['id'] = md['id'].astype('int')"
   ]
  },
  {
   "cell_type": "code",
   "execution_count": 29,
   "id": "834df40b",
   "metadata": {
    "execution": {
     "iopub.execute_input": "2022-02-22T14:22:02.516833Z",
     "iopub.status.busy": "2022-02-22T14:22:02.514695Z",
     "iopub.status.idle": "2022-02-22T14:22:02.521089Z",
     "shell.execute_reply": "2022-02-22T14:22:02.520565Z",
     "shell.execute_reply.started": "2022-02-22T14:07:31.312126Z"
    },
    "papermill": {
     "duration": 0.06554,
     "end_time": "2022-02-22T14:22:02.521211",
     "exception": false,
     "start_time": "2022-02-22T14:22:02.455671",
     "status": "completed"
    },
    "tags": []
   },
   "outputs": [
    {
     "data": {
      "text/plain": [
       "(45463, 25)"
      ]
     },
     "execution_count": 29,
     "metadata": {},
     "output_type": "execute_result"
    }
   ],
   "source": [
    "md.shape"
   ]
  },
  {
   "cell_type": "code",
   "execution_count": 30,
   "id": "3b5797f7",
   "metadata": {
    "execution": {
     "iopub.execute_input": "2022-02-22T14:22:02.638948Z",
     "iopub.status.busy": "2022-02-22T14:22:02.635966Z",
     "iopub.status.idle": "2022-02-22T14:22:02.795211Z",
     "shell.execute_reply": "2022-02-22T14:22:02.794636Z",
     "shell.execute_reply.started": "2022-02-22T14:07:31.327363Z"
    },
    "papermill": {
     "duration": 0.218829,
     "end_time": "2022-02-22T14:22:02.795340",
     "exception": false,
     "start_time": "2022-02-22T14:22:02.576511",
     "status": "completed"
    },
    "tags": []
   },
   "outputs": [
    {
     "data": {
      "text/html": [
       "<div>\n",
       "<style scoped>\n",
       "    .dataframe tbody tr th:only-of-type {\n",
       "        vertical-align: middle;\n",
       "    }\n",
       "\n",
       "    .dataframe tbody tr th {\n",
       "        vertical-align: top;\n",
       "    }\n",
       "\n",
       "    .dataframe thead th {\n",
       "        text-align: right;\n",
       "    }\n",
       "</style>\n",
       "<table border=\"1\" class=\"dataframe\">\n",
       "  <thead>\n",
       "    <tr style=\"text-align: right;\">\n",
       "      <th></th>\n",
       "      <th>adult</th>\n",
       "      <th>belongs_to_collection</th>\n",
       "      <th>budget</th>\n",
       "      <th>genres</th>\n",
       "      <th>homepage</th>\n",
       "      <th>id</th>\n",
       "      <th>imdb_id</th>\n",
       "      <th>original_language</th>\n",
       "      <th>original_title</th>\n",
       "      <th>overview</th>\n",
       "      <th>...</th>\n",
       "      <th>status</th>\n",
       "      <th>tagline</th>\n",
       "      <th>title</th>\n",
       "      <th>video</th>\n",
       "      <th>vote_average</th>\n",
       "      <th>vote_count</th>\n",
       "      <th>year</th>\n",
       "      <th>cast</th>\n",
       "      <th>crew</th>\n",
       "      <th>keywords</th>\n",
       "    </tr>\n",
       "  </thead>\n",
       "  <tbody>\n",
       "    <tr>\n",
       "      <th>0</th>\n",
       "      <td>False</td>\n",
       "      <td>{'id': 10194, 'name': 'Toy Story Collection', ...</td>\n",
       "      <td>30000000</td>\n",
       "      <td>[Animation, Comedy, Family]</td>\n",
       "      <td>http://toystory.disney.com/toy-story</td>\n",
       "      <td>862</td>\n",
       "      <td>tt0114709</td>\n",
       "      <td>en</td>\n",
       "      <td>Toy Story</td>\n",
       "      <td>Led by Woody, Andy's toys live happily in his ...</td>\n",
       "      <td>...</td>\n",
       "      <td>Released</td>\n",
       "      <td>NaN</td>\n",
       "      <td>Toy Story</td>\n",
       "      <td>False</td>\n",
       "      <td>7.7</td>\n",
       "      <td>5415.0</td>\n",
       "      <td>1995</td>\n",
       "      <td>[{'cast_id': 14, 'character': 'Woody (voice)',...</td>\n",
       "      <td>[{'credit_id': '52fe4284c3a36847f8024f49', 'de...</td>\n",
       "      <td>[{'id': 931, 'name': 'jealousy'}, {'id': 4290,...</td>\n",
       "    </tr>\n",
       "    <tr>\n",
       "      <th>1</th>\n",
       "      <td>False</td>\n",
       "      <td>NaN</td>\n",
       "      <td>65000000</td>\n",
       "      <td>[Adventure, Fantasy, Family]</td>\n",
       "      <td>NaN</td>\n",
       "      <td>8844</td>\n",
       "      <td>tt0113497</td>\n",
       "      <td>en</td>\n",
       "      <td>Jumanji</td>\n",
       "      <td>When siblings Judy and Peter discover an encha...</td>\n",
       "      <td>...</td>\n",
       "      <td>Released</td>\n",
       "      <td>Roll the dice and unleash the excitement!</td>\n",
       "      <td>Jumanji</td>\n",
       "      <td>False</td>\n",
       "      <td>6.9</td>\n",
       "      <td>2413.0</td>\n",
       "      <td>1995</td>\n",
       "      <td>[{'cast_id': 1, 'character': 'Alan Parrish', '...</td>\n",
       "      <td>[{'credit_id': '52fe44bfc3a36847f80a7cd1', 'de...</td>\n",
       "      <td>[{'id': 10090, 'name': 'board game'}, {'id': 1...</td>\n",
       "    </tr>\n",
       "    <tr>\n",
       "      <th>2</th>\n",
       "      <td>False</td>\n",
       "      <td>{'id': 119050, 'name': 'Grumpy Old Men Collect...</td>\n",
       "      <td>0</td>\n",
       "      <td>[Romance, Comedy]</td>\n",
       "      <td>NaN</td>\n",
       "      <td>15602</td>\n",
       "      <td>tt0113228</td>\n",
       "      <td>en</td>\n",
       "      <td>Grumpier Old Men</td>\n",
       "      <td>A family wedding reignites the ancient feud be...</td>\n",
       "      <td>...</td>\n",
       "      <td>Released</td>\n",
       "      <td>Still Yelling. Still Fighting. Still Ready for...</td>\n",
       "      <td>Grumpier Old Men</td>\n",
       "      <td>False</td>\n",
       "      <td>6.5</td>\n",
       "      <td>92.0</td>\n",
       "      <td>1995</td>\n",
       "      <td>[{'cast_id': 2, 'character': 'Max Goldman', 'c...</td>\n",
       "      <td>[{'credit_id': '52fe466a9251416c75077a89', 'de...</td>\n",
       "      <td>[{'id': 1495, 'name': 'fishing'}, {'id': 12392...</td>\n",
       "    </tr>\n",
       "    <tr>\n",
       "      <th>3</th>\n",
       "      <td>False</td>\n",
       "      <td>NaN</td>\n",
       "      <td>16000000</td>\n",
       "      <td>[Comedy, Drama, Romance]</td>\n",
       "      <td>NaN</td>\n",
       "      <td>31357</td>\n",
       "      <td>tt0114885</td>\n",
       "      <td>en</td>\n",
       "      <td>Waiting to Exhale</td>\n",
       "      <td>Cheated on, mistreated and stepped on, the wom...</td>\n",
       "      <td>...</td>\n",
       "      <td>Released</td>\n",
       "      <td>Friends are the people who let you be yourself...</td>\n",
       "      <td>Waiting to Exhale</td>\n",
       "      <td>False</td>\n",
       "      <td>6.1</td>\n",
       "      <td>34.0</td>\n",
       "      <td>1995</td>\n",
       "      <td>[{'cast_id': 1, 'character': \"Savannah 'Vannah...</td>\n",
       "      <td>[{'credit_id': '52fe44779251416c91011acb', 'de...</td>\n",
       "      <td>[{'id': 818, 'name': 'based on novel'}, {'id':...</td>\n",
       "    </tr>\n",
       "    <tr>\n",
       "      <th>4</th>\n",
       "      <td>False</td>\n",
       "      <td>{'id': 96871, 'name': 'Father of the Bride Col...</td>\n",
       "      <td>0</td>\n",
       "      <td>[Comedy]</td>\n",
       "      <td>NaN</td>\n",
       "      <td>11862</td>\n",
       "      <td>tt0113041</td>\n",
       "      <td>en</td>\n",
       "      <td>Father of the Bride Part II</td>\n",
       "      <td>Just when George Banks has recovered from his ...</td>\n",
       "      <td>...</td>\n",
       "      <td>Released</td>\n",
       "      <td>Just When His World Is Back To Normal... He's ...</td>\n",
       "      <td>Father of the Bride Part II</td>\n",
       "      <td>False</td>\n",
       "      <td>5.7</td>\n",
       "      <td>173.0</td>\n",
       "      <td>1995</td>\n",
       "      <td>[{'cast_id': 1, 'character': 'George Banks', '...</td>\n",
       "      <td>[{'credit_id': '52fe44959251416c75039ed7', 'de...</td>\n",
       "      <td>[{'id': 1009, 'name': 'baby'}, {'id': 1599, 'n...</td>\n",
       "    </tr>\n",
       "  </tbody>\n",
       "</table>\n",
       "<p>5 rows × 28 columns</p>\n",
       "</div>"
      ],
      "text/plain": [
       "   adult                              belongs_to_collection    budget  \\\n",
       "0  False  {'id': 10194, 'name': 'Toy Story Collection', ...  30000000   \n",
       "1  False                                                NaN  65000000   \n",
       "2  False  {'id': 119050, 'name': 'Grumpy Old Men Collect...         0   \n",
       "3  False                                                NaN  16000000   \n",
       "4  False  {'id': 96871, 'name': 'Father of the Bride Col...         0   \n",
       "\n",
       "                         genres                              homepage     id  \\\n",
       "0   [Animation, Comedy, Family]  http://toystory.disney.com/toy-story    862   \n",
       "1  [Adventure, Fantasy, Family]                                   NaN   8844   \n",
       "2             [Romance, Comedy]                                   NaN  15602   \n",
       "3      [Comedy, Drama, Romance]                                   NaN  31357   \n",
       "4                      [Comedy]                                   NaN  11862   \n",
       "\n",
       "     imdb_id original_language               original_title  \\\n",
       "0  tt0114709                en                    Toy Story   \n",
       "1  tt0113497                en                      Jumanji   \n",
       "2  tt0113228                en             Grumpier Old Men   \n",
       "3  tt0114885                en            Waiting to Exhale   \n",
       "4  tt0113041                en  Father of the Bride Part II   \n",
       "\n",
       "                                            overview  ...    status  \\\n",
       "0  Led by Woody, Andy's toys live happily in his ...  ...  Released   \n",
       "1  When siblings Judy and Peter discover an encha...  ...  Released   \n",
       "2  A family wedding reignites the ancient feud be...  ...  Released   \n",
       "3  Cheated on, mistreated and stepped on, the wom...  ...  Released   \n",
       "4  Just when George Banks has recovered from his ...  ...  Released   \n",
       "\n",
       "                                             tagline  \\\n",
       "0                                                NaN   \n",
       "1          Roll the dice and unleash the excitement!   \n",
       "2  Still Yelling. Still Fighting. Still Ready for...   \n",
       "3  Friends are the people who let you be yourself...   \n",
       "4  Just When His World Is Back To Normal... He's ...   \n",
       "\n",
       "                         title  video vote_average  vote_count  year  \\\n",
       "0                    Toy Story  False          7.7      5415.0  1995   \n",
       "1                      Jumanji  False          6.9      2413.0  1995   \n",
       "2             Grumpier Old Men  False          6.5        92.0  1995   \n",
       "3            Waiting to Exhale  False          6.1        34.0  1995   \n",
       "4  Father of the Bride Part II  False          5.7       173.0  1995   \n",
       "\n",
       "                                                cast  \\\n",
       "0  [{'cast_id': 14, 'character': 'Woody (voice)',...   \n",
       "1  [{'cast_id': 1, 'character': 'Alan Parrish', '...   \n",
       "2  [{'cast_id': 2, 'character': 'Max Goldman', 'c...   \n",
       "3  [{'cast_id': 1, 'character': \"Savannah 'Vannah...   \n",
       "4  [{'cast_id': 1, 'character': 'George Banks', '...   \n",
       "\n",
       "                                                crew  \\\n",
       "0  [{'credit_id': '52fe4284c3a36847f8024f49', 'de...   \n",
       "1  [{'credit_id': '52fe44bfc3a36847f80a7cd1', 'de...   \n",
       "2  [{'credit_id': '52fe466a9251416c75077a89', 'de...   \n",
       "3  [{'credit_id': '52fe44779251416c91011acb', 'de...   \n",
       "4  [{'credit_id': '52fe44959251416c75039ed7', 'de...   \n",
       "\n",
       "                                            keywords  \n",
       "0  [{'id': 931, 'name': 'jealousy'}, {'id': 4290,...  \n",
       "1  [{'id': 10090, 'name': 'board game'}, {'id': 1...  \n",
       "2  [{'id': 1495, 'name': 'fishing'}, {'id': 12392...  \n",
       "3  [{'id': 818, 'name': 'based on novel'}, {'id':...  \n",
       "4  [{'id': 1009, 'name': 'baby'}, {'id': 1599, 'n...  \n",
       "\n",
       "[5 rows x 28 columns]"
      ]
     },
     "execution_count": 30,
     "metadata": {},
     "output_type": "execute_result"
    }
   ],
   "source": [
    "md = md.merge(credits, on='id')\n",
    "md = md.merge(keywords, on='id')\n",
    "md.head()"
   ]
  },
  {
   "cell_type": "code",
   "execution_count": 31,
   "id": "9a5fe621",
   "metadata": {
    "execution": {
     "iopub.execute_input": "2022-02-22T14:22:02.913583Z",
     "iopub.status.busy": "2022-02-22T14:22:02.912673Z",
     "iopub.status.idle": "2022-02-22T14:22:02.964697Z",
     "shell.execute_reply": "2022-02-22T14:22:02.965092Z",
     "shell.execute_reply.started": "2022-02-22T14:07:31.524644Z"
    },
    "papermill": {
     "duration": 0.113375,
     "end_time": "2022-02-22T14:22:02.965250",
     "exception": false,
     "start_time": "2022-02-22T14:22:02.851875",
     "status": "completed"
    },
    "tags": []
   },
   "outputs": [
    {
     "data": {
      "text/plain": [
       "(9219, 28)"
      ]
     },
     "execution_count": 31,
     "metadata": {},
     "output_type": "execute_result"
    }
   ],
   "source": [
    "smd = md[md['id'].isin(links_small)]\n",
    "smd.shape"
   ]
  },
  {
   "cell_type": "code",
   "execution_count": 32,
   "id": "6a327f8e",
   "metadata": {
    "execution": {
     "iopub.execute_input": "2022-02-22T14:22:03.083164Z",
     "iopub.status.busy": "2022-02-22T14:22:03.082602Z",
     "iopub.status.idle": "2022-02-22T14:22:14.747559Z",
     "shell.execute_reply": "2022-02-22T14:22:14.748210Z",
     "shell.execute_reply.started": "2022-02-22T14:07:31.583028Z"
    },
    "papermill": {
     "duration": 11.725739,
     "end_time": "2022-02-22T14:22:14.748454",
     "exception": false,
     "start_time": "2022-02-22T14:22:03.022715",
     "status": "completed"
    },
    "tags": []
   },
   "outputs": [
    {
     "name": "stderr",
     "output_type": "stream",
     "text": [
      "/opt/conda/lib/python3.7/site-packages/ipykernel_launcher.py:1: SettingWithCopyWarning: \n",
      "A value is trying to be set on a copy of a slice from a DataFrame.\n",
      "Try using .loc[row_indexer,col_indexer] = value instead\n",
      "\n",
      "See the caveats in the documentation: https://pandas.pydata.org/pandas-docs/stable/user_guide/indexing.html#returning-a-view-versus-a-copy\n",
      "  \"\"\"Entry point for launching an IPython kernel.\n",
      "/opt/conda/lib/python3.7/site-packages/ipykernel_launcher.py:2: SettingWithCopyWarning: \n",
      "A value is trying to be set on a copy of a slice from a DataFrame.\n",
      "Try using .loc[row_indexer,col_indexer] = value instead\n",
      "\n",
      "See the caveats in the documentation: https://pandas.pydata.org/pandas-docs/stable/user_guide/indexing.html#returning-a-view-versus-a-copy\n",
      "  \n",
      "/opt/conda/lib/python3.7/site-packages/ipykernel_launcher.py:3: SettingWithCopyWarning: \n",
      "A value is trying to be set on a copy of a slice from a DataFrame.\n",
      "Try using .loc[row_indexer,col_indexer] = value instead\n",
      "\n",
      "See the caveats in the documentation: https://pandas.pydata.org/pandas-docs/stable/user_guide/indexing.html#returning-a-view-versus-a-copy\n",
      "  This is separate from the ipykernel package so we can avoid doing imports until\n",
      "/opt/conda/lib/python3.7/site-packages/ipykernel_launcher.py:4: SettingWithCopyWarning: \n",
      "A value is trying to be set on a copy of a slice from a DataFrame.\n",
      "Try using .loc[row_indexer,col_indexer] = value instead\n",
      "\n",
      "See the caveats in the documentation: https://pandas.pydata.org/pandas-docs/stable/user_guide/indexing.html#returning-a-view-versus-a-copy\n",
      "  after removing the cwd from sys.path.\n",
      "/opt/conda/lib/python3.7/site-packages/ipykernel_launcher.py:5: SettingWithCopyWarning: \n",
      "A value is trying to be set on a copy of a slice from a DataFrame.\n",
      "Try using .loc[row_indexer,col_indexer] = value instead\n",
      "\n",
      "See the caveats in the documentation: https://pandas.pydata.org/pandas-docs/stable/user_guide/indexing.html#returning-a-view-versus-a-copy\n",
      "  \"\"\"\n"
     ]
    }
   ],
   "source": [
    "smd['cast'] = smd['cast'].apply(literal_eval)\n",
    "smd['crew'] = smd['crew'].apply(literal_eval)\n",
    "smd['keywords'] = smd['keywords'].apply(literal_eval)\n",
    "smd['cast_size'] = smd['cast'].apply(lambda x: len(x))\n",
    "smd['crew_size'] = smd['crew'].apply(lambda x: len(x))"
   ]
  },
  {
   "cell_type": "code",
   "execution_count": 33,
   "id": "22f273cb",
   "metadata": {
    "execution": {
     "iopub.execute_input": "2022-02-22T14:22:14.884730Z",
     "iopub.status.busy": "2022-02-22T14:22:14.883824Z",
     "iopub.status.idle": "2022-02-22T14:22:14.886953Z",
     "shell.execute_reply": "2022-02-22T14:22:14.887762Z",
     "shell.execute_reply.started": "2022-02-22T14:08:19.805222Z"
    },
    "papermill": {
     "duration": 0.078877,
     "end_time": "2022-02-22T14:22:14.887996",
     "exception": false,
     "start_time": "2022-02-22T14:22:14.809119",
     "status": "completed"
    },
    "tags": []
   },
   "outputs": [],
   "source": [
    "def get_director(x):\n",
    "    for i in x:\n",
    "        if i['job'] == 'Director':\n",
    "            return i['name']\n",
    "    return np.nan"
   ]
  },
  {
   "cell_type": "code",
   "execution_count": 34,
   "id": "630ba372",
   "metadata": {
    "execution": {
     "iopub.execute_input": "2022-02-22T14:22:15.029246Z",
     "iopub.status.busy": "2022-02-22T14:22:15.028434Z",
     "iopub.status.idle": "2022-02-22T14:22:15.054238Z",
     "shell.execute_reply": "2022-02-22T14:22:15.055021Z",
     "shell.execute_reply.started": "2022-02-22T14:08:19.814150Z"
    },
    "papermill": {
     "duration": 0.091133,
     "end_time": "2022-02-22T14:22:15.055240",
     "exception": false,
     "start_time": "2022-02-22T14:22:14.964107",
     "status": "completed"
    },
    "tags": []
   },
   "outputs": [
    {
     "name": "stderr",
     "output_type": "stream",
     "text": [
      "/opt/conda/lib/python3.7/site-packages/ipykernel_launcher.py:1: SettingWithCopyWarning: \n",
      "A value is trying to be set on a copy of a slice from a DataFrame.\n",
      "Try using .loc[row_indexer,col_indexer] = value instead\n",
      "\n",
      "See the caveats in the documentation: https://pandas.pydata.org/pandas-docs/stable/user_guide/indexing.html#returning-a-view-versus-a-copy\n",
      "  \"\"\"Entry point for launching an IPython kernel.\n"
     ]
    }
   ],
   "source": [
    "smd['director'] = smd['crew'].apply(get_director)"
   ]
  },
  {
   "cell_type": "code",
   "execution_count": 35,
   "id": "4ea0ef37",
   "metadata": {
    "execution": {
     "iopub.execute_input": "2022-02-22T14:22:15.199197Z",
     "iopub.status.busy": "2022-02-22T14:22:15.198249Z",
     "iopub.status.idle": "2022-02-22T14:22:15.336739Z",
     "shell.execute_reply": "2022-02-22T14:22:15.337432Z",
     "shell.execute_reply.started": "2022-02-22T14:08:19.850929Z"
    },
    "papermill": {
     "duration": 0.21256,
     "end_time": "2022-02-22T14:22:15.337651",
     "exception": false,
     "start_time": "2022-02-22T14:22:15.125091",
     "status": "completed"
    },
    "tags": []
   },
   "outputs": [
    {
     "name": "stderr",
     "output_type": "stream",
     "text": [
      "/opt/conda/lib/python3.7/site-packages/ipykernel_launcher.py:1: SettingWithCopyWarning: \n",
      "A value is trying to be set on a copy of a slice from a DataFrame.\n",
      "Try using .loc[row_indexer,col_indexer] = value instead\n",
      "\n",
      "See the caveats in the documentation: https://pandas.pydata.org/pandas-docs/stable/user_guide/indexing.html#returning-a-view-versus-a-copy\n",
      "  \"\"\"Entry point for launching an IPython kernel.\n",
      "/opt/conda/lib/python3.7/site-packages/ipykernel_launcher.py:2: SettingWithCopyWarning: \n",
      "A value is trying to be set on a copy of a slice from a DataFrame.\n",
      "Try using .loc[row_indexer,col_indexer] = value instead\n",
      "\n",
      "See the caveats in the documentation: https://pandas.pydata.org/pandas-docs/stable/user_guide/indexing.html#returning-a-view-versus-a-copy\n",
      "  \n"
     ]
    }
   ],
   "source": [
    "smd['cast'] = smd['cast'].apply(lambda x: [i['name'] for i in x] if isinstance(x, list) else [])\n",
    "smd['cast'] = smd['cast'].apply(lambda x: x[:3] if len(x) >=3 else x)"
   ]
  },
  {
   "cell_type": "code",
   "execution_count": 36,
   "id": "b0e2c3d2",
   "metadata": {
    "execution": {
     "iopub.execute_input": "2022-02-22T14:22:15.465994Z",
     "iopub.status.busy": "2022-02-22T14:22:15.465302Z",
     "iopub.status.idle": "2022-02-22T14:22:15.501176Z",
     "shell.execute_reply": "2022-02-22T14:22:15.501936Z",
     "shell.execute_reply.started": "2022-02-22T14:08:20.026792Z"
    },
    "papermill": {
     "duration": 0.098318,
     "end_time": "2022-02-22T14:22:15.502149",
     "exception": false,
     "start_time": "2022-02-22T14:22:15.403831",
     "status": "completed"
    },
    "tags": []
   },
   "outputs": [
    {
     "name": "stderr",
     "output_type": "stream",
     "text": [
      "/opt/conda/lib/python3.7/site-packages/ipykernel_launcher.py:1: SettingWithCopyWarning: \n",
      "A value is trying to be set on a copy of a slice from a DataFrame.\n",
      "Try using .loc[row_indexer,col_indexer] = value instead\n",
      "\n",
      "See the caveats in the documentation: https://pandas.pydata.org/pandas-docs/stable/user_guide/indexing.html#returning-a-view-versus-a-copy\n",
      "  \"\"\"Entry point for launching an IPython kernel.\n"
     ]
    }
   ],
   "source": [
    "smd['keywords'] = smd['keywords'].apply(lambda x: [i['name'] for i in x] if isinstance(x, list) else [])"
   ]
  },
  {
   "cell_type": "code",
   "execution_count": 37,
   "id": "43287b19",
   "metadata": {
    "execution": {
     "iopub.execute_input": "2022-02-22T14:22:15.629771Z",
     "iopub.status.busy": "2022-02-22T14:22:15.628859Z",
     "iopub.status.idle": "2022-02-22T14:22:15.675250Z",
     "shell.execute_reply": "2022-02-22T14:22:15.674688Z",
     "shell.execute_reply.started": "2022-02-22T14:08:20.069119Z"
    },
    "papermill": {
     "duration": 0.109887,
     "end_time": "2022-02-22T14:22:15.675381",
     "exception": false,
     "start_time": "2022-02-22T14:22:15.565494",
     "status": "completed"
    },
    "tags": []
   },
   "outputs": [
    {
     "name": "stderr",
     "output_type": "stream",
     "text": [
      "/opt/conda/lib/python3.7/site-packages/ipykernel_launcher.py:1: SettingWithCopyWarning: \n",
      "A value is trying to be set on a copy of a slice from a DataFrame.\n",
      "Try using .loc[row_indexer,col_indexer] = value instead\n",
      "\n",
      "See the caveats in the documentation: https://pandas.pydata.org/pandas-docs/stable/user_guide/indexing.html#returning-a-view-versus-a-copy\n",
      "  \"\"\"Entry point for launching an IPython kernel.\n"
     ]
    }
   ],
   "source": [
    "smd['cast'] = smd['cast'].apply(lambda x: [str.lower(i.replace(\" \", \"\")) for i in x])"
   ]
  },
  {
   "cell_type": "code",
   "execution_count": 38,
   "id": "052c8b9e",
   "metadata": {
    "execution": {
     "iopub.execute_input": "2022-02-22T14:22:15.798679Z",
     "iopub.status.busy": "2022-02-22T14:22:15.797535Z",
     "iopub.status.idle": "2022-02-22T14:22:15.816066Z",
     "shell.execute_reply": "2022-02-22T14:22:15.816625Z",
     "shell.execute_reply.started": "2022-02-22T14:08:20.119548Z"
    },
    "papermill": {
     "duration": 0.08292,
     "end_time": "2022-02-22T14:22:15.816791",
     "exception": false,
     "start_time": "2022-02-22T14:22:15.733871",
     "status": "completed"
    },
    "tags": []
   },
   "outputs": [
    {
     "name": "stderr",
     "output_type": "stream",
     "text": [
      "/opt/conda/lib/python3.7/site-packages/ipykernel_launcher.py:1: SettingWithCopyWarning: \n",
      "A value is trying to be set on a copy of a slice from a DataFrame.\n",
      "Try using .loc[row_indexer,col_indexer] = value instead\n",
      "\n",
      "See the caveats in the documentation: https://pandas.pydata.org/pandas-docs/stable/user_guide/indexing.html#returning-a-view-versus-a-copy\n",
      "  \"\"\"Entry point for launching an IPython kernel.\n",
      "/opt/conda/lib/python3.7/site-packages/ipykernel_launcher.py:2: SettingWithCopyWarning: \n",
      "A value is trying to be set on a copy of a slice from a DataFrame.\n",
      "Try using .loc[row_indexer,col_indexer] = value instead\n",
      "\n",
      "See the caveats in the documentation: https://pandas.pydata.org/pandas-docs/stable/user_guide/indexing.html#returning-a-view-versus-a-copy\n",
      "  \n"
     ]
    }
   ],
   "source": [
    "smd['director'] = smd['director'].astype('str').apply(lambda x: str.lower(x.replace(\" \", \"\")))\n",
    "smd['director'] = smd['director'].apply(lambda x: [x,x, x])"
   ]
  },
  {
   "cell_type": "code",
   "execution_count": 39,
   "id": "fbfe59bf",
   "metadata": {
    "execution": {
     "iopub.execute_input": "2022-02-22T14:22:15.939626Z",
     "iopub.status.busy": "2022-02-22T14:22:15.938697Z",
     "iopub.status.idle": "2022-02-22T14:22:15.941819Z",
     "shell.execute_reply": "2022-02-22T14:22:15.942336Z",
     "shell.execute_reply.started": "2022-02-22T14:08:20.148941Z"
    },
    "papermill": {
     "duration": 0.066342,
     "end_time": "2022-02-22T14:22:15.942505",
     "exception": false,
     "start_time": "2022-02-22T14:22:15.876163",
     "status": "completed"
    },
    "tags": []
   },
   "outputs": [],
   "source": [
    "#KEYWORDS"
   ]
  },
  {
   "cell_type": "code",
   "execution_count": 40,
   "id": "8f995a10",
   "metadata": {
    "execution": {
     "iopub.execute_input": "2022-02-22T14:22:16.065146Z",
     "iopub.status.busy": "2022-02-22T14:22:16.064225Z",
     "iopub.status.idle": "2022-02-22T14:22:19.195792Z",
     "shell.execute_reply": "2022-02-22T14:22:19.196297Z",
     "shell.execute_reply.started": "2022-02-22T14:08:20.158427Z"
    },
    "papermill": {
     "duration": 3.194514,
     "end_time": "2022-02-22T14:22:19.196479",
     "exception": false,
     "start_time": "2022-02-22T14:22:16.001965",
     "status": "completed"
    },
    "tags": []
   },
   "outputs": [
    {
     "name": "stderr",
     "output_type": "stream",
     "text": [
      "/opt/conda/lib/python3.7/site-packages/ipykernel_launcher.py:1: DeprecationWarning: The default dtype for empty Series will be 'object' instead of 'float64' in a future version. Specify a dtype explicitly to silence this warning.\n",
      "  \"\"\"Entry point for launching an IPython kernel.\n"
     ]
    }
   ],
   "source": [
    "s = smd.apply(lambda x: pd.Series(x['keywords']),axis=1).stack().reset_index(level=1, drop=True)\n",
    "s.name = 'keyword'"
   ]
  },
  {
   "cell_type": "code",
   "execution_count": 41,
   "id": "f65794b9",
   "metadata": {
    "execution": {
     "iopub.execute_input": "2022-02-22T14:22:19.319799Z",
     "iopub.status.busy": "2022-02-22T14:22:19.319209Z",
     "iopub.status.idle": "2022-02-22T14:22:19.343035Z",
     "shell.execute_reply": "2022-02-22T14:22:19.343516Z",
     "shell.execute_reply.started": "2022-02-22T14:08:35.053938Z"
    },
    "papermill": {
     "duration": 0.087356,
     "end_time": "2022-02-22T14:22:19.343674",
     "exception": false,
     "start_time": "2022-02-22T14:22:19.256318",
     "status": "completed"
    },
    "tags": []
   },
   "outputs": [
    {
     "data": {
      "text/plain": [
       "independent film        610\n",
       "woman director          550\n",
       "murder                  399\n",
       "duringcreditsstinger    327\n",
       "based on novel          318\n",
       "Name: keyword, dtype: int64"
      ]
     },
     "execution_count": 41,
     "metadata": {},
     "output_type": "execute_result"
    }
   ],
   "source": [
    "s = s.value_counts()\n",
    "s[:5]"
   ]
  },
  {
   "cell_type": "code",
   "execution_count": 42,
   "id": "35ea9b7b",
   "metadata": {
    "execution": {
     "iopub.execute_input": "2022-02-22T14:22:19.472217Z",
     "iopub.status.busy": "2022-02-22T14:22:19.471611Z",
     "iopub.status.idle": "2022-02-22T14:22:19.475473Z",
     "shell.execute_reply": "2022-02-22T14:22:19.475932Z",
     "shell.execute_reply.started": "2022-02-22T14:08:35.093711Z"
    },
    "papermill": {
     "duration": 0.069769,
     "end_time": "2022-02-22T14:22:19.476098",
     "exception": false,
     "start_time": "2022-02-22T14:22:19.406329",
     "status": "completed"
    },
    "tags": []
   },
   "outputs": [],
   "source": [
    "s = s[s > 1]"
   ]
  },
  {
   "cell_type": "code",
   "execution_count": 43,
   "id": "ad3e857b",
   "metadata": {
    "execution": {
     "iopub.execute_input": "2022-02-22T14:22:19.605070Z",
     "iopub.status.busy": "2022-02-22T14:22:19.604448Z",
     "iopub.status.idle": "2022-02-22T14:22:19.606735Z",
     "shell.execute_reply": "2022-02-22T14:22:19.607249Z",
     "shell.execute_reply.started": "2022-02-22T14:08:35.102551Z"
    },
    "papermill": {
     "duration": 0.069475,
     "end_time": "2022-02-22T14:22:19.607425",
     "exception": false,
     "start_time": "2022-02-22T14:22:19.537950",
     "status": "completed"
    },
    "tags": []
   },
   "outputs": [
    {
     "data": {
      "text/plain": [
       "'dog'"
      ]
     },
     "execution_count": 43,
     "metadata": {},
     "output_type": "execute_result"
    }
   ],
   "source": [
    "stemmer = SnowballStemmer('english')\n",
    "stemmer.stem('dogs')"
   ]
  },
  {
   "cell_type": "code",
   "execution_count": 44,
   "id": "b1625f37",
   "metadata": {
    "execution": {
     "iopub.execute_input": "2022-02-22T14:22:19.733139Z",
     "iopub.status.busy": "2022-02-22T14:22:19.732527Z",
     "iopub.status.idle": "2022-02-22T14:22:19.736982Z",
     "shell.execute_reply": "2022-02-22T14:22:19.736364Z",
     "shell.execute_reply.started": "2022-02-22T14:08:35.116616Z"
    },
    "papermill": {
     "duration": 0.068445,
     "end_time": "2022-02-22T14:22:19.737120",
     "exception": false,
     "start_time": "2022-02-22T14:22:19.668675",
     "status": "completed"
    },
    "tags": []
   },
   "outputs": [],
   "source": [
    "def filter_keywords(x):\n",
    "    words = []\n",
    "    for i in x:\n",
    "        if i in s:\n",
    "            words.append(i)\n",
    "    return words"
   ]
  },
  {
   "cell_type": "code",
   "execution_count": 45,
   "id": "7beb9ff2",
   "metadata": {
    "execution": {
     "iopub.execute_input": "2022-02-22T14:22:19.862537Z",
     "iopub.status.busy": "2022-02-22T14:22:19.861854Z",
     "iopub.status.idle": "2022-02-22T14:22:20.752030Z",
     "shell.execute_reply": "2022-02-22T14:22:20.752750Z",
     "shell.execute_reply.started": "2022-02-22T14:08:35.131364Z"
    },
    "papermill": {
     "duration": 0.953946,
     "end_time": "2022-02-22T14:22:20.752991",
     "exception": false,
     "start_time": "2022-02-22T14:22:19.799045",
     "status": "completed"
    },
    "tags": []
   },
   "outputs": [
    {
     "name": "stderr",
     "output_type": "stream",
     "text": [
      "/opt/conda/lib/python3.7/site-packages/ipykernel_launcher.py:1: SettingWithCopyWarning: \n",
      "A value is trying to be set on a copy of a slice from a DataFrame.\n",
      "Try using .loc[row_indexer,col_indexer] = value instead\n",
      "\n",
      "See the caveats in the documentation: https://pandas.pydata.org/pandas-docs/stable/user_guide/indexing.html#returning-a-view-versus-a-copy\n",
      "  \"\"\"Entry point for launching an IPython kernel.\n",
      "/opt/conda/lib/python3.7/site-packages/ipykernel_launcher.py:2: SettingWithCopyWarning: \n",
      "A value is trying to be set on a copy of a slice from a DataFrame.\n",
      "Try using .loc[row_indexer,col_indexer] = value instead\n",
      "\n",
      "See the caveats in the documentation: https://pandas.pydata.org/pandas-docs/stable/user_guide/indexing.html#returning-a-view-versus-a-copy\n",
      "  \n",
      "/opt/conda/lib/python3.7/site-packages/ipykernel_launcher.py:3: SettingWithCopyWarning: \n",
      "A value is trying to be set on a copy of a slice from a DataFrame.\n",
      "Try using .loc[row_indexer,col_indexer] = value instead\n",
      "\n",
      "See the caveats in the documentation: https://pandas.pydata.org/pandas-docs/stable/user_guide/indexing.html#returning-a-view-versus-a-copy\n",
      "  This is separate from the ipykernel package so we can avoid doing imports until\n"
     ]
    }
   ],
   "source": [
    "smd['keywords'] = smd['keywords'].apply(filter_keywords)\n",
    "smd['keywords'] = smd['keywords'].apply(lambda x: [stemmer.stem(i) for i in x])\n",
    "smd['keywords'] = smd['keywords'].apply(lambda x: [str.lower(i.replace(\" \", \"\")) for i in x])"
   ]
  },
  {
   "cell_type": "code",
   "execution_count": 46,
   "id": "13e4ead8",
   "metadata": {
    "execution": {
     "iopub.execute_input": "2022-02-22T14:22:20.881436Z",
     "iopub.status.busy": "2022-02-22T14:22:20.880475Z",
     "iopub.status.idle": "2022-02-22T14:22:20.917490Z",
     "shell.execute_reply": "2022-02-22T14:22:20.918129Z",
     "shell.execute_reply.started": "2022-02-22T14:08:36.383982Z"
    },
    "papermill": {
     "duration": 0.103951,
     "end_time": "2022-02-22T14:22:20.918375",
     "exception": false,
     "start_time": "2022-02-22T14:22:20.814424",
     "status": "completed"
    },
    "tags": []
   },
   "outputs": [
    {
     "name": "stderr",
     "output_type": "stream",
     "text": [
      "/opt/conda/lib/python3.7/site-packages/ipykernel_launcher.py:1: SettingWithCopyWarning: \n",
      "A value is trying to be set on a copy of a slice from a DataFrame.\n",
      "Try using .loc[row_indexer,col_indexer] = value instead\n",
      "\n",
      "See the caveats in the documentation: https://pandas.pydata.org/pandas-docs/stable/user_guide/indexing.html#returning-a-view-versus-a-copy\n",
      "  \"\"\"Entry point for launching an IPython kernel.\n",
      "/opt/conda/lib/python3.7/site-packages/ipykernel_launcher.py:2: SettingWithCopyWarning: \n",
      "A value is trying to be set on a copy of a slice from a DataFrame.\n",
      "Try using .loc[row_indexer,col_indexer] = value instead\n",
      "\n",
      "See the caveats in the documentation: https://pandas.pydata.org/pandas-docs/stable/user_guide/indexing.html#returning-a-view-versus-a-copy\n",
      "  \n"
     ]
    }
   ],
   "source": [
    "smd['soup'] = smd['keywords'] + smd['cast'] + smd['director'] + smd['genres']\n",
    "smd['soup'] = smd['soup'].apply(lambda x: ' '.join(x))"
   ]
  },
  {
   "cell_type": "code",
   "execution_count": 47,
   "id": "060dc960",
   "metadata": {
    "execution": {
     "iopub.execute_input": "2022-02-22T14:22:21.049851Z",
     "iopub.status.busy": "2022-02-22T14:22:21.048841Z",
     "iopub.status.idle": "2022-02-22T14:22:21.680995Z",
     "shell.execute_reply": "2022-02-22T14:22:21.680424Z",
     "shell.execute_reply.started": "2022-02-22T14:08:36.443992Z"
    },
    "papermill": {
     "duration": 0.697666,
     "end_time": "2022-02-22T14:22:21.681125",
     "exception": false,
     "start_time": "2022-02-22T14:22:20.983459",
     "status": "completed"
    },
    "tags": []
   },
   "outputs": [],
   "source": [
    "count = CountVectorizer(analyzer='word',ngram_range=(1, 2),min_df=0, stop_words='english')\n",
    "count_matrix = count.fit_transform(smd['soup'])"
   ]
  },
  {
   "cell_type": "code",
   "execution_count": 48,
   "id": "d618fa8e",
   "metadata": {
    "execution": {
     "iopub.execute_input": "2022-02-22T14:22:21.806051Z",
     "iopub.status.busy": "2022-02-22T14:22:21.805147Z",
     "iopub.status.idle": "2022-02-22T14:22:23.531889Z",
     "shell.execute_reply": "2022-02-22T14:22:23.532379Z",
     "shell.execute_reply.started": "2022-02-22T14:08:37.295090Z"
    },
    "papermill": {
     "duration": 1.790918,
     "end_time": "2022-02-22T14:22:23.532618",
     "exception": false,
     "start_time": "2022-02-22T14:22:21.741700",
     "status": "completed"
    },
    "tags": []
   },
   "outputs": [],
   "source": [
    "cosine_sim = cosine_similarity(count_matrix, count_matrix)"
   ]
  },
  {
   "cell_type": "code",
   "execution_count": 49,
   "id": "87982d10",
   "metadata": {
    "execution": {
     "iopub.execute_input": "2022-02-22T14:22:23.659419Z",
     "iopub.status.busy": "2022-02-22T14:22:23.658339Z",
     "iopub.status.idle": "2022-02-22T14:22:23.673339Z",
     "shell.execute_reply": "2022-02-22T14:22:23.673828Z",
     "shell.execute_reply.started": "2022-02-22T14:08:39.739062Z"
    },
    "papermill": {
     "duration": 0.080613,
     "end_time": "2022-02-22T14:22:23.673997",
     "exception": false,
     "start_time": "2022-02-22T14:22:23.593384",
     "status": "completed"
    },
    "tags": []
   },
   "outputs": [],
   "source": [
    "smd = smd.reset_index()\n",
    "titles = smd['title']\n",
    "indices = pd.Series(smd.index, index=smd['title'])"
   ]
  },
  {
   "cell_type": "code",
   "execution_count": 50,
   "id": "39cb6dd3",
   "metadata": {
    "execution": {
     "iopub.execute_input": "2022-02-22T14:22:23.799657Z",
     "iopub.status.busy": "2022-02-22T14:22:23.798749Z",
     "iopub.status.idle": "2022-02-22T14:22:23.813961Z",
     "shell.execute_reply": "2022-02-22T14:22:23.814466Z",
     "shell.execute_reply.started": "2022-02-22T14:08:39.765457Z"
    },
    "papermill": {
     "duration": 0.080015,
     "end_time": "2022-02-22T14:22:23.814627",
     "exception": false,
     "start_time": "2022-02-22T14:22:23.734612",
     "status": "completed"
    },
    "tags": []
   },
   "outputs": [
    {
     "data": {
      "text/plain": [
       "8031         The Dark Knight Rises\n",
       "6218                 Batman Begins\n",
       "6623                  The Prestige\n",
       "2085                     Following\n",
       "7648                     Inception\n",
       "4145                      Insomnia\n",
       "3381                       Memento\n",
       "8613                  Interstellar\n",
       "7659    Batman: Under the Red Hood\n",
       "1134                Batman Returns\n",
       "Name: title, dtype: object"
      ]
     },
     "execution_count": 50,
     "metadata": {},
     "output_type": "execute_result"
    }
   ],
   "source": [
    "get_recommendations('The Dark Knight').head(10)"
   ]
  },
  {
   "cell_type": "code",
   "execution_count": 51,
   "id": "8f639fc4",
   "metadata": {
    "execution": {
     "iopub.execute_input": "2022-02-22T14:22:23.940157Z",
     "iopub.status.busy": "2022-02-22T14:22:23.939240Z",
     "iopub.status.idle": "2022-02-22T14:22:23.946864Z",
     "shell.execute_reply": "2022-02-22T14:22:23.947349Z",
     "shell.execute_reply.started": "2022-02-22T14:08:39.790527Z"
    },
    "papermill": {
     "duration": 0.07202,
     "end_time": "2022-02-22T14:22:23.947527",
     "exception": false,
     "start_time": "2022-02-22T14:22:23.875507",
     "status": "completed"
    },
    "tags": []
   },
   "outputs": [],
   "source": [
    "def improved_recommendations(title):\n",
    "    idx = indices[title]\n",
    "    sim_scores = list(enumerate(cosine_sim[idx]))\n",
    "    sim_scores = sorted(sim_scores, key=lambda x: x[1], reverse=True)\n",
    "    sim_scores = sim_scores[1:26]\n",
    "    movie_indices = [i[0] for i in sim_scores]\n",
    "    \n",
    "    movies = smd.iloc[movie_indices][['title', 'vote_count', 'vote_average', 'year']]\n",
    "    vote_counts = movies[movies['vote_count'].notnull()]['vote_count'].astype('int')\n",
    "    vote_averages = movies[movies['vote_average'].notnull()]['vote_average'].astype('int')\n",
    "    C = vote_averages.mean()\n",
    "    m = vote_counts.quantile(0.60)\n",
    "    qualified = movies[(movies['vote_count'] >= m) & (movies['vote_count'].notnull()) & (movies['vote_average'].notnull())]\n",
    "    qualified['vote_count'] = qualified['vote_count'].astype('int')\n",
    "    qualified['vote_average'] = qualified['vote_average'].astype('int')\n",
    "    qualified['wr'] = qualified.apply(weighted_rating, axis=1)\n",
    "    qualified = qualified.sort_values('wr', ascending=False).head(10)\n",
    "    return qualified"
   ]
  },
  {
   "cell_type": "code",
   "execution_count": 52,
   "id": "b2ef9a00",
   "metadata": {
    "execution": {
     "iopub.execute_input": "2022-02-22T14:22:24.081767Z",
     "iopub.status.busy": "2022-02-22T14:22:24.080778Z",
     "iopub.status.idle": "2022-02-22T14:22:24.100081Z",
     "shell.execute_reply": "2022-02-22T14:22:24.100813Z",
     "shell.execute_reply.started": "2022-02-22T14:08:39.805413Z"
    },
    "papermill": {
     "duration": 0.091778,
     "end_time": "2022-02-22T14:22:24.101027",
     "exception": false,
     "start_time": "2022-02-22T14:22:24.009249",
     "status": "completed"
    },
    "tags": []
   },
   "outputs": [
    {
     "name": "stderr",
     "output_type": "stream",
     "text": [
      "/opt/conda/lib/python3.7/site-packages/ipykernel_launcher.py:14: SettingWithCopyWarning: \n",
      "A value is trying to be set on a copy of a slice from a DataFrame.\n",
      "Try using .loc[row_indexer,col_indexer] = value instead\n",
      "\n",
      "See the caveats in the documentation: https://pandas.pydata.org/pandas-docs/stable/user_guide/indexing.html#returning-a-view-versus-a-copy\n",
      "  \n",
      "/opt/conda/lib/python3.7/site-packages/ipykernel_launcher.py:15: SettingWithCopyWarning: \n",
      "A value is trying to be set on a copy of a slice from a DataFrame.\n",
      "Try using .loc[row_indexer,col_indexer] = value instead\n",
      "\n",
      "See the caveats in the documentation: https://pandas.pydata.org/pandas-docs/stable/user_guide/indexing.html#returning-a-view-versus-a-copy\n",
      "  from ipykernel import kernelapp as app\n",
      "/opt/conda/lib/python3.7/site-packages/ipykernel_launcher.py:16: SettingWithCopyWarning: \n",
      "A value is trying to be set on a copy of a slice from a DataFrame.\n",
      "Try using .loc[row_indexer,col_indexer] = value instead\n",
      "\n",
      "See the caveats in the documentation: https://pandas.pydata.org/pandas-docs/stable/user_guide/indexing.html#returning-a-view-versus-a-copy\n",
      "  app.launch_new_instance()\n"
     ]
    },
    {
     "data": {
      "text/html": [
       "<div>\n",
       "<style scoped>\n",
       "    .dataframe tbody tr th:only-of-type {\n",
       "        vertical-align: middle;\n",
       "    }\n",
       "\n",
       "    .dataframe tbody tr th {\n",
       "        vertical-align: top;\n",
       "    }\n",
       "\n",
       "    .dataframe thead th {\n",
       "        text-align: right;\n",
       "    }\n",
       "</style>\n",
       "<table border=\"1\" class=\"dataframe\">\n",
       "  <thead>\n",
       "    <tr style=\"text-align: right;\">\n",
       "      <th></th>\n",
       "      <th>title</th>\n",
       "      <th>vote_count</th>\n",
       "      <th>vote_average</th>\n",
       "      <th>year</th>\n",
       "      <th>wr</th>\n",
       "    </tr>\n",
       "  </thead>\n",
       "  <tbody>\n",
       "    <tr>\n",
       "      <th>7648</th>\n",
       "      <td>Inception</td>\n",
       "      <td>14075</td>\n",
       "      <td>8</td>\n",
       "      <td>2010</td>\n",
       "      <td>7.917588</td>\n",
       "    </tr>\n",
       "    <tr>\n",
       "      <th>8613</th>\n",
       "      <td>Interstellar</td>\n",
       "      <td>11187</td>\n",
       "      <td>8</td>\n",
       "      <td>2014</td>\n",
       "      <td>7.897107</td>\n",
       "    </tr>\n",
       "    <tr>\n",
       "      <th>6623</th>\n",
       "      <td>The Prestige</td>\n",
       "      <td>4510</td>\n",
       "      <td>8</td>\n",
       "      <td>2006</td>\n",
       "      <td>7.758148</td>\n",
       "    </tr>\n",
       "    <tr>\n",
       "      <th>3381</th>\n",
       "      <td>Memento</td>\n",
       "      <td>4168</td>\n",
       "      <td>8</td>\n",
       "      <td>2000</td>\n",
       "      <td>7.740175</td>\n",
       "    </tr>\n",
       "    <tr>\n",
       "      <th>8031</th>\n",
       "      <td>The Dark Knight Rises</td>\n",
       "      <td>9263</td>\n",
       "      <td>7</td>\n",
       "      <td>2012</td>\n",
       "      <td>6.921448</td>\n",
       "    </tr>\n",
       "    <tr>\n",
       "      <th>6218</th>\n",
       "      <td>Batman Begins</td>\n",
       "      <td>7511</td>\n",
       "      <td>7</td>\n",
       "      <td>2005</td>\n",
       "      <td>6.904127</td>\n",
       "    </tr>\n",
       "    <tr>\n",
       "      <th>1134</th>\n",
       "      <td>Batman Returns</td>\n",
       "      <td>1706</td>\n",
       "      <td>6</td>\n",
       "      <td>1992</td>\n",
       "      <td>5.846862</td>\n",
       "    </tr>\n",
       "    <tr>\n",
       "      <th>132</th>\n",
       "      <td>Batman Forever</td>\n",
       "      <td>1529</td>\n",
       "      <td>5</td>\n",
       "      <td>1995</td>\n",
       "      <td>5.054144</td>\n",
       "    </tr>\n",
       "    <tr>\n",
       "      <th>9024</th>\n",
       "      <td>Batman v Superman: Dawn of Justice</td>\n",
       "      <td>7189</td>\n",
       "      <td>5</td>\n",
       "      <td>2016</td>\n",
       "      <td>5.013943</td>\n",
       "    </tr>\n",
       "    <tr>\n",
       "      <th>1260</th>\n",
       "      <td>Batman &amp; Robin</td>\n",
       "      <td>1447</td>\n",
       "      <td>4</td>\n",
       "      <td>1997</td>\n",
       "      <td>4.287233</td>\n",
       "    </tr>\n",
       "  </tbody>\n",
       "</table>\n",
       "</div>"
      ],
      "text/plain": [
       "                                   title  vote_count  vote_average  year  \\\n",
       "7648                           Inception       14075             8  2010   \n",
       "8613                        Interstellar       11187             8  2014   \n",
       "6623                        The Prestige        4510             8  2006   \n",
       "3381                             Memento        4168             8  2000   \n",
       "8031               The Dark Knight Rises        9263             7  2012   \n",
       "6218                       Batman Begins        7511             7  2005   \n",
       "1134                      Batman Returns        1706             6  1992   \n",
       "132                       Batman Forever        1529             5  1995   \n",
       "9024  Batman v Superman: Dawn of Justice        7189             5  2016   \n",
       "1260                      Batman & Robin        1447             4  1997   \n",
       "\n",
       "            wr  \n",
       "7648  7.917588  \n",
       "8613  7.897107  \n",
       "6623  7.758148  \n",
       "3381  7.740175  \n",
       "8031  6.921448  \n",
       "6218  6.904127  \n",
       "1134  5.846862  \n",
       "132   5.054144  \n",
       "9024  5.013943  \n",
       "1260  4.287233  "
      ]
     },
     "execution_count": 52,
     "metadata": {},
     "output_type": "execute_result"
    }
   ],
   "source": [
    "improved_recommendations('The Dark Knight')\n"
   ]
  },
  {
   "cell_type": "code",
   "execution_count": 53,
   "id": "312828c9",
   "metadata": {
    "execution": {
     "iopub.execute_input": "2022-02-22T14:22:24.229117Z",
     "iopub.status.busy": "2022-02-22T14:22:24.228494Z",
     "iopub.status.idle": "2022-02-22T14:22:24.231275Z",
     "shell.execute_reply": "2022-02-22T14:22:24.231756Z",
     "shell.execute_reply.started": "2022-02-22T14:08:39.851869Z"
    },
    "papermill": {
     "duration": 0.068734,
     "end_time": "2022-02-22T14:22:24.231916",
     "exception": false,
     "start_time": "2022-02-22T14:22:24.163182",
     "status": "completed"
    },
    "tags": []
   },
   "outputs": [],
   "source": [
    "#COLLABORATIVE FILTERING "
   ]
  },
  {
   "cell_type": "code",
   "execution_count": 54,
   "id": "72e5fcea",
   "metadata": {
    "execution": {
     "iopub.execute_input": "2022-02-22T14:22:24.361060Z",
     "iopub.status.busy": "2022-02-22T14:22:24.360148Z",
     "iopub.status.idle": "2022-02-22T14:22:24.363880Z",
     "shell.execute_reply": "2022-02-22T14:22:24.364404Z",
     "shell.execute_reply.started": "2022-02-22T14:08:39.858669Z"
    },
    "papermill": {
     "duration": 0.070195,
     "end_time": "2022-02-22T14:22:24.364567",
     "exception": false,
     "start_time": "2022-02-22T14:22:24.294372",
     "status": "completed"
    },
    "tags": []
   },
   "outputs": [],
   "source": [
    "reader = Reader()"
   ]
  },
  {
   "cell_type": "code",
   "execution_count": 55,
   "id": "617aa75b",
   "metadata": {
    "execution": {
     "iopub.execute_input": "2022-02-22T14:22:24.493729Z",
     "iopub.status.busy": "2022-02-22T14:22:24.492834Z",
     "iopub.status.idle": "2022-02-22T14:22:24.579376Z",
     "shell.execute_reply": "2022-02-22T14:22:24.578846Z",
     "shell.execute_reply.started": "2022-02-22T14:09:23.822526Z"
    },
    "papermill": {
     "duration": 0.151375,
     "end_time": "2022-02-22T14:22:24.579576",
     "exception": false,
     "start_time": "2022-02-22T14:22:24.428201",
     "status": "completed"
    },
    "tags": []
   },
   "outputs": [
    {
     "data": {
      "text/html": [
       "<div>\n",
       "<style scoped>\n",
       "    .dataframe tbody tr th:only-of-type {\n",
       "        vertical-align: middle;\n",
       "    }\n",
       "\n",
       "    .dataframe tbody tr th {\n",
       "        vertical-align: top;\n",
       "    }\n",
       "\n",
       "    .dataframe thead th {\n",
       "        text-align: right;\n",
       "    }\n",
       "</style>\n",
       "<table border=\"1\" class=\"dataframe\">\n",
       "  <thead>\n",
       "    <tr style=\"text-align: right;\">\n",
       "      <th></th>\n",
       "      <th>userId</th>\n",
       "      <th>movieId</th>\n",
       "      <th>rating</th>\n",
       "      <th>timestamp</th>\n",
       "    </tr>\n",
       "  </thead>\n",
       "  <tbody>\n",
       "    <tr>\n",
       "      <th>0</th>\n",
       "      <td>1</td>\n",
       "      <td>31</td>\n",
       "      <td>2.5</td>\n",
       "      <td>1260759144</td>\n",
       "    </tr>\n",
       "    <tr>\n",
       "      <th>1</th>\n",
       "      <td>1</td>\n",
       "      <td>1029</td>\n",
       "      <td>3.0</td>\n",
       "      <td>1260759179</td>\n",
       "    </tr>\n",
       "    <tr>\n",
       "      <th>2</th>\n",
       "      <td>1</td>\n",
       "      <td>1061</td>\n",
       "      <td>3.0</td>\n",
       "      <td>1260759182</td>\n",
       "    </tr>\n",
       "    <tr>\n",
       "      <th>3</th>\n",
       "      <td>1</td>\n",
       "      <td>1129</td>\n",
       "      <td>2.0</td>\n",
       "      <td>1260759185</td>\n",
       "    </tr>\n",
       "    <tr>\n",
       "      <th>4</th>\n",
       "      <td>1</td>\n",
       "      <td>1172</td>\n",
       "      <td>4.0</td>\n",
       "      <td>1260759205</td>\n",
       "    </tr>\n",
       "  </tbody>\n",
       "</table>\n",
       "</div>"
      ],
      "text/plain": [
       "   userId  movieId  rating   timestamp\n",
       "0       1       31     2.5  1260759144\n",
       "1       1     1029     3.0  1260759179\n",
       "2       1     1061     3.0  1260759182\n",
       "3       1     1129     2.0  1260759185\n",
       "4       1     1172     4.0  1260759205"
      ]
     },
     "execution_count": 55,
     "metadata": {},
     "output_type": "execute_result"
    }
   ],
   "source": [
    "ratings = pd.read_csv('../input/moviesdataset/ratings_small.csv')\n",
    "ratings.head()"
   ]
  },
  {
   "cell_type": "code",
   "execution_count": 56,
   "id": "8dbbf52f",
   "metadata": {
    "execution": {
     "iopub.execute_input": "2022-02-22T14:22:24.711446Z",
     "iopub.status.busy": "2022-02-22T14:22:24.710823Z",
     "iopub.status.idle": "2022-02-22T14:22:24.798322Z",
     "shell.execute_reply": "2022-02-22T14:22:24.797764Z",
     "shell.execute_reply.started": "2022-02-22T14:09:26.261803Z"
    },
    "papermill": {
     "duration": 0.154027,
     "end_time": "2022-02-22T14:22:24.798487",
     "exception": false,
     "start_time": "2022-02-22T14:22:24.644460",
     "status": "completed"
    },
    "tags": []
   },
   "outputs": [],
   "source": [
    "data = Dataset.load_from_df(ratings[['userId', 'movieId', 'rating']], reader)\n"
   ]
  },
  {
   "cell_type": "code",
   "execution_count": 57,
   "id": "cf10940c",
   "metadata": {
    "execution": {
     "iopub.execute_input": "2022-02-22T14:22:24.930209Z",
     "iopub.status.busy": "2022-02-22T14:22:24.929602Z",
     "iopub.status.idle": "2022-02-22T14:23:21.854508Z",
     "shell.execute_reply": "2022-02-22T14:23:21.853363Z",
     "shell.execute_reply.started": "2022-02-22T14:10:00.205087Z"
    },
    "papermill": {
     "duration": 56.991875,
     "end_time": "2022-02-22T14:23:21.854892",
     "exception": false,
     "start_time": "2022-02-22T14:22:24.863017",
     "status": "completed"
    },
    "tags": []
   },
   "outputs": [
    {
     "name": "stdout",
     "output_type": "stream",
     "text": [
      "Evaluating RMSE, MAE of algorithm SVD on 10 split(s).\n",
      "\n",
      "                  Fold 1  Fold 2  Fold 3  Fold 4  Fold 5  Fold 6  Fold 7  Fold 8  Fold 9  Fold 10 Mean    Std     \n",
      "RMSE (testset)    0.8981  0.8846  0.8908  0.8955  0.8974  0.8751  0.9006  0.8915  0.8913  0.8914  0.8916  0.0070  \n",
      "MAE (testset)     0.6881  0.6778  0.6863  0.6856  0.6902  0.6762  0.6931  0.6849  0.6864  0.6884  0.6857  0.0049  \n",
      "Fit time          5.29    5.94    5.43    5.38    5.33    5.36    5.34    5.39    5.36    5.44    5.43    0.18    \n",
      "Test time         0.07    0.07    0.07    0.08    0.07    0.07    0.32    0.07    0.06    0.07    0.09    0.08    \n"
     ]
    },
    {
     "data": {
      "text/plain": [
       "{'test_rmse': array([0.89811508, 0.88460955, 0.89076339, 0.89548397, 0.89739208,\n",
       "        0.87513375, 0.90056005, 0.89148512, 0.8913097 , 0.89143332]),\n",
       " 'test_mae': array([0.68812238, 0.67783711, 0.68634255, 0.68555872, 0.6901954 ,\n",
       "        0.67620436, 0.69309874, 0.68486261, 0.68636472, 0.68835107]),\n",
       " 'fit_time': (5.288068056106567,\n",
       "  5.93822979927063,\n",
       "  5.433767557144165,\n",
       "  5.377749443054199,\n",
       "  5.330099582672119,\n",
       "  5.355120897293091,\n",
       "  5.340521812438965,\n",
       "  5.388655424118042,\n",
       "  5.361162185668945,\n",
       "  5.438538312911987),\n",
       " 'test_time': (0.0668792724609375,\n",
       "  0.06926560401916504,\n",
       "  0.06822085380554199,\n",
       "  0.07842516899108887,\n",
       "  0.06614375114440918,\n",
       "  0.06779813766479492,\n",
       "  0.3220651149749756,\n",
       "  0.06653833389282227,\n",
       "  0.06496238708496094,\n",
       "  0.06660938262939453)}"
      ]
     },
     "execution_count": 57,
     "metadata": {},
     "output_type": "execute_result"
    }
   ],
   "source": [
    "svd = SVD()\n",
    "cross_validate(svd, data, measures=['RMSE', 'MAE'], cv=10,verbose=True)\n",
    "\n"
   ]
  },
  {
   "cell_type": "code",
   "execution_count": 58,
   "id": "ad3ccdc6",
   "metadata": {
    "execution": {
     "iopub.execute_input": "2022-02-22T14:23:21.987963Z",
     "iopub.status.busy": "2022-02-22T14:23:21.987014Z",
     "iopub.status.idle": "2022-02-22T14:23:27.725020Z",
     "shell.execute_reply": "2022-02-22T14:23:27.724344Z",
     "shell.execute_reply.started": "2022-02-22T14:13:40.867864Z"
    },
    "papermill": {
     "duration": 5.805102,
     "end_time": "2022-02-22T14:23:27.725154",
     "exception": false,
     "start_time": "2022-02-22T14:23:21.920052",
     "status": "completed"
    },
    "tags": []
   },
   "outputs": [
    {
     "data": {
      "text/plain": [
       "<surprise.prediction_algorithms.matrix_factorization.SVD at 0x7fbd07d79210>"
      ]
     },
     "execution_count": 58,
     "metadata": {},
     "output_type": "execute_result"
    }
   ],
   "source": [
    "trainset = data.build_full_trainset()\n",
    "svd.fit(trainset)"
   ]
  },
  {
   "cell_type": "code",
   "execution_count": 59,
   "id": "2f5c1465",
   "metadata": {
    "execution": {
     "iopub.execute_input": "2022-02-22T14:23:27.864595Z",
     "iopub.status.busy": "2022-02-22T14:23:27.863857Z",
     "iopub.status.idle": "2022-02-22T14:23:27.877715Z",
     "shell.execute_reply": "2022-02-22T14:23:27.878135Z",
     "shell.execute_reply.started": "2022-02-22T14:13:55.936719Z"
    },
    "papermill": {
     "duration": 0.085147,
     "end_time": "2022-02-22T14:23:27.878336",
     "exception": false,
     "start_time": "2022-02-22T14:23:27.793189",
     "status": "completed"
    },
    "tags": []
   },
   "outputs": [
    {
     "data": {
      "text/html": [
       "<div>\n",
       "<style scoped>\n",
       "    .dataframe tbody tr th:only-of-type {\n",
       "        vertical-align: middle;\n",
       "    }\n",
       "\n",
       "    .dataframe tbody tr th {\n",
       "        vertical-align: top;\n",
       "    }\n",
       "\n",
       "    .dataframe thead th {\n",
       "        text-align: right;\n",
       "    }\n",
       "</style>\n",
       "<table border=\"1\" class=\"dataframe\">\n",
       "  <thead>\n",
       "    <tr style=\"text-align: right;\">\n",
       "      <th></th>\n",
       "      <th>userId</th>\n",
       "      <th>movieId</th>\n",
       "      <th>rating</th>\n",
       "      <th>timestamp</th>\n",
       "    </tr>\n",
       "  </thead>\n",
       "  <tbody>\n",
       "    <tr>\n",
       "      <th>0</th>\n",
       "      <td>1</td>\n",
       "      <td>31</td>\n",
       "      <td>2.5</td>\n",
       "      <td>1260759144</td>\n",
       "    </tr>\n",
       "    <tr>\n",
       "      <th>1</th>\n",
       "      <td>1</td>\n",
       "      <td>1029</td>\n",
       "      <td>3.0</td>\n",
       "      <td>1260759179</td>\n",
       "    </tr>\n",
       "    <tr>\n",
       "      <th>2</th>\n",
       "      <td>1</td>\n",
       "      <td>1061</td>\n",
       "      <td>3.0</td>\n",
       "      <td>1260759182</td>\n",
       "    </tr>\n",
       "    <tr>\n",
       "      <th>3</th>\n",
       "      <td>1</td>\n",
       "      <td>1129</td>\n",
       "      <td>2.0</td>\n",
       "      <td>1260759185</td>\n",
       "    </tr>\n",
       "    <tr>\n",
       "      <th>4</th>\n",
       "      <td>1</td>\n",
       "      <td>1172</td>\n",
       "      <td>4.0</td>\n",
       "      <td>1260759205</td>\n",
       "    </tr>\n",
       "    <tr>\n",
       "      <th>5</th>\n",
       "      <td>1</td>\n",
       "      <td>1263</td>\n",
       "      <td>2.0</td>\n",
       "      <td>1260759151</td>\n",
       "    </tr>\n",
       "    <tr>\n",
       "      <th>6</th>\n",
       "      <td>1</td>\n",
       "      <td>1287</td>\n",
       "      <td>2.0</td>\n",
       "      <td>1260759187</td>\n",
       "    </tr>\n",
       "    <tr>\n",
       "      <th>7</th>\n",
       "      <td>1</td>\n",
       "      <td>1293</td>\n",
       "      <td>2.0</td>\n",
       "      <td>1260759148</td>\n",
       "    </tr>\n",
       "    <tr>\n",
       "      <th>8</th>\n",
       "      <td>1</td>\n",
       "      <td>1339</td>\n",
       "      <td>3.5</td>\n",
       "      <td>1260759125</td>\n",
       "    </tr>\n",
       "    <tr>\n",
       "      <th>9</th>\n",
       "      <td>1</td>\n",
       "      <td>1343</td>\n",
       "      <td>2.0</td>\n",
       "      <td>1260759131</td>\n",
       "    </tr>\n",
       "    <tr>\n",
       "      <th>10</th>\n",
       "      <td>1</td>\n",
       "      <td>1371</td>\n",
       "      <td>2.5</td>\n",
       "      <td>1260759135</td>\n",
       "    </tr>\n",
       "    <tr>\n",
       "      <th>11</th>\n",
       "      <td>1</td>\n",
       "      <td>1405</td>\n",
       "      <td>1.0</td>\n",
       "      <td>1260759203</td>\n",
       "    </tr>\n",
       "    <tr>\n",
       "      <th>12</th>\n",
       "      <td>1</td>\n",
       "      <td>1953</td>\n",
       "      <td>4.0</td>\n",
       "      <td>1260759191</td>\n",
       "    </tr>\n",
       "    <tr>\n",
       "      <th>13</th>\n",
       "      <td>1</td>\n",
       "      <td>2105</td>\n",
       "      <td>4.0</td>\n",
       "      <td>1260759139</td>\n",
       "    </tr>\n",
       "    <tr>\n",
       "      <th>14</th>\n",
       "      <td>1</td>\n",
       "      <td>2150</td>\n",
       "      <td>3.0</td>\n",
       "      <td>1260759194</td>\n",
       "    </tr>\n",
       "    <tr>\n",
       "      <th>15</th>\n",
       "      <td>1</td>\n",
       "      <td>2193</td>\n",
       "      <td>2.0</td>\n",
       "      <td>1260759198</td>\n",
       "    </tr>\n",
       "    <tr>\n",
       "      <th>16</th>\n",
       "      <td>1</td>\n",
       "      <td>2294</td>\n",
       "      <td>2.0</td>\n",
       "      <td>1260759108</td>\n",
       "    </tr>\n",
       "    <tr>\n",
       "      <th>17</th>\n",
       "      <td>1</td>\n",
       "      <td>2455</td>\n",
       "      <td>2.5</td>\n",
       "      <td>1260759113</td>\n",
       "    </tr>\n",
       "    <tr>\n",
       "      <th>18</th>\n",
       "      <td>1</td>\n",
       "      <td>2968</td>\n",
       "      <td>1.0</td>\n",
       "      <td>1260759200</td>\n",
       "    </tr>\n",
       "    <tr>\n",
       "      <th>19</th>\n",
       "      <td>1</td>\n",
       "      <td>3671</td>\n",
       "      <td>3.0</td>\n",
       "      <td>1260759117</td>\n",
       "    </tr>\n",
       "  </tbody>\n",
       "</table>\n",
       "</div>"
      ],
      "text/plain": [
       "    userId  movieId  rating   timestamp\n",
       "0        1       31     2.5  1260759144\n",
       "1        1     1029     3.0  1260759179\n",
       "2        1     1061     3.0  1260759182\n",
       "3        1     1129     2.0  1260759185\n",
       "4        1     1172     4.0  1260759205\n",
       "5        1     1263     2.0  1260759151\n",
       "6        1     1287     2.0  1260759187\n",
       "7        1     1293     2.0  1260759148\n",
       "8        1     1339     3.5  1260759125\n",
       "9        1     1343     2.0  1260759131\n",
       "10       1     1371     2.5  1260759135\n",
       "11       1     1405     1.0  1260759203\n",
       "12       1     1953     4.0  1260759191\n",
       "13       1     2105     4.0  1260759139\n",
       "14       1     2150     3.0  1260759194\n",
       "15       1     2193     2.0  1260759198\n",
       "16       1     2294     2.0  1260759108\n",
       "17       1     2455     2.5  1260759113\n",
       "18       1     2968     1.0  1260759200\n",
       "19       1     3671     3.0  1260759117"
      ]
     },
     "execution_count": 59,
     "metadata": {},
     "output_type": "execute_result"
    }
   ],
   "source": [
    "ratings[ratings['userId'] == 1]"
   ]
  },
  {
   "cell_type": "code",
   "execution_count": 60,
   "id": "26575c68",
   "metadata": {
    "execution": {
     "iopub.execute_input": "2022-02-22T14:23:28.024549Z",
     "iopub.status.busy": "2022-02-22T14:23:28.023856Z",
     "iopub.status.idle": "2022-02-22T14:23:28.028808Z",
     "shell.execute_reply": "2022-02-22T14:23:28.029544Z",
     "shell.execute_reply.started": "2022-02-22T14:14:00.144095Z"
    },
    "papermill": {
     "duration": 0.081538,
     "end_time": "2022-02-22T14:23:28.029714",
     "exception": false,
     "start_time": "2022-02-22T14:23:27.948176",
     "status": "completed"
    },
    "tags": []
   },
   "outputs": [
    {
     "data": {
      "text/plain": [
       "Prediction(uid=1, iid=302, r_ui=3, est=2.853407807207372, details={'was_impossible': False})"
      ]
     },
     "execution_count": 60,
     "metadata": {},
     "output_type": "execute_result"
    }
   ],
   "source": [
    "svd.predict(1, 302, 3)"
   ]
  },
  {
   "cell_type": "code",
   "execution_count": 61,
   "id": "0a94b39a",
   "metadata": {
    "execution": {
     "iopub.execute_input": "2022-02-22T14:23:28.165174Z",
     "iopub.status.busy": "2022-02-22T14:23:28.164606Z",
     "iopub.status.idle": "2022-02-22T14:23:28.167140Z",
     "shell.execute_reply": "2022-02-22T14:23:28.167708Z",
     "shell.execute_reply.started": "2022-02-22T14:15:22.262252Z"
    },
    "papermill": {
     "duration": 0.070861,
     "end_time": "2022-02-22T14:23:28.167860",
     "exception": false,
     "start_time": "2022-02-22T14:23:28.096999",
     "status": "completed"
    },
    "tags": []
   },
   "outputs": [],
   "source": [
    "#HYBRID RECOMMENDER"
   ]
  },
  {
   "cell_type": "code",
   "execution_count": 62,
   "id": "a2c13577",
   "metadata": {
    "execution": {
     "iopub.execute_input": "2022-02-22T14:23:28.303893Z",
     "iopub.status.busy": "2022-02-22T14:23:28.303320Z",
     "iopub.status.idle": "2022-02-22T14:23:28.307318Z",
     "shell.execute_reply": "2022-02-22T14:23:28.307828Z",
     "shell.execute_reply.started": "2022-02-22T14:15:26.064705Z"
    },
    "papermill": {
     "duration": 0.072298,
     "end_time": "2022-02-22T14:23:28.307991",
     "exception": false,
     "start_time": "2022-02-22T14:23:28.235693",
     "status": "completed"
    },
    "tags": []
   },
   "outputs": [],
   "source": [
    "def convert_int(x):\n",
    "    try:\n",
    "        return int(x)\n",
    "    except:\n",
    "        return np.nan"
   ]
  },
  {
   "cell_type": "code",
   "execution_count": 63,
   "id": "4b31f152",
   "metadata": {
    "execution": {
     "iopub.execute_input": "2022-02-22T14:23:28.442765Z",
     "iopub.status.busy": "2022-02-22T14:23:28.442143Z",
     "iopub.status.idle": "2022-02-22T14:23:28.470334Z",
     "shell.execute_reply": "2022-02-22T14:23:28.469850Z",
     "shell.execute_reply.started": "2022-02-22T14:20:22.198376Z"
    },
    "papermill": {
     "duration": 0.097482,
     "end_time": "2022-02-22T14:23:28.470515",
     "exception": false,
     "start_time": "2022-02-22T14:23:28.373033",
     "status": "completed"
    },
    "tags": []
   },
   "outputs": [],
   "source": [
    "id_map = pd.read_csv('../input/moviesdataset/links_small.csv')[['movieId', 'tmdbId']]\n",
    "id_map['tmdbId'] = id_map['tmdbId'].apply(convert_int)\n",
    "id_map.columns = ['movieId', 'id']\n",
    "id_map = id_map.merge(smd[['title', 'id']], on='id').set_index('title')\n",
    "#id_map = id_map.set_index('tmdbId')"
   ]
  },
  {
   "cell_type": "code",
   "execution_count": 64,
   "id": "69a4b442",
   "metadata": {
    "execution": {
     "iopub.execute_input": "2022-02-22T14:23:28.605509Z",
     "iopub.status.busy": "2022-02-22T14:23:28.604889Z",
     "iopub.status.idle": "2022-02-22T14:23:28.609068Z",
     "shell.execute_reply": "2022-02-22T14:23:28.609614Z",
     "shell.execute_reply.started": "2022-02-22T14:20:31.678828Z"
    },
    "papermill": {
     "duration": 0.072499,
     "end_time": "2022-02-22T14:23:28.609778",
     "exception": false,
     "start_time": "2022-02-22T14:23:28.537279",
     "status": "completed"
    },
    "tags": []
   },
   "outputs": [],
   "source": [
    "indices_map = id_map.set_index('id')"
   ]
  },
  {
   "cell_type": "code",
   "execution_count": 65,
   "id": "e6b5be41",
   "metadata": {
    "execution": {
     "iopub.execute_input": "2022-02-22T14:23:28.747775Z",
     "iopub.status.busy": "2022-02-22T14:23:28.747085Z",
     "iopub.status.idle": "2022-02-22T14:23:28.754554Z",
     "shell.execute_reply": "2022-02-22T14:23:28.755067Z",
     "shell.execute_reply.started": "2022-02-22T14:20:45.409734Z"
    },
    "papermill": {
     "duration": 0.080046,
     "end_time": "2022-02-22T14:23:28.755220",
     "exception": false,
     "start_time": "2022-02-22T14:23:28.675174",
     "status": "completed"
    },
    "tags": []
   },
   "outputs": [],
   "source": [
    "def hybrid(userId, title):\n",
    "    idx = indices[title]\n",
    "    tmdbId = id_map.loc[title]['id']\n",
    "    #print(idx)\n",
    "    movie_id = id_map.loc[title]['movieId']\n",
    "    \n",
    "    sim_scores = list(enumerate(cosine_sim[int(idx)]))\n",
    "    sim_scores = sorted(sim_scores, key=lambda x: x[1], reverse=True)\n",
    "    sim_scores = sim_scores[1:26]\n",
    "    movie_indices = [i[0] for i in sim_scores]\n",
    "    \n",
    "    movies = smd.iloc[movie_indices][['title', 'vote_count', 'vote_average', 'year', 'id']]\n",
    "    movies['est'] = movies['id'].apply(lambda x: svd.predict(userId, indices_map.loc[x]['movieId']).est)\n",
    "    movies = movies.sort_values('est', ascending=False)\n",
    "    return movies.head(10)"
   ]
  },
  {
   "cell_type": "code",
   "execution_count": 66,
   "id": "8bdb737c",
   "metadata": {
    "execution": {
     "iopub.execute_input": "2022-02-22T14:23:28.887417Z",
     "iopub.status.busy": "2022-02-22T14:23:28.886864Z",
     "iopub.status.idle": "2022-02-22T14:23:28.919703Z",
     "shell.execute_reply": "2022-02-22T14:23:28.920268Z",
     "shell.execute_reply.started": "2022-02-22T14:20:54.607375Z"
    },
    "papermill": {
     "duration": 0.10056,
     "end_time": "2022-02-22T14:23:28.920477",
     "exception": false,
     "start_time": "2022-02-22T14:23:28.819917",
     "status": "completed"
    },
    "tags": []
   },
   "outputs": [
    {
     "data": {
      "text/html": [
       "<div>\n",
       "<style scoped>\n",
       "    .dataframe tbody tr th:only-of-type {\n",
       "        vertical-align: middle;\n",
       "    }\n",
       "\n",
       "    .dataframe tbody tr th {\n",
       "        vertical-align: top;\n",
       "    }\n",
       "\n",
       "    .dataframe thead th {\n",
       "        text-align: right;\n",
       "    }\n",
       "</style>\n",
       "<table border=\"1\" class=\"dataframe\">\n",
       "  <thead>\n",
       "    <tr style=\"text-align: right;\">\n",
       "      <th></th>\n",
       "      <th>title</th>\n",
       "      <th>vote_count</th>\n",
       "      <th>vote_average</th>\n",
       "      <th>year</th>\n",
       "      <th>id</th>\n",
       "      <th>est</th>\n",
       "    </tr>\n",
       "  </thead>\n",
       "  <tbody>\n",
       "    <tr>\n",
       "      <th>522</th>\n",
       "      <td>Terminator 2: Judgment Day</td>\n",
       "      <td>4274.0</td>\n",
       "      <td>7.7</td>\n",
       "      <td>1991</td>\n",
       "      <td>280</td>\n",
       "      <td>3.108137</td>\n",
       "    </tr>\n",
       "    <tr>\n",
       "      <th>974</th>\n",
       "      <td>Aliens</td>\n",
       "      <td>3282.0</td>\n",
       "      <td>7.7</td>\n",
       "      <td>1986</td>\n",
       "      <td>679</td>\n",
       "      <td>3.099417</td>\n",
       "    </tr>\n",
       "    <tr>\n",
       "      <th>8401</th>\n",
       "      <td>Star Trek Into Darkness</td>\n",
       "      <td>4479.0</td>\n",
       "      <td>7.4</td>\n",
       "      <td>2013</td>\n",
       "      <td>54138</td>\n",
       "      <td>3.027119</td>\n",
       "    </tr>\n",
       "    <tr>\n",
       "      <th>1011</th>\n",
       "      <td>The Terminator</td>\n",
       "      <td>4208.0</td>\n",
       "      <td>7.4</td>\n",
       "      <td>1984</td>\n",
       "      <td>218</td>\n",
       "      <td>3.010625</td>\n",
       "    </tr>\n",
       "    <tr>\n",
       "      <th>2014</th>\n",
       "      <td>Fantastic Planet</td>\n",
       "      <td>140.0</td>\n",
       "      <td>7.6</td>\n",
       "      <td>1973</td>\n",
       "      <td>16306</td>\n",
       "      <td>2.998748</td>\n",
       "    </tr>\n",
       "    <tr>\n",
       "      <th>8658</th>\n",
       "      <td>X-Men: Days of Future Past</td>\n",
       "      <td>6155.0</td>\n",
       "      <td>7.5</td>\n",
       "      <td>2014</td>\n",
       "      <td>127585</td>\n",
       "      <td>2.993562</td>\n",
       "    </tr>\n",
       "    <tr>\n",
       "      <th>922</th>\n",
       "      <td>The Abyss</td>\n",
       "      <td>822.0</td>\n",
       "      <td>7.1</td>\n",
       "      <td>1989</td>\n",
       "      <td>2756</td>\n",
       "      <td>2.887900</td>\n",
       "    </tr>\n",
       "    <tr>\n",
       "      <th>1668</th>\n",
       "      <td>Return from Witch Mountain</td>\n",
       "      <td>38.0</td>\n",
       "      <td>5.6</td>\n",
       "      <td>1978</td>\n",
       "      <td>14822</td>\n",
       "      <td>2.866850</td>\n",
       "    </tr>\n",
       "    <tr>\n",
       "      <th>1376</th>\n",
       "      <td>Titanic</td>\n",
       "      <td>7770.0</td>\n",
       "      <td>7.5</td>\n",
       "      <td>1997</td>\n",
       "      <td>597</td>\n",
       "      <td>2.838130</td>\n",
       "    </tr>\n",
       "    <tr>\n",
       "      <th>3060</th>\n",
       "      <td>Sinbad and the Eye of the Tiger</td>\n",
       "      <td>39.0</td>\n",
       "      <td>6.3</td>\n",
       "      <td>1977</td>\n",
       "      <td>11940</td>\n",
       "      <td>2.812644</td>\n",
       "    </tr>\n",
       "  </tbody>\n",
       "</table>\n",
       "</div>"
      ],
      "text/plain": [
       "                                title  vote_count  vote_average  year      id  \\\n",
       "522        Terminator 2: Judgment Day      4274.0           7.7  1991     280   \n",
       "974                            Aliens      3282.0           7.7  1986     679   \n",
       "8401          Star Trek Into Darkness      4479.0           7.4  2013   54138   \n",
       "1011                   The Terminator      4208.0           7.4  1984     218   \n",
       "2014                 Fantastic Planet       140.0           7.6  1973   16306   \n",
       "8658       X-Men: Days of Future Past      6155.0           7.5  2014  127585   \n",
       "922                         The Abyss       822.0           7.1  1989    2756   \n",
       "1668       Return from Witch Mountain        38.0           5.6  1978   14822   \n",
       "1376                          Titanic      7770.0           7.5  1997     597   \n",
       "3060  Sinbad and the Eye of the Tiger        39.0           6.3  1977   11940   \n",
       "\n",
       "           est  \n",
       "522   3.108137  \n",
       "974   3.099417  \n",
       "8401  3.027119  \n",
       "1011  3.010625  \n",
       "2014  2.998748  \n",
       "8658  2.993562  \n",
       "922   2.887900  \n",
       "1668  2.866850  \n",
       "1376  2.838130  \n",
       "3060  2.812644  "
      ]
     },
     "execution_count": 66,
     "metadata": {},
     "output_type": "execute_result"
    }
   ],
   "source": [
    "hybrid(1, 'Avatar')"
   ]
  },
  {
   "cell_type": "code",
   "execution_count": 67,
   "id": "1e00f44c",
   "metadata": {
    "execution": {
     "iopub.execute_input": "2022-02-22T14:23:29.071620Z",
     "iopub.status.busy": "2022-02-22T14:23:29.070987Z",
     "iopub.status.idle": "2022-02-22T14:23:29.097644Z",
     "shell.execute_reply": "2022-02-22T14:23:29.098169Z",
     "shell.execute_reply.started": "2022-02-22T14:21:05.735673Z"
    },
    "papermill": {
     "duration": 0.099372,
     "end_time": "2022-02-22T14:23:29.098324",
     "exception": false,
     "start_time": "2022-02-22T14:23:28.998952",
     "status": "completed"
    },
    "tags": []
   },
   "outputs": [
    {
     "data": {
      "text/html": [
       "<div>\n",
       "<style scoped>\n",
       "    .dataframe tbody tr th:only-of-type {\n",
       "        vertical-align: middle;\n",
       "    }\n",
       "\n",
       "    .dataframe tbody tr th {\n",
       "        vertical-align: top;\n",
       "    }\n",
       "\n",
       "    .dataframe thead th {\n",
       "        text-align: right;\n",
       "    }\n",
       "</style>\n",
       "<table border=\"1\" class=\"dataframe\">\n",
       "  <thead>\n",
       "    <tr style=\"text-align: right;\">\n",
       "      <th></th>\n",
       "      <th>title</th>\n",
       "      <th>vote_count</th>\n",
       "      <th>vote_average</th>\n",
       "      <th>year</th>\n",
       "      <th>id</th>\n",
       "      <th>est</th>\n",
       "    </tr>\n",
       "  </thead>\n",
       "  <tbody>\n",
       "    <tr>\n",
       "      <th>974</th>\n",
       "      <td>Aliens</td>\n",
       "      <td>3282.0</td>\n",
       "      <td>7.7</td>\n",
       "      <td>1986</td>\n",
       "      <td>679</td>\n",
       "      <td>3.459602</td>\n",
       "    </tr>\n",
       "    <tr>\n",
       "      <th>3060</th>\n",
       "      <td>Sinbad and the Eye of the Tiger</td>\n",
       "      <td>39.0</td>\n",
       "      <td>6.3</td>\n",
       "      <td>1977</td>\n",
       "      <td>11940</td>\n",
       "      <td>3.370969</td>\n",
       "    </tr>\n",
       "    <tr>\n",
       "      <th>1376</th>\n",
       "      <td>Titanic</td>\n",
       "      <td>7770.0</td>\n",
       "      <td>7.5</td>\n",
       "      <td>1997</td>\n",
       "      <td>597</td>\n",
       "      <td>3.245576</td>\n",
       "    </tr>\n",
       "    <tr>\n",
       "      <th>8401</th>\n",
       "      <td>Star Trek Into Darkness</td>\n",
       "      <td>4479.0</td>\n",
       "      <td>7.4</td>\n",
       "      <td>2013</td>\n",
       "      <td>54138</td>\n",
       "      <td>3.183207</td>\n",
       "    </tr>\n",
       "    <tr>\n",
       "      <th>2014</th>\n",
       "      <td>Fantastic Planet</td>\n",
       "      <td>140.0</td>\n",
       "      <td>7.6</td>\n",
       "      <td>1973</td>\n",
       "      <td>16306</td>\n",
       "      <td>3.099541</td>\n",
       "    </tr>\n",
       "    <tr>\n",
       "      <th>344</th>\n",
       "      <td>True Lies</td>\n",
       "      <td>1138.0</td>\n",
       "      <td>6.8</td>\n",
       "      <td>1994</td>\n",
       "      <td>36955</td>\n",
       "      <td>3.083347</td>\n",
       "    </tr>\n",
       "    <tr>\n",
       "      <th>1668</th>\n",
       "      <td>Return from Witch Mountain</td>\n",
       "      <td>38.0</td>\n",
       "      <td>5.6</td>\n",
       "      <td>1978</td>\n",
       "      <td>14822</td>\n",
       "      <td>3.075853</td>\n",
       "    </tr>\n",
       "    <tr>\n",
       "      <th>1621</th>\n",
       "      <td>Darby O'Gill and the Little People</td>\n",
       "      <td>35.0</td>\n",
       "      <td>6.7</td>\n",
       "      <td>1959</td>\n",
       "      <td>18887</td>\n",
       "      <td>3.066523</td>\n",
       "    </tr>\n",
       "    <tr>\n",
       "      <th>831</th>\n",
       "      <td>Escape to Witch Mountain</td>\n",
       "      <td>60.0</td>\n",
       "      <td>6.5</td>\n",
       "      <td>1975</td>\n",
       "      <td>14821</td>\n",
       "      <td>3.054652</td>\n",
       "    </tr>\n",
       "    <tr>\n",
       "      <th>522</th>\n",
       "      <td>Terminator 2: Judgment Day</td>\n",
       "      <td>4274.0</td>\n",
       "      <td>7.7</td>\n",
       "      <td>1991</td>\n",
       "      <td>280</td>\n",
       "      <td>3.041757</td>\n",
       "    </tr>\n",
       "  </tbody>\n",
       "</table>\n",
       "</div>"
      ],
      "text/plain": [
       "                                   title  vote_count  vote_average  year  \\\n",
       "974                               Aliens      3282.0           7.7  1986   \n",
       "3060     Sinbad and the Eye of the Tiger        39.0           6.3  1977   \n",
       "1376                             Titanic      7770.0           7.5  1997   \n",
       "8401             Star Trek Into Darkness      4479.0           7.4  2013   \n",
       "2014                    Fantastic Planet       140.0           7.6  1973   \n",
       "344                            True Lies      1138.0           6.8  1994   \n",
       "1668          Return from Witch Mountain        38.0           5.6  1978   \n",
       "1621  Darby O'Gill and the Little People        35.0           6.7  1959   \n",
       "831             Escape to Witch Mountain        60.0           6.5  1975   \n",
       "522           Terminator 2: Judgment Day      4274.0           7.7  1991   \n",
       "\n",
       "         id       est  \n",
       "974     679  3.459602  \n",
       "3060  11940  3.370969  \n",
       "1376    597  3.245576  \n",
       "8401  54138  3.183207  \n",
       "2014  16306  3.099541  \n",
       "344   36955  3.083347  \n",
       "1668  14822  3.075853  \n",
       "1621  18887  3.066523  \n",
       "831   14821  3.054652  \n",
       "522     280  3.041757  "
      ]
     },
     "execution_count": 67,
     "metadata": {},
     "output_type": "execute_result"
    }
   ],
   "source": [
    "hybrid(500, 'Avatar')"
   ]
  }
 ],
 "metadata": {
  "kernelspec": {
   "display_name": "Python 3",
   "language": "python",
   "name": "python3"
  },
  "language_info": {
   "codemirror_mode": {
    "name": "ipython",
    "version": 3
   },
   "file_extension": ".py",
   "mimetype": "text/x-python",
   "name": "python",
   "nbconvert_exporter": "python",
   "pygments_lexer": "ipython3",
   "version": "3.7.12"
  },
  "papermill": {
   "default_parameters": {},
   "duration": 111.879402,
   "end_time": "2022-02-22T14:23:30.377339",
   "environment_variables": {},
   "exception": null,
   "input_path": "__notebook__.ipynb",
   "output_path": "__notebook__.ipynb",
   "parameters": {},
   "start_time": "2022-02-22T14:21:38.497937",
   "version": "2.3.3"
  }
 },
 "nbformat": 4,
 "nbformat_minor": 5
}
