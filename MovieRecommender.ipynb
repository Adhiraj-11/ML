{
 "cells": [
  {
   "cell_type": "raw",
   "id": "d9bcbc56",
   "metadata": {
    "_cell_guid": "b1076dfc-b9ad-4769-8c92-a6c4dae69d19",
    "_uuid": "8f2839f25d086af736a60e9eeb907d3b93b6e0e5",
    "execution": {
     "iopub.execute_input": "2022-02-21T09:24:33.535418Z",
     "iopub.status.busy": "2022-02-21T09:24:33.535059Z",
     "iopub.status.idle": "2022-02-21T09:24:33.54678Z",
     "shell.execute_reply": "2022-02-21T09:24:33.546111Z",
     "shell.execute_reply.started": "2022-02-21T09:24:33.535379Z"
    },
    "papermill": {
     "duration": 0.06822,
     "end_time": "2022-02-22T14:15:59.623716",
     "exception": false,
     "start_time": "2022-02-22T14:15:59.555496",
     "status": "completed"
    },
    "tags": []
   },
   "source": []
  },
  {
   "cell_type": "code",
   "execution_count": 1,
   "id": "83293cd7",
   "metadata": {
    "execution": {
     "iopub.execute_input": "2022-02-22T14:15:59.769151Z",
     "iopub.status.busy": "2022-02-22T14:15:59.768174Z",
     "iopub.status.idle": "2022-02-22T14:16:01.664827Z",
     "shell.execute_reply": "2022-02-22T14:16:01.663914Z",
     "shell.execute_reply.started": "2022-02-22T14:07:05.834672Z"
    },
    "papermill": {
     "duration": 1.974464,
     "end_time": "2022-02-22T14:16:01.665029",
     "exception": false,
     "start_time": "2022-02-22T14:15:59.690565",
     "status": "completed"
    },
    "tags": []
   },
   "outputs": [],
   "source": [
    "from surprise import SVD\n",
    "from surprise import Dataset\n",
    "from surprise.model_selection import cross_validate\n",
    "from surprise import Reader, Dataset\n",
    "import numpy as np # linear algebra\n",
    "import pandas as pd # data processing, CSV file I/O (e.g. pd.read_csv)\n",
    "from ast import literal_eval\n",
    "from sklearn.feature_extraction.text import TfidfVectorizer\n",
    "from sklearn.metrics.pairwise import linear_kernel\n",
    "from nltk.stem.snowball import SnowballStemmer\n",
    "from sklearn.feature_extraction.text import TfidfVectorizer, CountVectorizer\n",
    "from sklearn.metrics.pairwise import linear_kernel, cosine_similarity"
   ]
  },
  {
   "cell_type": "code",
   "execution_count": 2,
   "id": "8f50861a",
   "metadata": {
    "execution": {
     "iopub.execute_input": "2022-02-22T14:16:01.801769Z",
     "iopub.status.busy": "2022-02-22T14:16:01.800852Z",
     "iopub.status.idle": "2022-02-22T14:16:01.804527Z",
     "shell.execute_reply": "2022-02-22T14:16:01.805084Z",
     "shell.execute_reply.started": "2022-02-22T14:07:05.846176Z"
    },
    "papermill": {
     "duration": 0.071602,
     "end_time": "2022-02-22T14:16:01.805308",
     "exception": false,
     "start_time": "2022-02-22T14:16:01.733706",
     "status": "completed"
    },
    "tags": []
   },
   "outputs": [],
   "source": [
    "#SIMPLE RECOMENDER (BASIS OF POPULARITY AND GENRE)"
   ]
  },
  {
   "cell_type": "code",
   "execution_count": 3,
   "id": "5863e298",
   "metadata": {
    "execution": {
     "iopub.execute_input": "2022-02-22T14:16:01.941535Z",
     "iopub.status.busy": "2022-02-22T14:16:01.940620Z",
     "iopub.status.idle": "2022-02-22T14:16:03.417507Z",
     "shell.execute_reply": "2022-02-22T14:16:03.418030Z",
     "shell.execute_reply.started": "2022-02-22T14:07:05.862157Z"
    },
    "papermill": {
     "duration": 1.548652,
     "end_time": "2022-02-22T14:16:03.418212",
     "exception": false,
     "start_time": "2022-02-22T14:16:01.869560",
     "status": "completed"
    },
    "tags": []
   },
   "outputs": [
    {
     "name": "stderr",
     "output_type": "stream",
     "text": [
      "/opt/conda/lib/python3.7/site-packages/IPython/core/interactiveshell.py:3457: DtypeWarning: Columns (10) have mixed types.Specify dtype option on import or set low_memory=False.\n",
      "  exec(code_obj, self.user_global_ns, self.user_ns)\n"
     ]
    },
    {
     "data": {
      "text/html": [
       "<div>\n",
       "<style scoped>\n",
       "    .dataframe tbody tr th:only-of-type {\n",
       "        vertical-align: middle;\n",
       "    }\n",
       "\n",
       "    .dataframe tbody tr th {\n",
       "        vertical-align: top;\n",
       "    }\n",
       "\n",
       "    .dataframe thead th {\n",
       "        text-align: right;\n",
       "    }\n",
       "</style>\n",
       "<table border=\"1\" class=\"dataframe\">\n",
       "  <thead>\n",
       "    <tr style=\"text-align: right;\">\n",
       "      <th></th>\n",
       "      <th>adult</th>\n",
       "      <th>belongs_to_collection</th>\n",
       "      <th>budget</th>\n",
       "      <th>genres</th>\n",
       "      <th>homepage</th>\n",
       "      <th>id</th>\n",
       "      <th>imdb_id</th>\n",
       "      <th>original_language</th>\n",
       "      <th>original_title</th>\n",
       "      <th>overview</th>\n",
       "      <th>...</th>\n",
       "      <th>release_date</th>\n",
       "      <th>revenue</th>\n",
       "      <th>runtime</th>\n",
       "      <th>spoken_languages</th>\n",
       "      <th>status</th>\n",
       "      <th>tagline</th>\n",
       "      <th>title</th>\n",
       "      <th>video</th>\n",
       "      <th>vote_average</th>\n",
       "      <th>vote_count</th>\n",
       "    </tr>\n",
       "  </thead>\n",
       "  <tbody>\n",
       "    <tr>\n",
       "      <th>0</th>\n",
       "      <td>False</td>\n",
       "      <td>{'id': 10194, 'name': 'Toy Story Collection', ...</td>\n",
       "      <td>30000000</td>\n",
       "      <td>[{'id': 16, 'name': 'Animation'}, {'id': 35, '...</td>\n",
       "      <td>http://toystory.disney.com/toy-story</td>\n",
       "      <td>862</td>\n",
       "      <td>tt0114709</td>\n",
       "      <td>en</td>\n",
       "      <td>Toy Story</td>\n",
       "      <td>Led by Woody, Andy's toys live happily in his ...</td>\n",
       "      <td>...</td>\n",
       "      <td>1995-10-30</td>\n",
       "      <td>373554033.0</td>\n",
       "      <td>81.0</td>\n",
       "      <td>[{'iso_639_1': 'en', 'name': 'English'}]</td>\n",
       "      <td>Released</td>\n",
       "      <td>NaN</td>\n",
       "      <td>Toy Story</td>\n",
       "      <td>False</td>\n",
       "      <td>7.7</td>\n",
       "      <td>5415.0</td>\n",
       "    </tr>\n",
       "    <tr>\n",
       "      <th>1</th>\n",
       "      <td>False</td>\n",
       "      <td>NaN</td>\n",
       "      <td>65000000</td>\n",
       "      <td>[{'id': 12, 'name': 'Adventure'}, {'id': 14, '...</td>\n",
       "      <td>NaN</td>\n",
       "      <td>8844</td>\n",
       "      <td>tt0113497</td>\n",
       "      <td>en</td>\n",
       "      <td>Jumanji</td>\n",
       "      <td>When siblings Judy and Peter discover an encha...</td>\n",
       "      <td>...</td>\n",
       "      <td>1995-12-15</td>\n",
       "      <td>262797249.0</td>\n",
       "      <td>104.0</td>\n",
       "      <td>[{'iso_639_1': 'en', 'name': 'English'}, {'iso...</td>\n",
       "      <td>Released</td>\n",
       "      <td>Roll the dice and unleash the excitement!</td>\n",
       "      <td>Jumanji</td>\n",
       "      <td>False</td>\n",
       "      <td>6.9</td>\n",
       "      <td>2413.0</td>\n",
       "    </tr>\n",
       "    <tr>\n",
       "      <th>2</th>\n",
       "      <td>False</td>\n",
       "      <td>{'id': 119050, 'name': 'Grumpy Old Men Collect...</td>\n",
       "      <td>0</td>\n",
       "      <td>[{'id': 10749, 'name': 'Romance'}, {'id': 35, ...</td>\n",
       "      <td>NaN</td>\n",
       "      <td>15602</td>\n",
       "      <td>tt0113228</td>\n",
       "      <td>en</td>\n",
       "      <td>Grumpier Old Men</td>\n",
       "      <td>A family wedding reignites the ancient feud be...</td>\n",
       "      <td>...</td>\n",
       "      <td>1995-12-22</td>\n",
       "      <td>0.0</td>\n",
       "      <td>101.0</td>\n",
       "      <td>[{'iso_639_1': 'en', 'name': 'English'}]</td>\n",
       "      <td>Released</td>\n",
       "      <td>Still Yelling. Still Fighting. Still Ready for...</td>\n",
       "      <td>Grumpier Old Men</td>\n",
       "      <td>False</td>\n",
       "      <td>6.5</td>\n",
       "      <td>92.0</td>\n",
       "    </tr>\n",
       "    <tr>\n",
       "      <th>3</th>\n",
       "      <td>False</td>\n",
       "      <td>NaN</td>\n",
       "      <td>16000000</td>\n",
       "      <td>[{'id': 35, 'name': 'Comedy'}, {'id': 18, 'nam...</td>\n",
       "      <td>NaN</td>\n",
       "      <td>31357</td>\n",
       "      <td>tt0114885</td>\n",
       "      <td>en</td>\n",
       "      <td>Waiting to Exhale</td>\n",
       "      <td>Cheated on, mistreated and stepped on, the wom...</td>\n",
       "      <td>...</td>\n",
       "      <td>1995-12-22</td>\n",
       "      <td>81452156.0</td>\n",
       "      <td>127.0</td>\n",
       "      <td>[{'iso_639_1': 'en', 'name': 'English'}]</td>\n",
       "      <td>Released</td>\n",
       "      <td>Friends are the people who let you be yourself...</td>\n",
       "      <td>Waiting to Exhale</td>\n",
       "      <td>False</td>\n",
       "      <td>6.1</td>\n",
       "      <td>34.0</td>\n",
       "    </tr>\n",
       "    <tr>\n",
       "      <th>4</th>\n",
       "      <td>False</td>\n",
       "      <td>{'id': 96871, 'name': 'Father of the Bride Col...</td>\n",
       "      <td>0</td>\n",
       "      <td>[{'id': 35, 'name': 'Comedy'}]</td>\n",
       "      <td>NaN</td>\n",
       "      <td>11862</td>\n",
       "      <td>tt0113041</td>\n",
       "      <td>en</td>\n",
       "      <td>Father of the Bride Part II</td>\n",
       "      <td>Just when George Banks has recovered from his ...</td>\n",
       "      <td>...</td>\n",
       "      <td>1995-02-10</td>\n",
       "      <td>76578911.0</td>\n",
       "      <td>106.0</td>\n",
       "      <td>[{'iso_639_1': 'en', 'name': 'English'}]</td>\n",
       "      <td>Released</td>\n",
       "      <td>Just When His World Is Back To Normal... He's ...</td>\n",
       "      <td>Father of the Bride Part II</td>\n",
       "      <td>False</td>\n",
       "      <td>5.7</td>\n",
       "      <td>173.0</td>\n",
       "    </tr>\n",
       "  </tbody>\n",
       "</table>\n",
       "<p>5 rows × 24 columns</p>\n",
       "</div>"
      ],
      "text/plain": [
       "   adult                              belongs_to_collection    budget  \\\n",
       "0  False  {'id': 10194, 'name': 'Toy Story Collection', ...  30000000   \n",
       "1  False                                                NaN  65000000   \n",
       "2  False  {'id': 119050, 'name': 'Grumpy Old Men Collect...         0   \n",
       "3  False                                                NaN  16000000   \n",
       "4  False  {'id': 96871, 'name': 'Father of the Bride Col...         0   \n",
       "\n",
       "                                              genres  \\\n",
       "0  [{'id': 16, 'name': 'Animation'}, {'id': 35, '...   \n",
       "1  [{'id': 12, 'name': 'Adventure'}, {'id': 14, '...   \n",
       "2  [{'id': 10749, 'name': 'Romance'}, {'id': 35, ...   \n",
       "3  [{'id': 35, 'name': 'Comedy'}, {'id': 18, 'nam...   \n",
       "4                     [{'id': 35, 'name': 'Comedy'}]   \n",
       "\n",
       "                               homepage     id    imdb_id original_language  \\\n",
       "0  http://toystory.disney.com/toy-story    862  tt0114709                en   \n",
       "1                                   NaN   8844  tt0113497                en   \n",
       "2                                   NaN  15602  tt0113228                en   \n",
       "3                                   NaN  31357  tt0114885                en   \n",
       "4                                   NaN  11862  tt0113041                en   \n",
       "\n",
       "                original_title  \\\n",
       "0                    Toy Story   \n",
       "1                      Jumanji   \n",
       "2             Grumpier Old Men   \n",
       "3            Waiting to Exhale   \n",
       "4  Father of the Bride Part II   \n",
       "\n",
       "                                            overview  ... release_date  \\\n",
       "0  Led by Woody, Andy's toys live happily in his ...  ...   1995-10-30   \n",
       "1  When siblings Judy and Peter discover an encha...  ...   1995-12-15   \n",
       "2  A family wedding reignites the ancient feud be...  ...   1995-12-22   \n",
       "3  Cheated on, mistreated and stepped on, the wom...  ...   1995-12-22   \n",
       "4  Just when George Banks has recovered from his ...  ...   1995-02-10   \n",
       "\n",
       "       revenue runtime                                   spoken_languages  \\\n",
       "0  373554033.0    81.0           [{'iso_639_1': 'en', 'name': 'English'}]   \n",
       "1  262797249.0   104.0  [{'iso_639_1': 'en', 'name': 'English'}, {'iso...   \n",
       "2          0.0   101.0           [{'iso_639_1': 'en', 'name': 'English'}]   \n",
       "3   81452156.0   127.0           [{'iso_639_1': 'en', 'name': 'English'}]   \n",
       "4   76578911.0   106.0           [{'iso_639_1': 'en', 'name': 'English'}]   \n",
       "\n",
       "     status                                            tagline  \\\n",
       "0  Released                                                NaN   \n",
       "1  Released          Roll the dice and unleash the excitement!   \n",
       "2  Released  Still Yelling. Still Fighting. Still Ready for...   \n",
       "3  Released  Friends are the people who let you be yourself...   \n",
       "4  Released  Just When His World Is Back To Normal... He's ...   \n",
       "\n",
       "                         title  video vote_average vote_count  \n",
       "0                    Toy Story  False          7.7     5415.0  \n",
       "1                      Jumanji  False          6.9     2413.0  \n",
       "2             Grumpier Old Men  False          6.5       92.0  \n",
       "3            Waiting to Exhale  False          6.1       34.0  \n",
       "4  Father of the Bride Part II  False          5.7      173.0  \n",
       "\n",
       "[5 rows x 24 columns]"
      ]
     },
     "execution_count": 3,
     "metadata": {},
     "output_type": "execute_result"
    }
   ],
   "source": [
    "md = pd. read_csv('../input/moviesdataset/movies_metadata.csv')\n",
    "md.head()\n"
   ]
  },
  {
   "cell_type": "code",
   "execution_count": 4,
   "id": "7a663c2d",
   "metadata": {
    "execution": {
     "iopub.execute_input": "2022-02-22T14:16:03.559755Z",
     "iopub.status.busy": "2022-02-22T14:16:03.559022Z",
     "iopub.status.idle": "2022-02-22T14:16:05.153118Z",
     "shell.execute_reply": "2022-02-22T14:16:05.153660Z",
     "shell.execute_reply.started": "2022-02-22T14:07:07.410656Z"
    },
    "papermill": {
     "duration": 1.669711,
     "end_time": "2022-02-22T14:16:05.153889",
     "exception": false,
     "start_time": "2022-02-22T14:16:03.484178",
     "status": "completed"
    },
    "tags": []
   },
   "outputs": [],
   "source": [
    "md['genres'] = md['genres'].fillna('[]').apply(literal_eval).apply(lambda x: [i['name'] for i in x] if isinstance(x, list) else [])\n",
    "\n",
    "#filling empty slots with empty lists.\n",
    "#literal_eval converting strings to lists.\n"
   ]
  },
  {
   "cell_type": "code",
   "execution_count": 5,
   "id": "67672863",
   "metadata": {
    "execution": {
     "iopub.execute_input": "2022-02-22T14:16:05.290956Z",
     "iopub.status.busy": "2022-02-22T14:16:05.289946Z",
     "iopub.status.idle": "2022-02-22T14:16:05.338256Z",
     "shell.execute_reply": "2022-02-22T14:16:05.338785Z",
     "shell.execute_reply.started": "2022-02-22T14:07:20.853450Z"
    },
    "papermill": {
     "duration": 0.11901,
     "end_time": "2022-02-22T14:16:05.338998",
     "exception": false,
     "start_time": "2022-02-22T14:16:05.219988",
     "status": "completed"
    },
    "tags": []
   },
   "outputs": [
    {
     "data": {
      "text/plain": [
       "5.244896612406511"
      ]
     },
     "execution_count": 5,
     "metadata": {},
     "output_type": "execute_result"
    }
   ],
   "source": [
    "vote_counts = md[md['vote_count'].notnull()]['vote_count'].astype('int')\n",
    "vote_averages = md[md['vote_average'].notnull()]['vote_average'].astype('int')\n",
    "C = vote_averages.mean()\n",
    "C\n",
    "#C = mean vote"
   ]
  },
  {
   "cell_type": "code",
   "execution_count": 6,
   "id": "597e4fa2",
   "metadata": {
    "execution": {
     "iopub.execute_input": "2022-02-22T14:16:05.477531Z",
     "iopub.status.busy": "2022-02-22T14:16:05.476475Z",
     "iopub.status.idle": "2022-02-22T14:16:05.488603Z",
     "shell.execute_reply": "2022-02-22T14:16:05.489138Z",
     "shell.execute_reply.started": "2022-02-22T14:07:20.907624Z"
    },
    "papermill": {
     "duration": 0.082432,
     "end_time": "2022-02-22T14:16:05.489369",
     "exception": false,
     "start_time": "2022-02-22T14:16:05.406937",
     "status": "completed"
    },
    "tags": []
   },
   "outputs": [
    {
     "data": {
      "text/plain": [
       "434.0"
      ]
     },
     "execution_count": 6,
     "metadata": {},
     "output_type": "execute_result"
    }
   ],
   "source": [
    "m = vote_counts.quantile(0.95)\n",
    "m\n",
    "#m = minimum votes req"
   ]
  },
  {
   "cell_type": "code",
   "execution_count": 7,
   "id": "67e54c1d",
   "metadata": {
    "execution": {
     "iopub.execute_input": "2022-02-22T14:16:05.634106Z",
     "iopub.status.busy": "2022-02-22T14:16:05.632726Z",
     "iopub.status.idle": "2022-02-22T14:16:06.181416Z",
     "shell.execute_reply": "2022-02-22T14:16:06.180746Z",
     "shell.execute_reply.started": "2022-02-22T14:07:20.918002Z"
    },
    "papermill": {
     "duration": 0.623064,
     "end_time": "2022-02-22T14:16:06.181597",
     "exception": false,
     "start_time": "2022-02-22T14:16:05.558533",
     "status": "completed"
    },
    "tags": []
   },
   "outputs": [],
   "source": [
    "md['year'] = pd.to_datetime(md['release_date'], errors='coerce').apply(lambda x: str(x).split('-')[0] if x != np.nan else np.nan)"
   ]
  },
  {
   "cell_type": "code",
   "execution_count": 8,
   "id": "f4ac31af",
   "metadata": {
    "execution": {
     "iopub.execute_input": "2022-02-22T14:16:06.319770Z",
     "iopub.status.busy": "2022-02-22T14:16:06.318918Z",
     "iopub.status.idle": "2022-02-22T14:16:06.371663Z",
     "shell.execute_reply": "2022-02-22T14:16:06.370959Z",
     "shell.execute_reply.started": "2022-02-22T14:07:21.329365Z"
    },
    "papermill": {
     "duration": 0.125068,
     "end_time": "2022-02-22T14:16:06.371833",
     "exception": false,
     "start_time": "2022-02-22T14:16:06.246765",
     "status": "completed"
    },
    "tags": []
   },
   "outputs": [
    {
     "data": {
      "text/plain": [
       "(2274, 6)"
      ]
     },
     "execution_count": 8,
     "metadata": {},
     "output_type": "execute_result"
    }
   ],
   "source": [
    "qualified = md[(md['vote_count'] >= m) & (md['vote_count'].notnull()) & (md['vote_average'].notnull())][['title', 'year', 'vote_count', 'vote_average', 'popularity', 'genres']]\n",
    "qualified['vote_count'] = qualified['vote_count'].astype('int')\n",
    "qualified['vote_average'] = qualified['vote_average'].astype('int')\n",
    "qualified.shape"
   ]
  },
  {
   "cell_type": "code",
   "execution_count": 9,
   "id": "1bd24b16",
   "metadata": {
    "execution": {
     "iopub.execute_input": "2022-02-22T14:16:06.513437Z",
     "iopub.status.busy": "2022-02-22T14:16:06.512444Z",
     "iopub.status.idle": "2022-02-22T14:16:06.516057Z",
     "shell.execute_reply": "2022-02-22T14:16:06.515464Z",
     "shell.execute_reply.started": "2022-02-22T14:07:21.373908Z"
    },
    "papermill": {
     "duration": 0.077765,
     "end_time": "2022-02-22T14:16:06.516231",
     "exception": false,
     "start_time": "2022-02-22T14:16:06.438466",
     "status": "completed"
    },
    "tags": []
   },
   "outputs": [],
   "source": [
    "def weighted_rating(x):\n",
    "    v = x['vote_count']\n",
    "    R = x['vote_average']\n",
    "    return (v/(v+m) * R) + (m/(m+v) * C)\n",
    "#APPLYING THE WEIGHTAGE RATING FORMULA"
   ]
  },
  {
   "cell_type": "code",
   "execution_count": 10,
   "id": "19a92dba",
   "metadata": {
    "execution": {
     "iopub.execute_input": "2022-02-22T14:16:06.657027Z",
     "iopub.status.busy": "2022-02-22T14:16:06.655936Z",
     "iopub.status.idle": "2022-02-22T14:16:06.713666Z",
     "shell.execute_reply": "2022-02-22T14:16:06.713008Z",
     "shell.execute_reply.started": "2022-02-22T14:07:21.380927Z"
    },
    "papermill": {
     "duration": 0.130653,
     "end_time": "2022-02-22T14:16:06.713842",
     "exception": false,
     "start_time": "2022-02-22T14:16:06.583189",
     "status": "completed"
    },
    "tags": []
   },
   "outputs": [],
   "source": [
    "qualified['wr'] = qualified.apply(weighted_rating, axis=1)"
   ]
  },
  {
   "cell_type": "code",
   "execution_count": 11,
   "id": "5ff3ae33",
   "metadata": {
    "execution": {
     "iopub.execute_input": "2022-02-22T14:16:06.853409Z",
     "iopub.status.busy": "2022-02-22T14:16:06.852025Z",
     "iopub.status.idle": "2022-02-22T14:16:06.876157Z",
     "shell.execute_reply": "2022-02-22T14:16:06.876699Z",
     "shell.execute_reply.started": "2022-02-22T14:07:21.450202Z"
    },
    "papermill": {
     "duration": 0.095424,
     "end_time": "2022-02-22T14:16:06.876898",
     "exception": false,
     "start_time": "2022-02-22T14:16:06.781474",
     "status": "completed"
    },
    "tags": []
   },
   "outputs": [
    {
     "data": {
      "text/html": [
       "<div>\n",
       "<style scoped>\n",
       "    .dataframe tbody tr th:only-of-type {\n",
       "        vertical-align: middle;\n",
       "    }\n",
       "\n",
       "    .dataframe tbody tr th {\n",
       "        vertical-align: top;\n",
       "    }\n",
       "\n",
       "    .dataframe thead th {\n",
       "        text-align: right;\n",
       "    }\n",
       "</style>\n",
       "<table border=\"1\" class=\"dataframe\">\n",
       "  <thead>\n",
       "    <tr style=\"text-align: right;\">\n",
       "      <th></th>\n",
       "      <th>title</th>\n",
       "      <th>year</th>\n",
       "      <th>vote_count</th>\n",
       "      <th>vote_average</th>\n",
       "      <th>popularity</th>\n",
       "      <th>genres</th>\n",
       "      <th>wr</th>\n",
       "    </tr>\n",
       "  </thead>\n",
       "  <tbody>\n",
       "    <tr>\n",
       "      <th>15480</th>\n",
       "      <td>Inception</td>\n",
       "      <td>2010</td>\n",
       "      <td>14075</td>\n",
       "      <td>8</td>\n",
       "      <td>29.108149</td>\n",
       "      <td>[Action, Thriller, Science Fiction, Mystery, A...</td>\n",
       "      <td>7.917588</td>\n",
       "    </tr>\n",
       "    <tr>\n",
       "      <th>12481</th>\n",
       "      <td>The Dark Knight</td>\n",
       "      <td>2008</td>\n",
       "      <td>12269</td>\n",
       "      <td>8</td>\n",
       "      <td>123.167259</td>\n",
       "      <td>[Drama, Action, Crime, Thriller]</td>\n",
       "      <td>7.905871</td>\n",
       "    </tr>\n",
       "    <tr>\n",
       "      <th>22879</th>\n",
       "      <td>Interstellar</td>\n",
       "      <td>2014</td>\n",
       "      <td>11187</td>\n",
       "      <td>8</td>\n",
       "      <td>32.213481</td>\n",
       "      <td>[Adventure, Drama, Science Fiction]</td>\n",
       "      <td>7.897107</td>\n",
       "    </tr>\n",
       "    <tr>\n",
       "      <th>2843</th>\n",
       "      <td>Fight Club</td>\n",
       "      <td>1999</td>\n",
       "      <td>9678</td>\n",
       "      <td>8</td>\n",
       "      <td>63.869599</td>\n",
       "      <td>[Drama]</td>\n",
       "      <td>7.881753</td>\n",
       "    </tr>\n",
       "    <tr>\n",
       "      <th>4863</th>\n",
       "      <td>The Lord of the Rings: The Fellowship of the Ring</td>\n",
       "      <td>2001</td>\n",
       "      <td>8892</td>\n",
       "      <td>8</td>\n",
       "      <td>32.070725</td>\n",
       "      <td>[Adventure, Fantasy, Action]</td>\n",
       "      <td>7.871787</td>\n",
       "    </tr>\n",
       "    <tr>\n",
       "      <th>292</th>\n",
       "      <td>Pulp Fiction</td>\n",
       "      <td>1994</td>\n",
       "      <td>8670</td>\n",
       "      <td>8</td>\n",
       "      <td>140.950236</td>\n",
       "      <td>[Thriller, Crime]</td>\n",
       "      <td>7.868660</td>\n",
       "    </tr>\n",
       "    <tr>\n",
       "      <th>314</th>\n",
       "      <td>The Shawshank Redemption</td>\n",
       "      <td>1994</td>\n",
       "      <td>8358</td>\n",
       "      <td>8</td>\n",
       "      <td>51.645403</td>\n",
       "      <td>[Drama, Crime]</td>\n",
       "      <td>7.864000</td>\n",
       "    </tr>\n",
       "    <tr>\n",
       "      <th>7000</th>\n",
       "      <td>The Lord of the Rings: The Return of the King</td>\n",
       "      <td>2003</td>\n",
       "      <td>8226</td>\n",
       "      <td>8</td>\n",
       "      <td>29.324358</td>\n",
       "      <td>[Adventure, Fantasy, Action]</td>\n",
       "      <td>7.861927</td>\n",
       "    </tr>\n",
       "    <tr>\n",
       "      <th>351</th>\n",
       "      <td>Forrest Gump</td>\n",
       "      <td>1994</td>\n",
       "      <td>8147</td>\n",
       "      <td>8</td>\n",
       "      <td>48.307194</td>\n",
       "      <td>[Comedy, Drama, Romance]</td>\n",
       "      <td>7.860656</td>\n",
       "    </tr>\n",
       "    <tr>\n",
       "      <th>5814</th>\n",
       "      <td>The Lord of the Rings: The Two Towers</td>\n",
       "      <td>2002</td>\n",
       "      <td>7641</td>\n",
       "      <td>8</td>\n",
       "      <td>29.423537</td>\n",
       "      <td>[Adventure, Fantasy, Action]</td>\n",
       "      <td>7.851924</td>\n",
       "    </tr>\n",
       "    <tr>\n",
       "      <th>256</th>\n",
       "      <td>Star Wars</td>\n",
       "      <td>1977</td>\n",
       "      <td>6778</td>\n",
       "      <td>8</td>\n",
       "      <td>42.149697</td>\n",
       "      <td>[Adventure, Action, Science Fiction]</td>\n",
       "      <td>7.834205</td>\n",
       "    </tr>\n",
       "    <tr>\n",
       "      <th>1225</th>\n",
       "      <td>Back to the Future</td>\n",
       "      <td>1985</td>\n",
       "      <td>6239</td>\n",
       "      <td>8</td>\n",
       "      <td>25.778509</td>\n",
       "      <td>[Adventure, Comedy, Science Fiction, Family]</td>\n",
       "      <td>7.820813</td>\n",
       "    </tr>\n",
       "    <tr>\n",
       "      <th>834</th>\n",
       "      <td>The Godfather</td>\n",
       "      <td>1972</td>\n",
       "      <td>6024</td>\n",
       "      <td>8</td>\n",
       "      <td>41.109264</td>\n",
       "      <td>[Drama, Crime]</td>\n",
       "      <td>7.814847</td>\n",
       "    </tr>\n",
       "    <tr>\n",
       "      <th>1154</th>\n",
       "      <td>The Empire Strikes Back</td>\n",
       "      <td>1980</td>\n",
       "      <td>5998</td>\n",
       "      <td>8</td>\n",
       "      <td>19.470959</td>\n",
       "      <td>[Adventure, Action, Science Fiction]</td>\n",
       "      <td>7.814099</td>\n",
       "    </tr>\n",
       "    <tr>\n",
       "      <th>46</th>\n",
       "      <td>Se7en</td>\n",
       "      <td>1995</td>\n",
       "      <td>5915</td>\n",
       "      <td>8</td>\n",
       "      <td>18.45743</td>\n",
       "      <td>[Crime, Mystery, Thriller]</td>\n",
       "      <td>7.811669</td>\n",
       "    </tr>\n",
       "  </tbody>\n",
       "</table>\n",
       "</div>"
      ],
      "text/plain": [
       "                                                   title  year  vote_count  \\\n",
       "15480                                          Inception  2010       14075   \n",
       "12481                                    The Dark Knight  2008       12269   \n",
       "22879                                       Interstellar  2014       11187   \n",
       "2843                                          Fight Club  1999        9678   \n",
       "4863   The Lord of the Rings: The Fellowship of the Ring  2001        8892   \n",
       "292                                         Pulp Fiction  1994        8670   \n",
       "314                             The Shawshank Redemption  1994        8358   \n",
       "7000       The Lord of the Rings: The Return of the King  2003        8226   \n",
       "351                                         Forrest Gump  1994        8147   \n",
       "5814               The Lord of the Rings: The Two Towers  2002        7641   \n",
       "256                                            Star Wars  1977        6778   \n",
       "1225                                  Back to the Future  1985        6239   \n",
       "834                                        The Godfather  1972        6024   \n",
       "1154                             The Empire Strikes Back  1980        5998   \n",
       "46                                                 Se7en  1995        5915   \n",
       "\n",
       "       vote_average  popularity  \\\n",
       "15480             8   29.108149   \n",
       "12481             8  123.167259   \n",
       "22879             8   32.213481   \n",
       "2843              8   63.869599   \n",
       "4863              8   32.070725   \n",
       "292               8  140.950236   \n",
       "314               8   51.645403   \n",
       "7000              8   29.324358   \n",
       "351               8   48.307194   \n",
       "5814              8   29.423537   \n",
       "256               8   42.149697   \n",
       "1225              8   25.778509   \n",
       "834               8   41.109264   \n",
       "1154              8   19.470959   \n",
       "46                8    18.45743   \n",
       "\n",
       "                                                  genres        wr  \n",
       "15480  [Action, Thriller, Science Fiction, Mystery, A...  7.917588  \n",
       "12481                   [Drama, Action, Crime, Thriller]  7.905871  \n",
       "22879                [Adventure, Drama, Science Fiction]  7.897107  \n",
       "2843                                             [Drama]  7.881753  \n",
       "4863                        [Adventure, Fantasy, Action]  7.871787  \n",
       "292                                    [Thriller, Crime]  7.868660  \n",
       "314                                       [Drama, Crime]  7.864000  \n",
       "7000                        [Adventure, Fantasy, Action]  7.861927  \n",
       "351                             [Comedy, Drama, Romance]  7.860656  \n",
       "5814                        [Adventure, Fantasy, Action]  7.851924  \n",
       "256                 [Adventure, Action, Science Fiction]  7.834205  \n",
       "1225        [Adventure, Comedy, Science Fiction, Family]  7.820813  \n",
       "834                                       [Drama, Crime]  7.814847  \n",
       "1154                [Adventure, Action, Science Fiction]  7.814099  \n",
       "46                            [Crime, Mystery, Thriller]  7.811669  "
      ]
     },
     "execution_count": 11,
     "metadata": {},
     "output_type": "execute_result"
    }
   ],
   "source": [
    "qualified = qualified.sort_values('wr', ascending=False).head(250)\n",
    "qualified.head(15)"
   ]
  },
  {
   "cell_type": "code",
   "execution_count": 12,
   "id": "904368cd",
   "metadata": {
    "execution": {
     "iopub.execute_input": "2022-02-22T14:16:07.021196Z",
     "iopub.status.busy": "2022-02-22T14:16:07.020153Z",
     "iopub.status.idle": "2022-02-22T14:16:07.023875Z",
     "shell.execute_reply": "2022-02-22T14:16:07.024541Z",
     "shell.execute_reply.started": "2022-02-22T14:07:21.476176Z"
    },
    "papermill": {
     "duration": 0.079396,
     "end_time": "2022-02-22T14:16:07.024736",
     "exception": false,
     "start_time": "2022-02-22T14:16:06.945340",
     "status": "completed"
    },
    "tags": []
   },
   "outputs": [],
   "source": [
    "#CONTENT BASED RECOMMENDER"
   ]
  },
  {
   "cell_type": "code",
   "execution_count": 13,
   "id": "0da9337c",
   "metadata": {
    "execution": {
     "iopub.execute_input": "2022-02-22T14:16:07.164681Z",
     "iopub.status.busy": "2022-02-22T14:16:07.163999Z",
     "iopub.status.idle": "2022-02-22T14:16:07.187786Z",
     "shell.execute_reply": "2022-02-22T14:16:07.188360Z",
     "shell.execute_reply.started": "2022-02-22T14:07:21.481922Z"
    },
    "papermill": {
     "duration": 0.09692,
     "end_time": "2022-02-22T14:16:07.188546",
     "exception": false,
     "start_time": "2022-02-22T14:16:07.091626",
     "status": "completed"
    },
    "tags": []
   },
   "outputs": [],
   "source": [
    "links_small = pd.read_csv('../input/moviesdataset/links_small.csv')\n",
    "links_small = links_small[links_small['tmdbId'].notnull()]['tmdbId'].astype('int')"
   ]
  },
  {
   "cell_type": "code",
   "execution_count": 14,
   "id": "5cd5525d",
   "metadata": {
    "execution": {
     "iopub.execute_input": "2022-02-22T14:16:07.326113Z",
     "iopub.status.busy": "2022-02-22T14:16:07.325464Z",
     "iopub.status.idle": "2022-02-22T14:16:07.331928Z",
     "shell.execute_reply": "2022-02-22T14:16:07.332535Z",
     "shell.execute_reply.started": "2022-02-22T14:07:21.517453Z"
    },
    "papermill": {
     "duration": 0.077005,
     "end_time": "2022-02-22T14:16:07.332717",
     "exception": false,
     "start_time": "2022-02-22T14:16:07.255712",
     "status": "completed"
    },
    "tags": []
   },
   "outputs": [
    {
     "data": {
      "text/plain": [
       "0      862\n",
       "1     8844\n",
       "2    15602\n",
       "3    31357\n",
       "4    11862\n",
       "Name: tmdbId, dtype: int64"
      ]
     },
     "execution_count": 14,
     "metadata": {},
     "output_type": "execute_result"
    }
   ],
   "source": [
    "links_small.head()"
   ]
  },
  {
   "cell_type": "code",
   "execution_count": 15,
   "id": "3ceb8afb",
   "metadata": {
    "execution": {
     "iopub.execute_input": "2022-02-22T14:16:07.473989Z",
     "iopub.status.busy": "2022-02-22T14:16:07.473348Z",
     "iopub.status.idle": "2022-02-22T14:16:07.563354Z",
     "shell.execute_reply": "2022-02-22T14:16:07.562713Z",
     "shell.execute_reply.started": "2022-02-22T14:07:21.525749Z"
    },
    "papermill": {
     "duration": 0.162054,
     "end_time": "2022-02-22T14:16:07.563515",
     "exception": false,
     "start_time": "2022-02-22T14:16:07.401461",
     "status": "completed"
    },
    "tags": []
   },
   "outputs": [
    {
     "data": {
      "text/html": [
       "<div>\n",
       "<style scoped>\n",
       "    .dataframe tbody tr th:only-of-type {\n",
       "        vertical-align: middle;\n",
       "    }\n",
       "\n",
       "    .dataframe tbody tr th {\n",
       "        vertical-align: top;\n",
       "    }\n",
       "\n",
       "    .dataframe thead th {\n",
       "        text-align: right;\n",
       "    }\n",
       "</style>\n",
       "<table border=\"1\" class=\"dataframe\">\n",
       "  <thead>\n",
       "    <tr style=\"text-align: right;\">\n",
       "      <th></th>\n",
       "      <th>adult</th>\n",
       "      <th>belongs_to_collection</th>\n",
       "      <th>budget</th>\n",
       "      <th>genres</th>\n",
       "      <th>homepage</th>\n",
       "      <th>id</th>\n",
       "      <th>imdb_id</th>\n",
       "      <th>original_language</th>\n",
       "      <th>original_title</th>\n",
       "      <th>overview</th>\n",
       "      <th>...</th>\n",
       "      <th>revenue</th>\n",
       "      <th>runtime</th>\n",
       "      <th>spoken_languages</th>\n",
       "      <th>status</th>\n",
       "      <th>tagline</th>\n",
       "      <th>title</th>\n",
       "      <th>video</th>\n",
       "      <th>vote_average</th>\n",
       "      <th>vote_count</th>\n",
       "      <th>year</th>\n",
       "    </tr>\n",
       "  </thead>\n",
       "  <tbody>\n",
       "    <tr>\n",
       "      <th>0</th>\n",
       "      <td>False</td>\n",
       "      <td>{'id': 10194, 'name': 'Toy Story Collection', ...</td>\n",
       "      <td>30000000</td>\n",
       "      <td>[Animation, Comedy, Family]</td>\n",
       "      <td>http://toystory.disney.com/toy-story</td>\n",
       "      <td>862</td>\n",
       "      <td>tt0114709</td>\n",
       "      <td>en</td>\n",
       "      <td>Toy Story</td>\n",
       "      <td>Led by Woody, Andy's toys live happily in his ...</td>\n",
       "      <td>...</td>\n",
       "      <td>373554033.0</td>\n",
       "      <td>81.0</td>\n",
       "      <td>[{'iso_639_1': 'en', 'name': 'English'}]</td>\n",
       "      <td>Released</td>\n",
       "      <td>NaN</td>\n",
       "      <td>Toy Story</td>\n",
       "      <td>False</td>\n",
       "      <td>7.7</td>\n",
       "      <td>5415.0</td>\n",
       "      <td>1995</td>\n",
       "    </tr>\n",
       "    <tr>\n",
       "      <th>1</th>\n",
       "      <td>False</td>\n",
       "      <td>NaN</td>\n",
       "      <td>65000000</td>\n",
       "      <td>[Adventure, Fantasy, Family]</td>\n",
       "      <td>NaN</td>\n",
       "      <td>8844</td>\n",
       "      <td>tt0113497</td>\n",
       "      <td>en</td>\n",
       "      <td>Jumanji</td>\n",
       "      <td>When siblings Judy and Peter discover an encha...</td>\n",
       "      <td>...</td>\n",
       "      <td>262797249.0</td>\n",
       "      <td>104.0</td>\n",
       "      <td>[{'iso_639_1': 'en', 'name': 'English'}, {'iso...</td>\n",
       "      <td>Released</td>\n",
       "      <td>Roll the dice and unleash the excitement!</td>\n",
       "      <td>Jumanji</td>\n",
       "      <td>False</td>\n",
       "      <td>6.9</td>\n",
       "      <td>2413.0</td>\n",
       "      <td>1995</td>\n",
       "    </tr>\n",
       "    <tr>\n",
       "      <th>2</th>\n",
       "      <td>False</td>\n",
       "      <td>{'id': 119050, 'name': 'Grumpy Old Men Collect...</td>\n",
       "      <td>0</td>\n",
       "      <td>[Romance, Comedy]</td>\n",
       "      <td>NaN</td>\n",
       "      <td>15602</td>\n",
       "      <td>tt0113228</td>\n",
       "      <td>en</td>\n",
       "      <td>Grumpier Old Men</td>\n",
       "      <td>A family wedding reignites the ancient feud be...</td>\n",
       "      <td>...</td>\n",
       "      <td>0.0</td>\n",
       "      <td>101.0</td>\n",
       "      <td>[{'iso_639_1': 'en', 'name': 'English'}]</td>\n",
       "      <td>Released</td>\n",
       "      <td>Still Yelling. Still Fighting. Still Ready for...</td>\n",
       "      <td>Grumpier Old Men</td>\n",
       "      <td>False</td>\n",
       "      <td>6.5</td>\n",
       "      <td>92.0</td>\n",
       "      <td>1995</td>\n",
       "    </tr>\n",
       "    <tr>\n",
       "      <th>3</th>\n",
       "      <td>False</td>\n",
       "      <td>NaN</td>\n",
       "      <td>16000000</td>\n",
       "      <td>[Comedy, Drama, Romance]</td>\n",
       "      <td>NaN</td>\n",
       "      <td>31357</td>\n",
       "      <td>tt0114885</td>\n",
       "      <td>en</td>\n",
       "      <td>Waiting to Exhale</td>\n",
       "      <td>Cheated on, mistreated and stepped on, the wom...</td>\n",
       "      <td>...</td>\n",
       "      <td>81452156.0</td>\n",
       "      <td>127.0</td>\n",
       "      <td>[{'iso_639_1': 'en', 'name': 'English'}]</td>\n",
       "      <td>Released</td>\n",
       "      <td>Friends are the people who let you be yourself...</td>\n",
       "      <td>Waiting to Exhale</td>\n",
       "      <td>False</td>\n",
       "      <td>6.1</td>\n",
       "      <td>34.0</td>\n",
       "      <td>1995</td>\n",
       "    </tr>\n",
       "    <tr>\n",
       "      <th>4</th>\n",
       "      <td>False</td>\n",
       "      <td>{'id': 96871, 'name': 'Father of the Bride Col...</td>\n",
       "      <td>0</td>\n",
       "      <td>[Comedy]</td>\n",
       "      <td>NaN</td>\n",
       "      <td>11862</td>\n",
       "      <td>tt0113041</td>\n",
       "      <td>en</td>\n",
       "      <td>Father of the Bride Part II</td>\n",
       "      <td>Just when George Banks has recovered from his ...</td>\n",
       "      <td>...</td>\n",
       "      <td>76578911.0</td>\n",
       "      <td>106.0</td>\n",
       "      <td>[{'iso_639_1': 'en', 'name': 'English'}]</td>\n",
       "      <td>Released</td>\n",
       "      <td>Just When His World Is Back To Normal... He's ...</td>\n",
       "      <td>Father of the Bride Part II</td>\n",
       "      <td>False</td>\n",
       "      <td>5.7</td>\n",
       "      <td>173.0</td>\n",
       "      <td>1995</td>\n",
       "    </tr>\n",
       "  </tbody>\n",
       "</table>\n",
       "<p>5 rows × 25 columns</p>\n",
       "</div>"
      ],
      "text/plain": [
       "   adult                              belongs_to_collection    budget  \\\n",
       "0  False  {'id': 10194, 'name': 'Toy Story Collection', ...  30000000   \n",
       "1  False                                                NaN  65000000   \n",
       "2  False  {'id': 119050, 'name': 'Grumpy Old Men Collect...         0   \n",
       "3  False                                                NaN  16000000   \n",
       "4  False  {'id': 96871, 'name': 'Father of the Bride Col...         0   \n",
       "\n",
       "                         genres                              homepage     id  \\\n",
       "0   [Animation, Comedy, Family]  http://toystory.disney.com/toy-story    862   \n",
       "1  [Adventure, Fantasy, Family]                                   NaN   8844   \n",
       "2             [Romance, Comedy]                                   NaN  15602   \n",
       "3      [Comedy, Drama, Romance]                                   NaN  31357   \n",
       "4                      [Comedy]                                   NaN  11862   \n",
       "\n",
       "     imdb_id original_language               original_title  \\\n",
       "0  tt0114709                en                    Toy Story   \n",
       "1  tt0113497                en                      Jumanji   \n",
       "2  tt0113228                en             Grumpier Old Men   \n",
       "3  tt0114885                en            Waiting to Exhale   \n",
       "4  tt0113041                en  Father of the Bride Part II   \n",
       "\n",
       "                                            overview  ...      revenue  \\\n",
       "0  Led by Woody, Andy's toys live happily in his ...  ...  373554033.0   \n",
       "1  When siblings Judy and Peter discover an encha...  ...  262797249.0   \n",
       "2  A family wedding reignites the ancient feud be...  ...          0.0   \n",
       "3  Cheated on, mistreated and stepped on, the wom...  ...   81452156.0   \n",
       "4  Just when George Banks has recovered from his ...  ...   76578911.0   \n",
       "\n",
       "  runtime                                   spoken_languages    status  \\\n",
       "0    81.0           [{'iso_639_1': 'en', 'name': 'English'}]  Released   \n",
       "1   104.0  [{'iso_639_1': 'en', 'name': 'English'}, {'iso...  Released   \n",
       "2   101.0           [{'iso_639_1': 'en', 'name': 'English'}]  Released   \n",
       "3   127.0           [{'iso_639_1': 'en', 'name': 'English'}]  Released   \n",
       "4   106.0           [{'iso_639_1': 'en', 'name': 'English'}]  Released   \n",
       "\n",
       "                                             tagline  \\\n",
       "0                                                NaN   \n",
       "1          Roll the dice and unleash the excitement!   \n",
       "2  Still Yelling. Still Fighting. Still Ready for...   \n",
       "3  Friends are the people who let you be yourself...   \n",
       "4  Just When His World Is Back To Normal... He's ...   \n",
       "\n",
       "                         title  video vote_average vote_count  year  \n",
       "0                    Toy Story  False          7.7     5415.0  1995  \n",
       "1                      Jumanji  False          6.9     2413.0  1995  \n",
       "2             Grumpier Old Men  False          6.5       92.0  1995  \n",
       "3            Waiting to Exhale  False          6.1       34.0  1995  \n",
       "4  Father of the Bride Part II  False          5.7      173.0  1995  \n",
       "\n",
       "[5 rows x 25 columns]"
      ]
     },
     "execution_count": 15,
     "metadata": {},
     "output_type": "execute_result"
    }
   ],
   "source": [
    "md = md.drop([19730, 29503, 35587])\n",
    "md['id'] = md['id'].astype('int')\n",
    "md.head()"
   ]
  },
  {
   "cell_type": "code",
   "execution_count": 16,
   "id": "ed69f859",
   "metadata": {
    "execution": {
     "iopub.execute_input": "2022-02-22T14:16:07.709670Z",
     "iopub.status.busy": "2022-02-22T14:16:07.708717Z",
     "iopub.status.idle": "2022-02-22T14:16:07.721647Z",
     "shell.execute_reply": "2022-02-22T14:16:07.720942Z",
     "shell.execute_reply.started": "2022-02-22T14:07:21.608524Z"
    },
    "papermill": {
     "duration": 0.089767,
     "end_time": "2022-02-22T14:16:07.721816",
     "exception": false,
     "start_time": "2022-02-22T14:16:07.632049",
     "status": "completed"
    },
    "tags": []
   },
   "outputs": [
    {
     "data": {
      "text/plain": [
       "(9099, 25)"
      ]
     },
     "execution_count": 16,
     "metadata": {},
     "output_type": "execute_result"
    }
   ],
   "source": [
    "smd = md[md['id'].isin(links_small)]\n",
    "smd.shape"
   ]
  },
  {
   "cell_type": "code",
   "execution_count": 17,
   "id": "a90f98dd",
   "metadata": {
    "execution": {
     "iopub.execute_input": "2022-02-22T14:16:07.879080Z",
     "iopub.status.busy": "2022-02-22T14:16:07.878422Z",
     "iopub.status.idle": "2022-02-22T14:16:07.882029Z",
     "shell.execute_reply": "2022-02-22T14:16:07.882651Z",
     "shell.execute_reply.started": "2022-02-22T14:07:21.624988Z"
    },
    "papermill": {
     "duration": 0.089333,
     "end_time": "2022-02-22T14:16:07.882824",
     "exception": false,
     "start_time": "2022-02-22T14:16:07.793491",
     "status": "completed"
    },
    "tags": []
   },
   "outputs": [],
   "source": [
    "#using a subset of all the movies available to us for easier computing."
   ]
  },
  {
   "cell_type": "code",
   "execution_count": 18,
   "id": "513201f8",
   "metadata": {
    "execution": {
     "iopub.execute_input": "2022-02-22T14:16:08.023484Z",
     "iopub.status.busy": "2022-02-22T14:16:08.022797Z",
     "iopub.status.idle": "2022-02-22T14:16:08.043620Z",
     "shell.execute_reply": "2022-02-22T14:16:08.044259Z",
     "shell.execute_reply.started": "2022-02-22T14:07:21.630253Z"
    },
    "papermill": {
     "duration": 0.092508,
     "end_time": "2022-02-22T14:16:08.044456",
     "exception": false,
     "start_time": "2022-02-22T14:16:07.951948",
     "status": "completed"
    },
    "tags": []
   },
   "outputs": [
    {
     "name": "stderr",
     "output_type": "stream",
     "text": [
      "/opt/conda/lib/python3.7/site-packages/ipykernel_launcher.py:1: SettingWithCopyWarning: \n",
      "A value is trying to be set on a copy of a slice from a DataFrame.\n",
      "Try using .loc[row_indexer,col_indexer] = value instead\n",
      "\n",
      "See the caveats in the documentation: https://pandas.pydata.org/pandas-docs/stable/user_guide/indexing.html#returning-a-view-versus-a-copy\n",
      "  \"\"\"Entry point for launching an IPython kernel.\n",
      "/opt/conda/lib/python3.7/site-packages/ipykernel_launcher.py:2: SettingWithCopyWarning: \n",
      "A value is trying to be set on a copy of a slice from a DataFrame.\n",
      "Try using .loc[row_indexer,col_indexer] = value instead\n",
      "\n",
      "See the caveats in the documentation: https://pandas.pydata.org/pandas-docs/stable/user_guide/indexing.html#returning-a-view-versus-a-copy\n",
      "  \n",
      "/opt/conda/lib/python3.7/site-packages/ipykernel_launcher.py:3: SettingWithCopyWarning: \n",
      "A value is trying to be set on a copy of a slice from a DataFrame.\n",
      "Try using .loc[row_indexer,col_indexer] = value instead\n",
      "\n",
      "See the caveats in the documentation: https://pandas.pydata.org/pandas-docs/stable/user_guide/indexing.html#returning-a-view-versus-a-copy\n",
      "  This is separate from the ipykernel package so we can avoid doing imports until\n"
     ]
    }
   ],
   "source": [
    "smd['tagline'] = smd['tagline'].fillna('')\n",
    "smd['description'] = smd['overview'] + smd['tagline']\n",
    "smd['description'] = smd['description'].fillna('')\n",
    "\n",
    "\n",
    "#FOR DESCRIPTION BASED RECOMMENDER"
   ]
  },
  {
   "cell_type": "code",
   "execution_count": 19,
   "id": "aeb0d455",
   "metadata": {
    "execution": {
     "iopub.execute_input": "2022-02-22T14:16:08.185469Z",
     "iopub.status.busy": "2022-02-22T14:16:08.184818Z",
     "iopub.status.idle": "2022-02-22T14:16:10.492234Z",
     "shell.execute_reply": "2022-02-22T14:16:10.491702Z",
     "shell.execute_reply.started": "2022-02-22T14:07:21.663538Z"
    },
    "papermill": {
     "duration": 2.378706,
     "end_time": "2022-02-22T14:16:10.492455",
     "exception": false,
     "start_time": "2022-02-22T14:16:08.113749",
     "status": "completed"
    },
    "tags": []
   },
   "outputs": [
    {
     "data": {
      "text/plain": [
       "(9099, 268124)"
      ]
     },
     "execution_count": 19,
     "metadata": {},
     "output_type": "execute_result"
    }
   ],
   "source": [
    "tf = TfidfVectorizer(analyzer='word',ngram_range=(1, 2),min_df=0, stop_words='english')\n",
    "tfidf_matrix = tf.fit_transform(smd['description'])\n",
    "#Constructing the required TF-IDF matrix by fitting and transforming the data\n",
    "tfidf_matrix.shape"
   ]
  },
  {
   "cell_type": "code",
   "execution_count": 20,
   "id": "dcab74e0",
   "metadata": {
    "execution": {
     "iopub.execute_input": "2022-02-22T14:16:10.640439Z",
     "iopub.status.busy": "2022-02-22T14:16:10.639694Z",
     "iopub.status.idle": "2022-02-22T14:16:10.641769Z",
     "shell.execute_reply": "2022-02-22T14:16:10.641244Z",
     "shell.execute_reply.started": "2022-02-22T14:07:24.116504Z"
    },
    "papermill": {
     "duration": 0.0796,
     "end_time": "2022-02-22T14:16:10.641933",
     "exception": false,
     "start_time": "2022-02-22T14:16:10.562333",
     "status": "completed"
    },
    "tags": []
   },
   "outputs": [],
   "source": [
    "#We see that over 20,000 different words were used to describe the 9099 movies in our dataset."
   ]
  },
  {
   "cell_type": "code",
   "execution_count": 21,
   "id": "7872c9ee",
   "metadata": {
    "execution": {
     "iopub.execute_input": "2022-02-22T14:16:10.788021Z",
     "iopub.status.busy": "2022-02-22T14:16:10.786677Z",
     "iopub.status.idle": "2022-02-22T14:16:12.521454Z",
     "shell.execute_reply": "2022-02-22T14:16:12.520757Z",
     "shell.execute_reply.started": "2022-02-22T14:07:24.123090Z"
    },
    "papermill": {
     "duration": 1.810312,
     "end_time": "2022-02-22T14:16:12.521619",
     "exception": false,
     "start_time": "2022-02-22T14:16:10.711307",
     "status": "completed"
    },
    "tags": []
   },
   "outputs": [],
   "source": [
    "cosine_sim = linear_kernel(tfidf_matrix, tfidf_matrix)"
   ]
  },
  {
   "cell_type": "code",
   "execution_count": 22,
   "id": "614f91f8",
   "metadata": {
    "execution": {
     "iopub.execute_input": "2022-02-22T14:16:12.663738Z",
     "iopub.status.busy": "2022-02-22T14:16:12.662750Z",
     "iopub.status.idle": "2022-02-22T14:16:12.668157Z",
     "shell.execute_reply": "2022-02-22T14:16:12.668629Z",
     "shell.execute_reply.started": "2022-02-22T14:07:26.814260Z"
    },
    "papermill": {
     "duration": 0.078602,
     "end_time": "2022-02-22T14:16:12.668804",
     "exception": false,
     "start_time": "2022-02-22T14:16:12.590202",
     "status": "completed"
    },
    "tags": []
   },
   "outputs": [
    {
     "data": {
      "text/plain": [
       "array([1.        , 0.00680476, 0.        , ..., 0.        , 0.00344913,\n",
       "       0.        ])"
      ]
     },
     "execution_count": 22,
     "metadata": {},
     "output_type": "execute_result"
    }
   ],
   "source": [
    "cosine_sim[0]"
   ]
  },
  {
   "cell_type": "code",
   "execution_count": 23,
   "id": "77b4d92b",
   "metadata": {
    "execution": {
     "iopub.execute_input": "2022-02-22T14:16:12.815810Z",
     "iopub.status.busy": "2022-02-22T14:16:12.812953Z",
     "iopub.status.idle": "2022-02-22T14:16:12.861645Z",
     "shell.execute_reply": "2022-02-22T14:16:12.862154Z",
     "shell.execute_reply.started": "2022-02-22T14:07:26.826398Z"
    },
    "papermill": {
     "duration": 0.122756,
     "end_time": "2022-02-22T14:16:12.862344",
     "exception": false,
     "start_time": "2022-02-22T14:16:12.739588",
     "status": "completed"
    },
    "tags": []
   },
   "outputs": [
    {
     "data": {
      "text/html": [
       "<div>\n",
       "<style scoped>\n",
       "    .dataframe tbody tr th:only-of-type {\n",
       "        vertical-align: middle;\n",
       "    }\n",
       "\n",
       "    .dataframe tbody tr th {\n",
       "        vertical-align: top;\n",
       "    }\n",
       "\n",
       "    .dataframe thead th {\n",
       "        text-align: right;\n",
       "    }\n",
       "</style>\n",
       "<table border=\"1\" class=\"dataframe\">\n",
       "  <thead>\n",
       "    <tr style=\"text-align: right;\">\n",
       "      <th></th>\n",
       "      <th>index</th>\n",
       "      <th>adult</th>\n",
       "      <th>belongs_to_collection</th>\n",
       "      <th>budget</th>\n",
       "      <th>genres</th>\n",
       "      <th>homepage</th>\n",
       "      <th>id</th>\n",
       "      <th>imdb_id</th>\n",
       "      <th>original_language</th>\n",
       "      <th>original_title</th>\n",
       "      <th>...</th>\n",
       "      <th>runtime</th>\n",
       "      <th>spoken_languages</th>\n",
       "      <th>status</th>\n",
       "      <th>tagline</th>\n",
       "      <th>title</th>\n",
       "      <th>video</th>\n",
       "      <th>vote_average</th>\n",
       "      <th>vote_count</th>\n",
       "      <th>year</th>\n",
       "      <th>description</th>\n",
       "    </tr>\n",
       "  </thead>\n",
       "  <tbody>\n",
       "    <tr>\n",
       "      <th>0</th>\n",
       "      <td>0</td>\n",
       "      <td>False</td>\n",
       "      <td>{'id': 10194, 'name': 'Toy Story Collection', ...</td>\n",
       "      <td>30000000</td>\n",
       "      <td>[Animation, Comedy, Family]</td>\n",
       "      <td>http://toystory.disney.com/toy-story</td>\n",
       "      <td>862</td>\n",
       "      <td>tt0114709</td>\n",
       "      <td>en</td>\n",
       "      <td>Toy Story</td>\n",
       "      <td>...</td>\n",
       "      <td>81.0</td>\n",
       "      <td>[{'iso_639_1': 'en', 'name': 'English'}]</td>\n",
       "      <td>Released</td>\n",
       "      <td></td>\n",
       "      <td>Toy Story</td>\n",
       "      <td>False</td>\n",
       "      <td>7.7</td>\n",
       "      <td>5415.0</td>\n",
       "      <td>1995</td>\n",
       "      <td>Led by Woody, Andy's toys live happily in his ...</td>\n",
       "    </tr>\n",
       "    <tr>\n",
       "      <th>1</th>\n",
       "      <td>1</td>\n",
       "      <td>False</td>\n",
       "      <td>NaN</td>\n",
       "      <td>65000000</td>\n",
       "      <td>[Adventure, Fantasy, Family]</td>\n",
       "      <td>NaN</td>\n",
       "      <td>8844</td>\n",
       "      <td>tt0113497</td>\n",
       "      <td>en</td>\n",
       "      <td>Jumanji</td>\n",
       "      <td>...</td>\n",
       "      <td>104.0</td>\n",
       "      <td>[{'iso_639_1': 'en', 'name': 'English'}, {'iso...</td>\n",
       "      <td>Released</td>\n",
       "      <td>Roll the dice and unleash the excitement!</td>\n",
       "      <td>Jumanji</td>\n",
       "      <td>False</td>\n",
       "      <td>6.9</td>\n",
       "      <td>2413.0</td>\n",
       "      <td>1995</td>\n",
       "      <td>When siblings Judy and Peter discover an encha...</td>\n",
       "    </tr>\n",
       "    <tr>\n",
       "      <th>2</th>\n",
       "      <td>2</td>\n",
       "      <td>False</td>\n",
       "      <td>{'id': 119050, 'name': 'Grumpy Old Men Collect...</td>\n",
       "      <td>0</td>\n",
       "      <td>[Romance, Comedy]</td>\n",
       "      <td>NaN</td>\n",
       "      <td>15602</td>\n",
       "      <td>tt0113228</td>\n",
       "      <td>en</td>\n",
       "      <td>Grumpier Old Men</td>\n",
       "      <td>...</td>\n",
       "      <td>101.0</td>\n",
       "      <td>[{'iso_639_1': 'en', 'name': 'English'}]</td>\n",
       "      <td>Released</td>\n",
       "      <td>Still Yelling. Still Fighting. Still Ready for...</td>\n",
       "      <td>Grumpier Old Men</td>\n",
       "      <td>False</td>\n",
       "      <td>6.5</td>\n",
       "      <td>92.0</td>\n",
       "      <td>1995</td>\n",
       "      <td>A family wedding reignites the ancient feud be...</td>\n",
       "    </tr>\n",
       "    <tr>\n",
       "      <th>3</th>\n",
       "      <td>3</td>\n",
       "      <td>False</td>\n",
       "      <td>NaN</td>\n",
       "      <td>16000000</td>\n",
       "      <td>[Comedy, Drama, Romance]</td>\n",
       "      <td>NaN</td>\n",
       "      <td>31357</td>\n",
       "      <td>tt0114885</td>\n",
       "      <td>en</td>\n",
       "      <td>Waiting to Exhale</td>\n",
       "      <td>...</td>\n",
       "      <td>127.0</td>\n",
       "      <td>[{'iso_639_1': 'en', 'name': 'English'}]</td>\n",
       "      <td>Released</td>\n",
       "      <td>Friends are the people who let you be yourself...</td>\n",
       "      <td>Waiting to Exhale</td>\n",
       "      <td>False</td>\n",
       "      <td>6.1</td>\n",
       "      <td>34.0</td>\n",
       "      <td>1995</td>\n",
       "      <td>Cheated on, mistreated and stepped on, the wom...</td>\n",
       "    </tr>\n",
       "    <tr>\n",
       "      <th>4</th>\n",
       "      <td>4</td>\n",
       "      <td>False</td>\n",
       "      <td>{'id': 96871, 'name': 'Father of the Bride Col...</td>\n",
       "      <td>0</td>\n",
       "      <td>[Comedy]</td>\n",
       "      <td>NaN</td>\n",
       "      <td>11862</td>\n",
       "      <td>tt0113041</td>\n",
       "      <td>en</td>\n",
       "      <td>Father of the Bride Part II</td>\n",
       "      <td>...</td>\n",
       "      <td>106.0</td>\n",
       "      <td>[{'iso_639_1': 'en', 'name': 'English'}]</td>\n",
       "      <td>Released</td>\n",
       "      <td>Just When His World Is Back To Normal... He's ...</td>\n",
       "      <td>Father of the Bride Part II</td>\n",
       "      <td>False</td>\n",
       "      <td>5.7</td>\n",
       "      <td>173.0</td>\n",
       "      <td>1995</td>\n",
       "      <td>Just when George Banks has recovered from his ...</td>\n",
       "    </tr>\n",
       "  </tbody>\n",
       "</table>\n",
       "<p>5 rows × 27 columns</p>\n",
       "</div>"
      ],
      "text/plain": [
       "   index  adult                              belongs_to_collection    budget  \\\n",
       "0      0  False  {'id': 10194, 'name': 'Toy Story Collection', ...  30000000   \n",
       "1      1  False                                                NaN  65000000   \n",
       "2      2  False  {'id': 119050, 'name': 'Grumpy Old Men Collect...         0   \n",
       "3      3  False                                                NaN  16000000   \n",
       "4      4  False  {'id': 96871, 'name': 'Father of the Bride Col...         0   \n",
       "\n",
       "                         genres                              homepage     id  \\\n",
       "0   [Animation, Comedy, Family]  http://toystory.disney.com/toy-story    862   \n",
       "1  [Adventure, Fantasy, Family]                                   NaN   8844   \n",
       "2             [Romance, Comedy]                                   NaN  15602   \n",
       "3      [Comedy, Drama, Romance]                                   NaN  31357   \n",
       "4                      [Comedy]                                   NaN  11862   \n",
       "\n",
       "     imdb_id original_language               original_title  ... runtime  \\\n",
       "0  tt0114709                en                    Toy Story  ...    81.0   \n",
       "1  tt0113497                en                      Jumanji  ...   104.0   \n",
       "2  tt0113228                en             Grumpier Old Men  ...   101.0   \n",
       "3  tt0114885                en            Waiting to Exhale  ...   127.0   \n",
       "4  tt0113041                en  Father of the Bride Part II  ...   106.0   \n",
       "\n",
       "                                    spoken_languages    status  \\\n",
       "0           [{'iso_639_1': 'en', 'name': 'English'}]  Released   \n",
       "1  [{'iso_639_1': 'en', 'name': 'English'}, {'iso...  Released   \n",
       "2           [{'iso_639_1': 'en', 'name': 'English'}]  Released   \n",
       "3           [{'iso_639_1': 'en', 'name': 'English'}]  Released   \n",
       "4           [{'iso_639_1': 'en', 'name': 'English'}]  Released   \n",
       "\n",
       "                                             tagline  \\\n",
       "0                                                      \n",
       "1          Roll the dice and unleash the excitement!   \n",
       "2  Still Yelling. Still Fighting. Still Ready for...   \n",
       "3  Friends are the people who let you be yourself...   \n",
       "4  Just When His World Is Back To Normal... He's ...   \n",
       "\n",
       "                         title  video  vote_average  vote_count  year  \\\n",
       "0                    Toy Story  False           7.7      5415.0  1995   \n",
       "1                      Jumanji  False           6.9      2413.0  1995   \n",
       "2             Grumpier Old Men  False           6.5        92.0  1995   \n",
       "3            Waiting to Exhale  False           6.1        34.0  1995   \n",
       "4  Father of the Bride Part II  False           5.7       173.0  1995   \n",
       "\n",
       "                                         description  \n",
       "0  Led by Woody, Andy's toys live happily in his ...  \n",
       "1  When siblings Judy and Peter discover an encha...  \n",
       "2  A family wedding reignites the ancient feud be...  \n",
       "3  Cheated on, mistreated and stepped on, the wom...  \n",
       "4  Just when George Banks has recovered from his ...  \n",
       "\n",
       "[5 rows x 27 columns]"
      ]
     },
     "execution_count": 23,
     "metadata": {},
     "output_type": "execute_result"
    }
   ],
   "source": [
    "smd = smd.reset_index()\n",
    "titles = smd['title']\n",
    "indices = pd.Series(smd.index, index=smd['title'])\n",
    "smd.head()"
   ]
  },
  {
   "cell_type": "code",
   "execution_count": 24,
   "id": "018fd287",
   "metadata": {
    "execution": {
     "iopub.execute_input": "2022-02-22T14:16:13.008909Z",
     "iopub.status.busy": "2022-02-22T14:16:13.008182Z",
     "iopub.status.idle": "2022-02-22T14:16:13.013979Z",
     "shell.execute_reply": "2022-02-22T14:16:13.014489Z",
     "shell.execute_reply.started": "2022-02-22T14:07:27.024913Z"
    },
    "papermill": {
     "duration": 0.080789,
     "end_time": "2022-02-22T14:16:13.014682",
     "exception": false,
     "start_time": "2022-02-22T14:16:12.933893",
     "status": "completed"
    },
    "tags": []
   },
   "outputs": [],
   "source": [
    "def get_recommendations(title):\n",
    "    idx = indices[title]\n",
    "    sim_scores = list(enumerate(cosine_sim[idx]))\n",
    "    sim_scores = sorted(sim_scores, key=lambda x: x[1], reverse=True)\n",
    "    sim_scores = sim_scores[1:31]\n",
    "    movie_indices = [i[0] for i in sim_scores]\n",
    "    return titles.iloc[movie_indices]"
   ]
  },
  {
   "cell_type": "code",
   "execution_count": 25,
   "id": "58fe5ce9",
   "metadata": {
    "execution": {
     "iopub.execute_input": "2022-02-22T14:16:13.161030Z",
     "iopub.status.busy": "2022-02-22T14:16:13.160084Z",
     "iopub.status.idle": "2022-02-22T14:16:13.187255Z",
     "shell.execute_reply": "2022-02-22T14:16:13.186596Z",
     "shell.execute_reply.started": "2022-02-22T14:07:27.034565Z"
    },
    "papermill": {
     "duration": 0.100458,
     "end_time": "2022-02-22T14:16:13.187418",
     "exception": false,
     "start_time": "2022-02-22T14:16:13.086960",
     "status": "completed"
    },
    "tags": []
   },
   "outputs": [
    {
     "data": {
      "text/plain": [
       "973      The Godfather: Part II\n",
       "8387                 The Family\n",
       "3509                       Made\n",
       "4196         Johnny Dangerously\n",
       "29               Shanghai Triad\n",
       "5667                       Fury\n",
       "2412             American Movie\n",
       "1582    The Godfather: Part III\n",
       "4221                    8 Women\n",
       "2159              Summer of Sam\n",
       "Name: title, dtype: object"
      ]
     },
     "execution_count": 25,
     "metadata": {},
     "output_type": "execute_result"
    }
   ],
   "source": [
    "get_recommendations('The Godfather').head(10)"
   ]
  },
  {
   "cell_type": "code",
   "execution_count": 26,
   "id": "113e7bc5",
   "metadata": {
    "execution": {
     "iopub.execute_input": "2022-02-22T14:16:13.334766Z",
     "iopub.status.busy": "2022-02-22T14:16:13.333819Z",
     "iopub.status.idle": "2022-02-22T14:16:13.337113Z",
     "shell.execute_reply": "2022-02-22T14:16:13.336580Z",
     "shell.execute_reply.started": "2022-02-22T14:07:27.069783Z"
    },
    "papermill": {
     "duration": 0.078581,
     "end_time": "2022-02-22T14:16:13.337255",
     "exception": false,
     "start_time": "2022-02-22T14:16:13.258674",
     "status": "completed"
    },
    "tags": []
   },
   "outputs": [],
   "source": [
    "#INCLUDING CREDITS, KEYWORDS, CREW AND CASTS AS A CRITERIA TO MAKE THE PREDICTIONS MORE ACCURATE"
   ]
  },
  {
   "cell_type": "code",
   "execution_count": 27,
   "id": "23f30ad8",
   "metadata": {
    "execution": {
     "iopub.execute_input": "2022-02-22T14:16:13.482706Z",
     "iopub.status.busy": "2022-02-22T14:16:13.482029Z",
     "iopub.status.idle": "2022-02-22T14:16:18.389580Z",
     "shell.execute_reply": "2022-02-22T14:16:18.388911Z",
     "shell.execute_reply.started": "2022-02-22T14:07:27.082789Z"
    },
    "papermill": {
     "duration": 4.982554,
     "end_time": "2022-02-22T14:16:18.389745",
     "exception": false,
     "start_time": "2022-02-22T14:16:13.407191",
     "status": "completed"
    },
    "tags": []
   },
   "outputs": [],
   "source": [
    "credits = pd.read_csv('../input/moviesdataset/credits.csv')\n",
    "keywords = pd.read_csv('../input/moviesdataset/keywords.csv')\n"
   ]
  },
  {
   "cell_type": "code",
   "execution_count": null,
   "id": "6b01f05d",
   "metadata": {
    "papermill": {
     "duration": 0.070542,
     "end_time": "2022-02-22T14:16:18.533733",
     "exception": false,
     "start_time": "2022-02-22T14:16:18.463191",
     "status": "completed"
    },
    "tags": []
   },
   "outputs": [],
   "source": []
  },
  {
   "cell_type": "code",
   "execution_count": null,
   "id": "cf18e4a1",
   "metadata": {
    "papermill": {
     "duration": 0.070206,
     "end_time": "2022-02-22T14:16:18.674424",
     "exception": false,
     "start_time": "2022-02-22T14:16:18.604218",
     "status": "completed"
    },
    "tags": []
   },
   "outputs": [],
   "source": []
  },
  {
   "cell_type": "code",
   "execution_count": 28,
   "id": "66f80d38",
   "metadata": {
    "execution": {
     "iopub.execute_input": "2022-02-22T14:16:18.824883Z",
     "iopub.status.busy": "2022-02-22T14:16:18.824204Z",
     "iopub.status.idle": "2022-02-22T14:16:18.829352Z",
     "shell.execute_reply": "2022-02-22T14:16:18.828809Z",
     "shell.execute_reply.started": "2022-02-22T14:07:31.301369Z"
    },
    "papermill": {
     "duration": 0.082696,
     "end_time": "2022-02-22T14:16:18.829506",
     "exception": false,
     "start_time": "2022-02-22T14:16:18.746810",
     "status": "completed"
    },
    "tags": []
   },
   "outputs": [],
   "source": [
    "keywords['id'] = keywords['id'].astype('int')\n",
    "credits['id'] = credits['id'].astype('int')\n",
    "md['id'] = md['id'].astype('int')"
   ]
  },
  {
   "cell_type": "code",
   "execution_count": 29,
   "id": "f65be2a6",
   "metadata": {
    "execution": {
     "iopub.execute_input": "2022-02-22T14:16:18.981802Z",
     "iopub.status.busy": "2022-02-22T14:16:18.980601Z",
     "iopub.status.idle": "2022-02-22T14:16:18.984129Z",
     "shell.execute_reply": "2022-02-22T14:16:18.984622Z",
     "shell.execute_reply.started": "2022-02-22T14:07:31.312126Z"
    },
    "papermill": {
     "duration": 0.082785,
     "end_time": "2022-02-22T14:16:18.984789",
     "exception": false,
     "start_time": "2022-02-22T14:16:18.902004",
     "status": "completed"
    },
    "tags": []
   },
   "outputs": [
    {
     "data": {
      "text/plain": [
       "(45463, 25)"
      ]
     },
     "execution_count": 29,
     "metadata": {},
     "output_type": "execute_result"
    }
   ],
   "source": [
    "md.shape"
   ]
  },
  {
   "cell_type": "code",
   "execution_count": 30,
   "id": "5344fcf8",
   "metadata": {
    "execution": {
     "iopub.execute_input": "2022-02-22T14:16:19.134834Z",
     "iopub.status.busy": "2022-02-22T14:16:19.134160Z",
     "iopub.status.idle": "2022-02-22T14:16:19.322479Z",
     "shell.execute_reply": "2022-02-22T14:16:19.321510Z",
     "shell.execute_reply.started": "2022-02-22T14:07:31.327363Z"
    },
    "papermill": {
     "duration": 0.266592,
     "end_time": "2022-02-22T14:16:19.322630",
     "exception": false,
     "start_time": "2022-02-22T14:16:19.056038",
     "status": "completed"
    },
    "tags": []
   },
   "outputs": [
    {
     "data": {
      "text/html": [
       "<div>\n",
       "<style scoped>\n",
       "    .dataframe tbody tr th:only-of-type {\n",
       "        vertical-align: middle;\n",
       "    }\n",
       "\n",
       "    .dataframe tbody tr th {\n",
       "        vertical-align: top;\n",
       "    }\n",
       "\n",
       "    .dataframe thead th {\n",
       "        text-align: right;\n",
       "    }\n",
       "</style>\n",
       "<table border=\"1\" class=\"dataframe\">\n",
       "  <thead>\n",
       "    <tr style=\"text-align: right;\">\n",
       "      <th></th>\n",
       "      <th>adult</th>\n",
       "      <th>belongs_to_collection</th>\n",
       "      <th>budget</th>\n",
       "      <th>genres</th>\n",
       "      <th>homepage</th>\n",
       "      <th>id</th>\n",
       "      <th>imdb_id</th>\n",
       "      <th>original_language</th>\n",
       "      <th>original_title</th>\n",
       "      <th>overview</th>\n",
       "      <th>...</th>\n",
       "      <th>status</th>\n",
       "      <th>tagline</th>\n",
       "      <th>title</th>\n",
       "      <th>video</th>\n",
       "      <th>vote_average</th>\n",
       "      <th>vote_count</th>\n",
       "      <th>year</th>\n",
       "      <th>cast</th>\n",
       "      <th>crew</th>\n",
       "      <th>keywords</th>\n",
       "    </tr>\n",
       "  </thead>\n",
       "  <tbody>\n",
       "    <tr>\n",
       "      <th>0</th>\n",
       "      <td>False</td>\n",
       "      <td>{'id': 10194, 'name': 'Toy Story Collection', ...</td>\n",
       "      <td>30000000</td>\n",
       "      <td>[Animation, Comedy, Family]</td>\n",
       "      <td>http://toystory.disney.com/toy-story</td>\n",
       "      <td>862</td>\n",
       "      <td>tt0114709</td>\n",
       "      <td>en</td>\n",
       "      <td>Toy Story</td>\n",
       "      <td>Led by Woody, Andy's toys live happily in his ...</td>\n",
       "      <td>...</td>\n",
       "      <td>Released</td>\n",
       "      <td>NaN</td>\n",
       "      <td>Toy Story</td>\n",
       "      <td>False</td>\n",
       "      <td>7.7</td>\n",
       "      <td>5415.0</td>\n",
       "      <td>1995</td>\n",
       "      <td>[{'cast_id': 14, 'character': 'Woody (voice)',...</td>\n",
       "      <td>[{'credit_id': '52fe4284c3a36847f8024f49', 'de...</td>\n",
       "      <td>[{'id': 931, 'name': 'jealousy'}, {'id': 4290,...</td>\n",
       "    </tr>\n",
       "    <tr>\n",
       "      <th>1</th>\n",
       "      <td>False</td>\n",
       "      <td>NaN</td>\n",
       "      <td>65000000</td>\n",
       "      <td>[Adventure, Fantasy, Family]</td>\n",
       "      <td>NaN</td>\n",
       "      <td>8844</td>\n",
       "      <td>tt0113497</td>\n",
       "      <td>en</td>\n",
       "      <td>Jumanji</td>\n",
       "      <td>When siblings Judy and Peter discover an encha...</td>\n",
       "      <td>...</td>\n",
       "      <td>Released</td>\n",
       "      <td>Roll the dice and unleash the excitement!</td>\n",
       "      <td>Jumanji</td>\n",
       "      <td>False</td>\n",
       "      <td>6.9</td>\n",
       "      <td>2413.0</td>\n",
       "      <td>1995</td>\n",
       "      <td>[{'cast_id': 1, 'character': 'Alan Parrish', '...</td>\n",
       "      <td>[{'credit_id': '52fe44bfc3a36847f80a7cd1', 'de...</td>\n",
       "      <td>[{'id': 10090, 'name': 'board game'}, {'id': 1...</td>\n",
       "    </tr>\n",
       "    <tr>\n",
       "      <th>2</th>\n",
       "      <td>False</td>\n",
       "      <td>{'id': 119050, 'name': 'Grumpy Old Men Collect...</td>\n",
       "      <td>0</td>\n",
       "      <td>[Romance, Comedy]</td>\n",
       "      <td>NaN</td>\n",
       "      <td>15602</td>\n",
       "      <td>tt0113228</td>\n",
       "      <td>en</td>\n",
       "      <td>Grumpier Old Men</td>\n",
       "      <td>A family wedding reignites the ancient feud be...</td>\n",
       "      <td>...</td>\n",
       "      <td>Released</td>\n",
       "      <td>Still Yelling. Still Fighting. Still Ready for...</td>\n",
       "      <td>Grumpier Old Men</td>\n",
       "      <td>False</td>\n",
       "      <td>6.5</td>\n",
       "      <td>92.0</td>\n",
       "      <td>1995</td>\n",
       "      <td>[{'cast_id': 2, 'character': 'Max Goldman', 'c...</td>\n",
       "      <td>[{'credit_id': '52fe466a9251416c75077a89', 'de...</td>\n",
       "      <td>[{'id': 1495, 'name': 'fishing'}, {'id': 12392...</td>\n",
       "    </tr>\n",
       "    <tr>\n",
       "      <th>3</th>\n",
       "      <td>False</td>\n",
       "      <td>NaN</td>\n",
       "      <td>16000000</td>\n",
       "      <td>[Comedy, Drama, Romance]</td>\n",
       "      <td>NaN</td>\n",
       "      <td>31357</td>\n",
       "      <td>tt0114885</td>\n",
       "      <td>en</td>\n",
       "      <td>Waiting to Exhale</td>\n",
       "      <td>Cheated on, mistreated and stepped on, the wom...</td>\n",
       "      <td>...</td>\n",
       "      <td>Released</td>\n",
       "      <td>Friends are the people who let you be yourself...</td>\n",
       "      <td>Waiting to Exhale</td>\n",
       "      <td>False</td>\n",
       "      <td>6.1</td>\n",
       "      <td>34.0</td>\n",
       "      <td>1995</td>\n",
       "      <td>[{'cast_id': 1, 'character': \"Savannah 'Vannah...</td>\n",
       "      <td>[{'credit_id': '52fe44779251416c91011acb', 'de...</td>\n",
       "      <td>[{'id': 818, 'name': 'based on novel'}, {'id':...</td>\n",
       "    </tr>\n",
       "    <tr>\n",
       "      <th>4</th>\n",
       "      <td>False</td>\n",
       "      <td>{'id': 96871, 'name': 'Father of the Bride Col...</td>\n",
       "      <td>0</td>\n",
       "      <td>[Comedy]</td>\n",
       "      <td>NaN</td>\n",
       "      <td>11862</td>\n",
       "      <td>tt0113041</td>\n",
       "      <td>en</td>\n",
       "      <td>Father of the Bride Part II</td>\n",
       "      <td>Just when George Banks has recovered from his ...</td>\n",
       "      <td>...</td>\n",
       "      <td>Released</td>\n",
       "      <td>Just When His World Is Back To Normal... He's ...</td>\n",
       "      <td>Father of the Bride Part II</td>\n",
       "      <td>False</td>\n",
       "      <td>5.7</td>\n",
       "      <td>173.0</td>\n",
       "      <td>1995</td>\n",
       "      <td>[{'cast_id': 1, 'character': 'George Banks', '...</td>\n",
       "      <td>[{'credit_id': '52fe44959251416c75039ed7', 'de...</td>\n",
       "      <td>[{'id': 1009, 'name': 'baby'}, {'id': 1599, 'n...</td>\n",
       "    </tr>\n",
       "  </tbody>\n",
       "</table>\n",
       "<p>5 rows × 28 columns</p>\n",
       "</div>"
      ],
      "text/plain": [
       "   adult                              belongs_to_collection    budget  \\\n",
       "0  False  {'id': 10194, 'name': 'Toy Story Collection', ...  30000000   \n",
       "1  False                                                NaN  65000000   \n",
       "2  False  {'id': 119050, 'name': 'Grumpy Old Men Collect...         0   \n",
       "3  False                                                NaN  16000000   \n",
       "4  False  {'id': 96871, 'name': 'Father of the Bride Col...         0   \n",
       "\n",
       "                         genres                              homepage     id  \\\n",
       "0   [Animation, Comedy, Family]  http://toystory.disney.com/toy-story    862   \n",
       "1  [Adventure, Fantasy, Family]                                   NaN   8844   \n",
       "2             [Romance, Comedy]                                   NaN  15602   \n",
       "3      [Comedy, Drama, Romance]                                   NaN  31357   \n",
       "4                      [Comedy]                                   NaN  11862   \n",
       "\n",
       "     imdb_id original_language               original_title  \\\n",
       "0  tt0114709                en                    Toy Story   \n",
       "1  tt0113497                en                      Jumanji   \n",
       "2  tt0113228                en             Grumpier Old Men   \n",
       "3  tt0114885                en            Waiting to Exhale   \n",
       "4  tt0113041                en  Father of the Bride Part II   \n",
       "\n",
       "                                            overview  ...    status  \\\n",
       "0  Led by Woody, Andy's toys live happily in his ...  ...  Released   \n",
       "1  When siblings Judy and Peter discover an encha...  ...  Released   \n",
       "2  A family wedding reignites the ancient feud be...  ...  Released   \n",
       "3  Cheated on, mistreated and stepped on, the wom...  ...  Released   \n",
       "4  Just when George Banks has recovered from his ...  ...  Released   \n",
       "\n",
       "                                             tagline  \\\n",
       "0                                                NaN   \n",
       "1          Roll the dice and unleash the excitement!   \n",
       "2  Still Yelling. Still Fighting. Still Ready for...   \n",
       "3  Friends are the people who let you be yourself...   \n",
       "4  Just When His World Is Back To Normal... He's ...   \n",
       "\n",
       "                         title  video vote_average  vote_count  year  \\\n",
       "0                    Toy Story  False          7.7      5415.0  1995   \n",
       "1                      Jumanji  False          6.9      2413.0  1995   \n",
       "2             Grumpier Old Men  False          6.5        92.0  1995   \n",
       "3            Waiting to Exhale  False          6.1        34.0  1995   \n",
       "4  Father of the Bride Part II  False          5.7       173.0  1995   \n",
       "\n",
       "                                                cast  \\\n",
       "0  [{'cast_id': 14, 'character': 'Woody (voice)',...   \n",
       "1  [{'cast_id': 1, 'character': 'Alan Parrish', '...   \n",
       "2  [{'cast_id': 2, 'character': 'Max Goldman', 'c...   \n",
       "3  [{'cast_id': 1, 'character': \"Savannah 'Vannah...   \n",
       "4  [{'cast_id': 1, 'character': 'George Banks', '...   \n",
       "\n",
       "                                                crew  \\\n",
       "0  [{'credit_id': '52fe4284c3a36847f8024f49', 'de...   \n",
       "1  [{'credit_id': '52fe44bfc3a36847f80a7cd1', 'de...   \n",
       "2  [{'credit_id': '52fe466a9251416c75077a89', 'de...   \n",
       "3  [{'credit_id': '52fe44779251416c91011acb', 'de...   \n",
       "4  [{'credit_id': '52fe44959251416c75039ed7', 'de...   \n",
       "\n",
       "                                            keywords  \n",
       "0  [{'id': 931, 'name': 'jealousy'}, {'id': 4290,...  \n",
       "1  [{'id': 10090, 'name': 'board game'}, {'id': 1...  \n",
       "2  [{'id': 1495, 'name': 'fishing'}, {'id': 12392...  \n",
       "3  [{'id': 818, 'name': 'based on novel'}, {'id':...  \n",
       "4  [{'id': 1009, 'name': 'baby'}, {'id': 1599, 'n...  \n",
       "\n",
       "[5 rows x 28 columns]"
      ]
     },
     "execution_count": 30,
     "metadata": {},
     "output_type": "execute_result"
    }
   ],
   "source": [
    "md = md.merge(credits, on='id')\n",
    "md = md.merge(keywords, on='id')\n",
    "md.head()"
   ]
  },
  {
   "cell_type": "code",
   "execution_count": 31,
   "id": "a34816bd",
   "metadata": {
    "execution": {
     "iopub.execute_input": "2022-02-22T14:16:19.469723Z",
     "iopub.status.busy": "2022-02-22T14:16:19.469019Z",
     "iopub.status.idle": "2022-02-22T14:16:19.539985Z",
     "shell.execute_reply": "2022-02-22T14:16:19.539241Z",
     "shell.execute_reply.started": "2022-02-22T14:07:31.524644Z"
    },
    "papermill": {
     "duration": 0.146084,
     "end_time": "2022-02-22T14:16:19.540150",
     "exception": false,
     "start_time": "2022-02-22T14:16:19.394066",
     "status": "completed"
    },
    "tags": []
   },
   "outputs": [
    {
     "data": {
      "text/plain": [
       "(9219, 28)"
      ]
     },
     "execution_count": 31,
     "metadata": {},
     "output_type": "execute_result"
    }
   ],
   "source": [
    "smd = md[md['id'].isin(links_small)]\n",
    "smd.shape"
   ]
  },
  {
   "cell_type": "code",
   "execution_count": 32,
   "id": "4d427bd2",
   "metadata": {
    "execution": {
     "iopub.execute_input": "2022-02-22T14:16:19.707457Z",
     "iopub.status.busy": "2022-02-22T14:16:19.701924Z",
     "iopub.status.idle": "2022-02-22T14:16:34.104796Z",
     "shell.execute_reply": "2022-02-22T14:16:34.105603Z",
     "shell.execute_reply.started": "2022-02-22T14:07:31.583028Z"
    },
    "papermill": {
     "duration": 14.492836,
     "end_time": "2022-02-22T14:16:34.105854",
     "exception": false,
     "start_time": "2022-02-22T14:16:19.613018",
     "status": "completed"
    },
    "tags": []
   },
   "outputs": [
    {
     "name": "stderr",
     "output_type": "stream",
     "text": [
      "/opt/conda/lib/python3.7/site-packages/ipykernel_launcher.py:1: SettingWithCopyWarning: \n",
      "A value is trying to be set on a copy of a slice from a DataFrame.\n",
      "Try using .loc[row_indexer,col_indexer] = value instead\n",
      "\n",
      "See the caveats in the documentation: https://pandas.pydata.org/pandas-docs/stable/user_guide/indexing.html#returning-a-view-versus-a-copy\n",
      "  \"\"\"Entry point for launching an IPython kernel.\n",
      "/opt/conda/lib/python3.7/site-packages/ipykernel_launcher.py:2: SettingWithCopyWarning: \n",
      "A value is trying to be set on a copy of a slice from a DataFrame.\n",
      "Try using .loc[row_indexer,col_indexer] = value instead\n",
      "\n",
      "See the caveats in the documentation: https://pandas.pydata.org/pandas-docs/stable/user_guide/indexing.html#returning-a-view-versus-a-copy\n",
      "  \n",
      "/opt/conda/lib/python3.7/site-packages/ipykernel_launcher.py:3: SettingWithCopyWarning: \n",
      "A value is trying to be set on a copy of a slice from a DataFrame.\n",
      "Try using .loc[row_indexer,col_indexer] = value instead\n",
      "\n",
      "See the caveats in the documentation: https://pandas.pydata.org/pandas-docs/stable/user_guide/indexing.html#returning-a-view-versus-a-copy\n",
      "  This is separate from the ipykernel package so we can avoid doing imports until\n",
      "/opt/conda/lib/python3.7/site-packages/ipykernel_launcher.py:4: SettingWithCopyWarning: \n",
      "A value is trying to be set on a copy of a slice from a DataFrame.\n",
      "Try using .loc[row_indexer,col_indexer] = value instead\n",
      "\n",
      "See the caveats in the documentation: https://pandas.pydata.org/pandas-docs/stable/user_guide/indexing.html#returning-a-view-versus-a-copy\n",
      "  after removing the cwd from sys.path.\n",
      "/opt/conda/lib/python3.7/site-packages/ipykernel_launcher.py:5: SettingWithCopyWarning: \n",
      "A value is trying to be set on a copy of a slice from a DataFrame.\n",
      "Try using .loc[row_indexer,col_indexer] = value instead\n",
      "\n",
      "See the caveats in the documentation: https://pandas.pydata.org/pandas-docs/stable/user_guide/indexing.html#returning-a-view-versus-a-copy\n",
      "  \"\"\"\n"
     ]
    }
   ],
   "source": [
    "smd['cast'] = smd['cast'].apply(literal_eval)\n",
    "smd['crew'] = smd['crew'].apply(literal_eval)\n",
    "smd['keywords'] = smd['keywords'].apply(literal_eval)\n",
    "smd['cast_size'] = smd['cast'].apply(lambda x: len(x))\n",
    "smd['crew_size'] = smd['crew'].apply(lambda x: len(x))"
   ]
  },
  {
   "cell_type": "code",
   "execution_count": 33,
   "id": "53f7a9f1",
   "metadata": {
    "execution": {
     "iopub.execute_input": "2022-02-22T14:16:34.258805Z",
     "iopub.status.busy": "2022-02-22T14:16:34.258113Z",
     "iopub.status.idle": "2022-02-22T14:16:34.261076Z",
     "shell.execute_reply": "2022-02-22T14:16:34.260472Z",
     "shell.execute_reply.started": "2022-02-22T14:08:19.805222Z"
    },
    "papermill": {
     "duration": 0.081398,
     "end_time": "2022-02-22T14:16:34.261217",
     "exception": false,
     "start_time": "2022-02-22T14:16:34.179819",
     "status": "completed"
    },
    "tags": []
   },
   "outputs": [],
   "source": [
    "def get_director(x):\n",
    "    for i in x:\n",
    "        if i['job'] == 'Director':\n",
    "            return i['name']\n",
    "    return np.nan"
   ]
  },
  {
   "cell_type": "code",
   "execution_count": 34,
   "id": "950f796e",
   "metadata": {
    "execution": {
     "iopub.execute_input": "2022-02-22T14:16:34.439702Z",
     "iopub.status.busy": "2022-02-22T14:16:34.434499Z",
     "iopub.status.idle": "2022-02-22T14:16:34.449717Z",
     "shell.execute_reply": "2022-02-22T14:16:34.450355Z",
     "shell.execute_reply.started": "2022-02-22T14:08:19.814150Z"
    },
    "papermill": {
     "duration": 0.115412,
     "end_time": "2022-02-22T14:16:34.450538",
     "exception": false,
     "start_time": "2022-02-22T14:16:34.335126",
     "status": "completed"
    },
    "tags": []
   },
   "outputs": [
    {
     "name": "stderr",
     "output_type": "stream",
     "text": [
      "/opt/conda/lib/python3.7/site-packages/ipykernel_launcher.py:1: SettingWithCopyWarning: \n",
      "A value is trying to be set on a copy of a slice from a DataFrame.\n",
      "Try using .loc[row_indexer,col_indexer] = value instead\n",
      "\n",
      "See the caveats in the documentation: https://pandas.pydata.org/pandas-docs/stable/user_guide/indexing.html#returning-a-view-versus-a-copy\n",
      "  \"\"\"Entry point for launching an IPython kernel.\n"
     ]
    }
   ],
   "source": [
    "smd['director'] = smd['crew'].apply(get_director)"
   ]
  },
  {
   "cell_type": "code",
   "execution_count": 35,
   "id": "4888db89",
   "metadata": {
    "execution": {
     "iopub.execute_input": "2022-02-22T14:16:34.602500Z",
     "iopub.status.busy": "2022-02-22T14:16:34.601487Z",
     "iopub.status.idle": "2022-02-22T14:16:34.769855Z",
     "shell.execute_reply": "2022-02-22T14:16:34.770354Z",
     "shell.execute_reply.started": "2022-02-22T14:08:19.850929Z"
    },
    "papermill": {
     "duration": 0.246886,
     "end_time": "2022-02-22T14:16:34.770539",
     "exception": false,
     "start_time": "2022-02-22T14:16:34.523653",
     "status": "completed"
    },
    "tags": []
   },
   "outputs": [
    {
     "name": "stderr",
     "output_type": "stream",
     "text": [
      "/opt/conda/lib/python3.7/site-packages/ipykernel_launcher.py:1: SettingWithCopyWarning: \n",
      "A value is trying to be set on a copy of a slice from a DataFrame.\n",
      "Try using .loc[row_indexer,col_indexer] = value instead\n",
      "\n",
      "See the caveats in the documentation: https://pandas.pydata.org/pandas-docs/stable/user_guide/indexing.html#returning-a-view-versus-a-copy\n",
      "  \"\"\"Entry point for launching an IPython kernel.\n",
      "/opt/conda/lib/python3.7/site-packages/ipykernel_launcher.py:2: SettingWithCopyWarning: \n",
      "A value is trying to be set on a copy of a slice from a DataFrame.\n",
      "Try using .loc[row_indexer,col_indexer] = value instead\n",
      "\n",
      "See the caveats in the documentation: https://pandas.pydata.org/pandas-docs/stable/user_guide/indexing.html#returning-a-view-versus-a-copy\n",
      "  \n"
     ]
    }
   ],
   "source": [
    "smd['cast'] = smd['cast'].apply(lambda x: [i['name'] for i in x] if isinstance(x, list) else [])\n",
    "smd['cast'] = smd['cast'].apply(lambda x: x[:3] if len(x) >=3 else x)"
   ]
  },
  {
   "cell_type": "code",
   "execution_count": 36,
   "id": "74c20635",
   "metadata": {
    "execution": {
     "iopub.execute_input": "2022-02-22T14:16:34.967897Z",
     "iopub.status.busy": "2022-02-22T14:16:34.933381Z",
     "iopub.status.idle": "2022-02-22T14:16:34.971249Z",
     "shell.execute_reply": "2022-02-22T14:16:34.970599Z",
     "shell.execute_reply.started": "2022-02-22T14:08:20.026792Z"
    },
    "papermill": {
     "duration": 0.127073,
     "end_time": "2022-02-22T14:16:34.971432",
     "exception": false,
     "start_time": "2022-02-22T14:16:34.844359",
     "status": "completed"
    },
    "tags": []
   },
   "outputs": [
    {
     "name": "stderr",
     "output_type": "stream",
     "text": [
      "/opt/conda/lib/python3.7/site-packages/ipykernel_launcher.py:1: SettingWithCopyWarning: \n",
      "A value is trying to be set on a copy of a slice from a DataFrame.\n",
      "Try using .loc[row_indexer,col_indexer] = value instead\n",
      "\n",
      "See the caveats in the documentation: https://pandas.pydata.org/pandas-docs/stable/user_guide/indexing.html#returning-a-view-versus-a-copy\n",
      "  \"\"\"Entry point for launching an IPython kernel.\n"
     ]
    }
   ],
   "source": [
    "smd['keywords'] = smd['keywords'].apply(lambda x: [i['name'] for i in x] if isinstance(x, list) else [])"
   ]
  },
  {
   "cell_type": "code",
   "execution_count": 37,
   "id": "7c62e363",
   "metadata": {
    "execution": {
     "iopub.execute_input": "2022-02-22T14:16:35.187043Z",
     "iopub.status.busy": "2022-02-22T14:16:35.161056Z",
     "iopub.status.idle": "2022-02-22T14:16:35.190396Z",
     "shell.execute_reply": "2022-02-22T14:16:35.189772Z",
     "shell.execute_reply.started": "2022-02-22T14:08:20.069119Z"
    },
    "papermill": {
     "duration": 0.143646,
     "end_time": "2022-02-22T14:16:35.190545",
     "exception": false,
     "start_time": "2022-02-22T14:16:35.046899",
     "status": "completed"
    },
    "tags": []
   },
   "outputs": [
    {
     "name": "stderr",
     "output_type": "stream",
     "text": [
      "/opt/conda/lib/python3.7/site-packages/ipykernel_launcher.py:1: SettingWithCopyWarning: \n",
      "A value is trying to be set on a copy of a slice from a DataFrame.\n",
      "Try using .loc[row_indexer,col_indexer] = value instead\n",
      "\n",
      "See the caveats in the documentation: https://pandas.pydata.org/pandas-docs/stable/user_guide/indexing.html#returning-a-view-versus-a-copy\n",
      "  \"\"\"Entry point for launching an IPython kernel.\n"
     ]
    }
   ],
   "source": [
    "smd['cast'] = smd['cast'].apply(lambda x: [str.lower(i.replace(\" \", \"\")) for i in x])"
   ]
  },
  {
   "cell_type": "code",
   "execution_count": 38,
   "id": "826fe44c",
   "metadata": {
    "execution": {
     "iopub.execute_input": "2022-02-22T14:16:35.348438Z",
     "iopub.status.busy": "2022-02-22T14:16:35.347721Z",
     "iopub.status.idle": "2022-02-22T14:16:35.369679Z",
     "shell.execute_reply": "2022-02-22T14:16:35.370336Z",
     "shell.execute_reply.started": "2022-02-22T14:08:20.119548Z"
    },
    "papermill": {
     "duration": 0.105456,
     "end_time": "2022-02-22T14:16:35.370540",
     "exception": false,
     "start_time": "2022-02-22T14:16:35.265084",
     "status": "completed"
    },
    "tags": []
   },
   "outputs": [
    {
     "name": "stderr",
     "output_type": "stream",
     "text": [
      "/opt/conda/lib/python3.7/site-packages/ipykernel_launcher.py:1: SettingWithCopyWarning: \n",
      "A value is trying to be set on a copy of a slice from a DataFrame.\n",
      "Try using .loc[row_indexer,col_indexer] = value instead\n",
      "\n",
      "See the caveats in the documentation: https://pandas.pydata.org/pandas-docs/stable/user_guide/indexing.html#returning-a-view-versus-a-copy\n",
      "  \"\"\"Entry point for launching an IPython kernel.\n",
      "/opt/conda/lib/python3.7/site-packages/ipykernel_launcher.py:2: SettingWithCopyWarning: \n",
      "A value is trying to be set on a copy of a slice from a DataFrame.\n",
      "Try using .loc[row_indexer,col_indexer] = value instead\n",
      "\n",
      "See the caveats in the documentation: https://pandas.pydata.org/pandas-docs/stable/user_guide/indexing.html#returning-a-view-versus-a-copy\n",
      "  \n"
     ]
    }
   ],
   "source": [
    "smd['director'] = smd['director'].astype('str').apply(lambda x: str.lower(x.replace(\" \", \"\")))\n",
    "smd['director'] = smd['director'].apply(lambda x: [x,x, x])"
   ]
  },
  {
   "cell_type": "code",
   "execution_count": 39,
   "id": "ac4bd4ad",
   "metadata": {
    "execution": {
     "iopub.execute_input": "2022-02-22T14:16:35.526453Z",
     "iopub.status.busy": "2022-02-22T14:16:35.525707Z",
     "iopub.status.idle": "2022-02-22T14:16:35.528812Z",
     "shell.execute_reply": "2022-02-22T14:16:35.529413Z",
     "shell.execute_reply.started": "2022-02-22T14:08:20.148941Z"
    },
    "papermill": {
     "duration": 0.083717,
     "end_time": "2022-02-22T14:16:35.529595",
     "exception": false,
     "start_time": "2022-02-22T14:16:35.445878",
     "status": "completed"
    },
    "tags": []
   },
   "outputs": [],
   "source": [
    "#KEYWORDS"
   ]
  },
  {
   "cell_type": "code",
   "execution_count": 40,
   "id": "867b3643",
   "metadata": {
    "execution": {
     "iopub.execute_input": "2022-02-22T14:16:35.688026Z",
     "iopub.status.busy": "2022-02-22T14:16:35.683763Z",
     "iopub.status.idle": "2022-02-22T14:16:39.431238Z",
     "shell.execute_reply": "2022-02-22T14:16:39.430626Z",
     "shell.execute_reply.started": "2022-02-22T14:08:20.158427Z"
    },
    "papermill": {
     "duration": 3.826239,
     "end_time": "2022-02-22T14:16:39.431425",
     "exception": false,
     "start_time": "2022-02-22T14:16:35.605186",
     "status": "completed"
    },
    "tags": []
   },
   "outputs": [
    {
     "name": "stderr",
     "output_type": "stream",
     "text": [
      "/opt/conda/lib/python3.7/site-packages/ipykernel_launcher.py:1: DeprecationWarning: The default dtype for empty Series will be 'object' instead of 'float64' in a future version. Specify a dtype explicitly to silence this warning.\n",
      "  \"\"\"Entry point for launching an IPython kernel.\n"
     ]
    }
   ],
   "source": [
    "s = smd.apply(lambda x: pd.Series(x['keywords']),axis=1).stack().reset_index(level=1, drop=True)\n",
    "s.name = 'keyword'"
   ]
  },
  {
   "cell_type": "code",
   "execution_count": 41,
   "id": "36abc3b0",
   "metadata": {
    "execution": {
     "iopub.execute_input": "2022-02-22T14:16:39.617363Z",
     "iopub.status.busy": "2022-02-22T14:16:39.616162Z",
     "iopub.status.idle": "2022-02-22T14:16:39.627259Z",
     "shell.execute_reply": "2022-02-22T14:16:39.626549Z",
     "shell.execute_reply.started": "2022-02-22T14:08:35.053938Z"
    },
    "papermill": {
     "duration": 0.119692,
     "end_time": "2022-02-22T14:16:39.627449",
     "exception": false,
     "start_time": "2022-02-22T14:16:39.507757",
     "status": "completed"
    },
    "tags": []
   },
   "outputs": [
    {
     "data": {
      "text/plain": [
       "independent film        610\n",
       "woman director          550\n",
       "murder                  399\n",
       "duringcreditsstinger    327\n",
       "based on novel          318\n",
       "Name: keyword, dtype: int64"
      ]
     },
     "execution_count": 41,
     "metadata": {},
     "output_type": "execute_result"
    }
   ],
   "source": [
    "s = s.value_counts()\n",
    "s[:5]"
   ]
  },
  {
   "cell_type": "code",
   "execution_count": 42,
   "id": "7948144f",
   "metadata": {
    "execution": {
     "iopub.execute_input": "2022-02-22T14:16:39.787769Z",
     "iopub.status.busy": "2022-02-22T14:16:39.787071Z",
     "iopub.status.idle": "2022-02-22T14:16:39.790356Z",
     "shell.execute_reply": "2022-02-22T14:16:39.789699Z",
     "shell.execute_reply.started": "2022-02-22T14:08:35.093711Z"
    },
    "papermill": {
     "duration": 0.085826,
     "end_time": "2022-02-22T14:16:39.790500",
     "exception": false,
     "start_time": "2022-02-22T14:16:39.704674",
     "status": "completed"
    },
    "tags": []
   },
   "outputs": [],
   "source": [
    "s = s[s > 1]"
   ]
  },
  {
   "cell_type": "code",
   "execution_count": 43,
   "id": "e593aab1",
   "metadata": {
    "execution": {
     "iopub.execute_input": "2022-02-22T14:16:39.952749Z",
     "iopub.status.busy": "2022-02-22T14:16:39.949533Z",
     "iopub.status.idle": "2022-02-22T14:16:39.955765Z",
     "shell.execute_reply": "2022-02-22T14:16:39.956238Z",
     "shell.execute_reply.started": "2022-02-22T14:08:35.102551Z"
    },
    "papermill": {
     "duration": 0.088459,
     "end_time": "2022-02-22T14:16:39.956463",
     "exception": false,
     "start_time": "2022-02-22T14:16:39.868004",
     "status": "completed"
    },
    "tags": []
   },
   "outputs": [
    {
     "data": {
      "text/plain": [
       "'dog'"
      ]
     },
     "execution_count": 43,
     "metadata": {},
     "output_type": "execute_result"
    }
   ],
   "source": [
    "stemmer = SnowballStemmer('english')\n",
    "stemmer.stem('dogs')"
   ]
  },
  {
   "cell_type": "code",
   "execution_count": 44,
   "id": "ab39bcb6",
   "metadata": {
    "execution": {
     "iopub.execute_input": "2022-02-22T14:16:40.115104Z",
     "iopub.status.busy": "2022-02-22T14:16:40.114455Z",
     "iopub.status.idle": "2022-02-22T14:16:40.118600Z",
     "shell.execute_reply": "2022-02-22T14:16:40.119068Z",
     "shell.execute_reply.started": "2022-02-22T14:08:35.116616Z"
    },
    "papermill": {
     "duration": 0.084779,
     "end_time": "2022-02-22T14:16:40.119245",
     "exception": false,
     "start_time": "2022-02-22T14:16:40.034466",
     "status": "completed"
    },
    "tags": []
   },
   "outputs": [],
   "source": [
    "def filter_keywords(x):\n",
    "    words = []\n",
    "    for i in x:\n",
    "        if i in s:\n",
    "            words.append(i)\n",
    "    return words"
   ]
  },
  {
   "cell_type": "code",
   "execution_count": 45,
   "id": "492254f5",
   "metadata": {
    "execution": {
     "iopub.execute_input": "2022-02-22T14:16:40.295108Z",
     "iopub.status.busy": "2022-02-22T14:16:40.289937Z",
     "iopub.status.idle": "2022-02-22T14:16:41.518146Z",
     "shell.execute_reply": "2022-02-22T14:16:41.517568Z",
     "shell.execute_reply.started": "2022-02-22T14:08:35.131364Z"
    },
    "papermill": {
     "duration": 1.322389,
     "end_time": "2022-02-22T14:16:41.518321",
     "exception": false,
     "start_time": "2022-02-22T14:16:40.195932",
     "status": "completed"
    },
    "tags": []
   },
   "outputs": [
    {
     "name": "stderr",
     "output_type": "stream",
     "text": [
      "/opt/conda/lib/python3.7/site-packages/ipykernel_launcher.py:1: SettingWithCopyWarning: \n",
      "A value is trying to be set on a copy of a slice from a DataFrame.\n",
      "Try using .loc[row_indexer,col_indexer] = value instead\n",
      "\n",
      "See the caveats in the documentation: https://pandas.pydata.org/pandas-docs/stable/user_guide/indexing.html#returning-a-view-versus-a-copy\n",
      "  \"\"\"Entry point for launching an IPython kernel.\n",
      "/opt/conda/lib/python3.7/site-packages/ipykernel_launcher.py:2: SettingWithCopyWarning: \n",
      "A value is trying to be set on a copy of a slice from a DataFrame.\n",
      "Try using .loc[row_indexer,col_indexer] = value instead\n",
      "\n",
      "See the caveats in the documentation: https://pandas.pydata.org/pandas-docs/stable/user_guide/indexing.html#returning-a-view-versus-a-copy\n",
      "  \n",
      "/opt/conda/lib/python3.7/site-packages/ipykernel_launcher.py:3: SettingWithCopyWarning: \n",
      "A value is trying to be set on a copy of a slice from a DataFrame.\n",
      "Try using .loc[row_indexer,col_indexer] = value instead\n",
      "\n",
      "See the caveats in the documentation: https://pandas.pydata.org/pandas-docs/stable/user_guide/indexing.html#returning-a-view-versus-a-copy\n",
      "  This is separate from the ipykernel package so we can avoid doing imports until\n"
     ]
    }
   ],
   "source": [
    "smd['keywords'] = smd['keywords'].apply(filter_keywords)\n",
    "smd['keywords'] = smd['keywords'].apply(lambda x: [stemmer.stem(i) for i in x])\n",
    "smd['keywords'] = smd['keywords'].apply(lambda x: [str.lower(i.replace(\" \", \"\")) for i in x])"
   ]
  },
  {
   "cell_type": "code",
   "execution_count": 46,
   "id": "7482fcfb",
   "metadata": {
    "execution": {
     "iopub.execute_input": "2022-02-22T14:16:41.678691Z",
     "iopub.status.busy": "2022-02-22T14:16:41.678002Z",
     "iopub.status.idle": "2022-02-22T14:16:41.757160Z",
     "shell.execute_reply": "2022-02-22T14:16:41.755713Z",
     "shell.execute_reply.started": "2022-02-22T14:08:36.383982Z"
    },
    "papermill": {
     "duration": 0.1599,
     "end_time": "2022-02-22T14:16:41.757454",
     "exception": false,
     "start_time": "2022-02-22T14:16:41.597554",
     "status": "completed"
    },
    "tags": []
   },
   "outputs": [
    {
     "name": "stderr",
     "output_type": "stream",
     "text": [
      "/opt/conda/lib/python3.7/site-packages/ipykernel_launcher.py:1: SettingWithCopyWarning: \n",
      "A value is trying to be set on a copy of a slice from a DataFrame.\n",
      "Try using .loc[row_indexer,col_indexer] = value instead\n",
      "\n",
      "See the caveats in the documentation: https://pandas.pydata.org/pandas-docs/stable/user_guide/indexing.html#returning-a-view-versus-a-copy\n",
      "  \"\"\"Entry point for launching an IPython kernel.\n",
      "/opt/conda/lib/python3.7/site-packages/ipykernel_launcher.py:2: SettingWithCopyWarning: \n",
      "A value is trying to be set on a copy of a slice from a DataFrame.\n",
      "Try using .loc[row_indexer,col_indexer] = value instead\n",
      "\n",
      "See the caveats in the documentation: https://pandas.pydata.org/pandas-docs/stable/user_guide/indexing.html#returning-a-view-versus-a-copy\n",
      "  \n"
     ]
    }
   ],
   "source": [
    "smd['soup'] = smd['keywords'] + smd['cast'] + smd['director'] + smd['genres']\n",
    "smd['soup'] = smd['soup'].apply(lambda x: ' '.join(x))"
   ]
  },
  {
   "cell_type": "code",
   "execution_count": 47,
   "id": "09198afc",
   "metadata": {
    "execution": {
     "iopub.execute_input": "2022-02-22T14:16:41.951318Z",
     "iopub.status.busy": "2022-02-22T14:16:41.950635Z",
     "iopub.status.idle": "2022-02-22T14:16:42.913674Z",
     "shell.execute_reply": "2022-02-22T14:16:42.914259Z",
     "shell.execute_reply.started": "2022-02-22T14:08:36.443992Z"
    },
    "papermill": {
     "duration": 1.065297,
     "end_time": "2022-02-22T14:16:42.914501",
     "exception": false,
     "start_time": "2022-02-22T14:16:41.849204",
     "status": "completed"
    },
    "tags": []
   },
   "outputs": [],
   "source": [
    "count = CountVectorizer(analyzer='word',ngram_range=(1, 2),min_df=0, stop_words='english')\n",
    "count_matrix = count.fit_transform(smd['soup'])"
   ]
  },
  {
   "cell_type": "code",
   "execution_count": 48,
   "id": "5223bc49",
   "metadata": {
    "execution": {
     "iopub.execute_input": "2022-02-22T14:16:43.081744Z",
     "iopub.status.busy": "2022-02-22T14:16:43.080986Z",
     "iopub.status.idle": "2022-02-22T14:16:44.840383Z",
     "shell.execute_reply": "2022-02-22T14:16:44.839685Z",
     "shell.execute_reply.started": "2022-02-22T14:08:37.295090Z"
    },
    "papermill": {
     "duration": 1.846407,
     "end_time": "2022-02-22T14:16:44.840557",
     "exception": false,
     "start_time": "2022-02-22T14:16:42.994150",
     "status": "completed"
    },
    "tags": []
   },
   "outputs": [],
   "source": [
    "cosine_sim = cosine_similarity(count_matrix, count_matrix)"
   ]
  },
  {
   "cell_type": "code",
   "execution_count": 49,
   "id": "5b61a801",
   "metadata": {
    "execution": {
     "iopub.execute_input": "2022-02-22T14:16:45.009892Z",
     "iopub.status.busy": "2022-02-22T14:16:45.009164Z",
     "iopub.status.idle": "2022-02-22T14:16:45.035981Z",
     "shell.execute_reply": "2022-02-22T14:16:45.035446Z",
     "shell.execute_reply.started": "2022-02-22T14:08:39.739062Z"
    },
    "papermill": {
     "duration": 0.11445,
     "end_time": "2022-02-22T14:16:45.036136",
     "exception": false,
     "start_time": "2022-02-22T14:16:44.921686",
     "status": "completed"
    },
    "tags": []
   },
   "outputs": [],
   "source": [
    "smd = smd.reset_index()\n",
    "titles = smd['title']\n",
    "indices = pd.Series(smd.index, index=smd['title'])"
   ]
  },
  {
   "cell_type": "code",
   "execution_count": 50,
   "id": "6b2b9529",
   "metadata": {
    "execution": {
     "iopub.execute_input": "2022-02-22T14:16:45.213953Z",
     "iopub.status.busy": "2022-02-22T14:16:45.213237Z",
     "iopub.status.idle": "2022-02-22T14:16:45.217428Z",
     "shell.execute_reply": "2022-02-22T14:16:45.216800Z",
     "shell.execute_reply.started": "2022-02-22T14:08:39.765457Z"
    },
    "papermill": {
     "duration": 0.103799,
     "end_time": "2022-02-22T14:16:45.217574",
     "exception": false,
     "start_time": "2022-02-22T14:16:45.113775",
     "status": "completed"
    },
    "tags": []
   },
   "outputs": [
    {
     "data": {
      "text/plain": [
       "8031         The Dark Knight Rises\n",
       "6218                 Batman Begins\n",
       "6623                  The Prestige\n",
       "2085                     Following\n",
       "7648                     Inception\n",
       "4145                      Insomnia\n",
       "3381                       Memento\n",
       "8613                  Interstellar\n",
       "7659    Batman: Under the Red Hood\n",
       "1134                Batman Returns\n",
       "Name: title, dtype: object"
      ]
     },
     "execution_count": 50,
     "metadata": {},
     "output_type": "execute_result"
    }
   ],
   "source": [
    "get_recommendations('The Dark Knight').head(10)"
   ]
  },
  {
   "cell_type": "code",
   "execution_count": 51,
   "id": "004adde6",
   "metadata": {
    "execution": {
     "iopub.execute_input": "2022-02-22T14:16:45.382489Z",
     "iopub.status.busy": "2022-02-22T14:16:45.381827Z",
     "iopub.status.idle": "2022-02-22T14:16:45.388043Z",
     "shell.execute_reply": "2022-02-22T14:16:45.387380Z",
     "shell.execute_reply.started": "2022-02-22T14:08:39.790527Z"
    },
    "papermill": {
     "duration": 0.092249,
     "end_time": "2022-02-22T14:16:45.388185",
     "exception": false,
     "start_time": "2022-02-22T14:16:45.295936",
     "status": "completed"
    },
    "tags": []
   },
   "outputs": [],
   "source": [
    "def improved_recommendations(title):\n",
    "    idx = indices[title]\n",
    "    sim_scores = list(enumerate(cosine_sim[idx]))\n",
    "    sim_scores = sorted(sim_scores, key=lambda x: x[1], reverse=True)\n",
    "    sim_scores = sim_scores[1:26]\n",
    "    movie_indices = [i[0] for i in sim_scores]\n",
    "    \n",
    "    movies = smd.iloc[movie_indices][['title', 'vote_count', 'vote_average', 'year']]\n",
    "    vote_counts = movies[movies['vote_count'].notnull()]['vote_count'].astype('int')\n",
    "    vote_averages = movies[movies['vote_average'].notnull()]['vote_average'].astype('int')\n",
    "    C = vote_averages.mean()\n",
    "    m = vote_counts.quantile(0.60)\n",
    "    qualified = movies[(movies['vote_count'] >= m) & (movies['vote_count'].notnull()) & (movies['vote_average'].notnull())]\n",
    "    qualified['vote_count'] = qualified['vote_count'].astype('int')\n",
    "    qualified['vote_average'] = qualified['vote_average'].astype('int')\n",
    "    qualified['wr'] = qualified.apply(weighted_rating, axis=1)\n",
    "    qualified = qualified.sort_values('wr', ascending=False).head(10)\n",
    "    return qualified"
   ]
  },
  {
   "cell_type": "code",
   "execution_count": 52,
   "id": "8c88e2ee",
   "metadata": {
    "execution": {
     "iopub.execute_input": "2022-02-22T14:16:45.566518Z",
     "iopub.status.busy": "2022-02-22T14:16:45.561054Z",
     "iopub.status.idle": "2022-02-22T14:16:45.585263Z",
     "shell.execute_reply": "2022-02-22T14:16:45.584646Z",
     "shell.execute_reply.started": "2022-02-22T14:08:39.805413Z"
    },
    "papermill": {
     "duration": 0.119236,
     "end_time": "2022-02-22T14:16:45.585442",
     "exception": false,
     "start_time": "2022-02-22T14:16:45.466206",
     "status": "completed"
    },
    "tags": []
   },
   "outputs": [
    {
     "name": "stderr",
     "output_type": "stream",
     "text": [
      "/opt/conda/lib/python3.7/site-packages/ipykernel_launcher.py:14: SettingWithCopyWarning: \n",
      "A value is trying to be set on a copy of a slice from a DataFrame.\n",
      "Try using .loc[row_indexer,col_indexer] = value instead\n",
      "\n",
      "See the caveats in the documentation: https://pandas.pydata.org/pandas-docs/stable/user_guide/indexing.html#returning-a-view-versus-a-copy\n",
      "  \n",
      "/opt/conda/lib/python3.7/site-packages/ipykernel_launcher.py:15: SettingWithCopyWarning: \n",
      "A value is trying to be set on a copy of a slice from a DataFrame.\n",
      "Try using .loc[row_indexer,col_indexer] = value instead\n",
      "\n",
      "See the caveats in the documentation: https://pandas.pydata.org/pandas-docs/stable/user_guide/indexing.html#returning-a-view-versus-a-copy\n",
      "  from ipykernel import kernelapp as app\n",
      "/opt/conda/lib/python3.7/site-packages/ipykernel_launcher.py:16: SettingWithCopyWarning: \n",
      "A value is trying to be set on a copy of a slice from a DataFrame.\n",
      "Try using .loc[row_indexer,col_indexer] = value instead\n",
      "\n",
      "See the caveats in the documentation: https://pandas.pydata.org/pandas-docs/stable/user_guide/indexing.html#returning-a-view-versus-a-copy\n",
      "  app.launch_new_instance()\n"
     ]
    },
    {
     "data": {
      "text/html": [
       "<div>\n",
       "<style scoped>\n",
       "    .dataframe tbody tr th:only-of-type {\n",
       "        vertical-align: middle;\n",
       "    }\n",
       "\n",
       "    .dataframe tbody tr th {\n",
       "        vertical-align: top;\n",
       "    }\n",
       "\n",
       "    .dataframe thead th {\n",
       "        text-align: right;\n",
       "    }\n",
       "</style>\n",
       "<table border=\"1\" class=\"dataframe\">\n",
       "  <thead>\n",
       "    <tr style=\"text-align: right;\">\n",
       "      <th></th>\n",
       "      <th>title</th>\n",
       "      <th>vote_count</th>\n",
       "      <th>vote_average</th>\n",
       "      <th>year</th>\n",
       "      <th>wr</th>\n",
       "    </tr>\n",
       "  </thead>\n",
       "  <tbody>\n",
       "    <tr>\n",
       "      <th>7648</th>\n",
       "      <td>Inception</td>\n",
       "      <td>14075</td>\n",
       "      <td>8</td>\n",
       "      <td>2010</td>\n",
       "      <td>7.917588</td>\n",
       "    </tr>\n",
       "    <tr>\n",
       "      <th>8613</th>\n",
       "      <td>Interstellar</td>\n",
       "      <td>11187</td>\n",
       "      <td>8</td>\n",
       "      <td>2014</td>\n",
       "      <td>7.897107</td>\n",
       "    </tr>\n",
       "    <tr>\n",
       "      <th>6623</th>\n",
       "      <td>The Prestige</td>\n",
       "      <td>4510</td>\n",
       "      <td>8</td>\n",
       "      <td>2006</td>\n",
       "      <td>7.758148</td>\n",
       "    </tr>\n",
       "    <tr>\n",
       "      <th>3381</th>\n",
       "      <td>Memento</td>\n",
       "      <td>4168</td>\n",
       "      <td>8</td>\n",
       "      <td>2000</td>\n",
       "      <td>7.740175</td>\n",
       "    </tr>\n",
       "    <tr>\n",
       "      <th>8031</th>\n",
       "      <td>The Dark Knight Rises</td>\n",
       "      <td>9263</td>\n",
       "      <td>7</td>\n",
       "      <td>2012</td>\n",
       "      <td>6.921448</td>\n",
       "    </tr>\n",
       "    <tr>\n",
       "      <th>6218</th>\n",
       "      <td>Batman Begins</td>\n",
       "      <td>7511</td>\n",
       "      <td>7</td>\n",
       "      <td>2005</td>\n",
       "      <td>6.904127</td>\n",
       "    </tr>\n",
       "    <tr>\n",
       "      <th>1134</th>\n",
       "      <td>Batman Returns</td>\n",
       "      <td>1706</td>\n",
       "      <td>6</td>\n",
       "      <td>1992</td>\n",
       "      <td>5.846862</td>\n",
       "    </tr>\n",
       "    <tr>\n",
       "      <th>132</th>\n",
       "      <td>Batman Forever</td>\n",
       "      <td>1529</td>\n",
       "      <td>5</td>\n",
       "      <td>1995</td>\n",
       "      <td>5.054144</td>\n",
       "    </tr>\n",
       "    <tr>\n",
       "      <th>9024</th>\n",
       "      <td>Batman v Superman: Dawn of Justice</td>\n",
       "      <td>7189</td>\n",
       "      <td>5</td>\n",
       "      <td>2016</td>\n",
       "      <td>5.013943</td>\n",
       "    </tr>\n",
       "    <tr>\n",
       "      <th>1260</th>\n",
       "      <td>Batman &amp; Robin</td>\n",
       "      <td>1447</td>\n",
       "      <td>4</td>\n",
       "      <td>1997</td>\n",
       "      <td>4.287233</td>\n",
       "    </tr>\n",
       "  </tbody>\n",
       "</table>\n",
       "</div>"
      ],
      "text/plain": [
       "                                   title  vote_count  vote_average  year  \\\n",
       "7648                           Inception       14075             8  2010   \n",
       "8613                        Interstellar       11187             8  2014   \n",
       "6623                        The Prestige        4510             8  2006   \n",
       "3381                             Memento        4168             8  2000   \n",
       "8031               The Dark Knight Rises        9263             7  2012   \n",
       "6218                       Batman Begins        7511             7  2005   \n",
       "1134                      Batman Returns        1706             6  1992   \n",
       "132                       Batman Forever        1529             5  1995   \n",
       "9024  Batman v Superman: Dawn of Justice        7189             5  2016   \n",
       "1260                      Batman & Robin        1447             4  1997   \n",
       "\n",
       "            wr  \n",
       "7648  7.917588  \n",
       "8613  7.897107  \n",
       "6623  7.758148  \n",
       "3381  7.740175  \n",
       "8031  6.921448  \n",
       "6218  6.904127  \n",
       "1134  5.846862  \n",
       "132   5.054144  \n",
       "9024  5.013943  \n",
       "1260  4.287233  "
      ]
     },
     "execution_count": 52,
     "metadata": {},
     "output_type": "execute_result"
    }
   ],
   "source": [
    "improved_recommendations('The Dark Knight')\n"
   ]
  },
  {
   "cell_type": "code",
   "execution_count": 53,
   "id": "116a4121",
   "metadata": {
    "execution": {
     "iopub.execute_input": "2022-02-22T14:16:45.752602Z",
     "iopub.status.busy": "2022-02-22T14:16:45.751921Z",
     "iopub.status.idle": "2022-02-22T14:16:45.754526Z",
     "shell.execute_reply": "2022-02-22T14:16:45.753901Z",
     "shell.execute_reply.started": "2022-02-22T14:08:39.851869Z"
    },
    "papermill": {
     "duration": 0.09035,
     "end_time": "2022-02-22T14:16:45.754666",
     "exception": false,
     "start_time": "2022-02-22T14:16:45.664316",
     "status": "completed"
    },
    "tags": []
   },
   "outputs": [],
   "source": [
    "#COLLABORATIVE FILTERING "
   ]
  },
  {
   "cell_type": "code",
   "execution_count": 54,
   "id": "2a6fed7a",
   "metadata": {
    "execution": {
     "iopub.execute_input": "2022-02-22T14:16:45.918523Z",
     "iopub.status.busy": "2022-02-22T14:16:45.917772Z",
     "iopub.status.idle": "2022-02-22T14:16:45.920356Z",
     "shell.execute_reply": "2022-02-22T14:16:45.919598Z",
     "shell.execute_reply.started": "2022-02-22T14:08:39.858669Z"
    },
    "papermill": {
     "duration": 0.086724,
     "end_time": "2022-02-22T14:16:45.920506",
     "exception": false,
     "start_time": "2022-02-22T14:16:45.833782",
     "status": "completed"
    },
    "tags": []
   },
   "outputs": [],
   "source": [
    "reader = Reader()"
   ]
  },
  {
   "cell_type": "code",
   "execution_count": 55,
   "id": "c6a21a68",
   "metadata": {
    "execution": {
     "iopub.execute_input": "2022-02-22T14:16:46.089382Z",
     "iopub.status.busy": "2022-02-22T14:16:46.088732Z",
     "iopub.status.idle": "2022-02-22T14:16:46.207797Z",
     "shell.execute_reply": "2022-02-22T14:16:46.207256Z",
     "shell.execute_reply.started": "2022-02-22T14:09:23.822526Z"
    },
    "papermill": {
     "duration": 0.205948,
     "end_time": "2022-02-22T14:16:46.207932",
     "exception": false,
     "start_time": "2022-02-22T14:16:46.001984",
     "status": "completed"
    },
    "tags": []
   },
   "outputs": [
    {
     "data": {
      "text/html": [
       "<div>\n",
       "<style scoped>\n",
       "    .dataframe tbody tr th:only-of-type {\n",
       "        vertical-align: middle;\n",
       "    }\n",
       "\n",
       "    .dataframe tbody tr th {\n",
       "        vertical-align: top;\n",
       "    }\n",
       "\n",
       "    .dataframe thead th {\n",
       "        text-align: right;\n",
       "    }\n",
       "</style>\n",
       "<table border=\"1\" class=\"dataframe\">\n",
       "  <thead>\n",
       "    <tr style=\"text-align: right;\">\n",
       "      <th></th>\n",
       "      <th>userId</th>\n",
       "      <th>movieId</th>\n",
       "      <th>rating</th>\n",
       "      <th>timestamp</th>\n",
       "    </tr>\n",
       "  </thead>\n",
       "  <tbody>\n",
       "    <tr>\n",
       "      <th>0</th>\n",
       "      <td>1</td>\n",
       "      <td>31</td>\n",
       "      <td>2.5</td>\n",
       "      <td>1260759144</td>\n",
       "    </tr>\n",
       "    <tr>\n",
       "      <th>1</th>\n",
       "      <td>1</td>\n",
       "      <td>1029</td>\n",
       "      <td>3.0</td>\n",
       "      <td>1260759179</td>\n",
       "    </tr>\n",
       "    <tr>\n",
       "      <th>2</th>\n",
       "      <td>1</td>\n",
       "      <td>1061</td>\n",
       "      <td>3.0</td>\n",
       "      <td>1260759182</td>\n",
       "    </tr>\n",
       "    <tr>\n",
       "      <th>3</th>\n",
       "      <td>1</td>\n",
       "      <td>1129</td>\n",
       "      <td>2.0</td>\n",
       "      <td>1260759185</td>\n",
       "    </tr>\n",
       "    <tr>\n",
       "      <th>4</th>\n",
       "      <td>1</td>\n",
       "      <td>1172</td>\n",
       "      <td>4.0</td>\n",
       "      <td>1260759205</td>\n",
       "    </tr>\n",
       "  </tbody>\n",
       "</table>\n",
       "</div>"
      ],
      "text/plain": [
       "   userId  movieId  rating   timestamp\n",
       "0       1       31     2.5  1260759144\n",
       "1       1     1029     3.0  1260759179\n",
       "2       1     1061     3.0  1260759182\n",
       "3       1     1129     2.0  1260759185\n",
       "4       1     1172     4.0  1260759205"
      ]
     },
     "execution_count": 55,
     "metadata": {},
     "output_type": "execute_result"
    }
   ],
   "source": [
    "ratings = pd.read_csv('../input/moviesdataset/ratings_small.csv')\n",
    "ratings.head()"
   ]
  },
  {
   "cell_type": "code",
   "execution_count": 56,
   "id": "80f423aa",
   "metadata": {
    "execution": {
     "iopub.execute_input": "2022-02-22T14:16:46.372146Z",
     "iopub.status.busy": "2022-02-22T14:16:46.371178Z",
     "iopub.status.idle": "2022-02-22T14:16:46.507756Z",
     "shell.execute_reply": "2022-02-22T14:16:46.508231Z",
     "shell.execute_reply.started": "2022-02-22T14:09:26.261803Z"
    },
    "papermill": {
     "duration": 0.220161,
     "end_time": "2022-02-22T14:16:46.508431",
     "exception": false,
     "start_time": "2022-02-22T14:16:46.288270",
     "status": "completed"
    },
    "tags": []
   },
   "outputs": [],
   "source": [
    "data = Dataset.load_from_df(ratings[['userId', 'movieId', 'rating']], reader)\n"
   ]
  },
  {
   "cell_type": "code",
   "execution_count": 57,
   "id": "1b66c8ad",
   "metadata": {
    "execution": {
     "iopub.execute_input": "2022-02-22T14:16:46.706030Z",
     "iopub.status.busy": "2022-02-22T14:16:46.701020Z",
     "iopub.status.idle": "2022-02-22T14:18:31.500702Z",
     "shell.execute_reply": "2022-02-22T14:18:31.500115Z",
     "shell.execute_reply.started": "2022-02-22T14:10:00.205087Z"
    },
    "papermill": {
     "duration": 104.912167,
     "end_time": "2022-02-22T14:18:31.500854",
     "exception": false,
     "start_time": "2022-02-22T14:16:46.588687",
     "status": "completed"
    },
    "tags": []
   },
   "outputs": [
    {
     "name": "stdout",
     "output_type": "stream",
     "text": [
      "Evaluating RMSE, MAE of algorithm SVD on 10 split(s).\n",
      "\n",
      "                  Fold 1  Fold 2  Fold 3  Fold 4  Fold 5  Fold 6  Fold 7  Fold 8  Fold 9  Fold 10 Mean    Std     \n",
      "RMSE (testset)    0.8923  0.9076  0.8876  0.8914  0.8820  0.8788  0.8934  0.8950  0.8851  0.9010  0.8914  0.0082  \n",
      "MAE (testset)     0.6861  0.6980  0.6870  0.6827  0.6777  0.6743  0.6884  0.6864  0.6814  0.6934  0.6855  0.0066  \n",
      "Fit time          10.20   10.14   10.12   10.15   10.09   10.02   10.13   10.29   10.12   10.08   10.13   0.07    \n",
      "Test time         0.10    0.10    0.10    0.10    0.10    0.10    0.11    0.10    0.11    0.10    0.10    0.01    \n"
     ]
    },
    {
     "data": {
      "text/plain": [
       "{'test_rmse': array([0.89228738, 0.90756242, 0.88760462, 0.89140762, 0.88198136,\n",
       "        0.87876791, 0.89341886, 0.89498125, 0.88505186, 0.90097309]),\n",
       " 'test_mae': array([0.6860569 , 0.69798756, 0.68697925, 0.68273976, 0.67770011,\n",
       "        0.67432375, 0.6883623 , 0.68642771, 0.68139755, 0.69335091]),\n",
       " 'fit_time': (10.195039510726929,\n",
       "  10.135483980178833,\n",
       "  10.124153852462769,\n",
       "  10.150159120559692,\n",
       "  10.089725971221924,\n",
       "  10.018493175506592,\n",
       "  10.128079891204834,\n",
       "  10.293316125869751,\n",
       "  10.122617483139038,\n",
       "  10.075253963470459),\n",
       " 'test_time': (0.10017991065979004,\n",
       "  0.09748101234436035,\n",
       "  0.09802889823913574,\n",
       "  0.09583926200866699,\n",
       "  0.09815454483032227,\n",
       "  0.09571051597595215,\n",
       "  0.10774350166320801,\n",
       "  0.09714770317077637,\n",
       "  0.11154961585998535,\n",
       "  0.09728622436523438)}"
      ]
     },
     "execution_count": 57,
     "metadata": {},
     "output_type": "execute_result"
    }
   ],
   "source": [
    "svd = SVD()\n",
    "cross_validate(svd, data, measures=['RMSE', 'MAE'], cv=10,verbose=True)\n",
    "\n"
   ]
  },
  {
   "cell_type": "code",
   "execution_count": 58,
   "id": "1104a0ea",
   "metadata": {
    "execution": {
     "iopub.execute_input": "2022-02-22T14:18:31.666612Z",
     "iopub.status.busy": "2022-02-22T14:18:31.665606Z",
     "iopub.status.idle": "2022-02-22T14:18:42.885949Z",
     "shell.execute_reply": "2022-02-22T14:18:42.886490Z",
     "shell.execute_reply.started": "2022-02-22T14:13:40.867864Z"
    },
    "papermill": {
     "duration": 11.305646,
     "end_time": "2022-02-22T14:18:42.886690",
     "exception": false,
     "start_time": "2022-02-22T14:18:31.581044",
     "status": "completed"
    },
    "tags": []
   },
   "outputs": [
    {
     "data": {
      "text/plain": [
       "<surprise.prediction_algorithms.matrix_factorization.SVD at 0x7f38f5bc8b10>"
      ]
     },
     "execution_count": 58,
     "metadata": {},
     "output_type": "execute_result"
    }
   ],
   "source": [
    "trainset = data.build_full_trainset()\n",
    "svd.fit(trainset)"
   ]
  },
  {
   "cell_type": "code",
   "execution_count": 59,
   "id": "f190bd54",
   "metadata": {
    "execution": {
     "iopub.execute_input": "2022-02-22T14:18:43.064847Z",
     "iopub.status.busy": "2022-02-22T14:18:43.064032Z",
     "iopub.status.idle": "2022-02-22T14:18:43.077493Z",
     "shell.execute_reply": "2022-02-22T14:18:43.078026Z",
     "shell.execute_reply.started": "2022-02-22T14:13:55.936719Z"
    },
    "papermill": {
     "duration": 0.105138,
     "end_time": "2022-02-22T14:18:43.078230",
     "exception": false,
     "start_time": "2022-02-22T14:18:42.973092",
     "status": "completed"
    },
    "tags": []
   },
   "outputs": [
    {
     "data": {
      "text/html": [
       "<div>\n",
       "<style scoped>\n",
       "    .dataframe tbody tr th:only-of-type {\n",
       "        vertical-align: middle;\n",
       "    }\n",
       "\n",
       "    .dataframe tbody tr th {\n",
       "        vertical-align: top;\n",
       "    }\n",
       "\n",
       "    .dataframe thead th {\n",
       "        text-align: right;\n",
       "    }\n",
       "</style>\n",
       "<table border=\"1\" class=\"dataframe\">\n",
       "  <thead>\n",
       "    <tr style=\"text-align: right;\">\n",
       "      <th></th>\n",
       "      <th>userId</th>\n",
       "      <th>movieId</th>\n",
       "      <th>rating</th>\n",
       "      <th>timestamp</th>\n",
       "    </tr>\n",
       "  </thead>\n",
       "  <tbody>\n",
       "    <tr>\n",
       "      <th>0</th>\n",
       "      <td>1</td>\n",
       "      <td>31</td>\n",
       "      <td>2.5</td>\n",
       "      <td>1260759144</td>\n",
       "    </tr>\n",
       "    <tr>\n",
       "      <th>1</th>\n",
       "      <td>1</td>\n",
       "      <td>1029</td>\n",
       "      <td>3.0</td>\n",
       "      <td>1260759179</td>\n",
       "    </tr>\n",
       "    <tr>\n",
       "      <th>2</th>\n",
       "      <td>1</td>\n",
       "      <td>1061</td>\n",
       "      <td>3.0</td>\n",
       "      <td>1260759182</td>\n",
       "    </tr>\n",
       "    <tr>\n",
       "      <th>3</th>\n",
       "      <td>1</td>\n",
       "      <td>1129</td>\n",
       "      <td>2.0</td>\n",
       "      <td>1260759185</td>\n",
       "    </tr>\n",
       "    <tr>\n",
       "      <th>4</th>\n",
       "      <td>1</td>\n",
       "      <td>1172</td>\n",
       "      <td>4.0</td>\n",
       "      <td>1260759205</td>\n",
       "    </tr>\n",
       "    <tr>\n",
       "      <th>5</th>\n",
       "      <td>1</td>\n",
       "      <td>1263</td>\n",
       "      <td>2.0</td>\n",
       "      <td>1260759151</td>\n",
       "    </tr>\n",
       "    <tr>\n",
       "      <th>6</th>\n",
       "      <td>1</td>\n",
       "      <td>1287</td>\n",
       "      <td>2.0</td>\n",
       "      <td>1260759187</td>\n",
       "    </tr>\n",
       "    <tr>\n",
       "      <th>7</th>\n",
       "      <td>1</td>\n",
       "      <td>1293</td>\n",
       "      <td>2.0</td>\n",
       "      <td>1260759148</td>\n",
       "    </tr>\n",
       "    <tr>\n",
       "      <th>8</th>\n",
       "      <td>1</td>\n",
       "      <td>1339</td>\n",
       "      <td>3.5</td>\n",
       "      <td>1260759125</td>\n",
       "    </tr>\n",
       "    <tr>\n",
       "      <th>9</th>\n",
       "      <td>1</td>\n",
       "      <td>1343</td>\n",
       "      <td>2.0</td>\n",
       "      <td>1260759131</td>\n",
       "    </tr>\n",
       "    <tr>\n",
       "      <th>10</th>\n",
       "      <td>1</td>\n",
       "      <td>1371</td>\n",
       "      <td>2.5</td>\n",
       "      <td>1260759135</td>\n",
       "    </tr>\n",
       "    <tr>\n",
       "      <th>11</th>\n",
       "      <td>1</td>\n",
       "      <td>1405</td>\n",
       "      <td>1.0</td>\n",
       "      <td>1260759203</td>\n",
       "    </tr>\n",
       "    <tr>\n",
       "      <th>12</th>\n",
       "      <td>1</td>\n",
       "      <td>1953</td>\n",
       "      <td>4.0</td>\n",
       "      <td>1260759191</td>\n",
       "    </tr>\n",
       "    <tr>\n",
       "      <th>13</th>\n",
       "      <td>1</td>\n",
       "      <td>2105</td>\n",
       "      <td>4.0</td>\n",
       "      <td>1260759139</td>\n",
       "    </tr>\n",
       "    <tr>\n",
       "      <th>14</th>\n",
       "      <td>1</td>\n",
       "      <td>2150</td>\n",
       "      <td>3.0</td>\n",
       "      <td>1260759194</td>\n",
       "    </tr>\n",
       "    <tr>\n",
       "      <th>15</th>\n",
       "      <td>1</td>\n",
       "      <td>2193</td>\n",
       "      <td>2.0</td>\n",
       "      <td>1260759198</td>\n",
       "    </tr>\n",
       "    <tr>\n",
       "      <th>16</th>\n",
       "      <td>1</td>\n",
       "      <td>2294</td>\n",
       "      <td>2.0</td>\n",
       "      <td>1260759108</td>\n",
       "    </tr>\n",
       "    <tr>\n",
       "      <th>17</th>\n",
       "      <td>1</td>\n",
       "      <td>2455</td>\n",
       "      <td>2.5</td>\n",
       "      <td>1260759113</td>\n",
       "    </tr>\n",
       "    <tr>\n",
       "      <th>18</th>\n",
       "      <td>1</td>\n",
       "      <td>2968</td>\n",
       "      <td>1.0</td>\n",
       "      <td>1260759200</td>\n",
       "    </tr>\n",
       "    <tr>\n",
       "      <th>19</th>\n",
       "      <td>1</td>\n",
       "      <td>3671</td>\n",
       "      <td>3.0</td>\n",
       "      <td>1260759117</td>\n",
       "    </tr>\n",
       "  </tbody>\n",
       "</table>\n",
       "</div>"
      ],
      "text/plain": [
       "    userId  movieId  rating   timestamp\n",
       "0        1       31     2.5  1260759144\n",
       "1        1     1029     3.0  1260759179\n",
       "2        1     1061     3.0  1260759182\n",
       "3        1     1129     2.0  1260759185\n",
       "4        1     1172     4.0  1260759205\n",
       "5        1     1263     2.0  1260759151\n",
       "6        1     1287     2.0  1260759187\n",
       "7        1     1293     2.0  1260759148\n",
       "8        1     1339     3.5  1260759125\n",
       "9        1     1343     2.0  1260759131\n",
       "10       1     1371     2.5  1260759135\n",
       "11       1     1405     1.0  1260759203\n",
       "12       1     1953     4.0  1260759191\n",
       "13       1     2105     4.0  1260759139\n",
       "14       1     2150     3.0  1260759194\n",
       "15       1     2193     2.0  1260759198\n",
       "16       1     2294     2.0  1260759108\n",
       "17       1     2455     2.5  1260759113\n",
       "18       1     2968     1.0  1260759200\n",
       "19       1     3671     3.0  1260759117"
      ]
     },
     "execution_count": 59,
     "metadata": {},
     "output_type": "execute_result"
    }
   ],
   "source": [
    "ratings[ratings['userId'] == 1]"
   ]
  },
  {
   "cell_type": "code",
   "execution_count": 60,
   "id": "3683d915",
   "metadata": {
    "execution": {
     "iopub.execute_input": "2022-02-22T14:18:43.268126Z",
     "iopub.status.busy": "2022-02-22T14:18:43.266855Z",
     "iopub.status.idle": "2022-02-22T14:18:43.271702Z",
     "shell.execute_reply": "2022-02-22T14:18:43.272179Z",
     "shell.execute_reply.started": "2022-02-22T14:14:00.144095Z"
    },
    "papermill": {
     "duration": 0.103441,
     "end_time": "2022-02-22T14:18:43.272411",
     "exception": false,
     "start_time": "2022-02-22T14:18:43.168970",
     "status": "completed"
    },
    "tags": []
   },
   "outputs": [
    {
     "data": {
      "text/plain": [
       "Prediction(uid=1, iid=302, r_ui=3, est=2.6562798490572046, details={'was_impossible': False})"
      ]
     },
     "execution_count": 60,
     "metadata": {},
     "output_type": "execute_result"
    }
   ],
   "source": [
    "svd.predict(1, 302, 3)"
   ]
  },
  {
   "cell_type": "code",
   "execution_count": 61,
   "id": "893a4652",
   "metadata": {
    "execution": {
     "iopub.execute_input": "2022-02-22T14:18:43.464765Z",
     "iopub.status.busy": "2022-02-22T14:18:43.463929Z",
     "iopub.status.idle": "2022-02-22T14:18:43.466876Z",
     "shell.execute_reply": "2022-02-22T14:18:43.466309Z",
     "shell.execute_reply.started": "2022-02-22T14:15:22.262252Z"
    },
    "papermill": {
     "duration": 0.100156,
     "end_time": "2022-02-22T14:18:43.467054",
     "exception": false,
     "start_time": "2022-02-22T14:18:43.366898",
     "status": "completed"
    },
    "tags": []
   },
   "outputs": [],
   "source": [
    "#HYBRID RECOMMENDER"
   ]
  },
  {
   "cell_type": "code",
   "execution_count": 62,
   "id": "f34df861",
   "metadata": {
    "execution": {
     "iopub.execute_input": "2022-02-22T14:18:43.650545Z",
     "iopub.status.busy": "2022-02-22T14:18:43.649798Z",
     "iopub.status.idle": "2022-02-22T14:18:43.652702Z",
     "shell.execute_reply": "2022-02-22T14:18:43.652119Z",
     "shell.execute_reply.started": "2022-02-22T14:15:26.064705Z"
    },
    "papermill": {
     "duration": 0.09957,
     "end_time": "2022-02-22T14:18:43.652886",
     "exception": false,
     "start_time": "2022-02-22T14:18:43.553316",
     "status": "completed"
    },
    "tags": []
   },
   "outputs": [],
   "source": [
    "def convert_int(x):\n",
    "    try:\n",
    "        return int(x)\n",
    "    except:\n",
    "        return np.nan"
   ]
  }
 ],
 "metadata": {
  "kernelspec": {
   "display_name": "Python 3",
   "language": "python",
   "name": "python3"
  },
  "language_info": {
   "codemirror_mode": {
    "name": "ipython",
    "version": 3
   },
   "file_extension": ".py",
   "mimetype": "text/x-python",
   "name": "python",
   "nbconvert_exporter": "python",
   "pygments_lexer": "ipython3",
   "version": "3.7.12"
  },
  "papermill": {
   "default_parameters": {},
   "duration": 176.265229,
   "end_time": "2022-02-22T14:18:45.256828",
   "environment_variables": {},
   "exception": null,
   "input_path": "__notebook__.ipynb",
   "output_path": "__notebook__.ipynb",
   "parameters": {},
   "start_time": "2022-02-22T14:15:48.991599",
   "version": "2.3.3"
  }
 },
 "nbformat": 4,
 "nbformat_minor": 5
}
