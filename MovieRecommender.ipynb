{
 "cells": [
  {
   "cell_type": "markdown",
   "id": "8eb420d5",
   "metadata": {
    "papermill": {
     "duration": 0.068461,
     "end_time": "2022-02-22T20:31:57.437391",
     "exception": false,
     "start_time": "2022-02-22T20:31:57.368930",
     "status": "completed"
    },
    "tags": []
   },
   "source": [
    "# ***MOVIE RECOMMENDER***"
   ]
  },
  {
   "cell_type": "code",
   "execution_count": 1,
   "id": "7f6b7e67",
   "metadata": {
    "execution": {
     "iopub.execute_input": "2022-02-22T20:31:57.575295Z",
     "iopub.status.busy": "2022-02-22T20:31:57.574114Z",
     "iopub.status.idle": "2022-02-22T20:31:59.392880Z",
     "shell.execute_reply": "2022-02-22T20:31:59.393449Z",
     "shell.execute_reply.started": "2022-02-22T19:10:07.013341Z"
    },
    "papermill": {
     "duration": 1.888931,
     "end_time": "2022-02-22T20:31:59.393874",
     "exception": false,
     "start_time": "2022-02-22T20:31:57.504943",
     "status": "completed"
    },
    "tags": []
   },
   "outputs": [],
   "source": [
    "from surprise import SVD\n",
    "from surprise import Dataset\n",
    "from surprise.model_selection import cross_validate\n",
    "from surprise import Reader, Dataset\n",
    "import numpy as np # linear algebra\n",
    "import pandas as pd # data processing, CSV file I/O (e.g. pd.read_csv)\n",
    "from ast import literal_eval\n",
    "from nltk.stem.snowball import SnowballStemmer\n",
    "from sklearn.feature_extraction.text import TfidfVectorizer, CountVectorizer\n",
    "from sklearn.metrics.pairwise import linear_kernel, cosine_similarity"
   ]
  },
  {
   "cell_type": "markdown",
   "id": "66f8e7a6",
   "metadata": {
    "papermill": {
     "duration": 0.065003,
     "end_time": "2022-02-22T20:31:59.527379",
     "exception": false,
     "start_time": "2022-02-22T20:31:59.462376",
     "status": "completed"
    },
    "tags": []
   },
   "source": [
    "# **SIMPLE RECOMENDER (BASIS OF POPULARITY AND GENRE)**\n"
   ]
  },
  {
   "cell_type": "code",
   "execution_count": 2,
   "id": "6b744d4e",
   "metadata": {
    "execution": {
     "iopub.execute_input": "2022-02-22T20:31:59.663883Z",
     "iopub.status.busy": "2022-02-22T20:31:59.663195Z",
     "iopub.status.idle": "2022-02-22T20:32:00.937755Z",
     "shell.execute_reply": "2022-02-22T20:32:00.938258Z",
     "shell.execute_reply.started": "2022-02-22T19:10:07.818906Z"
    },
    "papermill": {
     "duration": 1.345162,
     "end_time": "2022-02-22T20:32:00.938452",
     "exception": false,
     "start_time": "2022-02-22T20:31:59.593290",
     "status": "completed"
    },
    "tags": []
   },
   "outputs": [
    {
     "name": "stderr",
     "output_type": "stream",
     "text": [
      "/opt/conda/lib/python3.7/site-packages/IPython/core/interactiveshell.py:3457: DtypeWarning: Columns (10) have mixed types.Specify dtype option on import or set low_memory=False.\n",
      "  exec(code_obj, self.user_global_ns, self.user_ns)\n"
     ]
    },
    {
     "data": {
      "text/html": [
       "<div>\n",
       "<style scoped>\n",
       "    .dataframe tbody tr th:only-of-type {\n",
       "        vertical-align: middle;\n",
       "    }\n",
       "\n",
       "    .dataframe tbody tr th {\n",
       "        vertical-align: top;\n",
       "    }\n",
       "\n",
       "    .dataframe thead th {\n",
       "        text-align: right;\n",
       "    }\n",
       "</style>\n",
       "<table border=\"1\" class=\"dataframe\">\n",
       "  <thead>\n",
       "    <tr style=\"text-align: right;\">\n",
       "      <th></th>\n",
       "      <th>adult</th>\n",
       "      <th>belongs_to_collection</th>\n",
       "      <th>budget</th>\n",
       "      <th>genres</th>\n",
       "      <th>homepage</th>\n",
       "      <th>id</th>\n",
       "      <th>imdb_id</th>\n",
       "      <th>original_language</th>\n",
       "      <th>original_title</th>\n",
       "      <th>overview</th>\n",
       "      <th>...</th>\n",
       "      <th>release_date</th>\n",
       "      <th>revenue</th>\n",
       "      <th>runtime</th>\n",
       "      <th>spoken_languages</th>\n",
       "      <th>status</th>\n",
       "      <th>tagline</th>\n",
       "      <th>title</th>\n",
       "      <th>video</th>\n",
       "      <th>vote_average</th>\n",
       "      <th>vote_count</th>\n",
       "    </tr>\n",
       "  </thead>\n",
       "  <tbody>\n",
       "    <tr>\n",
       "      <th>0</th>\n",
       "      <td>False</td>\n",
       "      <td>{'id': 10194, 'name': 'Toy Story Collection', ...</td>\n",
       "      <td>30000000</td>\n",
       "      <td>[{'id': 16, 'name': 'Animation'}, {'id': 35, '...</td>\n",
       "      <td>http://toystory.disney.com/toy-story</td>\n",
       "      <td>862</td>\n",
       "      <td>tt0114709</td>\n",
       "      <td>en</td>\n",
       "      <td>Toy Story</td>\n",
       "      <td>Led by Woody, Andy's toys live happily in his ...</td>\n",
       "      <td>...</td>\n",
       "      <td>1995-10-30</td>\n",
       "      <td>373554033.0</td>\n",
       "      <td>81.0</td>\n",
       "      <td>[{'iso_639_1': 'en', 'name': 'English'}]</td>\n",
       "      <td>Released</td>\n",
       "      <td>NaN</td>\n",
       "      <td>Toy Story</td>\n",
       "      <td>False</td>\n",
       "      <td>7.7</td>\n",
       "      <td>5415.0</td>\n",
       "    </tr>\n",
       "    <tr>\n",
       "      <th>1</th>\n",
       "      <td>False</td>\n",
       "      <td>NaN</td>\n",
       "      <td>65000000</td>\n",
       "      <td>[{'id': 12, 'name': 'Adventure'}, {'id': 14, '...</td>\n",
       "      <td>NaN</td>\n",
       "      <td>8844</td>\n",
       "      <td>tt0113497</td>\n",
       "      <td>en</td>\n",
       "      <td>Jumanji</td>\n",
       "      <td>When siblings Judy and Peter discover an encha...</td>\n",
       "      <td>...</td>\n",
       "      <td>1995-12-15</td>\n",
       "      <td>262797249.0</td>\n",
       "      <td>104.0</td>\n",
       "      <td>[{'iso_639_1': 'en', 'name': 'English'}, {'iso...</td>\n",
       "      <td>Released</td>\n",
       "      <td>Roll the dice and unleash the excitement!</td>\n",
       "      <td>Jumanji</td>\n",
       "      <td>False</td>\n",
       "      <td>6.9</td>\n",
       "      <td>2413.0</td>\n",
       "    </tr>\n",
       "    <tr>\n",
       "      <th>2</th>\n",
       "      <td>False</td>\n",
       "      <td>{'id': 119050, 'name': 'Grumpy Old Men Collect...</td>\n",
       "      <td>0</td>\n",
       "      <td>[{'id': 10749, 'name': 'Romance'}, {'id': 35, ...</td>\n",
       "      <td>NaN</td>\n",
       "      <td>15602</td>\n",
       "      <td>tt0113228</td>\n",
       "      <td>en</td>\n",
       "      <td>Grumpier Old Men</td>\n",
       "      <td>A family wedding reignites the ancient feud be...</td>\n",
       "      <td>...</td>\n",
       "      <td>1995-12-22</td>\n",
       "      <td>0.0</td>\n",
       "      <td>101.0</td>\n",
       "      <td>[{'iso_639_1': 'en', 'name': 'English'}]</td>\n",
       "      <td>Released</td>\n",
       "      <td>Still Yelling. Still Fighting. Still Ready for...</td>\n",
       "      <td>Grumpier Old Men</td>\n",
       "      <td>False</td>\n",
       "      <td>6.5</td>\n",
       "      <td>92.0</td>\n",
       "    </tr>\n",
       "    <tr>\n",
       "      <th>3</th>\n",
       "      <td>False</td>\n",
       "      <td>NaN</td>\n",
       "      <td>16000000</td>\n",
       "      <td>[{'id': 35, 'name': 'Comedy'}, {'id': 18, 'nam...</td>\n",
       "      <td>NaN</td>\n",
       "      <td>31357</td>\n",
       "      <td>tt0114885</td>\n",
       "      <td>en</td>\n",
       "      <td>Waiting to Exhale</td>\n",
       "      <td>Cheated on, mistreated and stepped on, the wom...</td>\n",
       "      <td>...</td>\n",
       "      <td>1995-12-22</td>\n",
       "      <td>81452156.0</td>\n",
       "      <td>127.0</td>\n",
       "      <td>[{'iso_639_1': 'en', 'name': 'English'}]</td>\n",
       "      <td>Released</td>\n",
       "      <td>Friends are the people who let you be yourself...</td>\n",
       "      <td>Waiting to Exhale</td>\n",
       "      <td>False</td>\n",
       "      <td>6.1</td>\n",
       "      <td>34.0</td>\n",
       "    </tr>\n",
       "    <tr>\n",
       "      <th>4</th>\n",
       "      <td>False</td>\n",
       "      <td>{'id': 96871, 'name': 'Father of the Bride Col...</td>\n",
       "      <td>0</td>\n",
       "      <td>[{'id': 35, 'name': 'Comedy'}]</td>\n",
       "      <td>NaN</td>\n",
       "      <td>11862</td>\n",
       "      <td>tt0113041</td>\n",
       "      <td>en</td>\n",
       "      <td>Father of the Bride Part II</td>\n",
       "      <td>Just when George Banks has recovered from his ...</td>\n",
       "      <td>...</td>\n",
       "      <td>1995-02-10</td>\n",
       "      <td>76578911.0</td>\n",
       "      <td>106.0</td>\n",
       "      <td>[{'iso_639_1': 'en', 'name': 'English'}]</td>\n",
       "      <td>Released</td>\n",
       "      <td>Just When His World Is Back To Normal... He's ...</td>\n",
       "      <td>Father of the Bride Part II</td>\n",
       "      <td>False</td>\n",
       "      <td>5.7</td>\n",
       "      <td>173.0</td>\n",
       "    </tr>\n",
       "  </tbody>\n",
       "</table>\n",
       "<p>5 rows × 24 columns</p>\n",
       "</div>"
      ],
      "text/plain": [
       "   adult                              belongs_to_collection    budget  \\\n",
       "0  False  {'id': 10194, 'name': 'Toy Story Collection', ...  30000000   \n",
       "1  False                                                NaN  65000000   \n",
       "2  False  {'id': 119050, 'name': 'Grumpy Old Men Collect...         0   \n",
       "3  False                                                NaN  16000000   \n",
       "4  False  {'id': 96871, 'name': 'Father of the Bride Col...         0   \n",
       "\n",
       "                                              genres  \\\n",
       "0  [{'id': 16, 'name': 'Animation'}, {'id': 35, '...   \n",
       "1  [{'id': 12, 'name': 'Adventure'}, {'id': 14, '...   \n",
       "2  [{'id': 10749, 'name': 'Romance'}, {'id': 35, ...   \n",
       "3  [{'id': 35, 'name': 'Comedy'}, {'id': 18, 'nam...   \n",
       "4                     [{'id': 35, 'name': 'Comedy'}]   \n",
       "\n",
       "                               homepage     id    imdb_id original_language  \\\n",
       "0  http://toystory.disney.com/toy-story    862  tt0114709                en   \n",
       "1                                   NaN   8844  tt0113497                en   \n",
       "2                                   NaN  15602  tt0113228                en   \n",
       "3                                   NaN  31357  tt0114885                en   \n",
       "4                                   NaN  11862  tt0113041                en   \n",
       "\n",
       "                original_title  \\\n",
       "0                    Toy Story   \n",
       "1                      Jumanji   \n",
       "2             Grumpier Old Men   \n",
       "3            Waiting to Exhale   \n",
       "4  Father of the Bride Part II   \n",
       "\n",
       "                                            overview  ... release_date  \\\n",
       "0  Led by Woody, Andy's toys live happily in his ...  ...   1995-10-30   \n",
       "1  When siblings Judy and Peter discover an encha...  ...   1995-12-15   \n",
       "2  A family wedding reignites the ancient feud be...  ...   1995-12-22   \n",
       "3  Cheated on, mistreated and stepped on, the wom...  ...   1995-12-22   \n",
       "4  Just when George Banks has recovered from his ...  ...   1995-02-10   \n",
       "\n",
       "       revenue runtime                                   spoken_languages  \\\n",
       "0  373554033.0    81.0           [{'iso_639_1': 'en', 'name': 'English'}]   \n",
       "1  262797249.0   104.0  [{'iso_639_1': 'en', 'name': 'English'}, {'iso...   \n",
       "2          0.0   101.0           [{'iso_639_1': 'en', 'name': 'English'}]   \n",
       "3   81452156.0   127.0           [{'iso_639_1': 'en', 'name': 'English'}]   \n",
       "4   76578911.0   106.0           [{'iso_639_1': 'en', 'name': 'English'}]   \n",
       "\n",
       "     status                                            tagline  \\\n",
       "0  Released                                                NaN   \n",
       "1  Released          Roll the dice and unleash the excitement!   \n",
       "2  Released  Still Yelling. Still Fighting. Still Ready for...   \n",
       "3  Released  Friends are the people who let you be yourself...   \n",
       "4  Released  Just When His World Is Back To Normal... He's ...   \n",
       "\n",
       "                         title  video vote_average vote_count  \n",
       "0                    Toy Story  False          7.7     5415.0  \n",
       "1                      Jumanji  False          6.9     2413.0  \n",
       "2             Grumpier Old Men  False          6.5       92.0  \n",
       "3            Waiting to Exhale  False          6.1       34.0  \n",
       "4  Father of the Bride Part II  False          5.7      173.0  \n",
       "\n",
       "[5 rows x 24 columns]"
      ]
     },
     "execution_count": 2,
     "metadata": {},
     "output_type": "execute_result"
    }
   ],
   "source": [
    "md = pd. read_csv('../input/moviesdataset/movies_metadata.csv')\n",
    "md.head()"
   ]
  },
  {
   "cell_type": "code",
   "execution_count": 3,
   "id": "29d4cad7",
   "metadata": {
    "execution": {
     "iopub.execute_input": "2022-02-22T20:32:01.090176Z",
     "iopub.status.busy": "2022-02-22T20:32:01.089423Z",
     "iopub.status.idle": "2022-02-22T20:32:02.654984Z",
     "shell.execute_reply": "2022-02-22T20:32:02.654431Z",
     "shell.execute_reply.started": "2022-02-22T19:10:08.689148Z"
    },
    "papermill": {
     "duration": 1.648553,
     "end_time": "2022-02-22T20:32:02.655133",
     "exception": false,
     "start_time": "2022-02-22T20:32:01.006580",
     "status": "completed"
    },
    "tags": []
   },
   "outputs": [],
   "source": [
    "md['genres'] = md['genres'].fillna('[]').apply(literal_eval).apply(lambda x: [i['name'] for i in x] if isinstance(x, list) else [])"
   ]
  },
  {
   "cell_type": "code",
   "execution_count": 4,
   "id": "3539a5a6",
   "metadata": {
    "execution": {
     "iopub.execute_input": "2022-02-22T20:32:02.798363Z",
     "iopub.status.busy": "2022-02-22T20:32:02.797684Z",
     "iopub.status.idle": "2022-02-22T20:32:02.857303Z",
     "shell.execute_reply": "2022-02-22T20:32:02.857888Z",
     "shell.execute_reply.started": "2022-02-22T19:10:10.379730Z"
    },
    "papermill": {
     "duration": 0.134724,
     "end_time": "2022-02-22T20:32:02.858071",
     "exception": false,
     "start_time": "2022-02-22T20:32:02.723347",
     "status": "completed"
    },
    "tags": []
   },
   "outputs": [
    {
     "data": {
      "text/plain": [
       "5.244896612406511"
      ]
     },
     "execution_count": 4,
     "metadata": {},
     "output_type": "execute_result"
    }
   ],
   "source": [
    "vote_counts = md[md['vote_count'].notnull()]['vote_count'].astype('int')\n",
    "vote_averages = md[md['vote_average'].notnull()]['vote_average'].astype('int')\n",
    "C = vote_averages.mean()\n",
    "C\n"
   ]
  },
  {
   "cell_type": "markdown",
   "id": "c64f216b",
   "metadata": {
    "papermill": {
     "duration": 0.066428,
     "end_time": "2022-02-22T20:32:02.993043",
     "exception": false,
     "start_time": "2022-02-22T20:32:02.926615",
     "status": "completed"
    },
    "tags": []
   },
   "source": [
    "***C = mean vote***"
   ]
  },
  {
   "cell_type": "code",
   "execution_count": 5,
   "id": "1866fe55",
   "metadata": {
    "execution": {
     "iopub.execute_input": "2022-02-22T20:32:03.137512Z",
     "iopub.status.busy": "2022-02-22T20:32:03.136760Z",
     "iopub.status.idle": "2022-02-22T20:32:03.144934Z",
     "shell.execute_reply": "2022-02-22T20:32:03.145457Z",
     "shell.execute_reply.started": "2022-02-22T19:10:10.430311Z"
    },
    "papermill": {
     "duration": 0.083488,
     "end_time": "2022-02-22T20:32:03.145632",
     "exception": false,
     "start_time": "2022-02-22T20:32:03.062144",
     "status": "completed"
    },
    "tags": []
   },
   "outputs": [
    {
     "data": {
      "text/plain": [
       "434.0"
      ]
     },
     "execution_count": 5,
     "metadata": {},
     "output_type": "execute_result"
    }
   ],
   "source": [
    "m = vote_counts.quantile(0.95)\n",
    "m"
   ]
  },
  {
   "cell_type": "markdown",
   "id": "f0c27bec",
   "metadata": {
    "papermill": {
     "duration": 0.066935,
     "end_time": "2022-02-22T20:32:03.279584",
     "exception": false,
     "start_time": "2022-02-22T20:32:03.212649",
     "status": "completed"
    },
    "tags": []
   },
   "source": [
    "***m = minimum votes req***\n",
    "\n",
    "**above 95 percentile**"
   ]
  },
  {
   "cell_type": "code",
   "execution_count": 6,
   "id": "60968b9b",
   "metadata": {
    "execution": {
     "iopub.execute_input": "2022-02-22T20:32:03.415694Z",
     "iopub.status.busy": "2022-02-22T20:32:03.415099Z",
     "iopub.status.idle": "2022-02-22T20:32:03.972994Z",
     "shell.execute_reply": "2022-02-22T20:32:03.973448Z",
     "shell.execute_reply.started": "2022-02-22T19:10:10.442086Z"
    },
    "papermill": {
     "duration": 0.627604,
     "end_time": "2022-02-22T20:32:03.973629",
     "exception": false,
     "start_time": "2022-02-22T20:32:03.346025",
     "status": "completed"
    },
    "tags": []
   },
   "outputs": [],
   "source": [
    "md['year'] = pd.to_datetime(md['release_date'], errors='coerce').apply(lambda x: str(x).split('-')[0] if x != np.nan else np.nan)"
   ]
  },
  {
   "cell_type": "code",
   "execution_count": 7,
   "id": "fbdebff3",
   "metadata": {
    "execution": {
     "iopub.execute_input": "2022-02-22T20:32:04.113380Z",
     "iopub.status.busy": "2022-02-22T20:32:04.112773Z",
     "iopub.status.idle": "2022-02-22T20:32:04.184979Z",
     "shell.execute_reply": "2022-02-22T20:32:04.185483Z",
     "shell.execute_reply.started": "2022-02-22T19:10:11.048521Z"
    },
    "papermill": {
     "duration": 0.14386,
     "end_time": "2022-02-22T20:32:04.185661",
     "exception": false,
     "start_time": "2022-02-22T20:32:04.041801",
     "status": "completed"
    },
    "tags": []
   },
   "outputs": [
    {
     "data": {
      "text/html": [
       "<div>\n",
       "<style scoped>\n",
       "    .dataframe tbody tr th:only-of-type {\n",
       "        vertical-align: middle;\n",
       "    }\n",
       "\n",
       "    .dataframe tbody tr th {\n",
       "        vertical-align: top;\n",
       "    }\n",
       "\n",
       "    .dataframe thead th {\n",
       "        text-align: right;\n",
       "    }\n",
       "</style>\n",
       "<table border=\"1\" class=\"dataframe\">\n",
       "  <thead>\n",
       "    <tr style=\"text-align: right;\">\n",
       "      <th></th>\n",
       "      <th>title</th>\n",
       "      <th>year</th>\n",
       "      <th>vote_count</th>\n",
       "      <th>vote_average</th>\n",
       "      <th>popularity</th>\n",
       "      <th>genres</th>\n",
       "    </tr>\n",
       "  </thead>\n",
       "  <tbody>\n",
       "    <tr>\n",
       "      <th>0</th>\n",
       "      <td>Toy Story</td>\n",
       "      <td>1995</td>\n",
       "      <td>5415</td>\n",
       "      <td>7</td>\n",
       "      <td>21.946943</td>\n",
       "      <td>[Animation, Comedy, Family]</td>\n",
       "    </tr>\n",
       "    <tr>\n",
       "      <th>1</th>\n",
       "      <td>Jumanji</td>\n",
       "      <td>1995</td>\n",
       "      <td>2413</td>\n",
       "      <td>6</td>\n",
       "      <td>17.015539</td>\n",
       "      <td>[Adventure, Fantasy, Family]</td>\n",
       "    </tr>\n",
       "    <tr>\n",
       "      <th>5</th>\n",
       "      <td>Heat</td>\n",
       "      <td>1995</td>\n",
       "      <td>1886</td>\n",
       "      <td>7</td>\n",
       "      <td>17.924927</td>\n",
       "      <td>[Action, Crime, Drama, Thriller]</td>\n",
       "    </tr>\n",
       "    <tr>\n",
       "      <th>9</th>\n",
       "      <td>GoldenEye</td>\n",
       "      <td>1995</td>\n",
       "      <td>1194</td>\n",
       "      <td>6</td>\n",
       "      <td>14.686036</td>\n",
       "      <td>[Adventure, Action, Thriller]</td>\n",
       "    </tr>\n",
       "    <tr>\n",
       "      <th>15</th>\n",
       "      <td>Casino</td>\n",
       "      <td>1995</td>\n",
       "      <td>1343</td>\n",
       "      <td>7</td>\n",
       "      <td>10.137389</td>\n",
       "      <td>[Drama, Crime]</td>\n",
       "    </tr>\n",
       "  </tbody>\n",
       "</table>\n",
       "</div>"
      ],
      "text/plain": [
       "        title  year  vote_count  vote_average popularity  \\\n",
       "0   Toy Story  1995        5415             7  21.946943   \n",
       "1     Jumanji  1995        2413             6  17.015539   \n",
       "5        Heat  1995        1886             7  17.924927   \n",
       "9   GoldenEye  1995        1194             6  14.686036   \n",
       "15     Casino  1995        1343             7  10.137389   \n",
       "\n",
       "                              genres  \n",
       "0        [Animation, Comedy, Family]  \n",
       "1       [Adventure, Fantasy, Family]  \n",
       "5   [Action, Crime, Drama, Thriller]  \n",
       "9      [Adventure, Action, Thriller]  \n",
       "15                    [Drama, Crime]  "
      ]
     },
     "execution_count": 7,
     "metadata": {},
     "output_type": "execute_result"
    }
   ],
   "source": [
    "qualified = md[(md['vote_count'] >= m) & (md['vote_count'].notnull()) & (md['vote_average'].notnull())][['title', 'year', 'vote_count', 'vote_average', 'popularity', 'genres']]\n",
    "qualified['vote_count'] = qualified['vote_count'].astype('int')\n",
    "qualified['vote_average'] = qualified['vote_average'].astype('int')\n",
    "qualified.shape\n",
    "qualified.head()"
   ]
  },
  {
   "cell_type": "code",
   "execution_count": 8,
   "id": "fd405056",
   "metadata": {
    "execution": {
     "iopub.execute_input": "2022-02-22T20:32:04.328756Z",
     "iopub.status.busy": "2022-02-22T20:32:04.328054Z",
     "iopub.status.idle": "2022-02-22T20:32:04.332093Z",
     "shell.execute_reply": "2022-02-22T20:32:04.332639Z",
     "shell.execute_reply.started": "2022-02-22T19:10:11.105567Z"
    },
    "papermill": {
     "duration": 0.078057,
     "end_time": "2022-02-22T20:32:04.332844",
     "exception": false,
     "start_time": "2022-02-22T20:32:04.254787",
     "status": "completed"
    },
    "tags": []
   },
   "outputs": [],
   "source": [
    "def weighted_rating(x):\n",
    "    v = x['vote_count']\n",
    "    R = x['vote_average']\n",
    "    return (v/(v+m) * R) + (m/(m+v) * C)"
   ]
  },
  {
   "cell_type": "markdown",
   "id": "b95c8879",
   "metadata": {
    "papermill": {
     "duration": 0.068749,
     "end_time": "2022-02-22T20:32:04.470838",
     "exception": false,
     "start_time": "2022-02-22T20:32:04.402089",
     "status": "completed"
    },
    "tags": []
   },
   "source": [
    "***APPLYING THE WEIGHTAGE RATING FORMULA***"
   ]
  },
  {
   "cell_type": "code",
   "execution_count": 9,
   "id": "43a1ecea",
   "metadata": {
    "execution": {
     "iopub.execute_input": "2022-02-22T20:32:04.611368Z",
     "iopub.status.busy": "2022-02-22T20:32:04.610749Z",
     "iopub.status.idle": "2022-02-22T20:32:04.665557Z",
     "shell.execute_reply": "2022-02-22T20:32:04.666157Z",
     "shell.execute_reply.started": "2022-02-22T19:10:11.114300Z"
    },
    "papermill": {
     "duration": 0.126114,
     "end_time": "2022-02-22T20:32:04.666369",
     "exception": false,
     "start_time": "2022-02-22T20:32:04.540255",
     "status": "completed"
    },
    "tags": []
   },
   "outputs": [],
   "source": [
    "qualified['wr'] = qualified.apply(weighted_rating, axis=1)"
   ]
  },
  {
   "cell_type": "code",
   "execution_count": 10,
   "id": "de70ff8b",
   "metadata": {
    "execution": {
     "iopub.execute_input": "2022-02-22T20:32:04.807609Z",
     "iopub.status.busy": "2022-02-22T20:32:04.806956Z",
     "iopub.status.idle": "2022-02-22T20:32:04.826728Z",
     "shell.execute_reply": "2022-02-22T20:32:04.827224Z",
     "shell.execute_reply.started": "2022-02-22T19:10:11.188662Z"
    },
    "papermill": {
     "duration": 0.091153,
     "end_time": "2022-02-22T20:32:04.827417",
     "exception": false,
     "start_time": "2022-02-22T20:32:04.736264",
     "status": "completed"
    },
    "tags": []
   },
   "outputs": [
    {
     "data": {
      "text/html": [
       "<div>\n",
       "<style scoped>\n",
       "    .dataframe tbody tr th:only-of-type {\n",
       "        vertical-align: middle;\n",
       "    }\n",
       "\n",
       "    .dataframe tbody tr th {\n",
       "        vertical-align: top;\n",
       "    }\n",
       "\n",
       "    .dataframe thead th {\n",
       "        text-align: right;\n",
       "    }\n",
       "</style>\n",
       "<table border=\"1\" class=\"dataframe\">\n",
       "  <thead>\n",
       "    <tr style=\"text-align: right;\">\n",
       "      <th></th>\n",
       "      <th>title</th>\n",
       "      <th>year</th>\n",
       "      <th>vote_count</th>\n",
       "      <th>vote_average</th>\n",
       "      <th>popularity</th>\n",
       "      <th>genres</th>\n",
       "      <th>wr</th>\n",
       "    </tr>\n",
       "  </thead>\n",
       "  <tbody>\n",
       "    <tr>\n",
       "      <th>15480</th>\n",
       "      <td>Inception</td>\n",
       "      <td>2010</td>\n",
       "      <td>14075</td>\n",
       "      <td>8</td>\n",
       "      <td>29.108149</td>\n",
       "      <td>[Action, Thriller, Science Fiction, Mystery, A...</td>\n",
       "      <td>7.917588</td>\n",
       "    </tr>\n",
       "    <tr>\n",
       "      <th>12481</th>\n",
       "      <td>The Dark Knight</td>\n",
       "      <td>2008</td>\n",
       "      <td>12269</td>\n",
       "      <td>8</td>\n",
       "      <td>123.167259</td>\n",
       "      <td>[Drama, Action, Crime, Thriller]</td>\n",
       "      <td>7.905871</td>\n",
       "    </tr>\n",
       "    <tr>\n",
       "      <th>22879</th>\n",
       "      <td>Interstellar</td>\n",
       "      <td>2014</td>\n",
       "      <td>11187</td>\n",
       "      <td>8</td>\n",
       "      <td>32.213481</td>\n",
       "      <td>[Adventure, Drama, Science Fiction]</td>\n",
       "      <td>7.897107</td>\n",
       "    </tr>\n",
       "    <tr>\n",
       "      <th>2843</th>\n",
       "      <td>Fight Club</td>\n",
       "      <td>1999</td>\n",
       "      <td>9678</td>\n",
       "      <td>8</td>\n",
       "      <td>63.869599</td>\n",
       "      <td>[Drama]</td>\n",
       "      <td>7.881753</td>\n",
       "    </tr>\n",
       "    <tr>\n",
       "      <th>4863</th>\n",
       "      <td>The Lord of the Rings: The Fellowship of the Ring</td>\n",
       "      <td>2001</td>\n",
       "      <td>8892</td>\n",
       "      <td>8</td>\n",
       "      <td>32.070725</td>\n",
       "      <td>[Adventure, Fantasy, Action]</td>\n",
       "      <td>7.871787</td>\n",
       "    </tr>\n",
       "    <tr>\n",
       "      <th>292</th>\n",
       "      <td>Pulp Fiction</td>\n",
       "      <td>1994</td>\n",
       "      <td>8670</td>\n",
       "      <td>8</td>\n",
       "      <td>140.950236</td>\n",
       "      <td>[Thriller, Crime]</td>\n",
       "      <td>7.868660</td>\n",
       "    </tr>\n",
       "    <tr>\n",
       "      <th>314</th>\n",
       "      <td>The Shawshank Redemption</td>\n",
       "      <td>1994</td>\n",
       "      <td>8358</td>\n",
       "      <td>8</td>\n",
       "      <td>51.645403</td>\n",
       "      <td>[Drama, Crime]</td>\n",
       "      <td>7.864000</td>\n",
       "    </tr>\n",
       "    <tr>\n",
       "      <th>7000</th>\n",
       "      <td>The Lord of the Rings: The Return of the King</td>\n",
       "      <td>2003</td>\n",
       "      <td>8226</td>\n",
       "      <td>8</td>\n",
       "      <td>29.324358</td>\n",
       "      <td>[Adventure, Fantasy, Action]</td>\n",
       "      <td>7.861927</td>\n",
       "    </tr>\n",
       "    <tr>\n",
       "      <th>351</th>\n",
       "      <td>Forrest Gump</td>\n",
       "      <td>1994</td>\n",
       "      <td>8147</td>\n",
       "      <td>8</td>\n",
       "      <td>48.307194</td>\n",
       "      <td>[Comedy, Drama, Romance]</td>\n",
       "      <td>7.860656</td>\n",
       "    </tr>\n",
       "    <tr>\n",
       "      <th>5814</th>\n",
       "      <td>The Lord of the Rings: The Two Towers</td>\n",
       "      <td>2002</td>\n",
       "      <td>7641</td>\n",
       "      <td>8</td>\n",
       "      <td>29.423537</td>\n",
       "      <td>[Adventure, Fantasy, Action]</td>\n",
       "      <td>7.851924</td>\n",
       "    </tr>\n",
       "    <tr>\n",
       "      <th>256</th>\n",
       "      <td>Star Wars</td>\n",
       "      <td>1977</td>\n",
       "      <td>6778</td>\n",
       "      <td>8</td>\n",
       "      <td>42.149697</td>\n",
       "      <td>[Adventure, Action, Science Fiction]</td>\n",
       "      <td>7.834205</td>\n",
       "    </tr>\n",
       "    <tr>\n",
       "      <th>1225</th>\n",
       "      <td>Back to the Future</td>\n",
       "      <td>1985</td>\n",
       "      <td>6239</td>\n",
       "      <td>8</td>\n",
       "      <td>25.778509</td>\n",
       "      <td>[Adventure, Comedy, Science Fiction, Family]</td>\n",
       "      <td>7.820813</td>\n",
       "    </tr>\n",
       "    <tr>\n",
       "      <th>834</th>\n",
       "      <td>The Godfather</td>\n",
       "      <td>1972</td>\n",
       "      <td>6024</td>\n",
       "      <td>8</td>\n",
       "      <td>41.109264</td>\n",
       "      <td>[Drama, Crime]</td>\n",
       "      <td>7.814847</td>\n",
       "    </tr>\n",
       "    <tr>\n",
       "      <th>1154</th>\n",
       "      <td>The Empire Strikes Back</td>\n",
       "      <td>1980</td>\n",
       "      <td>5998</td>\n",
       "      <td>8</td>\n",
       "      <td>19.470959</td>\n",
       "      <td>[Adventure, Action, Science Fiction]</td>\n",
       "      <td>7.814099</td>\n",
       "    </tr>\n",
       "    <tr>\n",
       "      <th>46</th>\n",
       "      <td>Se7en</td>\n",
       "      <td>1995</td>\n",
       "      <td>5915</td>\n",
       "      <td>8</td>\n",
       "      <td>18.45743</td>\n",
       "      <td>[Crime, Mystery, Thriller]</td>\n",
       "      <td>7.811669</td>\n",
       "    </tr>\n",
       "  </tbody>\n",
       "</table>\n",
       "</div>"
      ],
      "text/plain": [
       "                                                   title  year  vote_count  \\\n",
       "15480                                          Inception  2010       14075   \n",
       "12481                                    The Dark Knight  2008       12269   \n",
       "22879                                       Interstellar  2014       11187   \n",
       "2843                                          Fight Club  1999        9678   \n",
       "4863   The Lord of the Rings: The Fellowship of the Ring  2001        8892   \n",
       "292                                         Pulp Fiction  1994        8670   \n",
       "314                             The Shawshank Redemption  1994        8358   \n",
       "7000       The Lord of the Rings: The Return of the King  2003        8226   \n",
       "351                                         Forrest Gump  1994        8147   \n",
       "5814               The Lord of the Rings: The Two Towers  2002        7641   \n",
       "256                                            Star Wars  1977        6778   \n",
       "1225                                  Back to the Future  1985        6239   \n",
       "834                                        The Godfather  1972        6024   \n",
       "1154                             The Empire Strikes Back  1980        5998   \n",
       "46                                                 Se7en  1995        5915   \n",
       "\n",
       "       vote_average  popularity  \\\n",
       "15480             8   29.108149   \n",
       "12481             8  123.167259   \n",
       "22879             8   32.213481   \n",
       "2843              8   63.869599   \n",
       "4863              8   32.070725   \n",
       "292               8  140.950236   \n",
       "314               8   51.645403   \n",
       "7000              8   29.324358   \n",
       "351               8   48.307194   \n",
       "5814              8   29.423537   \n",
       "256               8   42.149697   \n",
       "1225              8   25.778509   \n",
       "834               8   41.109264   \n",
       "1154              8   19.470959   \n",
       "46                8    18.45743   \n",
       "\n",
       "                                                  genres        wr  \n",
       "15480  [Action, Thriller, Science Fiction, Mystery, A...  7.917588  \n",
       "12481                   [Drama, Action, Crime, Thriller]  7.905871  \n",
       "22879                [Adventure, Drama, Science Fiction]  7.897107  \n",
       "2843                                             [Drama]  7.881753  \n",
       "4863                        [Adventure, Fantasy, Action]  7.871787  \n",
       "292                                    [Thriller, Crime]  7.868660  \n",
       "314                                       [Drama, Crime]  7.864000  \n",
       "7000                        [Adventure, Fantasy, Action]  7.861927  \n",
       "351                             [Comedy, Drama, Romance]  7.860656  \n",
       "5814                        [Adventure, Fantasy, Action]  7.851924  \n",
       "256                 [Adventure, Action, Science Fiction]  7.834205  \n",
       "1225        [Adventure, Comedy, Science Fiction, Family]  7.820813  \n",
       "834                                       [Drama, Crime]  7.814847  \n",
       "1154                [Adventure, Action, Science Fiction]  7.814099  \n",
       "46                            [Crime, Mystery, Thriller]  7.811669  "
      ]
     },
     "execution_count": 10,
     "metadata": {},
     "output_type": "execute_result"
    }
   ],
   "source": [
    "qualified = qualified.sort_values('wr', ascending=False).head(250)\n",
    "qualified.head(15)"
   ]
  },
  {
   "cell_type": "markdown",
   "id": "44a5060d",
   "metadata": {
    "papermill": {
     "duration": 0.069054,
     "end_time": "2022-02-22T20:32:04.965512",
     "exception": false,
     "start_time": "2022-02-22T20:32:04.896458",
     "status": "completed"
    },
    "tags": []
   },
   "source": [
    "# ***CONTENT BASED RECOMMENDER***"
   ]
  },
  {
   "cell_type": "code",
   "execution_count": 11,
   "id": "52e37c86",
   "metadata": {
    "execution": {
     "iopub.execute_input": "2022-02-22T20:32:05.107768Z",
     "iopub.status.busy": "2022-02-22T20:32:05.107101Z",
     "iopub.status.idle": "2022-02-22T20:32:05.129167Z",
     "shell.execute_reply": "2022-02-22T20:32:05.129681Z",
     "shell.execute_reply.started": "2022-02-22T19:10:11.224807Z"
    },
    "papermill": {
     "duration": 0.094389,
     "end_time": "2022-02-22T20:32:05.129902",
     "exception": false,
     "start_time": "2022-02-22T20:32:05.035513",
     "status": "completed"
    },
    "tags": []
   },
   "outputs": [],
   "source": [
    "links_small = pd.read_csv('../input/moviesdataset/links_small.csv')\n",
    "links_small = links_small[links_small['tmdbId'].notnull()]['tmdbId'].astype('int')"
   ]
  },
  {
   "cell_type": "code",
   "execution_count": 12,
   "id": "f0386bd7",
   "metadata": {
    "execution": {
     "iopub.execute_input": "2022-02-22T20:32:05.274720Z",
     "iopub.status.busy": "2022-02-22T20:32:05.274039Z",
     "iopub.status.idle": "2022-02-22T20:32:05.276697Z",
     "shell.execute_reply": "2022-02-22T20:32:05.277210Z",
     "shell.execute_reply.started": "2022-02-22T19:10:11.241557Z"
    },
    "papermill": {
     "duration": 0.078066,
     "end_time": "2022-02-22T20:32:05.277399",
     "exception": false,
     "start_time": "2022-02-22T20:32:05.199333",
     "status": "completed"
    },
    "tags": []
   },
   "outputs": [
    {
     "data": {
      "text/plain": [
       "0      862\n",
       "1     8844\n",
       "2    15602\n",
       "3    31357\n",
       "4    11862\n",
       "Name: tmdbId, dtype: int64"
      ]
     },
     "execution_count": 12,
     "metadata": {},
     "output_type": "execute_result"
    }
   ],
   "source": [
    "links_small.head()"
   ]
  },
  {
   "cell_type": "code",
   "execution_count": 13,
   "id": "8147e55c",
   "metadata": {
    "execution": {
     "iopub.execute_input": "2022-02-22T20:32:05.421446Z",
     "iopub.status.busy": "2022-02-22T20:32:05.420491Z",
     "iopub.status.idle": "2022-02-22T20:32:05.495557Z",
     "shell.execute_reply": "2022-02-22T20:32:05.496081Z",
     "shell.execute_reply.started": "2022-02-22T19:10:11.256976Z"
    },
    "papermill": {
     "duration": 0.149356,
     "end_time": "2022-02-22T20:32:05.496283",
     "exception": false,
     "start_time": "2022-02-22T20:32:05.346927",
     "status": "completed"
    },
    "tags": []
   },
   "outputs": [
    {
     "data": {
      "text/html": [
       "<div>\n",
       "<style scoped>\n",
       "    .dataframe tbody tr th:only-of-type {\n",
       "        vertical-align: middle;\n",
       "    }\n",
       "\n",
       "    .dataframe tbody tr th {\n",
       "        vertical-align: top;\n",
       "    }\n",
       "\n",
       "    .dataframe thead th {\n",
       "        text-align: right;\n",
       "    }\n",
       "</style>\n",
       "<table border=\"1\" class=\"dataframe\">\n",
       "  <thead>\n",
       "    <tr style=\"text-align: right;\">\n",
       "      <th></th>\n",
       "      <th>adult</th>\n",
       "      <th>belongs_to_collection</th>\n",
       "      <th>budget</th>\n",
       "      <th>genres</th>\n",
       "      <th>homepage</th>\n",
       "      <th>id</th>\n",
       "      <th>imdb_id</th>\n",
       "      <th>original_language</th>\n",
       "      <th>original_title</th>\n",
       "      <th>overview</th>\n",
       "      <th>...</th>\n",
       "      <th>revenue</th>\n",
       "      <th>runtime</th>\n",
       "      <th>spoken_languages</th>\n",
       "      <th>status</th>\n",
       "      <th>tagline</th>\n",
       "      <th>title</th>\n",
       "      <th>video</th>\n",
       "      <th>vote_average</th>\n",
       "      <th>vote_count</th>\n",
       "      <th>year</th>\n",
       "    </tr>\n",
       "  </thead>\n",
       "  <tbody>\n",
       "    <tr>\n",
       "      <th>0</th>\n",
       "      <td>False</td>\n",
       "      <td>{'id': 10194, 'name': 'Toy Story Collection', ...</td>\n",
       "      <td>30000000</td>\n",
       "      <td>[Animation, Comedy, Family]</td>\n",
       "      <td>http://toystory.disney.com/toy-story</td>\n",
       "      <td>862</td>\n",
       "      <td>tt0114709</td>\n",
       "      <td>en</td>\n",
       "      <td>Toy Story</td>\n",
       "      <td>Led by Woody, Andy's toys live happily in his ...</td>\n",
       "      <td>...</td>\n",
       "      <td>373554033.0</td>\n",
       "      <td>81.0</td>\n",
       "      <td>[{'iso_639_1': 'en', 'name': 'English'}]</td>\n",
       "      <td>Released</td>\n",
       "      <td>NaN</td>\n",
       "      <td>Toy Story</td>\n",
       "      <td>False</td>\n",
       "      <td>7.7</td>\n",
       "      <td>5415.0</td>\n",
       "      <td>1995</td>\n",
       "    </tr>\n",
       "    <tr>\n",
       "      <th>1</th>\n",
       "      <td>False</td>\n",
       "      <td>NaN</td>\n",
       "      <td>65000000</td>\n",
       "      <td>[Adventure, Fantasy, Family]</td>\n",
       "      <td>NaN</td>\n",
       "      <td>8844</td>\n",
       "      <td>tt0113497</td>\n",
       "      <td>en</td>\n",
       "      <td>Jumanji</td>\n",
       "      <td>When siblings Judy and Peter discover an encha...</td>\n",
       "      <td>...</td>\n",
       "      <td>262797249.0</td>\n",
       "      <td>104.0</td>\n",
       "      <td>[{'iso_639_1': 'en', 'name': 'English'}, {'iso...</td>\n",
       "      <td>Released</td>\n",
       "      <td>Roll the dice and unleash the excitement!</td>\n",
       "      <td>Jumanji</td>\n",
       "      <td>False</td>\n",
       "      <td>6.9</td>\n",
       "      <td>2413.0</td>\n",
       "      <td>1995</td>\n",
       "    </tr>\n",
       "    <tr>\n",
       "      <th>2</th>\n",
       "      <td>False</td>\n",
       "      <td>{'id': 119050, 'name': 'Grumpy Old Men Collect...</td>\n",
       "      <td>0</td>\n",
       "      <td>[Romance, Comedy]</td>\n",
       "      <td>NaN</td>\n",
       "      <td>15602</td>\n",
       "      <td>tt0113228</td>\n",
       "      <td>en</td>\n",
       "      <td>Grumpier Old Men</td>\n",
       "      <td>A family wedding reignites the ancient feud be...</td>\n",
       "      <td>...</td>\n",
       "      <td>0.0</td>\n",
       "      <td>101.0</td>\n",
       "      <td>[{'iso_639_1': 'en', 'name': 'English'}]</td>\n",
       "      <td>Released</td>\n",
       "      <td>Still Yelling. Still Fighting. Still Ready for...</td>\n",
       "      <td>Grumpier Old Men</td>\n",
       "      <td>False</td>\n",
       "      <td>6.5</td>\n",
       "      <td>92.0</td>\n",
       "      <td>1995</td>\n",
       "    </tr>\n",
       "    <tr>\n",
       "      <th>3</th>\n",
       "      <td>False</td>\n",
       "      <td>NaN</td>\n",
       "      <td>16000000</td>\n",
       "      <td>[Comedy, Drama, Romance]</td>\n",
       "      <td>NaN</td>\n",
       "      <td>31357</td>\n",
       "      <td>tt0114885</td>\n",
       "      <td>en</td>\n",
       "      <td>Waiting to Exhale</td>\n",
       "      <td>Cheated on, mistreated and stepped on, the wom...</td>\n",
       "      <td>...</td>\n",
       "      <td>81452156.0</td>\n",
       "      <td>127.0</td>\n",
       "      <td>[{'iso_639_1': 'en', 'name': 'English'}]</td>\n",
       "      <td>Released</td>\n",
       "      <td>Friends are the people who let you be yourself...</td>\n",
       "      <td>Waiting to Exhale</td>\n",
       "      <td>False</td>\n",
       "      <td>6.1</td>\n",
       "      <td>34.0</td>\n",
       "      <td>1995</td>\n",
       "    </tr>\n",
       "    <tr>\n",
       "      <th>4</th>\n",
       "      <td>False</td>\n",
       "      <td>{'id': 96871, 'name': 'Father of the Bride Col...</td>\n",
       "      <td>0</td>\n",
       "      <td>[Comedy]</td>\n",
       "      <td>NaN</td>\n",
       "      <td>11862</td>\n",
       "      <td>tt0113041</td>\n",
       "      <td>en</td>\n",
       "      <td>Father of the Bride Part II</td>\n",
       "      <td>Just when George Banks has recovered from his ...</td>\n",
       "      <td>...</td>\n",
       "      <td>76578911.0</td>\n",
       "      <td>106.0</td>\n",
       "      <td>[{'iso_639_1': 'en', 'name': 'English'}]</td>\n",
       "      <td>Released</td>\n",
       "      <td>Just When His World Is Back To Normal... He's ...</td>\n",
       "      <td>Father of the Bride Part II</td>\n",
       "      <td>False</td>\n",
       "      <td>5.7</td>\n",
       "      <td>173.0</td>\n",
       "      <td>1995</td>\n",
       "    </tr>\n",
       "  </tbody>\n",
       "</table>\n",
       "<p>5 rows × 25 columns</p>\n",
       "</div>"
      ],
      "text/plain": [
       "   adult                              belongs_to_collection    budget  \\\n",
       "0  False  {'id': 10194, 'name': 'Toy Story Collection', ...  30000000   \n",
       "1  False                                                NaN  65000000   \n",
       "2  False  {'id': 119050, 'name': 'Grumpy Old Men Collect...         0   \n",
       "3  False                                                NaN  16000000   \n",
       "4  False  {'id': 96871, 'name': 'Father of the Bride Col...         0   \n",
       "\n",
       "                         genres                              homepage     id  \\\n",
       "0   [Animation, Comedy, Family]  http://toystory.disney.com/toy-story    862   \n",
       "1  [Adventure, Fantasy, Family]                                   NaN   8844   \n",
       "2             [Romance, Comedy]                                   NaN  15602   \n",
       "3      [Comedy, Drama, Romance]                                   NaN  31357   \n",
       "4                      [Comedy]                                   NaN  11862   \n",
       "\n",
       "     imdb_id original_language               original_title  \\\n",
       "0  tt0114709                en                    Toy Story   \n",
       "1  tt0113497                en                      Jumanji   \n",
       "2  tt0113228                en             Grumpier Old Men   \n",
       "3  tt0114885                en            Waiting to Exhale   \n",
       "4  tt0113041                en  Father of the Bride Part II   \n",
       "\n",
       "                                            overview  ...      revenue  \\\n",
       "0  Led by Woody, Andy's toys live happily in his ...  ...  373554033.0   \n",
       "1  When siblings Judy and Peter discover an encha...  ...  262797249.0   \n",
       "2  A family wedding reignites the ancient feud be...  ...          0.0   \n",
       "3  Cheated on, mistreated and stepped on, the wom...  ...   81452156.0   \n",
       "4  Just when George Banks has recovered from his ...  ...   76578911.0   \n",
       "\n",
       "  runtime                                   spoken_languages    status  \\\n",
       "0    81.0           [{'iso_639_1': 'en', 'name': 'English'}]  Released   \n",
       "1   104.0  [{'iso_639_1': 'en', 'name': 'English'}, {'iso...  Released   \n",
       "2   101.0           [{'iso_639_1': 'en', 'name': 'English'}]  Released   \n",
       "3   127.0           [{'iso_639_1': 'en', 'name': 'English'}]  Released   \n",
       "4   106.0           [{'iso_639_1': 'en', 'name': 'English'}]  Released   \n",
       "\n",
       "                                             tagline  \\\n",
       "0                                                NaN   \n",
       "1          Roll the dice and unleash the excitement!   \n",
       "2  Still Yelling. Still Fighting. Still Ready for...   \n",
       "3  Friends are the people who let you be yourself...   \n",
       "4  Just When His World Is Back To Normal... He's ...   \n",
       "\n",
       "                         title  video vote_average vote_count  year  \n",
       "0                    Toy Story  False          7.7     5415.0  1995  \n",
       "1                      Jumanji  False          6.9     2413.0  1995  \n",
       "2             Grumpier Old Men  False          6.5       92.0  1995  \n",
       "3            Waiting to Exhale  False          6.1       34.0  1995  \n",
       "4  Father of the Bride Part II  False          5.7      173.0  1995  \n",
       "\n",
       "[5 rows x 25 columns]"
      ]
     },
     "execution_count": 13,
     "metadata": {},
     "output_type": "execute_result"
    }
   ],
   "source": [
    "md = md.drop([19730, 29503, 35587])\n",
    "md['id'] = md['id'].astype('int')\n",
    "md.head()"
   ]
  },
  {
   "cell_type": "code",
   "execution_count": 14,
   "id": "44ea390e",
   "metadata": {
    "execution": {
     "iopub.execute_input": "2022-02-22T20:32:05.642994Z",
     "iopub.status.busy": "2022-02-22T20:32:05.642283Z",
     "iopub.status.idle": "2022-02-22T20:32:05.685330Z",
     "shell.execute_reply": "2022-02-22T20:32:05.684775Z",
     "shell.execute_reply.started": "2022-02-22T19:10:11.345494Z"
    },
    "papermill": {
     "duration": 0.118103,
     "end_time": "2022-02-22T20:32:05.685491",
     "exception": false,
     "start_time": "2022-02-22T20:32:05.567388",
     "status": "completed"
    },
    "tags": []
   },
   "outputs": [
    {
     "name": "stdout",
     "output_type": "stream",
     "text": [
      "(9099, 25)\n"
     ]
    },
    {
     "data": {
      "text/html": [
       "<div>\n",
       "<style scoped>\n",
       "    .dataframe tbody tr th:only-of-type {\n",
       "        vertical-align: middle;\n",
       "    }\n",
       "\n",
       "    .dataframe tbody tr th {\n",
       "        vertical-align: top;\n",
       "    }\n",
       "\n",
       "    .dataframe thead th {\n",
       "        text-align: right;\n",
       "    }\n",
       "</style>\n",
       "<table border=\"1\" class=\"dataframe\">\n",
       "  <thead>\n",
       "    <tr style=\"text-align: right;\">\n",
       "      <th></th>\n",
       "      <th>adult</th>\n",
       "      <th>belongs_to_collection</th>\n",
       "      <th>budget</th>\n",
       "      <th>genres</th>\n",
       "      <th>homepage</th>\n",
       "      <th>id</th>\n",
       "      <th>imdb_id</th>\n",
       "      <th>original_language</th>\n",
       "      <th>original_title</th>\n",
       "      <th>overview</th>\n",
       "      <th>...</th>\n",
       "      <th>revenue</th>\n",
       "      <th>runtime</th>\n",
       "      <th>spoken_languages</th>\n",
       "      <th>status</th>\n",
       "      <th>tagline</th>\n",
       "      <th>title</th>\n",
       "      <th>video</th>\n",
       "      <th>vote_average</th>\n",
       "      <th>vote_count</th>\n",
       "      <th>year</th>\n",
       "    </tr>\n",
       "  </thead>\n",
       "  <tbody>\n",
       "    <tr>\n",
       "      <th>0</th>\n",
       "      <td>False</td>\n",
       "      <td>{'id': 10194, 'name': 'Toy Story Collection', ...</td>\n",
       "      <td>30000000</td>\n",
       "      <td>[Animation, Comedy, Family]</td>\n",
       "      <td>http://toystory.disney.com/toy-story</td>\n",
       "      <td>862</td>\n",
       "      <td>tt0114709</td>\n",
       "      <td>en</td>\n",
       "      <td>Toy Story</td>\n",
       "      <td>Led by Woody, Andy's toys live happily in his ...</td>\n",
       "      <td>...</td>\n",
       "      <td>373554033.0</td>\n",
       "      <td>81.0</td>\n",
       "      <td>[{'iso_639_1': 'en', 'name': 'English'}]</td>\n",
       "      <td>Released</td>\n",
       "      <td>NaN</td>\n",
       "      <td>Toy Story</td>\n",
       "      <td>False</td>\n",
       "      <td>7.7</td>\n",
       "      <td>5415.0</td>\n",
       "      <td>1995</td>\n",
       "    </tr>\n",
       "    <tr>\n",
       "      <th>1</th>\n",
       "      <td>False</td>\n",
       "      <td>NaN</td>\n",
       "      <td>65000000</td>\n",
       "      <td>[Adventure, Fantasy, Family]</td>\n",
       "      <td>NaN</td>\n",
       "      <td>8844</td>\n",
       "      <td>tt0113497</td>\n",
       "      <td>en</td>\n",
       "      <td>Jumanji</td>\n",
       "      <td>When siblings Judy and Peter discover an encha...</td>\n",
       "      <td>...</td>\n",
       "      <td>262797249.0</td>\n",
       "      <td>104.0</td>\n",
       "      <td>[{'iso_639_1': 'en', 'name': 'English'}, {'iso...</td>\n",
       "      <td>Released</td>\n",
       "      <td>Roll the dice and unleash the excitement!</td>\n",
       "      <td>Jumanji</td>\n",
       "      <td>False</td>\n",
       "      <td>6.9</td>\n",
       "      <td>2413.0</td>\n",
       "      <td>1995</td>\n",
       "    </tr>\n",
       "    <tr>\n",
       "      <th>2</th>\n",
       "      <td>False</td>\n",
       "      <td>{'id': 119050, 'name': 'Grumpy Old Men Collect...</td>\n",
       "      <td>0</td>\n",
       "      <td>[Romance, Comedy]</td>\n",
       "      <td>NaN</td>\n",
       "      <td>15602</td>\n",
       "      <td>tt0113228</td>\n",
       "      <td>en</td>\n",
       "      <td>Grumpier Old Men</td>\n",
       "      <td>A family wedding reignites the ancient feud be...</td>\n",
       "      <td>...</td>\n",
       "      <td>0.0</td>\n",
       "      <td>101.0</td>\n",
       "      <td>[{'iso_639_1': 'en', 'name': 'English'}]</td>\n",
       "      <td>Released</td>\n",
       "      <td>Still Yelling. Still Fighting. Still Ready for...</td>\n",
       "      <td>Grumpier Old Men</td>\n",
       "      <td>False</td>\n",
       "      <td>6.5</td>\n",
       "      <td>92.0</td>\n",
       "      <td>1995</td>\n",
       "    </tr>\n",
       "    <tr>\n",
       "      <th>3</th>\n",
       "      <td>False</td>\n",
       "      <td>NaN</td>\n",
       "      <td>16000000</td>\n",
       "      <td>[Comedy, Drama, Romance]</td>\n",
       "      <td>NaN</td>\n",
       "      <td>31357</td>\n",
       "      <td>tt0114885</td>\n",
       "      <td>en</td>\n",
       "      <td>Waiting to Exhale</td>\n",
       "      <td>Cheated on, mistreated and stepped on, the wom...</td>\n",
       "      <td>...</td>\n",
       "      <td>81452156.0</td>\n",
       "      <td>127.0</td>\n",
       "      <td>[{'iso_639_1': 'en', 'name': 'English'}]</td>\n",
       "      <td>Released</td>\n",
       "      <td>Friends are the people who let you be yourself...</td>\n",
       "      <td>Waiting to Exhale</td>\n",
       "      <td>False</td>\n",
       "      <td>6.1</td>\n",
       "      <td>34.0</td>\n",
       "      <td>1995</td>\n",
       "    </tr>\n",
       "    <tr>\n",
       "      <th>4</th>\n",
       "      <td>False</td>\n",
       "      <td>{'id': 96871, 'name': 'Father of the Bride Col...</td>\n",
       "      <td>0</td>\n",
       "      <td>[Comedy]</td>\n",
       "      <td>NaN</td>\n",
       "      <td>11862</td>\n",
       "      <td>tt0113041</td>\n",
       "      <td>en</td>\n",
       "      <td>Father of the Bride Part II</td>\n",
       "      <td>Just when George Banks has recovered from his ...</td>\n",
       "      <td>...</td>\n",
       "      <td>76578911.0</td>\n",
       "      <td>106.0</td>\n",
       "      <td>[{'iso_639_1': 'en', 'name': 'English'}]</td>\n",
       "      <td>Released</td>\n",
       "      <td>Just When His World Is Back To Normal... He's ...</td>\n",
       "      <td>Father of the Bride Part II</td>\n",
       "      <td>False</td>\n",
       "      <td>5.7</td>\n",
       "      <td>173.0</td>\n",
       "      <td>1995</td>\n",
       "    </tr>\n",
       "  </tbody>\n",
       "</table>\n",
       "<p>5 rows × 25 columns</p>\n",
       "</div>"
      ],
      "text/plain": [
       "   adult                              belongs_to_collection    budget  \\\n",
       "0  False  {'id': 10194, 'name': 'Toy Story Collection', ...  30000000   \n",
       "1  False                                                NaN  65000000   \n",
       "2  False  {'id': 119050, 'name': 'Grumpy Old Men Collect...         0   \n",
       "3  False                                                NaN  16000000   \n",
       "4  False  {'id': 96871, 'name': 'Father of the Bride Col...         0   \n",
       "\n",
       "                         genres                              homepage     id  \\\n",
       "0   [Animation, Comedy, Family]  http://toystory.disney.com/toy-story    862   \n",
       "1  [Adventure, Fantasy, Family]                                   NaN   8844   \n",
       "2             [Romance, Comedy]                                   NaN  15602   \n",
       "3      [Comedy, Drama, Romance]                                   NaN  31357   \n",
       "4                      [Comedy]                                   NaN  11862   \n",
       "\n",
       "     imdb_id original_language               original_title  \\\n",
       "0  tt0114709                en                    Toy Story   \n",
       "1  tt0113497                en                      Jumanji   \n",
       "2  tt0113228                en             Grumpier Old Men   \n",
       "3  tt0114885                en            Waiting to Exhale   \n",
       "4  tt0113041                en  Father of the Bride Part II   \n",
       "\n",
       "                                            overview  ...      revenue  \\\n",
       "0  Led by Woody, Andy's toys live happily in his ...  ...  373554033.0   \n",
       "1  When siblings Judy and Peter discover an encha...  ...  262797249.0   \n",
       "2  A family wedding reignites the ancient feud be...  ...          0.0   \n",
       "3  Cheated on, mistreated and stepped on, the wom...  ...   81452156.0   \n",
       "4  Just when George Banks has recovered from his ...  ...   76578911.0   \n",
       "\n",
       "  runtime                                   spoken_languages    status  \\\n",
       "0    81.0           [{'iso_639_1': 'en', 'name': 'English'}]  Released   \n",
       "1   104.0  [{'iso_639_1': 'en', 'name': 'English'}, {'iso...  Released   \n",
       "2   101.0           [{'iso_639_1': 'en', 'name': 'English'}]  Released   \n",
       "3   127.0           [{'iso_639_1': 'en', 'name': 'English'}]  Released   \n",
       "4   106.0           [{'iso_639_1': 'en', 'name': 'English'}]  Released   \n",
       "\n",
       "                                             tagline  \\\n",
       "0                                                NaN   \n",
       "1          Roll the dice and unleash the excitement!   \n",
       "2  Still Yelling. Still Fighting. Still Ready for...   \n",
       "3  Friends are the people who let you be yourself...   \n",
       "4  Just When His World Is Back To Normal... He's ...   \n",
       "\n",
       "                         title  video vote_average vote_count  year  \n",
       "0                    Toy Story  False          7.7     5415.0  1995  \n",
       "1                      Jumanji  False          6.9     2413.0  1995  \n",
       "2             Grumpier Old Men  False          6.5       92.0  1995  \n",
       "3            Waiting to Exhale  False          6.1       34.0  1995  \n",
       "4  Father of the Bride Part II  False          5.7      173.0  1995  \n",
       "\n",
       "[5 rows x 25 columns]"
      ]
     },
     "execution_count": 14,
     "metadata": {},
     "output_type": "execute_result"
    }
   ],
   "source": [
    "smd = md[md['id'].isin(links_small)]\n",
    "print(smd.shape)\n",
    "smd.head()"
   ]
  },
  {
   "cell_type": "markdown",
   "id": "fbcf0375",
   "metadata": {
    "papermill": {
     "duration": 0.073316,
     "end_time": "2022-02-22T20:32:05.829539",
     "exception": false,
     "start_time": "2022-02-22T20:32:05.756223",
     "status": "completed"
    },
    "tags": []
   },
   "source": [
    "***using a subset of all the movies available to us for easier computing.***"
   ]
  },
  {
   "cell_type": "code",
   "execution_count": 15,
   "id": "2e08195d",
   "metadata": {
    "execution": {
     "iopub.execute_input": "2022-02-22T20:32:05.985329Z",
     "iopub.status.busy": "2022-02-22T20:32:05.984611Z",
     "iopub.status.idle": "2022-02-22T20:32:06.020284Z",
     "shell.execute_reply": "2022-02-22T20:32:06.019488Z",
     "shell.execute_reply.started": "2022-02-22T19:10:11.488892Z"
    },
    "papermill": {
     "duration": 0.118213,
     "end_time": "2022-02-22T20:32:06.020507",
     "exception": false,
     "start_time": "2022-02-22T20:32:05.902294",
     "status": "completed"
    },
    "tags": []
   },
   "outputs": [
    {
     "name": "stderr",
     "output_type": "stream",
     "text": [
      "/opt/conda/lib/python3.7/site-packages/ipykernel_launcher.py:1: SettingWithCopyWarning: \n",
      "A value is trying to be set on a copy of a slice from a DataFrame.\n",
      "Try using .loc[row_indexer,col_indexer] = value instead\n",
      "\n",
      "See the caveats in the documentation: https://pandas.pydata.org/pandas-docs/stable/user_guide/indexing.html#returning-a-view-versus-a-copy\n",
      "  \"\"\"Entry point for launching an IPython kernel.\n",
      "/opt/conda/lib/python3.7/site-packages/ipykernel_launcher.py:2: SettingWithCopyWarning: \n",
      "A value is trying to be set on a copy of a slice from a DataFrame.\n",
      "Try using .loc[row_indexer,col_indexer] = value instead\n",
      "\n",
      "See the caveats in the documentation: https://pandas.pydata.org/pandas-docs/stable/user_guide/indexing.html#returning-a-view-versus-a-copy\n",
      "  \n",
      "/opt/conda/lib/python3.7/site-packages/ipykernel_launcher.py:3: SettingWithCopyWarning: \n",
      "A value is trying to be set on a copy of a slice from a DataFrame.\n",
      "Try using .loc[row_indexer,col_indexer] = value instead\n",
      "\n",
      "See the caveats in the documentation: https://pandas.pydata.org/pandas-docs/stable/user_guide/indexing.html#returning-a-view-versus-a-copy\n",
      "  This is separate from the ipykernel package so we can avoid doing imports until\n"
     ]
    },
    {
     "data": {
      "text/html": [
       "<div>\n",
       "<style scoped>\n",
       "    .dataframe tbody tr th:only-of-type {\n",
       "        vertical-align: middle;\n",
       "    }\n",
       "\n",
       "    .dataframe tbody tr th {\n",
       "        vertical-align: top;\n",
       "    }\n",
       "\n",
       "    .dataframe thead th {\n",
       "        text-align: right;\n",
       "    }\n",
       "</style>\n",
       "<table border=\"1\" class=\"dataframe\">\n",
       "  <thead>\n",
       "    <tr style=\"text-align: right;\">\n",
       "      <th></th>\n",
       "      <th>adult</th>\n",
       "      <th>belongs_to_collection</th>\n",
       "      <th>budget</th>\n",
       "      <th>genres</th>\n",
       "      <th>homepage</th>\n",
       "      <th>id</th>\n",
       "      <th>imdb_id</th>\n",
       "      <th>original_language</th>\n",
       "      <th>original_title</th>\n",
       "      <th>overview</th>\n",
       "      <th>...</th>\n",
       "      <th>runtime</th>\n",
       "      <th>spoken_languages</th>\n",
       "      <th>status</th>\n",
       "      <th>tagline</th>\n",
       "      <th>title</th>\n",
       "      <th>video</th>\n",
       "      <th>vote_average</th>\n",
       "      <th>vote_count</th>\n",
       "      <th>year</th>\n",
       "      <th>description</th>\n",
       "    </tr>\n",
       "  </thead>\n",
       "  <tbody>\n",
       "    <tr>\n",
       "      <th>0</th>\n",
       "      <td>False</td>\n",
       "      <td>{'id': 10194, 'name': 'Toy Story Collection', ...</td>\n",
       "      <td>30000000</td>\n",
       "      <td>[Animation, Comedy, Family]</td>\n",
       "      <td>http://toystory.disney.com/toy-story</td>\n",
       "      <td>862</td>\n",
       "      <td>tt0114709</td>\n",
       "      <td>en</td>\n",
       "      <td>Toy Story</td>\n",
       "      <td>Led by Woody, Andy's toys live happily in his ...</td>\n",
       "      <td>...</td>\n",
       "      <td>81.0</td>\n",
       "      <td>[{'iso_639_1': 'en', 'name': 'English'}]</td>\n",
       "      <td>Released</td>\n",
       "      <td></td>\n",
       "      <td>Toy Story</td>\n",
       "      <td>False</td>\n",
       "      <td>7.7</td>\n",
       "      <td>5415.0</td>\n",
       "      <td>1995</td>\n",
       "      <td>Led by Woody, Andy's toys live happily in his ...</td>\n",
       "    </tr>\n",
       "    <tr>\n",
       "      <th>1</th>\n",
       "      <td>False</td>\n",
       "      <td>NaN</td>\n",
       "      <td>65000000</td>\n",
       "      <td>[Adventure, Fantasy, Family]</td>\n",
       "      <td>NaN</td>\n",
       "      <td>8844</td>\n",
       "      <td>tt0113497</td>\n",
       "      <td>en</td>\n",
       "      <td>Jumanji</td>\n",
       "      <td>When siblings Judy and Peter discover an encha...</td>\n",
       "      <td>...</td>\n",
       "      <td>104.0</td>\n",
       "      <td>[{'iso_639_1': 'en', 'name': 'English'}, {'iso...</td>\n",
       "      <td>Released</td>\n",
       "      <td>Roll the dice and unleash the excitement!</td>\n",
       "      <td>Jumanji</td>\n",
       "      <td>False</td>\n",
       "      <td>6.9</td>\n",
       "      <td>2413.0</td>\n",
       "      <td>1995</td>\n",
       "      <td>When siblings Judy and Peter discover an encha...</td>\n",
       "    </tr>\n",
       "    <tr>\n",
       "      <th>2</th>\n",
       "      <td>False</td>\n",
       "      <td>{'id': 119050, 'name': 'Grumpy Old Men Collect...</td>\n",
       "      <td>0</td>\n",
       "      <td>[Romance, Comedy]</td>\n",
       "      <td>NaN</td>\n",
       "      <td>15602</td>\n",
       "      <td>tt0113228</td>\n",
       "      <td>en</td>\n",
       "      <td>Grumpier Old Men</td>\n",
       "      <td>A family wedding reignites the ancient feud be...</td>\n",
       "      <td>...</td>\n",
       "      <td>101.0</td>\n",
       "      <td>[{'iso_639_1': 'en', 'name': 'English'}]</td>\n",
       "      <td>Released</td>\n",
       "      <td>Still Yelling. Still Fighting. Still Ready for...</td>\n",
       "      <td>Grumpier Old Men</td>\n",
       "      <td>False</td>\n",
       "      <td>6.5</td>\n",
       "      <td>92.0</td>\n",
       "      <td>1995</td>\n",
       "      <td>A family wedding reignites the ancient feud be...</td>\n",
       "    </tr>\n",
       "    <tr>\n",
       "      <th>3</th>\n",
       "      <td>False</td>\n",
       "      <td>NaN</td>\n",
       "      <td>16000000</td>\n",
       "      <td>[Comedy, Drama, Romance]</td>\n",
       "      <td>NaN</td>\n",
       "      <td>31357</td>\n",
       "      <td>tt0114885</td>\n",
       "      <td>en</td>\n",
       "      <td>Waiting to Exhale</td>\n",
       "      <td>Cheated on, mistreated and stepped on, the wom...</td>\n",
       "      <td>...</td>\n",
       "      <td>127.0</td>\n",
       "      <td>[{'iso_639_1': 'en', 'name': 'English'}]</td>\n",
       "      <td>Released</td>\n",
       "      <td>Friends are the people who let you be yourself...</td>\n",
       "      <td>Waiting to Exhale</td>\n",
       "      <td>False</td>\n",
       "      <td>6.1</td>\n",
       "      <td>34.0</td>\n",
       "      <td>1995</td>\n",
       "      <td>Cheated on, mistreated and stepped on, the wom...</td>\n",
       "    </tr>\n",
       "    <tr>\n",
       "      <th>4</th>\n",
       "      <td>False</td>\n",
       "      <td>{'id': 96871, 'name': 'Father of the Bride Col...</td>\n",
       "      <td>0</td>\n",
       "      <td>[Comedy]</td>\n",
       "      <td>NaN</td>\n",
       "      <td>11862</td>\n",
       "      <td>tt0113041</td>\n",
       "      <td>en</td>\n",
       "      <td>Father of the Bride Part II</td>\n",
       "      <td>Just when George Banks has recovered from his ...</td>\n",
       "      <td>...</td>\n",
       "      <td>106.0</td>\n",
       "      <td>[{'iso_639_1': 'en', 'name': 'English'}]</td>\n",
       "      <td>Released</td>\n",
       "      <td>Just When His World Is Back To Normal... He's ...</td>\n",
       "      <td>Father of the Bride Part II</td>\n",
       "      <td>False</td>\n",
       "      <td>5.7</td>\n",
       "      <td>173.0</td>\n",
       "      <td>1995</td>\n",
       "      <td>Just when George Banks has recovered from his ...</td>\n",
       "    </tr>\n",
       "  </tbody>\n",
       "</table>\n",
       "<p>5 rows × 26 columns</p>\n",
       "</div>"
      ],
      "text/plain": [
       "   adult                              belongs_to_collection    budget  \\\n",
       "0  False  {'id': 10194, 'name': 'Toy Story Collection', ...  30000000   \n",
       "1  False                                                NaN  65000000   \n",
       "2  False  {'id': 119050, 'name': 'Grumpy Old Men Collect...         0   \n",
       "3  False                                                NaN  16000000   \n",
       "4  False  {'id': 96871, 'name': 'Father of the Bride Col...         0   \n",
       "\n",
       "                         genres                              homepage     id  \\\n",
       "0   [Animation, Comedy, Family]  http://toystory.disney.com/toy-story    862   \n",
       "1  [Adventure, Fantasy, Family]                                   NaN   8844   \n",
       "2             [Romance, Comedy]                                   NaN  15602   \n",
       "3      [Comedy, Drama, Romance]                                   NaN  31357   \n",
       "4                      [Comedy]                                   NaN  11862   \n",
       "\n",
       "     imdb_id original_language               original_title  \\\n",
       "0  tt0114709                en                    Toy Story   \n",
       "1  tt0113497                en                      Jumanji   \n",
       "2  tt0113228                en             Grumpier Old Men   \n",
       "3  tt0114885                en            Waiting to Exhale   \n",
       "4  tt0113041                en  Father of the Bride Part II   \n",
       "\n",
       "                                            overview  ... runtime  \\\n",
       "0  Led by Woody, Andy's toys live happily in his ...  ...    81.0   \n",
       "1  When siblings Judy and Peter discover an encha...  ...   104.0   \n",
       "2  A family wedding reignites the ancient feud be...  ...   101.0   \n",
       "3  Cheated on, mistreated and stepped on, the wom...  ...   127.0   \n",
       "4  Just when George Banks has recovered from his ...  ...   106.0   \n",
       "\n",
       "                                    spoken_languages    status  \\\n",
       "0           [{'iso_639_1': 'en', 'name': 'English'}]  Released   \n",
       "1  [{'iso_639_1': 'en', 'name': 'English'}, {'iso...  Released   \n",
       "2           [{'iso_639_1': 'en', 'name': 'English'}]  Released   \n",
       "3           [{'iso_639_1': 'en', 'name': 'English'}]  Released   \n",
       "4           [{'iso_639_1': 'en', 'name': 'English'}]  Released   \n",
       "\n",
       "                                             tagline  \\\n",
       "0                                                      \n",
       "1          Roll the dice and unleash the excitement!   \n",
       "2  Still Yelling. Still Fighting. Still Ready for...   \n",
       "3  Friends are the people who let you be yourself...   \n",
       "4  Just When His World Is Back To Normal... He's ...   \n",
       "\n",
       "                         title  video  vote_average vote_count  year  \\\n",
       "0                    Toy Story  False           7.7     5415.0  1995   \n",
       "1                      Jumanji  False           6.9     2413.0  1995   \n",
       "2             Grumpier Old Men  False           6.5       92.0  1995   \n",
       "3            Waiting to Exhale  False           6.1       34.0  1995   \n",
       "4  Father of the Bride Part II  False           5.7      173.0  1995   \n",
       "\n",
       "                                         description  \n",
       "0  Led by Woody, Andy's toys live happily in his ...  \n",
       "1  When siblings Judy and Peter discover an encha...  \n",
       "2  A family wedding reignites the ancient feud be...  \n",
       "3  Cheated on, mistreated and stepped on, the wom...  \n",
       "4  Just when George Banks has recovered from his ...  \n",
       "\n",
       "[5 rows x 26 columns]"
      ]
     },
     "execution_count": 15,
     "metadata": {},
     "output_type": "execute_result"
    }
   ],
   "source": [
    "smd['tagline'] = smd['tagline'].fillna('')\n",
    "smd['description'] = smd['overview'] + smd['tagline']\n",
    "smd['description'] = smd['description'].fillna('')\n",
    "\n",
    "smd.head()"
   ]
  },
  {
   "cell_type": "markdown",
   "id": "7ce56897",
   "metadata": {
    "papermill": {
     "duration": 0.073003,
     "end_time": "2022-02-22T20:32:06.169740",
     "exception": false,
     "start_time": "2022-02-22T20:32:06.096737",
     "status": "completed"
    },
    "tags": []
   },
   "source": [
    "***FOR DESCRIPTION BASED RECOMMENDER***"
   ]
  },
  {
   "cell_type": "code",
   "execution_count": 16,
   "id": "6c987f78",
   "metadata": {
    "execution": {
     "iopub.execute_input": "2022-02-22T20:32:06.326527Z",
     "iopub.status.busy": "2022-02-22T20:32:06.325853Z",
     "iopub.status.idle": "2022-02-22T20:32:08.581320Z",
     "shell.execute_reply": "2022-02-22T20:32:08.580664Z",
     "shell.execute_reply.started": "2022-02-22T19:10:11.540323Z"
    },
    "papermill": {
     "duration": 2.338751,
     "end_time": "2022-02-22T20:32:08.581489",
     "exception": false,
     "start_time": "2022-02-22T20:32:06.242738",
     "status": "completed"
    },
    "tags": []
   },
   "outputs": [
    {
     "data": {
      "text/plain": [
       "(9099, 268124)"
      ]
     },
     "execution_count": 16,
     "metadata": {},
     "output_type": "execute_result"
    }
   ],
   "source": [
    "tf = TfidfVectorizer(analyzer='word',ngram_range=(1, 2),min_df=0, stop_words='english')\n",
    "tfidf_matrix = tf.fit_transform(smd['description'])\n",
    "#Constructing the required TF-IDF matrix by fitting and transforming the data\n",
    "tfidf_matrix.shape"
   ]
  },
  {
   "cell_type": "markdown",
   "id": "33b6ddd1",
   "metadata": {
    "papermill": {
     "duration": 0.072407,
     "end_time": "2022-02-22T20:32:08.728474",
     "exception": false,
     "start_time": "2022-02-22T20:32:08.656067",
     "status": "completed"
    },
    "tags": []
   },
   "source": [
    "***We see that over 20,000 different words were used to describe the 9099 movies in our dataset.***"
   ]
  },
  {
   "cell_type": "code",
   "execution_count": 17,
   "id": "ab9f3de4",
   "metadata": {
    "execution": {
     "iopub.execute_input": "2022-02-22T20:32:08.878562Z",
     "iopub.status.busy": "2022-02-22T20:32:08.877935Z",
     "iopub.status.idle": "2022-02-22T20:32:10.733392Z",
     "shell.execute_reply": "2022-02-22T20:32:10.732830Z",
     "shell.execute_reply.started": "2022-02-22T19:10:13.932811Z"
    },
    "papermill": {
     "duration": 1.931287,
     "end_time": "2022-02-22T20:32:10.733557",
     "exception": false,
     "start_time": "2022-02-22T20:32:08.802270",
     "status": "completed"
    },
    "tags": []
   },
   "outputs": [],
   "source": [
    "cosine_sim = linear_kernel(tfidf_matrix, tfidf_matrix)"
   ]
  },
  {
   "cell_type": "code",
   "execution_count": 18,
   "id": "73da0ab8",
   "metadata": {
    "execution": {
     "iopub.execute_input": "2022-02-22T20:32:10.884465Z",
     "iopub.status.busy": "2022-02-22T20:32:10.883816Z",
     "iopub.status.idle": "2022-02-22T20:32:10.889570Z",
     "shell.execute_reply": "2022-02-22T20:32:10.889034Z",
     "shell.execute_reply.started": "2022-02-22T19:10:15.669001Z"
    },
    "papermill": {
     "duration": 0.083674,
     "end_time": "2022-02-22T20:32:10.889759",
     "exception": false,
     "start_time": "2022-02-22T20:32:10.806085",
     "status": "completed"
    },
    "tags": []
   },
   "outputs": [
    {
     "data": {
      "text/plain": [
       "array([1.        , 0.00680476, 0.        , ..., 0.        , 0.00344913,\n",
       "       0.        ])"
      ]
     },
     "execution_count": 18,
     "metadata": {},
     "output_type": "execute_result"
    }
   ],
   "source": [
    "cosine_sim[0]"
   ]
  },
  {
   "cell_type": "code",
   "execution_count": 19,
   "id": "6ced821e",
   "metadata": {
    "execution": {
     "iopub.execute_input": "2022-02-22T20:32:11.043059Z",
     "iopub.status.busy": "2022-02-22T20:32:11.042092Z",
     "iopub.status.idle": "2022-02-22T20:32:11.059816Z",
     "shell.execute_reply": "2022-02-22T20:32:11.060300Z",
     "shell.execute_reply.started": "2022-02-22T19:10:15.678592Z"
    },
    "papermill": {
     "duration": 0.097202,
     "end_time": "2022-02-22T20:32:11.060509",
     "exception": false,
     "start_time": "2022-02-22T20:32:10.963307",
     "status": "completed"
    },
    "tags": []
   },
   "outputs": [],
   "source": [
    "smd = smd.reset_index()\n",
    "titles = smd['title']\n",
    "indices = pd.Series(smd.index, index=smd['title'])"
   ]
  },
  {
   "cell_type": "code",
   "execution_count": 20,
   "id": "098c935c",
   "metadata": {
    "execution": {
     "iopub.execute_input": "2022-02-22T20:32:11.211453Z",
     "iopub.status.busy": "2022-02-22T20:32:11.210501Z",
     "iopub.status.idle": "2022-02-22T20:32:11.217151Z",
     "shell.execute_reply": "2022-02-22T20:32:11.216576Z",
     "shell.execute_reply.started": "2022-02-22T19:10:15.711998Z"
    },
    "papermill": {
     "duration": 0.083501,
     "end_time": "2022-02-22T20:32:11.217311",
     "exception": false,
     "start_time": "2022-02-22T20:32:11.133810",
     "status": "completed"
    },
    "tags": []
   },
   "outputs": [],
   "source": [
    "def get_recommendations(title):\n",
    "    idx = indices[title]\n",
    "    sim_scores = list(enumerate(cosine_sim[idx]))\n",
    "    sim_scores = sorted(sim_scores, key=lambda x: x[1], reverse=True)\n",
    "    sim_scores = sim_scores[1:31]\n",
    "    movie_indices = [i[0] for i in sim_scores]\n",
    "    return titles.iloc[movie_indices]"
   ]
  },
  {
   "cell_type": "code",
   "execution_count": 21,
   "id": "4183b2de",
   "metadata": {
    "execution": {
     "iopub.execute_input": "2022-02-22T20:32:11.373442Z",
     "iopub.status.busy": "2022-02-22T20:32:11.366944Z",
     "iopub.status.idle": "2022-02-22T20:32:11.391780Z",
     "shell.execute_reply": "2022-02-22T20:32:11.392264Z",
     "shell.execute_reply.started": "2022-02-22T19:10:15.722659Z"
    },
    "papermill": {
     "duration": 0.102208,
     "end_time": "2022-02-22T20:32:11.392449",
     "exception": false,
     "start_time": "2022-02-22T20:32:11.290241",
     "status": "completed"
    },
    "tags": []
   },
   "outputs": [
    {
     "data": {
      "text/plain": [
       "973      The Godfather: Part II\n",
       "8387                 The Family\n",
       "3509                       Made\n",
       "4196         Johnny Dangerously\n",
       "29               Shanghai Triad\n",
       "5667                       Fury\n",
       "2412             American Movie\n",
       "1582    The Godfather: Part III\n",
       "4221                    8 Women\n",
       "2159              Summer of Sam\n",
       "Name: title, dtype: object"
      ]
     },
     "execution_count": 21,
     "metadata": {},
     "output_type": "execute_result"
    }
   ],
   "source": [
    "get_recommendations('The Godfather').head(10)"
   ]
  },
  {
   "cell_type": "markdown",
   "id": "4f003e78",
   "metadata": {
    "papermill": {
     "duration": 0.073678,
     "end_time": "2022-02-22T20:32:11.543286",
     "exception": false,
     "start_time": "2022-02-22T20:32:11.469608",
     "status": "completed"
    },
    "tags": []
   },
   "source": [
    "***INCLUDING CREDITS, KEYWORDS, CREW AND CASTS AS A CRITERIA TO MAKE THE PREDICTIONS MORE ACCURATE***"
   ]
  },
  {
   "cell_type": "code",
   "execution_count": 22,
   "id": "55a1ebdf",
   "metadata": {
    "execution": {
     "iopub.execute_input": "2022-02-22T20:32:11.696305Z",
     "iopub.status.busy": "2022-02-22T20:32:11.695361Z",
     "iopub.status.idle": "2022-02-22T20:32:16.278585Z",
     "shell.execute_reply": "2022-02-22T20:32:16.277778Z",
     "shell.execute_reply.started": "2022-02-22T19:10:15.756881Z"
    },
    "papermill": {
     "duration": 4.662137,
     "end_time": "2022-02-22T20:32:16.278784",
     "exception": false,
     "start_time": "2022-02-22T20:32:11.616647",
     "status": "completed"
    },
    "tags": []
   },
   "outputs": [],
   "source": [
    "credits = pd.read_csv('../input/moviesdataset/credits.csv')\n",
    "keywords = pd.read_csv('../input/moviesdataset/keywords.csv')"
   ]
  },
  {
   "cell_type": "code",
   "execution_count": 23,
   "id": "ed4240a0",
   "metadata": {
    "execution": {
     "iopub.execute_input": "2022-02-22T20:32:16.434630Z",
     "iopub.status.busy": "2022-02-22T20:32:16.433441Z",
     "iopub.status.idle": "2022-02-22T20:32:16.437813Z",
     "shell.execute_reply": "2022-02-22T20:32:16.437290Z",
     "shell.execute_reply.started": "2022-02-22T19:10:18.044248Z"
    },
    "papermill": {
     "duration": 0.084427,
     "end_time": "2022-02-22T20:32:16.437972",
     "exception": false,
     "start_time": "2022-02-22T20:32:16.353545",
     "status": "completed"
    },
    "tags": []
   },
   "outputs": [],
   "source": [
    "keywords['id'] = keywords['id'].astype('int')\n",
    "credits['id'] = credits['id'].astype('int')\n",
    "md['id'] = md['id'].astype('int')"
   ]
  },
  {
   "cell_type": "code",
   "execution_count": 24,
   "id": "a91192c0",
   "metadata": {
    "execution": {
     "iopub.execute_input": "2022-02-22T20:32:16.591159Z",
     "iopub.status.busy": "2022-02-22T20:32:16.590497Z",
     "iopub.status.idle": "2022-02-22T20:32:16.593522Z",
     "shell.execute_reply": "2022-02-22T20:32:16.594016Z",
     "shell.execute_reply.started": "2022-02-22T19:10:18.055911Z"
    },
    "papermill": {
     "duration": 0.082299,
     "end_time": "2022-02-22T20:32:16.594224",
     "exception": false,
     "start_time": "2022-02-22T20:32:16.511925",
     "status": "completed"
    },
    "tags": []
   },
   "outputs": [
    {
     "data": {
      "text/plain": [
       "(45463, 25)"
      ]
     },
     "execution_count": 24,
     "metadata": {},
     "output_type": "execute_result"
    }
   ],
   "source": [
    "md.shape"
   ]
  },
  {
   "cell_type": "code",
   "execution_count": 25,
   "id": "c16c6620",
   "metadata": {
    "execution": {
     "iopub.execute_input": "2022-02-22T20:32:16.750912Z",
     "iopub.status.busy": "2022-02-22T20:32:16.749889Z",
     "iopub.status.idle": "2022-02-22T20:32:16.930124Z",
     "shell.execute_reply": "2022-02-22T20:32:16.930622Z",
     "shell.execute_reply.started": "2022-02-22T19:10:18.073301Z"
    },
    "papermill": {
     "duration": 0.262565,
     "end_time": "2022-02-22T20:32:16.930841",
     "exception": false,
     "start_time": "2022-02-22T20:32:16.668276",
     "status": "completed"
    },
    "tags": []
   },
   "outputs": [
    {
     "data": {
      "text/html": [
       "<div>\n",
       "<style scoped>\n",
       "    .dataframe tbody tr th:only-of-type {\n",
       "        vertical-align: middle;\n",
       "    }\n",
       "\n",
       "    .dataframe tbody tr th {\n",
       "        vertical-align: top;\n",
       "    }\n",
       "\n",
       "    .dataframe thead th {\n",
       "        text-align: right;\n",
       "    }\n",
       "</style>\n",
       "<table border=\"1\" class=\"dataframe\">\n",
       "  <thead>\n",
       "    <tr style=\"text-align: right;\">\n",
       "      <th></th>\n",
       "      <th>adult</th>\n",
       "      <th>belongs_to_collection</th>\n",
       "      <th>budget</th>\n",
       "      <th>genres</th>\n",
       "      <th>homepage</th>\n",
       "      <th>id</th>\n",
       "      <th>imdb_id</th>\n",
       "      <th>original_language</th>\n",
       "      <th>original_title</th>\n",
       "      <th>overview</th>\n",
       "      <th>...</th>\n",
       "      <th>status</th>\n",
       "      <th>tagline</th>\n",
       "      <th>title</th>\n",
       "      <th>video</th>\n",
       "      <th>vote_average</th>\n",
       "      <th>vote_count</th>\n",
       "      <th>year</th>\n",
       "      <th>cast</th>\n",
       "      <th>crew</th>\n",
       "      <th>keywords</th>\n",
       "    </tr>\n",
       "  </thead>\n",
       "  <tbody>\n",
       "    <tr>\n",
       "      <th>0</th>\n",
       "      <td>False</td>\n",
       "      <td>{'id': 10194, 'name': 'Toy Story Collection', ...</td>\n",
       "      <td>30000000</td>\n",
       "      <td>[Animation, Comedy, Family]</td>\n",
       "      <td>http://toystory.disney.com/toy-story</td>\n",
       "      <td>862</td>\n",
       "      <td>tt0114709</td>\n",
       "      <td>en</td>\n",
       "      <td>Toy Story</td>\n",
       "      <td>Led by Woody, Andy's toys live happily in his ...</td>\n",
       "      <td>...</td>\n",
       "      <td>Released</td>\n",
       "      <td>NaN</td>\n",
       "      <td>Toy Story</td>\n",
       "      <td>False</td>\n",
       "      <td>7.7</td>\n",
       "      <td>5415.0</td>\n",
       "      <td>1995</td>\n",
       "      <td>[{'cast_id': 14, 'character': 'Woody (voice)',...</td>\n",
       "      <td>[{'credit_id': '52fe4284c3a36847f8024f49', 'de...</td>\n",
       "      <td>[{'id': 931, 'name': 'jealousy'}, {'id': 4290,...</td>\n",
       "    </tr>\n",
       "    <tr>\n",
       "      <th>1</th>\n",
       "      <td>False</td>\n",
       "      <td>NaN</td>\n",
       "      <td>65000000</td>\n",
       "      <td>[Adventure, Fantasy, Family]</td>\n",
       "      <td>NaN</td>\n",
       "      <td>8844</td>\n",
       "      <td>tt0113497</td>\n",
       "      <td>en</td>\n",
       "      <td>Jumanji</td>\n",
       "      <td>When siblings Judy and Peter discover an encha...</td>\n",
       "      <td>...</td>\n",
       "      <td>Released</td>\n",
       "      <td>Roll the dice and unleash the excitement!</td>\n",
       "      <td>Jumanji</td>\n",
       "      <td>False</td>\n",
       "      <td>6.9</td>\n",
       "      <td>2413.0</td>\n",
       "      <td>1995</td>\n",
       "      <td>[{'cast_id': 1, 'character': 'Alan Parrish', '...</td>\n",
       "      <td>[{'credit_id': '52fe44bfc3a36847f80a7cd1', 'de...</td>\n",
       "      <td>[{'id': 10090, 'name': 'board game'}, {'id': 1...</td>\n",
       "    </tr>\n",
       "    <tr>\n",
       "      <th>2</th>\n",
       "      <td>False</td>\n",
       "      <td>{'id': 119050, 'name': 'Grumpy Old Men Collect...</td>\n",
       "      <td>0</td>\n",
       "      <td>[Romance, Comedy]</td>\n",
       "      <td>NaN</td>\n",
       "      <td>15602</td>\n",
       "      <td>tt0113228</td>\n",
       "      <td>en</td>\n",
       "      <td>Grumpier Old Men</td>\n",
       "      <td>A family wedding reignites the ancient feud be...</td>\n",
       "      <td>...</td>\n",
       "      <td>Released</td>\n",
       "      <td>Still Yelling. Still Fighting. Still Ready for...</td>\n",
       "      <td>Grumpier Old Men</td>\n",
       "      <td>False</td>\n",
       "      <td>6.5</td>\n",
       "      <td>92.0</td>\n",
       "      <td>1995</td>\n",
       "      <td>[{'cast_id': 2, 'character': 'Max Goldman', 'c...</td>\n",
       "      <td>[{'credit_id': '52fe466a9251416c75077a89', 'de...</td>\n",
       "      <td>[{'id': 1495, 'name': 'fishing'}, {'id': 12392...</td>\n",
       "    </tr>\n",
       "    <tr>\n",
       "      <th>3</th>\n",
       "      <td>False</td>\n",
       "      <td>NaN</td>\n",
       "      <td>16000000</td>\n",
       "      <td>[Comedy, Drama, Romance]</td>\n",
       "      <td>NaN</td>\n",
       "      <td>31357</td>\n",
       "      <td>tt0114885</td>\n",
       "      <td>en</td>\n",
       "      <td>Waiting to Exhale</td>\n",
       "      <td>Cheated on, mistreated and stepped on, the wom...</td>\n",
       "      <td>...</td>\n",
       "      <td>Released</td>\n",
       "      <td>Friends are the people who let you be yourself...</td>\n",
       "      <td>Waiting to Exhale</td>\n",
       "      <td>False</td>\n",
       "      <td>6.1</td>\n",
       "      <td>34.0</td>\n",
       "      <td>1995</td>\n",
       "      <td>[{'cast_id': 1, 'character': \"Savannah 'Vannah...</td>\n",
       "      <td>[{'credit_id': '52fe44779251416c91011acb', 'de...</td>\n",
       "      <td>[{'id': 818, 'name': 'based on novel'}, {'id':...</td>\n",
       "    </tr>\n",
       "    <tr>\n",
       "      <th>4</th>\n",
       "      <td>False</td>\n",
       "      <td>{'id': 96871, 'name': 'Father of the Bride Col...</td>\n",
       "      <td>0</td>\n",
       "      <td>[Comedy]</td>\n",
       "      <td>NaN</td>\n",
       "      <td>11862</td>\n",
       "      <td>tt0113041</td>\n",
       "      <td>en</td>\n",
       "      <td>Father of the Bride Part II</td>\n",
       "      <td>Just when George Banks has recovered from his ...</td>\n",
       "      <td>...</td>\n",
       "      <td>Released</td>\n",
       "      <td>Just When His World Is Back To Normal... He's ...</td>\n",
       "      <td>Father of the Bride Part II</td>\n",
       "      <td>False</td>\n",
       "      <td>5.7</td>\n",
       "      <td>173.0</td>\n",
       "      <td>1995</td>\n",
       "      <td>[{'cast_id': 1, 'character': 'George Banks', '...</td>\n",
       "      <td>[{'credit_id': '52fe44959251416c75039ed7', 'de...</td>\n",
       "      <td>[{'id': 1009, 'name': 'baby'}, {'id': 1599, 'n...</td>\n",
       "    </tr>\n",
       "  </tbody>\n",
       "</table>\n",
       "<p>5 rows × 28 columns</p>\n",
       "</div>"
      ],
      "text/plain": [
       "   adult                              belongs_to_collection    budget  \\\n",
       "0  False  {'id': 10194, 'name': 'Toy Story Collection', ...  30000000   \n",
       "1  False                                                NaN  65000000   \n",
       "2  False  {'id': 119050, 'name': 'Grumpy Old Men Collect...         0   \n",
       "3  False                                                NaN  16000000   \n",
       "4  False  {'id': 96871, 'name': 'Father of the Bride Col...         0   \n",
       "\n",
       "                         genres                              homepage     id  \\\n",
       "0   [Animation, Comedy, Family]  http://toystory.disney.com/toy-story    862   \n",
       "1  [Adventure, Fantasy, Family]                                   NaN   8844   \n",
       "2             [Romance, Comedy]                                   NaN  15602   \n",
       "3      [Comedy, Drama, Romance]                                   NaN  31357   \n",
       "4                      [Comedy]                                   NaN  11862   \n",
       "\n",
       "     imdb_id original_language               original_title  \\\n",
       "0  tt0114709                en                    Toy Story   \n",
       "1  tt0113497                en                      Jumanji   \n",
       "2  tt0113228                en             Grumpier Old Men   \n",
       "3  tt0114885                en            Waiting to Exhale   \n",
       "4  tt0113041                en  Father of the Bride Part II   \n",
       "\n",
       "                                            overview  ...    status  \\\n",
       "0  Led by Woody, Andy's toys live happily in his ...  ...  Released   \n",
       "1  When siblings Judy and Peter discover an encha...  ...  Released   \n",
       "2  A family wedding reignites the ancient feud be...  ...  Released   \n",
       "3  Cheated on, mistreated and stepped on, the wom...  ...  Released   \n",
       "4  Just when George Banks has recovered from his ...  ...  Released   \n",
       "\n",
       "                                             tagline  \\\n",
       "0                                                NaN   \n",
       "1          Roll the dice and unleash the excitement!   \n",
       "2  Still Yelling. Still Fighting. Still Ready for...   \n",
       "3  Friends are the people who let you be yourself...   \n",
       "4  Just When His World Is Back To Normal... He's ...   \n",
       "\n",
       "                         title  video vote_average  vote_count  year  \\\n",
       "0                    Toy Story  False          7.7      5415.0  1995   \n",
       "1                      Jumanji  False          6.9      2413.0  1995   \n",
       "2             Grumpier Old Men  False          6.5        92.0  1995   \n",
       "3            Waiting to Exhale  False          6.1        34.0  1995   \n",
       "4  Father of the Bride Part II  False          5.7       173.0  1995   \n",
       "\n",
       "                                                cast  \\\n",
       "0  [{'cast_id': 14, 'character': 'Woody (voice)',...   \n",
       "1  [{'cast_id': 1, 'character': 'Alan Parrish', '...   \n",
       "2  [{'cast_id': 2, 'character': 'Max Goldman', 'c...   \n",
       "3  [{'cast_id': 1, 'character': \"Savannah 'Vannah...   \n",
       "4  [{'cast_id': 1, 'character': 'George Banks', '...   \n",
       "\n",
       "                                                crew  \\\n",
       "0  [{'credit_id': '52fe4284c3a36847f8024f49', 'de...   \n",
       "1  [{'credit_id': '52fe44bfc3a36847f80a7cd1', 'de...   \n",
       "2  [{'credit_id': '52fe466a9251416c75077a89', 'de...   \n",
       "3  [{'credit_id': '52fe44779251416c91011acb', 'de...   \n",
       "4  [{'credit_id': '52fe44959251416c75039ed7', 'de...   \n",
       "\n",
       "                                            keywords  \n",
       "0  [{'id': 931, 'name': 'jealousy'}, {'id': 4290,...  \n",
       "1  [{'id': 10090, 'name': 'board game'}, {'id': 1...  \n",
       "2  [{'id': 1495, 'name': 'fishing'}, {'id': 12392...  \n",
       "3  [{'id': 818, 'name': 'based on novel'}, {'id':...  \n",
       "4  [{'id': 1009, 'name': 'baby'}, {'id': 1599, 'n...  \n",
       "\n",
       "[5 rows x 28 columns]"
      ]
     },
     "execution_count": 25,
     "metadata": {},
     "output_type": "execute_result"
    }
   ],
   "source": [
    "md = md.merge(credits, on='id')\n",
    "md = md.merge(keywords, on='id')\n",
    "md.head()"
   ]
  },
  {
   "cell_type": "code",
   "execution_count": 26,
   "id": "41851b50",
   "metadata": {
    "execution": {
     "iopub.execute_input": "2022-02-22T20:32:17.085133Z",
     "iopub.status.busy": "2022-02-22T20:32:17.084485Z",
     "iopub.status.idle": "2022-02-22T20:32:17.141112Z",
     "shell.execute_reply": "2022-02-22T20:32:17.140492Z",
     "shell.execute_reply.started": "2022-02-22T19:10:18.271826Z"
    },
    "papermill": {
     "duration": 0.135876,
     "end_time": "2022-02-22T20:32:17.141276",
     "exception": false,
     "start_time": "2022-02-22T20:32:17.005400",
     "status": "completed"
    },
    "tags": []
   },
   "outputs": [
    {
     "data": {
      "text/plain": [
       "(9219, 28)"
      ]
     },
     "execution_count": 26,
     "metadata": {},
     "output_type": "execute_result"
    }
   ],
   "source": [
    "smd = md[md['id'].isin(links_small)]\n",
    "smd.shape"
   ]
  },
  {
   "cell_type": "code",
   "execution_count": 27,
   "id": "7d70d2a1",
   "metadata": {
    "execution": {
     "iopub.execute_input": "2022-02-22T20:32:17.328294Z",
     "iopub.status.busy": "2022-02-22T20:32:17.311591Z",
     "iopub.status.idle": "2022-02-22T20:32:31.867753Z",
     "shell.execute_reply": "2022-02-22T20:32:31.868274Z",
     "shell.execute_reply.started": "2022-02-22T19:10:18.328892Z"
    },
    "papermill": {
     "duration": 14.651322,
     "end_time": "2022-02-22T20:32:31.868474",
     "exception": false,
     "start_time": "2022-02-22T20:32:17.217152",
     "status": "completed"
    },
    "tags": []
   },
   "outputs": [
    {
     "name": "stderr",
     "output_type": "stream",
     "text": [
      "/opt/conda/lib/python3.7/site-packages/ipykernel_launcher.py:1: SettingWithCopyWarning: \n",
      "A value is trying to be set on a copy of a slice from a DataFrame.\n",
      "Try using .loc[row_indexer,col_indexer] = value instead\n",
      "\n",
      "See the caveats in the documentation: https://pandas.pydata.org/pandas-docs/stable/user_guide/indexing.html#returning-a-view-versus-a-copy\n",
      "  \"\"\"Entry point for launching an IPython kernel.\n",
      "/opt/conda/lib/python3.7/site-packages/ipykernel_launcher.py:2: SettingWithCopyWarning: \n",
      "A value is trying to be set on a copy of a slice from a DataFrame.\n",
      "Try using .loc[row_indexer,col_indexer] = value instead\n",
      "\n",
      "See the caveats in the documentation: https://pandas.pydata.org/pandas-docs/stable/user_guide/indexing.html#returning-a-view-versus-a-copy\n",
      "  \n",
      "/opt/conda/lib/python3.7/site-packages/ipykernel_launcher.py:3: SettingWithCopyWarning: \n",
      "A value is trying to be set on a copy of a slice from a DataFrame.\n",
      "Try using .loc[row_indexer,col_indexer] = value instead\n",
      "\n",
      "See the caveats in the documentation: https://pandas.pydata.org/pandas-docs/stable/user_guide/indexing.html#returning-a-view-versus-a-copy\n",
      "  This is separate from the ipykernel package so we can avoid doing imports until\n",
      "/opt/conda/lib/python3.7/site-packages/ipykernel_launcher.py:4: SettingWithCopyWarning: \n",
      "A value is trying to be set on a copy of a slice from a DataFrame.\n",
      "Try using .loc[row_indexer,col_indexer] = value instead\n",
      "\n",
      "See the caveats in the documentation: https://pandas.pydata.org/pandas-docs/stable/user_guide/indexing.html#returning-a-view-versus-a-copy\n",
      "  after removing the cwd from sys.path.\n",
      "/opt/conda/lib/python3.7/site-packages/ipykernel_launcher.py:5: SettingWithCopyWarning: \n",
      "A value is trying to be set on a copy of a slice from a DataFrame.\n",
      "Try using .loc[row_indexer,col_indexer] = value instead\n",
      "\n",
      "See the caveats in the documentation: https://pandas.pydata.org/pandas-docs/stable/user_guide/indexing.html#returning-a-view-versus-a-copy\n",
      "  \"\"\"\n"
     ]
    }
   ],
   "source": [
    "smd['cast'] = smd['cast'].apply(literal_eval)\n",
    "smd['crew'] = smd['crew'].apply(literal_eval)\n",
    "smd['keywords'] = smd['keywords'].apply(literal_eval)\n",
    "smd['cast_size'] = smd['cast'].apply(lambda x: len(x))\n",
    "smd['crew_size'] = smd['crew'].apply(lambda x: len(x))"
   ]
  },
  {
   "cell_type": "code",
   "execution_count": 28,
   "id": "89c38029",
   "metadata": {
    "execution": {
     "iopub.execute_input": "2022-02-22T20:32:32.028879Z",
     "iopub.status.busy": "2022-02-22T20:32:32.028224Z",
     "iopub.status.idle": "2022-02-22T20:32:32.030515Z",
     "shell.execute_reply": "2022-02-22T20:32:32.030993Z",
     "shell.execute_reply.started": "2022-02-22T19:10:33.271674Z"
    },
    "papermill": {
     "duration": 0.085898,
     "end_time": "2022-02-22T20:32:32.031165",
     "exception": false,
     "start_time": "2022-02-22T20:32:31.945267",
     "status": "completed"
    },
    "tags": []
   },
   "outputs": [],
   "source": [
    "def get_director(x):\n",
    "    for i in x:\n",
    "        if i['job'] == 'Director':\n",
    "            return i['name']\n",
    "    return np.nan"
   ]
  },
  {
   "cell_type": "code",
   "execution_count": 29,
   "id": "18273dd8",
   "metadata": {
    "execution": {
     "iopub.execute_input": "2022-02-22T20:32:32.192010Z",
     "iopub.status.busy": "2022-02-22T20:32:32.191349Z",
     "iopub.status.idle": "2022-02-22T20:32:32.226652Z",
     "shell.execute_reply": "2022-02-22T20:32:32.227299Z",
     "shell.execute_reply.started": "2022-02-22T19:10:33.279453Z"
    },
    "papermill": {
     "duration": 0.11746,
     "end_time": "2022-02-22T20:32:32.227476",
     "exception": false,
     "start_time": "2022-02-22T20:32:32.110016",
     "status": "completed"
    },
    "tags": []
   },
   "outputs": [
    {
     "name": "stderr",
     "output_type": "stream",
     "text": [
      "/opt/conda/lib/python3.7/site-packages/ipykernel_launcher.py:1: SettingWithCopyWarning: \n",
      "A value is trying to be set on a copy of a slice from a DataFrame.\n",
      "Try using .loc[row_indexer,col_indexer] = value instead\n",
      "\n",
      "See the caveats in the documentation: https://pandas.pydata.org/pandas-docs/stable/user_guide/indexing.html#returning-a-view-versus-a-copy\n",
      "  \"\"\"Entry point for launching an IPython kernel.\n"
     ]
    }
   ],
   "source": [
    "smd['director'] = smd['crew'].apply(get_director)"
   ]
  },
  {
   "cell_type": "code",
   "execution_count": 30,
   "id": "8c6158bd",
   "metadata": {
    "execution": {
     "iopub.execute_input": "2022-02-22T20:32:32.383836Z",
     "iopub.status.busy": "2022-02-22T20:32:32.383097Z",
     "iopub.status.idle": "2022-02-22T20:32:32.590587Z",
     "shell.execute_reply": "2022-02-22T20:32:32.591308Z",
     "shell.execute_reply.started": "2022-02-22T19:10:33.320140Z"
    },
    "papermill": {
     "duration": 0.287872,
     "end_time": "2022-02-22T20:32:32.591537",
     "exception": false,
     "start_time": "2022-02-22T20:32:32.303665",
     "status": "completed"
    },
    "tags": []
   },
   "outputs": [
    {
     "name": "stderr",
     "output_type": "stream",
     "text": [
      "/opt/conda/lib/python3.7/site-packages/ipykernel_launcher.py:1: SettingWithCopyWarning: \n",
      "A value is trying to be set on a copy of a slice from a DataFrame.\n",
      "Try using .loc[row_indexer,col_indexer] = value instead\n",
      "\n",
      "See the caveats in the documentation: https://pandas.pydata.org/pandas-docs/stable/user_guide/indexing.html#returning-a-view-versus-a-copy\n",
      "  \"\"\"Entry point for launching an IPython kernel.\n",
      "/opt/conda/lib/python3.7/site-packages/ipykernel_launcher.py:2: SettingWithCopyWarning: \n",
      "A value is trying to be set on a copy of a slice from a DataFrame.\n",
      "Try using .loc[row_indexer,col_indexer] = value instead\n",
      "\n",
      "See the caveats in the documentation: https://pandas.pydata.org/pandas-docs/stable/user_guide/indexing.html#returning-a-view-versus-a-copy\n",
      "  \n"
     ]
    }
   ],
   "source": [
    "smd['cast'] = smd['cast'].apply(lambda x: [i['name'] for i in x] if isinstance(x, list) else [])\n",
    "smd['cast'] = smd['cast'].apply(lambda x: x[:3] if len(x) >=3 else x)"
   ]
  },
  {
   "cell_type": "code",
   "execution_count": 31,
   "id": "56c2ba0f",
   "metadata": {
    "execution": {
     "iopub.execute_input": "2022-02-22T20:32:32.763546Z",
     "iopub.status.busy": "2022-02-22T20:32:32.758505Z",
     "iopub.status.idle": "2022-02-22T20:32:32.794539Z",
     "shell.execute_reply": "2022-02-22T20:32:32.795094Z",
     "shell.execute_reply.started": "2022-02-22T19:10:33.499818Z"
    },
    "papermill": {
     "duration": 0.12522,
     "end_time": "2022-02-22T20:32:32.795293",
     "exception": false,
     "start_time": "2022-02-22T20:32:32.670073",
     "status": "completed"
    },
    "tags": []
   },
   "outputs": [
    {
     "name": "stderr",
     "output_type": "stream",
     "text": [
      "/opt/conda/lib/python3.7/site-packages/ipykernel_launcher.py:1: SettingWithCopyWarning: \n",
      "A value is trying to be set on a copy of a slice from a DataFrame.\n",
      "Try using .loc[row_indexer,col_indexer] = value instead\n",
      "\n",
      "See the caveats in the documentation: https://pandas.pydata.org/pandas-docs/stable/user_guide/indexing.html#returning-a-view-versus-a-copy\n",
      "  \"\"\"Entry point for launching an IPython kernel.\n"
     ]
    }
   ],
   "source": [
    "smd['keywords'] = smd['keywords'].apply(lambda x: [i['name'] for i in x] if isinstance(x, list) else [])"
   ]
  },
  {
   "cell_type": "code",
   "execution_count": 32,
   "id": "922a2055",
   "metadata": {
    "execution": {
     "iopub.execute_input": "2022-02-22T20:32:32.956532Z",
     "iopub.status.busy": "2022-02-22T20:32:32.955539Z",
     "iopub.status.idle": "2022-02-22T20:32:33.016182Z",
     "shell.execute_reply": "2022-02-22T20:32:33.015427Z",
     "shell.execute_reply.started": "2022-02-22T19:10:33.543104Z"
    },
    "papermill": {
     "duration": 0.142054,
     "end_time": "2022-02-22T20:32:33.016350",
     "exception": false,
     "start_time": "2022-02-22T20:32:32.874296",
     "status": "completed"
    },
    "tags": []
   },
   "outputs": [
    {
     "name": "stderr",
     "output_type": "stream",
     "text": [
      "/opt/conda/lib/python3.7/site-packages/ipykernel_launcher.py:1: SettingWithCopyWarning: \n",
      "A value is trying to be set on a copy of a slice from a DataFrame.\n",
      "Try using .loc[row_indexer,col_indexer] = value instead\n",
      "\n",
      "See the caveats in the documentation: https://pandas.pydata.org/pandas-docs/stable/user_guide/indexing.html#returning-a-view-versus-a-copy\n",
      "  \"\"\"Entry point for launching an IPython kernel.\n"
     ]
    }
   ],
   "source": [
    "smd['cast'] = smd['cast'].apply(lambda x: [str.lower(i.replace(\" \", \"\")) for i in x])"
   ]
  },
  {
   "cell_type": "code",
   "execution_count": 33,
   "id": "577a88aa",
   "metadata": {
    "execution": {
     "iopub.execute_input": "2022-02-22T20:32:33.180281Z",
     "iopub.status.busy": "2022-02-22T20:32:33.179245Z",
     "iopub.status.idle": "2022-02-22T20:32:33.205296Z",
     "shell.execute_reply": "2022-02-22T20:32:33.205842Z",
     "shell.execute_reply.started": "2022-02-22T19:10:33.605228Z"
    },
    "papermill": {
     "duration": 0.10817,
     "end_time": "2022-02-22T20:32:33.206057",
     "exception": false,
     "start_time": "2022-02-22T20:32:33.097887",
     "status": "completed"
    },
    "tags": []
   },
   "outputs": [
    {
     "name": "stderr",
     "output_type": "stream",
     "text": [
      "/opt/conda/lib/python3.7/site-packages/ipykernel_launcher.py:1: SettingWithCopyWarning: \n",
      "A value is trying to be set on a copy of a slice from a DataFrame.\n",
      "Try using .loc[row_indexer,col_indexer] = value instead\n",
      "\n",
      "See the caveats in the documentation: https://pandas.pydata.org/pandas-docs/stable/user_guide/indexing.html#returning-a-view-versus-a-copy\n",
      "  \"\"\"Entry point for launching an IPython kernel.\n",
      "/opt/conda/lib/python3.7/site-packages/ipykernel_launcher.py:2: SettingWithCopyWarning: \n",
      "A value is trying to be set on a copy of a slice from a DataFrame.\n",
      "Try using .loc[row_indexer,col_indexer] = value instead\n",
      "\n",
      "See the caveats in the documentation: https://pandas.pydata.org/pandas-docs/stable/user_guide/indexing.html#returning-a-view-versus-a-copy\n",
      "  \n"
     ]
    }
   ],
   "source": [
    "smd['director'] = smd['director'].astype('str').apply(lambda x: str.lower(x.replace(\" \", \"\")))\n",
    "smd['director'] = smd['director'].apply(lambda x: [x,x, x])"
   ]
  },
  {
   "cell_type": "markdown",
   "id": "c36e8f1f",
   "metadata": {
    "papermill": {
     "duration": 0.080371,
     "end_time": "2022-02-22T20:32:33.365270",
     "exception": false,
     "start_time": "2022-02-22T20:32:33.284899",
     "status": "completed"
    },
    "tags": []
   },
   "source": [
    "***KEYWORDS***"
   ]
  },
  {
   "cell_type": "code",
   "execution_count": 34,
   "id": "d39cd92e",
   "metadata": {
    "execution": {
     "iopub.execute_input": "2022-02-22T20:32:33.531580Z",
     "iopub.status.busy": "2022-02-22T20:32:33.530908Z",
     "iopub.status.idle": "2022-02-22T20:32:37.361321Z",
     "shell.execute_reply": "2022-02-22T20:32:37.360727Z",
     "shell.execute_reply.started": "2022-02-22T19:10:33.632656Z"
    },
    "papermill": {
     "duration": 3.914692,
     "end_time": "2022-02-22T20:32:37.361482",
     "exception": false,
     "start_time": "2022-02-22T20:32:33.446790",
     "status": "completed"
    },
    "tags": []
   },
   "outputs": [
    {
     "name": "stderr",
     "output_type": "stream",
     "text": [
      "/opt/conda/lib/python3.7/site-packages/ipykernel_launcher.py:1: DeprecationWarning: The default dtype for empty Series will be 'object' instead of 'float64' in a future version. Specify a dtype explicitly to silence this warning.\n",
      "  \"\"\"Entry point for launching an IPython kernel.\n"
     ]
    }
   ],
   "source": [
    "s = smd.apply(lambda x: pd.Series(x['keywords']),axis=1).stack().reset_index(level=1, drop=True)\n",
    "s.name = 'keyword'"
   ]
  },
  {
   "cell_type": "code",
   "execution_count": 35,
   "id": "4357944d",
   "metadata": {
    "execution": {
     "iopub.execute_input": "2022-02-22T20:32:37.545613Z",
     "iopub.status.busy": "2022-02-22T20:32:37.544986Z",
     "iopub.status.idle": "2022-02-22T20:32:37.556291Z",
     "shell.execute_reply": "2022-02-22T20:32:37.556800Z",
     "shell.execute_reply.started": "2022-02-22T19:10:37.971304Z"
    },
    "papermill": {
     "duration": 0.1171,
     "end_time": "2022-02-22T20:32:37.557007",
     "exception": false,
     "start_time": "2022-02-22T20:32:37.439907",
     "status": "completed"
    },
    "tags": []
   },
   "outputs": [
    {
     "data": {
      "text/plain": [
       "independent film        610\n",
       "woman director          550\n",
       "murder                  399\n",
       "duringcreditsstinger    327\n",
       "based on novel          318\n",
       "Name: keyword, dtype: int64"
      ]
     },
     "execution_count": 35,
     "metadata": {},
     "output_type": "execute_result"
    }
   ],
   "source": [
    "s = s.value_counts()\n",
    "s[:5]"
   ]
  },
  {
   "cell_type": "code",
   "execution_count": 36,
   "id": "0a20e6c9",
   "metadata": {
    "execution": {
     "iopub.execute_input": "2022-02-22T20:32:37.721618Z",
     "iopub.status.busy": "2022-02-22T20:32:37.720976Z",
     "iopub.status.idle": "2022-02-22T20:32:37.723367Z",
     "shell.execute_reply": "2022-02-22T20:32:37.723844Z",
     "shell.execute_reply.started": "2022-02-22T19:10:38.011259Z"
    },
    "papermill": {
     "duration": 0.087449,
     "end_time": "2022-02-22T20:32:37.724060",
     "exception": false,
     "start_time": "2022-02-22T20:32:37.636611",
     "status": "completed"
    },
    "tags": []
   },
   "outputs": [],
   "source": [
    "s = s[s > 1]"
   ]
  },
  {
   "cell_type": "code",
   "execution_count": 37,
   "id": "5725de01",
   "metadata": {
    "execution": {
     "iopub.execute_input": "2022-02-22T20:32:37.887834Z",
     "iopub.status.busy": "2022-02-22T20:32:37.887153Z",
     "iopub.status.idle": "2022-02-22T20:32:37.891549Z",
     "shell.execute_reply": "2022-02-22T20:32:37.892013Z",
     "shell.execute_reply.started": "2022-02-22T19:10:38.019798Z"
    },
    "papermill": {
     "duration": 0.088482,
     "end_time": "2022-02-22T20:32:37.892206",
     "exception": false,
     "start_time": "2022-02-22T20:32:37.803724",
     "status": "completed"
    },
    "tags": []
   },
   "outputs": [
    {
     "data": {
      "text/plain": [
       "'dog'"
      ]
     },
     "execution_count": 37,
     "metadata": {},
     "output_type": "execute_result"
    }
   ],
   "source": [
    "stemmer = SnowballStemmer('english')\n",
    "stemmer.stem('dogs')"
   ]
  },
  {
   "cell_type": "code",
   "execution_count": 38,
   "id": "cdb78d8c",
   "metadata": {
    "execution": {
     "iopub.execute_input": "2022-02-22T20:32:38.056830Z",
     "iopub.status.busy": "2022-02-22T20:32:38.056193Z",
     "iopub.status.idle": "2022-02-22T20:32:38.059635Z",
     "shell.execute_reply": "2022-02-22T20:32:38.060123Z",
     "shell.execute_reply.started": "2022-02-22T19:10:38.034687Z"
    },
    "papermill": {
     "duration": 0.088456,
     "end_time": "2022-02-22T20:32:38.060317",
     "exception": false,
     "start_time": "2022-02-22T20:32:37.971861",
     "status": "completed"
    },
    "tags": []
   },
   "outputs": [],
   "source": [
    "def filter_keywords(x):\n",
    "    words = []\n",
    "    for i in x:\n",
    "        if i in s:\n",
    "            words.append(i)\n",
    "    return words"
   ]
  },
  {
   "cell_type": "code",
   "execution_count": 39,
   "id": "ae2e4daf",
   "metadata": {
    "execution": {
     "iopub.execute_input": "2022-02-22T20:32:38.231879Z",
     "iopub.status.busy": "2022-02-22T20:32:38.226194Z",
     "iopub.status.idle": "2022-02-22T20:32:39.526892Z",
     "shell.execute_reply": "2022-02-22T20:32:39.526054Z",
     "shell.execute_reply.started": "2022-02-22T19:10:38.048091Z"
    },
    "papermill": {
     "duration": 1.38747,
     "end_time": "2022-02-22T20:32:39.527120",
     "exception": false,
     "start_time": "2022-02-22T20:32:38.139650",
     "status": "completed"
    },
    "tags": []
   },
   "outputs": [
    {
     "name": "stderr",
     "output_type": "stream",
     "text": [
      "/opt/conda/lib/python3.7/site-packages/ipykernel_launcher.py:1: SettingWithCopyWarning: \n",
      "A value is trying to be set on a copy of a slice from a DataFrame.\n",
      "Try using .loc[row_indexer,col_indexer] = value instead\n",
      "\n",
      "See the caveats in the documentation: https://pandas.pydata.org/pandas-docs/stable/user_guide/indexing.html#returning-a-view-versus-a-copy\n",
      "  \"\"\"Entry point for launching an IPython kernel.\n",
      "/opt/conda/lib/python3.7/site-packages/ipykernel_launcher.py:2: SettingWithCopyWarning: \n",
      "A value is trying to be set on a copy of a slice from a DataFrame.\n",
      "Try using .loc[row_indexer,col_indexer] = value instead\n",
      "\n",
      "See the caveats in the documentation: https://pandas.pydata.org/pandas-docs/stable/user_guide/indexing.html#returning-a-view-versus-a-copy\n",
      "  \n",
      "/opt/conda/lib/python3.7/site-packages/ipykernel_launcher.py:3: SettingWithCopyWarning: \n",
      "A value is trying to be set on a copy of a slice from a DataFrame.\n",
      "Try using .loc[row_indexer,col_indexer] = value instead\n",
      "\n",
      "See the caveats in the documentation: https://pandas.pydata.org/pandas-docs/stable/user_guide/indexing.html#returning-a-view-versus-a-copy\n",
      "  This is separate from the ipykernel package so we can avoid doing imports until\n"
     ]
    }
   ],
   "source": [
    "smd['keywords'] = smd['keywords'].apply(filter_keywords)\n",
    "smd['keywords'] = smd['keywords'].apply(lambda x: [stemmer.stem(i) for i in x])\n",
    "smd['keywords'] = smd['keywords'].apply(lambda x: [str.lower(i.replace(\" \", \"\")) for i in x])"
   ]
  },
  {
   "cell_type": "code",
   "execution_count": 40,
   "id": "cd85f8a3",
   "metadata": {
    "execution": {
     "iopub.execute_input": "2022-02-22T20:32:39.715783Z",
     "iopub.status.busy": "2022-02-22T20:32:39.714807Z",
     "iopub.status.idle": "2022-02-22T20:32:39.765847Z",
     "shell.execute_reply": "2022-02-22T20:32:39.766576Z",
     "shell.execute_reply.started": "2022-02-22T19:10:39.350095Z"
    },
    "papermill": {
     "duration": 0.150762,
     "end_time": "2022-02-22T20:32:39.766882",
     "exception": false,
     "start_time": "2022-02-22T20:32:39.616120",
     "status": "completed"
    },
    "tags": []
   },
   "outputs": [
    {
     "name": "stderr",
     "output_type": "stream",
     "text": [
      "/opt/conda/lib/python3.7/site-packages/ipykernel_launcher.py:1: SettingWithCopyWarning: \n",
      "A value is trying to be set on a copy of a slice from a DataFrame.\n",
      "Try using .loc[row_indexer,col_indexer] = value instead\n",
      "\n",
      "See the caveats in the documentation: https://pandas.pydata.org/pandas-docs/stable/user_guide/indexing.html#returning-a-view-versus-a-copy\n",
      "  \"\"\"Entry point for launching an IPython kernel.\n",
      "/opt/conda/lib/python3.7/site-packages/ipykernel_launcher.py:2: SettingWithCopyWarning: \n",
      "A value is trying to be set on a copy of a slice from a DataFrame.\n",
      "Try using .loc[row_indexer,col_indexer] = value instead\n",
      "\n",
      "See the caveats in the documentation: https://pandas.pydata.org/pandas-docs/stable/user_guide/indexing.html#returning-a-view-versus-a-copy\n",
      "  \n"
     ]
    }
   ],
   "source": [
    "smd['soup'] = smd['keywords'] + smd['cast'] + smd['director'] + smd['genres']\n",
    "smd['soup'] = smd['soup'].apply(lambda x: ' '.join(x))"
   ]
  },
  {
   "cell_type": "code",
   "execution_count": 41,
   "id": "537830e3",
   "metadata": {
    "execution": {
     "iopub.execute_input": "2022-02-22T20:32:39.950194Z",
     "iopub.status.busy": "2022-02-22T20:32:39.949237Z",
     "iopub.status.idle": "2022-02-22T20:32:40.920066Z",
     "shell.execute_reply": "2022-02-22T20:32:40.919489Z",
     "shell.execute_reply.started": "2022-02-22T19:10:39.407043Z"
    },
    "papermill": {
     "duration": 1.066343,
     "end_time": "2022-02-22T20:32:40.920228",
     "exception": false,
     "start_time": "2022-02-22T20:32:39.853885",
     "status": "completed"
    },
    "tags": []
   },
   "outputs": [],
   "source": [
    "count = CountVectorizer(analyzer='word',ngram_range=(1, 2),min_df=0, stop_words='english')\n",
    "count_matrix = count.fit_transform(smd['soup'])"
   ]
  },
  {
   "cell_type": "code",
   "execution_count": 42,
   "id": "ed529389",
   "metadata": {
    "execution": {
     "iopub.execute_input": "2022-02-22T20:32:41.087228Z",
     "iopub.status.busy": "2022-02-22T20:32:41.086597Z",
     "iopub.status.idle": "2022-02-22T20:32:42.908306Z",
     "shell.execute_reply": "2022-02-22T20:32:42.907611Z",
     "shell.execute_reply.started": "2022-02-22T19:10:40.233238Z"
    },
    "papermill": {
     "duration": 1.907656,
     "end_time": "2022-02-22T20:32:42.908466",
     "exception": false,
     "start_time": "2022-02-22T20:32:41.000810",
     "status": "completed"
    },
    "tags": []
   },
   "outputs": [],
   "source": [
    "cosine_sim = cosine_similarity(count_matrix, count_matrix)"
   ]
  },
  {
   "cell_type": "code",
   "execution_count": 43,
   "id": "3ffd3c6c",
   "metadata": {
    "execution": {
     "iopub.execute_input": "2022-02-22T20:32:43.076944Z",
     "iopub.status.busy": "2022-02-22T20:32:43.075976Z",
     "iopub.status.idle": "2022-02-22T20:32:43.103123Z",
     "shell.execute_reply": "2022-02-22T20:32:43.103651Z",
     "shell.execute_reply.started": "2022-02-22T19:10:42.177024Z"
    },
    "papermill": {
     "duration": 0.113334,
     "end_time": "2022-02-22T20:32:43.103886",
     "exception": false,
     "start_time": "2022-02-22T20:32:42.990552",
     "status": "completed"
    },
    "tags": []
   },
   "outputs": [],
   "source": [
    "smd = smd.reset_index()\n",
    "titles = smd['title']\n",
    "indices = pd.Series(smd.index, index=smd['title'])"
   ]
  },
  {
   "cell_type": "code",
   "execution_count": 44,
   "id": "60b5f1d5",
   "metadata": {
    "execution": {
     "iopub.execute_input": "2022-02-22T20:32:43.269541Z",
     "iopub.status.busy": "2022-02-22T20:32:43.268900Z",
     "iopub.status.idle": "2022-02-22T20:32:43.288721Z",
     "shell.execute_reply": "2022-02-22T20:32:43.288081Z",
     "shell.execute_reply.started": "2022-02-22T19:10:42.205241Z"
    },
    "papermill": {
     "duration": 0.103634,
     "end_time": "2022-02-22T20:32:43.288887",
     "exception": false,
     "start_time": "2022-02-22T20:32:43.185253",
     "status": "completed"
    },
    "tags": []
   },
   "outputs": [
    {
     "data": {
      "text/plain": [
       "8031         The Dark Knight Rises\n",
       "6218                 Batman Begins\n",
       "6623                  The Prestige\n",
       "2085                     Following\n",
       "7648                     Inception\n",
       "4145                      Insomnia\n",
       "3381                       Memento\n",
       "8613                  Interstellar\n",
       "7659    Batman: Under the Red Hood\n",
       "1134                Batman Returns\n",
       "Name: title, dtype: object"
      ]
     },
     "execution_count": 44,
     "metadata": {},
     "output_type": "execute_result"
    }
   ],
   "source": [
    "get_recommendations('The Dark Knight').head(10)"
   ]
  },
  {
   "cell_type": "code",
   "execution_count": 45,
   "id": "3cc32883",
   "metadata": {
    "execution": {
     "iopub.execute_input": "2022-02-22T20:32:43.461286Z",
     "iopub.status.busy": "2022-02-22T20:32:43.453622Z",
     "iopub.status.idle": "2022-02-22T20:32:43.462984Z",
     "shell.execute_reply": "2022-02-22T20:32:43.463467Z",
     "shell.execute_reply.started": "2022-02-22T19:10:42.230768Z"
    },
    "papermill": {
     "duration": 0.09387,
     "end_time": "2022-02-22T20:32:43.463659",
     "exception": false,
     "start_time": "2022-02-22T20:32:43.369789",
     "status": "completed"
    },
    "tags": []
   },
   "outputs": [],
   "source": [
    "def improved_recommendations(title):\n",
    "    idx = indices[title]\n",
    "    sim_scores = list(enumerate(cosine_sim[idx]))\n",
    "    sim_scores = sorted(sim_scores, key=lambda x: x[1], reverse=True)\n",
    "    sim_scores = sim_scores[1:26]\n",
    "    movie_indices = [i[0] for i in sim_scores]\n",
    "    \n",
    "    movies = smd.iloc[movie_indices][['title', 'vote_count', 'vote_average', 'year']]\n",
    "    vote_counts = movies[movies['vote_count'].notnull()]['vote_count'].astype('int')\n",
    "    vote_averages = movies[movies['vote_average'].notnull()]['vote_average'].astype('int')\n",
    "    C = vote_averages.mean()\n",
    "    m = vote_counts.quantile(0.60)\n",
    "    qualified = movies[(movies['vote_count'] >= m) & (movies['vote_count'].notnull()) & (movies['vote_average'].notnull())]\n",
    "    qualified['vote_count'] = qualified['vote_count'].astype('int')\n",
    "    qualified['vote_average'] = qualified['vote_average'].astype('int')\n",
    "    qualified['wr'] = qualified.apply(weighted_rating, axis=1)\n",
    "    qualified = qualified.sort_values('wr', ascending=False).head(10)\n",
    "    return qualified"
   ]
  },
  {
   "cell_type": "code",
   "execution_count": 46,
   "id": "34b33c40",
   "metadata": {
    "execution": {
     "iopub.execute_input": "2022-02-22T20:32:43.628660Z",
     "iopub.status.busy": "2022-02-22T20:32:43.628039Z",
     "iopub.status.idle": "2022-02-22T20:32:43.660016Z",
     "shell.execute_reply": "2022-02-22T20:32:43.660507Z",
     "shell.execute_reply.started": "2022-02-22T19:10:42.252032Z"
    },
    "papermill": {
     "duration": 0.116587,
     "end_time": "2022-02-22T20:32:43.660723",
     "exception": false,
     "start_time": "2022-02-22T20:32:43.544136",
     "status": "completed"
    },
    "tags": []
   },
   "outputs": [
    {
     "name": "stderr",
     "output_type": "stream",
     "text": [
      "/opt/conda/lib/python3.7/site-packages/ipykernel_launcher.py:14: SettingWithCopyWarning: \n",
      "A value is trying to be set on a copy of a slice from a DataFrame.\n",
      "Try using .loc[row_indexer,col_indexer] = value instead\n",
      "\n",
      "See the caveats in the documentation: https://pandas.pydata.org/pandas-docs/stable/user_guide/indexing.html#returning-a-view-versus-a-copy\n",
      "  \n",
      "/opt/conda/lib/python3.7/site-packages/ipykernel_launcher.py:15: SettingWithCopyWarning: \n",
      "A value is trying to be set on a copy of a slice from a DataFrame.\n",
      "Try using .loc[row_indexer,col_indexer] = value instead\n",
      "\n",
      "See the caveats in the documentation: https://pandas.pydata.org/pandas-docs/stable/user_guide/indexing.html#returning-a-view-versus-a-copy\n",
      "  from ipykernel import kernelapp as app\n",
      "/opt/conda/lib/python3.7/site-packages/ipykernel_launcher.py:16: SettingWithCopyWarning: \n",
      "A value is trying to be set on a copy of a slice from a DataFrame.\n",
      "Try using .loc[row_indexer,col_indexer] = value instead\n",
      "\n",
      "See the caveats in the documentation: https://pandas.pydata.org/pandas-docs/stable/user_guide/indexing.html#returning-a-view-versus-a-copy\n",
      "  app.launch_new_instance()\n"
     ]
    },
    {
     "data": {
      "text/html": [
       "<div>\n",
       "<style scoped>\n",
       "    .dataframe tbody tr th:only-of-type {\n",
       "        vertical-align: middle;\n",
       "    }\n",
       "\n",
       "    .dataframe tbody tr th {\n",
       "        vertical-align: top;\n",
       "    }\n",
       "\n",
       "    .dataframe thead th {\n",
       "        text-align: right;\n",
       "    }\n",
       "</style>\n",
       "<table border=\"1\" class=\"dataframe\">\n",
       "  <thead>\n",
       "    <tr style=\"text-align: right;\">\n",
       "      <th></th>\n",
       "      <th>title</th>\n",
       "      <th>vote_count</th>\n",
       "      <th>vote_average</th>\n",
       "      <th>year</th>\n",
       "      <th>wr</th>\n",
       "    </tr>\n",
       "  </thead>\n",
       "  <tbody>\n",
       "    <tr>\n",
       "      <th>7648</th>\n",
       "      <td>Inception</td>\n",
       "      <td>14075</td>\n",
       "      <td>8</td>\n",
       "      <td>2010</td>\n",
       "      <td>7.917588</td>\n",
       "    </tr>\n",
       "    <tr>\n",
       "      <th>8613</th>\n",
       "      <td>Interstellar</td>\n",
       "      <td>11187</td>\n",
       "      <td>8</td>\n",
       "      <td>2014</td>\n",
       "      <td>7.897107</td>\n",
       "    </tr>\n",
       "    <tr>\n",
       "      <th>6623</th>\n",
       "      <td>The Prestige</td>\n",
       "      <td>4510</td>\n",
       "      <td>8</td>\n",
       "      <td>2006</td>\n",
       "      <td>7.758148</td>\n",
       "    </tr>\n",
       "    <tr>\n",
       "      <th>3381</th>\n",
       "      <td>Memento</td>\n",
       "      <td>4168</td>\n",
       "      <td>8</td>\n",
       "      <td>2000</td>\n",
       "      <td>7.740175</td>\n",
       "    </tr>\n",
       "    <tr>\n",
       "      <th>8031</th>\n",
       "      <td>The Dark Knight Rises</td>\n",
       "      <td>9263</td>\n",
       "      <td>7</td>\n",
       "      <td>2012</td>\n",
       "      <td>6.921448</td>\n",
       "    </tr>\n",
       "    <tr>\n",
       "      <th>6218</th>\n",
       "      <td>Batman Begins</td>\n",
       "      <td>7511</td>\n",
       "      <td>7</td>\n",
       "      <td>2005</td>\n",
       "      <td>6.904127</td>\n",
       "    </tr>\n",
       "    <tr>\n",
       "      <th>1134</th>\n",
       "      <td>Batman Returns</td>\n",
       "      <td>1706</td>\n",
       "      <td>6</td>\n",
       "      <td>1992</td>\n",
       "      <td>5.846862</td>\n",
       "    </tr>\n",
       "    <tr>\n",
       "      <th>132</th>\n",
       "      <td>Batman Forever</td>\n",
       "      <td>1529</td>\n",
       "      <td>5</td>\n",
       "      <td>1995</td>\n",
       "      <td>5.054144</td>\n",
       "    </tr>\n",
       "    <tr>\n",
       "      <th>9024</th>\n",
       "      <td>Batman v Superman: Dawn of Justice</td>\n",
       "      <td>7189</td>\n",
       "      <td>5</td>\n",
       "      <td>2016</td>\n",
       "      <td>5.013943</td>\n",
       "    </tr>\n",
       "    <tr>\n",
       "      <th>1260</th>\n",
       "      <td>Batman &amp; Robin</td>\n",
       "      <td>1447</td>\n",
       "      <td>4</td>\n",
       "      <td>1997</td>\n",
       "      <td>4.287233</td>\n",
       "    </tr>\n",
       "  </tbody>\n",
       "</table>\n",
       "</div>"
      ],
      "text/plain": [
       "                                   title  vote_count  vote_average  year  \\\n",
       "7648                           Inception       14075             8  2010   \n",
       "8613                        Interstellar       11187             8  2014   \n",
       "6623                        The Prestige        4510             8  2006   \n",
       "3381                             Memento        4168             8  2000   \n",
       "8031               The Dark Knight Rises        9263             7  2012   \n",
       "6218                       Batman Begins        7511             7  2005   \n",
       "1134                      Batman Returns        1706             6  1992   \n",
       "132                       Batman Forever        1529             5  1995   \n",
       "9024  Batman v Superman: Dawn of Justice        7189             5  2016   \n",
       "1260                      Batman & Robin        1447             4  1997   \n",
       "\n",
       "            wr  \n",
       "7648  7.917588  \n",
       "8613  7.897107  \n",
       "6623  7.758148  \n",
       "3381  7.740175  \n",
       "8031  6.921448  \n",
       "6218  6.904127  \n",
       "1134  5.846862  \n",
       "132   5.054144  \n",
       "9024  5.013943  \n",
       "1260  4.287233  "
      ]
     },
     "execution_count": 46,
     "metadata": {},
     "output_type": "execute_result"
    }
   ],
   "source": [
    "improved_recommendations('The Dark Knight')"
   ]
  },
  {
   "cell_type": "markdown",
   "id": "679838b7",
   "metadata": {
    "papermill": {
     "duration": 0.083062,
     "end_time": "2022-02-22T20:32:43.827014",
     "exception": false,
     "start_time": "2022-02-22T20:32:43.743952",
     "status": "completed"
    },
    "tags": []
   },
   "source": [
    "# ***COLLABORATIVE FILTERING***"
   ]
  },
  {
   "cell_type": "code",
   "execution_count": 47,
   "id": "16fc72f0",
   "metadata": {
    "execution": {
     "iopub.execute_input": "2022-02-22T20:32:43.996390Z",
     "iopub.status.busy": "2022-02-22T20:32:43.995657Z",
     "iopub.status.idle": "2022-02-22T20:32:43.999646Z",
     "shell.execute_reply": "2022-02-22T20:32:43.998955Z",
     "shell.execute_reply.started": "2022-02-22T19:10:42.309707Z"
    },
    "papermill": {
     "duration": 0.089417,
     "end_time": "2022-02-22T20:32:43.999817",
     "exception": false,
     "start_time": "2022-02-22T20:32:43.910400",
     "status": "completed"
    },
    "tags": []
   },
   "outputs": [],
   "source": [
    "reader = Reader()"
   ]
  },
  {
   "cell_type": "code",
   "execution_count": 48,
   "id": "10687a15",
   "metadata": {
    "execution": {
     "iopub.execute_input": "2022-02-22T20:32:44.166955Z",
     "iopub.status.busy": "2022-02-22T20:32:44.166285Z",
     "iopub.status.idle": "2022-02-22T20:32:44.275681Z",
     "shell.execute_reply": "2022-02-22T20:32:44.276309Z",
     "shell.execute_reply.started": "2022-02-22T19:10:42.326933Z"
    },
    "papermill": {
     "duration": 0.194923,
     "end_time": "2022-02-22T20:32:44.276504",
     "exception": false,
     "start_time": "2022-02-22T20:32:44.081581",
     "status": "completed"
    },
    "tags": []
   },
   "outputs": [
    {
     "data": {
      "text/html": [
       "<div>\n",
       "<style scoped>\n",
       "    .dataframe tbody tr th:only-of-type {\n",
       "        vertical-align: middle;\n",
       "    }\n",
       "\n",
       "    .dataframe tbody tr th {\n",
       "        vertical-align: top;\n",
       "    }\n",
       "\n",
       "    .dataframe thead th {\n",
       "        text-align: right;\n",
       "    }\n",
       "</style>\n",
       "<table border=\"1\" class=\"dataframe\">\n",
       "  <thead>\n",
       "    <tr style=\"text-align: right;\">\n",
       "      <th></th>\n",
       "      <th>userId</th>\n",
       "      <th>movieId</th>\n",
       "      <th>rating</th>\n",
       "      <th>timestamp</th>\n",
       "    </tr>\n",
       "  </thead>\n",
       "  <tbody>\n",
       "    <tr>\n",
       "      <th>0</th>\n",
       "      <td>1</td>\n",
       "      <td>31</td>\n",
       "      <td>2.5</td>\n",
       "      <td>1260759144</td>\n",
       "    </tr>\n",
       "    <tr>\n",
       "      <th>1</th>\n",
       "      <td>1</td>\n",
       "      <td>1029</td>\n",
       "      <td>3.0</td>\n",
       "      <td>1260759179</td>\n",
       "    </tr>\n",
       "    <tr>\n",
       "      <th>2</th>\n",
       "      <td>1</td>\n",
       "      <td>1061</td>\n",
       "      <td>3.0</td>\n",
       "      <td>1260759182</td>\n",
       "    </tr>\n",
       "    <tr>\n",
       "      <th>3</th>\n",
       "      <td>1</td>\n",
       "      <td>1129</td>\n",
       "      <td>2.0</td>\n",
       "      <td>1260759185</td>\n",
       "    </tr>\n",
       "    <tr>\n",
       "      <th>4</th>\n",
       "      <td>1</td>\n",
       "      <td>1172</td>\n",
       "      <td>4.0</td>\n",
       "      <td>1260759205</td>\n",
       "    </tr>\n",
       "  </tbody>\n",
       "</table>\n",
       "</div>"
      ],
      "text/plain": [
       "   userId  movieId  rating   timestamp\n",
       "0       1       31     2.5  1260759144\n",
       "1       1     1029     3.0  1260759179\n",
       "2       1     1061     3.0  1260759182\n",
       "3       1     1129     2.0  1260759185\n",
       "4       1     1172     4.0  1260759205"
      ]
     },
     "execution_count": 48,
     "metadata": {},
     "output_type": "execute_result"
    }
   ],
   "source": [
    "ratings = pd.read_csv('../input/moviesdataset/ratings_small.csv')\n",
    "ratings.head()\n"
   ]
  },
  {
   "cell_type": "code",
   "execution_count": 49,
   "id": "0aa510bf",
   "metadata": {
    "execution": {
     "iopub.execute_input": "2022-02-22T20:32:44.455828Z",
     "iopub.status.busy": "2022-02-22T20:32:44.454816Z",
     "iopub.status.idle": "2022-02-22T20:32:44.593442Z",
     "shell.execute_reply": "2022-02-22T20:32:44.594008Z",
     "shell.execute_reply.started": "2022-02-22T19:10:42.452966Z"
    },
    "papermill": {
     "duration": 0.228759,
     "end_time": "2022-02-22T20:32:44.594276",
     "exception": false,
     "start_time": "2022-02-22T20:32:44.365517",
     "status": "completed"
    },
    "tags": []
   },
   "outputs": [
    {
     "name": "stdout",
     "output_type": "stream",
     "text": [
      "<surprise.dataset.DatasetAutoFolds object at 0x7f465d584d50>\n"
     ]
    }
   ],
   "source": [
    "data = Dataset.load_from_df(ratings[['userId', 'movieId', 'rating']], reader)\n",
    "print(data)\n"
   ]
  },
  {
   "cell_type": "code",
   "execution_count": 50,
   "id": "71dffef6",
   "metadata": {
    "execution": {
     "iopub.execute_input": "2022-02-22T20:32:44.764681Z",
     "iopub.status.busy": "2022-02-22T20:32:44.764014Z",
     "iopub.status.idle": "2022-02-22T20:34:32.648235Z",
     "shell.execute_reply": "2022-02-22T20:34:32.647463Z",
     "shell.execute_reply.started": "2022-02-22T19:10:42.607367Z"
    },
    "papermill": {
     "duration": 107.970354,
     "end_time": "2022-02-22T20:34:32.648429",
     "exception": false,
     "start_time": "2022-02-22T20:32:44.678075",
     "status": "completed"
    },
    "tags": []
   },
   "outputs": [
    {
     "name": "stdout",
     "output_type": "stream",
     "text": [
      "Evaluating RMSE, MAE of algorithm SVD on 10 split(s).\n",
      "\n",
      "                  Fold 1  Fold 2  Fold 3  Fold 4  Fold 5  Fold 6  Fold 7  Fold 8  Fold 9  Fold 10 Mean    Std     \n",
      "RMSE (testset)    0.8862  0.9035  0.8907  0.8945  0.8860  0.8871  0.8911  0.8986  0.8975  0.8918  0.8927  0.0055  \n",
      "MAE (testset)     0.6846  0.6922  0.6893  0.6895  0.6844  0.6804  0.6853  0.6872  0.6866  0.6869  0.6866  0.0031  \n",
      "Fit time          10.37   10.44   10.47   10.41   10.36   10.40   10.31   10.37   10.43   10.42   10.40   0.05    \n",
      "Test time         0.10    0.10    0.10    0.10    0.10    0.10    0.10    0.10    0.10    0.10    0.10    0.00    \n"
     ]
    },
    {
     "data": {
      "text/plain": [
       "{'test_rmse': array([0.88621023, 0.90349087, 0.89067686, 0.894536  , 0.88600432,\n",
       "        0.88710234, 0.89106886, 0.89862177, 0.89753388, 0.89176546]),\n",
       " 'test_mae': array([0.68457119, 0.69219645, 0.68932945, 0.68952924, 0.68443176,\n",
       "        0.68035639, 0.68530617, 0.6872448 , 0.68659891, 0.68691008]),\n",
       " 'fit_time': (10.374788522720337,\n",
       "  10.437264919281006,\n",
       "  10.474942445755005,\n",
       "  10.413286685943604,\n",
       "  10.3604154586792,\n",
       "  10.397442102432251,\n",
       "  10.305005550384521,\n",
       "  10.369991779327393,\n",
       "  10.431844234466553,\n",
       "  10.421342849731445),\n",
       " 'test_time': (0.10485243797302246,\n",
       "  0.10114407539367676,\n",
       "  0.10166382789611816,\n",
       "  0.10316872596740723,\n",
       "  0.10175919532775879,\n",
       "  0.10135936737060547,\n",
       "  0.10417962074279785,\n",
       "  0.10293102264404297,\n",
       "  0.1005561351776123,\n",
       "  0.10095071792602539)}"
      ]
     },
     "execution_count": 50,
     "metadata": {},
     "output_type": "execute_result"
    }
   ],
   "source": [
    "svd = SVD()\n",
    "cross_validate(svd, data, measures=['RMSE', 'MAE'], cv=10,verbose=True)"
   ]
  },
  {
   "cell_type": "code",
   "execution_count": 51,
   "id": "42e2ff67",
   "metadata": {
    "execution": {
     "iopub.execute_input": "2022-02-22T20:34:32.829082Z",
     "iopub.status.busy": "2022-02-22T20:34:32.828296Z",
     "iopub.status.idle": "2022-02-22T20:34:43.940758Z",
     "shell.execute_reply": "2022-02-22T20:34:43.941255Z",
     "shell.execute_reply.started": "2022-02-22T19:12:30.233679Z"
    },
    "papermill": {
     "duration": 11.207118,
     "end_time": "2022-02-22T20:34:43.941444",
     "exception": false,
     "start_time": "2022-02-22T20:34:32.734326",
     "status": "completed"
    },
    "tags": []
   },
   "outputs": [
    {
     "data": {
      "text/plain": [
       "<surprise.prediction_algorithms.matrix_factorization.SVD at 0x7f465d9eb910>"
      ]
     },
     "execution_count": 51,
     "metadata": {},
     "output_type": "execute_result"
    }
   ],
   "source": [
    "trainset = data.build_full_trainset()\n",
    "svd.fit(trainset)"
   ]
  },
  {
   "cell_type": "code",
   "execution_count": 52,
   "id": "3c7c448f",
   "metadata": {
    "execution": {
     "iopub.execute_input": "2022-02-22T20:34:44.119829Z",
     "iopub.status.busy": "2022-02-22T20:34:44.118855Z",
     "iopub.status.idle": "2022-02-22T20:34:44.132778Z",
     "shell.execute_reply": "2022-02-22T20:34:44.132238Z",
     "shell.execute_reply.started": "2022-02-22T19:12:41.384071Z"
    },
    "papermill": {
     "duration": 0.105586,
     "end_time": "2022-02-22T20:34:44.132942",
     "exception": false,
     "start_time": "2022-02-22T20:34:44.027356",
     "status": "completed"
    },
    "tags": []
   },
   "outputs": [
    {
     "data": {
      "text/html": [
       "<div>\n",
       "<style scoped>\n",
       "    .dataframe tbody tr th:only-of-type {\n",
       "        vertical-align: middle;\n",
       "    }\n",
       "\n",
       "    .dataframe tbody tr th {\n",
       "        vertical-align: top;\n",
       "    }\n",
       "\n",
       "    .dataframe thead th {\n",
       "        text-align: right;\n",
       "    }\n",
       "</style>\n",
       "<table border=\"1\" class=\"dataframe\">\n",
       "  <thead>\n",
       "    <tr style=\"text-align: right;\">\n",
       "      <th></th>\n",
       "      <th>userId</th>\n",
       "      <th>movieId</th>\n",
       "      <th>rating</th>\n",
       "      <th>timestamp</th>\n",
       "    </tr>\n",
       "  </thead>\n",
       "  <tbody>\n",
       "    <tr>\n",
       "      <th>0</th>\n",
       "      <td>1</td>\n",
       "      <td>31</td>\n",
       "      <td>2.5</td>\n",
       "      <td>1260759144</td>\n",
       "    </tr>\n",
       "    <tr>\n",
       "      <th>1</th>\n",
       "      <td>1</td>\n",
       "      <td>1029</td>\n",
       "      <td>3.0</td>\n",
       "      <td>1260759179</td>\n",
       "    </tr>\n",
       "    <tr>\n",
       "      <th>2</th>\n",
       "      <td>1</td>\n",
       "      <td>1061</td>\n",
       "      <td>3.0</td>\n",
       "      <td>1260759182</td>\n",
       "    </tr>\n",
       "    <tr>\n",
       "      <th>3</th>\n",
       "      <td>1</td>\n",
       "      <td>1129</td>\n",
       "      <td>2.0</td>\n",
       "      <td>1260759185</td>\n",
       "    </tr>\n",
       "    <tr>\n",
       "      <th>4</th>\n",
       "      <td>1</td>\n",
       "      <td>1172</td>\n",
       "      <td>4.0</td>\n",
       "      <td>1260759205</td>\n",
       "    </tr>\n",
       "    <tr>\n",
       "      <th>5</th>\n",
       "      <td>1</td>\n",
       "      <td>1263</td>\n",
       "      <td>2.0</td>\n",
       "      <td>1260759151</td>\n",
       "    </tr>\n",
       "    <tr>\n",
       "      <th>6</th>\n",
       "      <td>1</td>\n",
       "      <td>1287</td>\n",
       "      <td>2.0</td>\n",
       "      <td>1260759187</td>\n",
       "    </tr>\n",
       "    <tr>\n",
       "      <th>7</th>\n",
       "      <td>1</td>\n",
       "      <td>1293</td>\n",
       "      <td>2.0</td>\n",
       "      <td>1260759148</td>\n",
       "    </tr>\n",
       "    <tr>\n",
       "      <th>8</th>\n",
       "      <td>1</td>\n",
       "      <td>1339</td>\n",
       "      <td>3.5</td>\n",
       "      <td>1260759125</td>\n",
       "    </tr>\n",
       "    <tr>\n",
       "      <th>9</th>\n",
       "      <td>1</td>\n",
       "      <td>1343</td>\n",
       "      <td>2.0</td>\n",
       "      <td>1260759131</td>\n",
       "    </tr>\n",
       "    <tr>\n",
       "      <th>10</th>\n",
       "      <td>1</td>\n",
       "      <td>1371</td>\n",
       "      <td>2.5</td>\n",
       "      <td>1260759135</td>\n",
       "    </tr>\n",
       "    <tr>\n",
       "      <th>11</th>\n",
       "      <td>1</td>\n",
       "      <td>1405</td>\n",
       "      <td>1.0</td>\n",
       "      <td>1260759203</td>\n",
       "    </tr>\n",
       "    <tr>\n",
       "      <th>12</th>\n",
       "      <td>1</td>\n",
       "      <td>1953</td>\n",
       "      <td>4.0</td>\n",
       "      <td>1260759191</td>\n",
       "    </tr>\n",
       "    <tr>\n",
       "      <th>13</th>\n",
       "      <td>1</td>\n",
       "      <td>2105</td>\n",
       "      <td>4.0</td>\n",
       "      <td>1260759139</td>\n",
       "    </tr>\n",
       "    <tr>\n",
       "      <th>14</th>\n",
       "      <td>1</td>\n",
       "      <td>2150</td>\n",
       "      <td>3.0</td>\n",
       "      <td>1260759194</td>\n",
       "    </tr>\n",
       "    <tr>\n",
       "      <th>15</th>\n",
       "      <td>1</td>\n",
       "      <td>2193</td>\n",
       "      <td>2.0</td>\n",
       "      <td>1260759198</td>\n",
       "    </tr>\n",
       "    <tr>\n",
       "      <th>16</th>\n",
       "      <td>1</td>\n",
       "      <td>2294</td>\n",
       "      <td>2.0</td>\n",
       "      <td>1260759108</td>\n",
       "    </tr>\n",
       "    <tr>\n",
       "      <th>17</th>\n",
       "      <td>1</td>\n",
       "      <td>2455</td>\n",
       "      <td>2.5</td>\n",
       "      <td>1260759113</td>\n",
       "    </tr>\n",
       "    <tr>\n",
       "      <th>18</th>\n",
       "      <td>1</td>\n",
       "      <td>2968</td>\n",
       "      <td>1.0</td>\n",
       "      <td>1260759200</td>\n",
       "    </tr>\n",
       "    <tr>\n",
       "      <th>19</th>\n",
       "      <td>1</td>\n",
       "      <td>3671</td>\n",
       "      <td>3.0</td>\n",
       "      <td>1260759117</td>\n",
       "    </tr>\n",
       "  </tbody>\n",
       "</table>\n",
       "</div>"
      ],
      "text/plain": [
       "    userId  movieId  rating   timestamp\n",
       "0        1       31     2.5  1260759144\n",
       "1        1     1029     3.0  1260759179\n",
       "2        1     1061     3.0  1260759182\n",
       "3        1     1129     2.0  1260759185\n",
       "4        1     1172     4.0  1260759205\n",
       "5        1     1263     2.0  1260759151\n",
       "6        1     1287     2.0  1260759187\n",
       "7        1     1293     2.0  1260759148\n",
       "8        1     1339     3.5  1260759125\n",
       "9        1     1343     2.0  1260759131\n",
       "10       1     1371     2.5  1260759135\n",
       "11       1     1405     1.0  1260759203\n",
       "12       1     1953     4.0  1260759191\n",
       "13       1     2105     4.0  1260759139\n",
       "14       1     2150     3.0  1260759194\n",
       "15       1     2193     2.0  1260759198\n",
       "16       1     2294     2.0  1260759108\n",
       "17       1     2455     2.5  1260759113\n",
       "18       1     2968     1.0  1260759200\n",
       "19       1     3671     3.0  1260759117"
      ]
     },
     "execution_count": 52,
     "metadata": {},
     "output_type": "execute_result"
    }
   ],
   "source": [
    "ratings[ratings['userId'] == 1]"
   ]
  },
  {
   "cell_type": "code",
   "execution_count": 53,
   "id": "58d55028",
   "metadata": {
    "execution": {
     "iopub.execute_input": "2022-02-22T20:34:44.311950Z",
     "iopub.status.busy": "2022-02-22T20:34:44.311275Z",
     "iopub.status.idle": "2022-02-22T20:34:44.316720Z",
     "shell.execute_reply": "2022-02-22T20:34:44.317292Z",
     "shell.execute_reply.started": "2022-02-22T19:12:41.403218Z"
    },
    "papermill": {
     "duration": 0.098731,
     "end_time": "2022-02-22T20:34:44.317485",
     "exception": false,
     "start_time": "2022-02-22T20:34:44.218754",
     "status": "completed"
    },
    "tags": []
   },
   "outputs": [
    {
     "data": {
      "text/plain": [
       "Prediction(uid=1, iid=302, r_ui=3, est=2.8734961818356957, details={'was_impossible': False})"
      ]
     },
     "execution_count": 53,
     "metadata": {},
     "output_type": "execute_result"
    }
   ],
   "source": [
    "svd.predict(1, 302, 3)"
   ]
  },
  {
   "cell_type": "markdown",
   "id": "7aafbc8a",
   "metadata": {
    "papermill": {
     "duration": 0.085873,
     "end_time": "2022-02-22T20:34:44.489991",
     "exception": false,
     "start_time": "2022-02-22T20:34:44.404118",
     "status": "completed"
    },
    "tags": []
   },
   "source": [
    "# ***HYBRID RECOMMENDER***"
   ]
  },
  {
   "cell_type": "code",
   "execution_count": 54,
   "id": "66859167",
   "metadata": {
    "execution": {
     "iopub.execute_input": "2022-02-22T20:34:44.664805Z",
     "iopub.status.busy": "2022-02-22T20:34:44.664131Z",
     "iopub.status.idle": "2022-02-22T20:34:44.667308Z",
     "shell.execute_reply": "2022-02-22T20:34:44.667910Z",
     "shell.execute_reply.started": "2022-02-22T19:12:41.427942Z"
    },
    "papermill": {
     "duration": 0.09217,
     "end_time": "2022-02-22T20:34:44.668106",
     "exception": false,
     "start_time": "2022-02-22T20:34:44.575936",
     "status": "completed"
    },
    "tags": []
   },
   "outputs": [],
   "source": [
    "def convert_int(x):\n",
    "    try:\n",
    "        return int(x)\n",
    "    except:\n",
    "        return np.nan"
   ]
  },
  {
   "cell_type": "code",
   "execution_count": 55,
   "id": "9b2e93d5",
   "metadata": {
    "execution": {
     "iopub.execute_input": "2022-02-22T20:34:44.842384Z",
     "iopub.status.busy": "2022-02-22T20:34:44.841757Z",
     "iopub.status.idle": "2022-02-22T20:34:44.878478Z",
     "shell.execute_reply": "2022-02-22T20:34:44.879001Z",
     "shell.execute_reply.started": "2022-02-22T19:12:41.442064Z"
    },
    "papermill": {
     "duration": 0.125564,
     "end_time": "2022-02-22T20:34:44.879194",
     "exception": false,
     "start_time": "2022-02-22T20:34:44.753630",
     "status": "completed"
    },
    "tags": []
   },
   "outputs": [
    {
     "data": {
      "text/html": [
       "<div>\n",
       "<style scoped>\n",
       "    .dataframe tbody tr th:only-of-type {\n",
       "        vertical-align: middle;\n",
       "    }\n",
       "\n",
       "    .dataframe tbody tr th {\n",
       "        vertical-align: top;\n",
       "    }\n",
       "\n",
       "    .dataframe thead th {\n",
       "        text-align: right;\n",
       "    }\n",
       "</style>\n",
       "<table border=\"1\" class=\"dataframe\">\n",
       "  <thead>\n",
       "    <tr style=\"text-align: right;\">\n",
       "      <th></th>\n",
       "      <th>movieId</th>\n",
       "      <th>id</th>\n",
       "    </tr>\n",
       "    <tr>\n",
       "      <th>title</th>\n",
       "      <th></th>\n",
       "      <th></th>\n",
       "    </tr>\n",
       "  </thead>\n",
       "  <tbody>\n",
       "    <tr>\n",
       "      <th>Toy Story</th>\n",
       "      <td>1</td>\n",
       "      <td>862.0</td>\n",
       "    </tr>\n",
       "    <tr>\n",
       "      <th>Jumanji</th>\n",
       "      <td>2</td>\n",
       "      <td>8844.0</td>\n",
       "    </tr>\n",
       "    <tr>\n",
       "      <th>Grumpier Old Men</th>\n",
       "      <td>3</td>\n",
       "      <td>15602.0</td>\n",
       "    </tr>\n",
       "    <tr>\n",
       "      <th>Waiting to Exhale</th>\n",
       "      <td>4</td>\n",
       "      <td>31357.0</td>\n",
       "    </tr>\n",
       "    <tr>\n",
       "      <th>Father of the Bride Part II</th>\n",
       "      <td>5</td>\n",
       "      <td>11862.0</td>\n",
       "    </tr>\n",
       "  </tbody>\n",
       "</table>\n",
       "</div>"
      ],
      "text/plain": [
       "                             movieId       id\n",
       "title                                        \n",
       "Toy Story                          1    862.0\n",
       "Jumanji                            2   8844.0\n",
       "Grumpier Old Men                   3  15602.0\n",
       "Waiting to Exhale                  4  31357.0\n",
       "Father of the Bride Part II        5  11862.0"
      ]
     },
     "execution_count": 55,
     "metadata": {},
     "output_type": "execute_result"
    }
   ],
   "source": [
    "id_map = pd.read_csv('../input/moviesdataset/links_small.csv')[['movieId', 'tmdbId']]\n",
    "id_map['tmdbId'] = id_map['tmdbId'].apply(convert_int)\n",
    "id_map.columns = ['movieId', 'id']\n",
    "id_map = id_map.merge(smd[['title', 'id']], on='id').set_index('title')\n",
    "id_map.head()"
   ]
  },
  {
   "cell_type": "code",
   "execution_count": 56,
   "id": "10ac6d29",
   "metadata": {
    "execution": {
     "iopub.execute_input": "2022-02-22T20:34:45.057943Z",
     "iopub.status.busy": "2022-02-22T20:34:45.057251Z",
     "iopub.status.idle": "2022-02-22T20:34:45.061128Z",
     "shell.execute_reply": "2022-02-22T20:34:45.061654Z",
     "shell.execute_reply.started": "2022-02-22T19:12:41.490928Z"
    },
    "papermill": {
     "duration": 0.094797,
     "end_time": "2022-02-22T20:34:45.061885",
     "exception": false,
     "start_time": "2022-02-22T20:34:44.967088",
     "status": "completed"
    },
    "tags": []
   },
   "outputs": [],
   "source": [
    "indices_map = id_map.set_index('id')"
   ]
  },
  {
   "cell_type": "code",
   "execution_count": 57,
   "id": "996f4b16",
   "metadata": {
    "execution": {
     "iopub.execute_input": "2022-02-22T20:34:45.238255Z",
     "iopub.status.busy": "2022-02-22T20:34:45.237542Z",
     "iopub.status.idle": "2022-02-22T20:34:45.244546Z",
     "shell.execute_reply": "2022-02-22T20:34:45.245101Z",
     "shell.execute_reply.started": "2022-02-22T19:12:41.497464Z"
    },
    "papermill": {
     "duration": 0.097047,
     "end_time": "2022-02-22T20:34:45.245307",
     "exception": false,
     "start_time": "2022-02-22T20:34:45.148260",
     "status": "completed"
    },
    "tags": []
   },
   "outputs": [],
   "source": [
    "def hybrid(userId, title):\n",
    "    idx = indices[title]\n",
    "    tmdbId = id_map.loc[title]['id']\n",
    "    #print(idx)\n",
    "    movie_id = id_map.loc[title]['movieId']\n",
    "    \n",
    "    sim_scores = list(enumerate(cosine_sim[int(idx)]))\n",
    "    sim_scores = sorted(sim_scores, key=lambda x: x[1], reverse=True)\n",
    "    sim_scores = sim_scores[1:26]\n",
    "    movie_indices = [i[0] for i in sim_scores]\n",
    "    \n",
    "    movies = smd.iloc[movie_indices][['title', 'vote_count', 'vote_average', 'year', 'id']]\n",
    "    movies['est'] = movies['id'].apply(lambda x: svd.predict(userId, indices_map.loc[x]['movieId']).est)\n",
    "    movies = movies.sort_values('est', ascending=False)\n",
    "    return movies.head(10)"
   ]
  },
  {
   "cell_type": "code",
   "execution_count": 58,
   "id": "40e25d23",
   "metadata": {
    "execution": {
     "iopub.execute_input": "2022-02-22T20:34:45.421876Z",
     "iopub.status.busy": "2022-02-22T20:34:45.421126Z",
     "iopub.status.idle": "2022-02-22T20:34:45.454843Z",
     "shell.execute_reply": "2022-02-22T20:34:45.455418Z",
     "shell.execute_reply.started": "2022-02-22T19:12:41.512068Z"
    },
    "papermill": {
     "duration": 0.123607,
     "end_time": "2022-02-22T20:34:45.455627",
     "exception": false,
     "start_time": "2022-02-22T20:34:45.332020",
     "status": "completed"
    },
    "tags": []
   },
   "outputs": [
    {
     "data": {
      "text/html": [
       "<div>\n",
       "<style scoped>\n",
       "    .dataframe tbody tr th:only-of-type {\n",
       "        vertical-align: middle;\n",
       "    }\n",
       "\n",
       "    .dataframe tbody tr th {\n",
       "        vertical-align: top;\n",
       "    }\n",
       "\n",
       "    .dataframe thead th {\n",
       "        text-align: right;\n",
       "    }\n",
       "</style>\n",
       "<table border=\"1\" class=\"dataframe\">\n",
       "  <thead>\n",
       "    <tr style=\"text-align: right;\">\n",
       "      <th></th>\n",
       "      <th>title</th>\n",
       "      <th>vote_count</th>\n",
       "      <th>vote_average</th>\n",
       "      <th>year</th>\n",
       "      <th>id</th>\n",
       "      <th>est</th>\n",
       "    </tr>\n",
       "  </thead>\n",
       "  <tbody>\n",
       "    <tr>\n",
       "      <th>522</th>\n",
       "      <td>Terminator 2: Judgment Day</td>\n",
       "      <td>4274.0</td>\n",
       "      <td>7.7</td>\n",
       "      <td>1991</td>\n",
       "      <td>280</td>\n",
       "      <td>3.500788</td>\n",
       "    </tr>\n",
       "    <tr>\n",
       "      <th>1011</th>\n",
       "      <td>The Terminator</td>\n",
       "      <td>4208.0</td>\n",
       "      <td>7.4</td>\n",
       "      <td>1984</td>\n",
       "      <td>218</td>\n",
       "      <td>3.202220</td>\n",
       "    </tr>\n",
       "    <tr>\n",
       "      <th>974</th>\n",
       "      <td>Aliens</td>\n",
       "      <td>3282.0</td>\n",
       "      <td>7.7</td>\n",
       "      <td>1986</td>\n",
       "      <td>679</td>\n",
       "      <td>3.124934</td>\n",
       "    </tr>\n",
       "    <tr>\n",
       "      <th>8401</th>\n",
       "      <td>Star Trek Into Darkness</td>\n",
       "      <td>4479.0</td>\n",
       "      <td>7.4</td>\n",
       "      <td>2013</td>\n",
       "      <td>54138</td>\n",
       "      <td>3.083133</td>\n",
       "    </tr>\n",
       "    <tr>\n",
       "      <th>2014</th>\n",
       "      <td>Fantastic Planet</td>\n",
       "      <td>140.0</td>\n",
       "      <td>7.6</td>\n",
       "      <td>1973</td>\n",
       "      <td>16306</td>\n",
       "      <td>3.013765</td>\n",
       "    </tr>\n",
       "    <tr>\n",
       "      <th>922</th>\n",
       "      <td>The Abyss</td>\n",
       "      <td>822.0</td>\n",
       "      <td>7.1</td>\n",
       "      <td>1989</td>\n",
       "      <td>2756</td>\n",
       "      <td>2.887479</td>\n",
       "    </tr>\n",
       "    <tr>\n",
       "      <th>1621</th>\n",
       "      <td>Darby O'Gill and the Little People</td>\n",
       "      <td>35.0</td>\n",
       "      <td>6.7</td>\n",
       "      <td>1959</td>\n",
       "      <td>18887</td>\n",
       "      <td>2.845504</td>\n",
       "    </tr>\n",
       "    <tr>\n",
       "      <th>4017</th>\n",
       "      <td>Hawk the Slayer</td>\n",
       "      <td>13.0</td>\n",
       "      <td>4.5</td>\n",
       "      <td>1980</td>\n",
       "      <td>25628</td>\n",
       "      <td>2.814514</td>\n",
       "    </tr>\n",
       "    <tr>\n",
       "      <th>8658</th>\n",
       "      <td>X-Men: Days of Future Past</td>\n",
       "      <td>6155.0</td>\n",
       "      <td>7.5</td>\n",
       "      <td>2014</td>\n",
       "      <td>127585</td>\n",
       "      <td>2.810517</td>\n",
       "    </tr>\n",
       "    <tr>\n",
       "      <th>831</th>\n",
       "      <td>Escape to Witch Mountain</td>\n",
       "      <td>60.0</td>\n",
       "      <td>6.5</td>\n",
       "      <td>1975</td>\n",
       "      <td>14821</td>\n",
       "      <td>2.735899</td>\n",
       "    </tr>\n",
       "  </tbody>\n",
       "</table>\n",
       "</div>"
      ],
      "text/plain": [
       "                                   title  vote_count  vote_average  year  \\\n",
       "522           Terminator 2: Judgment Day      4274.0           7.7  1991   \n",
       "1011                      The Terminator      4208.0           7.4  1984   \n",
       "974                               Aliens      3282.0           7.7  1986   \n",
       "8401             Star Trek Into Darkness      4479.0           7.4  2013   \n",
       "2014                    Fantastic Planet       140.0           7.6  1973   \n",
       "922                            The Abyss       822.0           7.1  1989   \n",
       "1621  Darby O'Gill and the Little People        35.0           6.7  1959   \n",
       "4017                     Hawk the Slayer        13.0           4.5  1980   \n",
       "8658          X-Men: Days of Future Past      6155.0           7.5  2014   \n",
       "831             Escape to Witch Mountain        60.0           6.5  1975   \n",
       "\n",
       "          id       est  \n",
       "522      280  3.500788  \n",
       "1011     218  3.202220  \n",
       "974      679  3.124934  \n",
       "8401   54138  3.083133  \n",
       "2014   16306  3.013765  \n",
       "922     2756  2.887479  \n",
       "1621   18887  2.845504  \n",
       "4017   25628  2.814514  \n",
       "8658  127585  2.810517  \n",
       "831    14821  2.735899  "
      ]
     },
     "execution_count": 58,
     "metadata": {},
     "output_type": "execute_result"
    }
   ],
   "source": [
    "hybrid(1, 'Avatar')"
   ]
  },
  {
   "cell_type": "code",
   "execution_count": 59,
   "id": "f1885c45",
   "metadata": {
    "execution": {
     "iopub.execute_input": "2022-02-22T20:34:45.632946Z",
     "iopub.status.busy": "2022-02-22T20:34:45.632335Z",
     "iopub.status.idle": "2022-02-22T20:34:45.660927Z",
     "shell.execute_reply": "2022-02-22T20:34:45.661425Z",
     "shell.execute_reply.started": "2022-02-22T19:12:41.566588Z"
    },
    "papermill": {
     "duration": 0.118546,
     "end_time": "2022-02-22T20:34:45.661615",
     "exception": false,
     "start_time": "2022-02-22T20:34:45.543069",
     "status": "completed"
    },
    "tags": []
   },
   "outputs": [
    {
     "data": {
      "text/html": [
       "<div>\n",
       "<style scoped>\n",
       "    .dataframe tbody tr th:only-of-type {\n",
       "        vertical-align: middle;\n",
       "    }\n",
       "\n",
       "    .dataframe tbody tr th {\n",
       "        vertical-align: top;\n",
       "    }\n",
       "\n",
       "    .dataframe thead th {\n",
       "        text-align: right;\n",
       "    }\n",
       "</style>\n",
       "<table border=\"1\" class=\"dataframe\">\n",
       "  <thead>\n",
       "    <tr style=\"text-align: right;\">\n",
       "      <th></th>\n",
       "      <th>title</th>\n",
       "      <th>vote_count</th>\n",
       "      <th>vote_average</th>\n",
       "      <th>year</th>\n",
       "      <th>id</th>\n",
       "      <th>est</th>\n",
       "    </tr>\n",
       "  </thead>\n",
       "  <tbody>\n",
       "    <tr>\n",
       "      <th>8401</th>\n",
       "      <td>Star Trek Into Darkness</td>\n",
       "      <td>4479.0</td>\n",
       "      <td>7.4</td>\n",
       "      <td>2013</td>\n",
       "      <td>54138</td>\n",
       "      <td>3.319529</td>\n",
       "    </tr>\n",
       "    <tr>\n",
       "      <th>974</th>\n",
       "      <td>Aliens</td>\n",
       "      <td>3282.0</td>\n",
       "      <td>7.7</td>\n",
       "      <td>1986</td>\n",
       "      <td>679</td>\n",
       "      <td>3.293540</td>\n",
       "    </tr>\n",
       "    <tr>\n",
       "      <th>2014</th>\n",
       "      <td>Fantastic Planet</td>\n",
       "      <td>140.0</td>\n",
       "      <td>7.6</td>\n",
       "      <td>1973</td>\n",
       "      <td>16306</td>\n",
       "      <td>3.281897</td>\n",
       "    </tr>\n",
       "    <tr>\n",
       "      <th>1668</th>\n",
       "      <td>Return from Witch Mountain</td>\n",
       "      <td>38.0</td>\n",
       "      <td>5.6</td>\n",
       "      <td>1978</td>\n",
       "      <td>14822</td>\n",
       "      <td>3.171719</td>\n",
       "    </tr>\n",
       "    <tr>\n",
       "      <th>8658</th>\n",
       "      <td>X-Men: Days of Future Past</td>\n",
       "      <td>6155.0</td>\n",
       "      <td>7.5</td>\n",
       "      <td>2014</td>\n",
       "      <td>127585</td>\n",
       "      <td>3.109395</td>\n",
       "    </tr>\n",
       "    <tr>\n",
       "      <th>1011</th>\n",
       "      <td>The Terminator</td>\n",
       "      <td>4208.0</td>\n",
       "      <td>7.4</td>\n",
       "      <td>1984</td>\n",
       "      <td>218</td>\n",
       "      <td>3.057308</td>\n",
       "    </tr>\n",
       "    <tr>\n",
       "      <th>4017</th>\n",
       "      <td>Hawk the Slayer</td>\n",
       "      <td>13.0</td>\n",
       "      <td>4.5</td>\n",
       "      <td>1980</td>\n",
       "      <td>25628</td>\n",
       "      <td>3.004115</td>\n",
       "    </tr>\n",
       "    <tr>\n",
       "      <th>2132</th>\n",
       "      <td>Superman II</td>\n",
       "      <td>642.0</td>\n",
       "      <td>6.5</td>\n",
       "      <td>1980</td>\n",
       "      <td>8536</td>\n",
       "      <td>2.938497</td>\n",
       "    </tr>\n",
       "    <tr>\n",
       "      <th>1621</th>\n",
       "      <td>Darby O'Gill and the Little People</td>\n",
       "      <td>35.0</td>\n",
       "      <td>6.7</td>\n",
       "      <td>1959</td>\n",
       "      <td>18887</td>\n",
       "      <td>2.889496</td>\n",
       "    </tr>\n",
       "    <tr>\n",
       "      <th>1376</th>\n",
       "      <td>Titanic</td>\n",
       "      <td>7770.0</td>\n",
       "      <td>7.5</td>\n",
       "      <td>1997</td>\n",
       "      <td>597</td>\n",
       "      <td>2.877240</td>\n",
       "    </tr>\n",
       "  </tbody>\n",
       "</table>\n",
       "</div>"
      ],
      "text/plain": [
       "                                   title  vote_count  vote_average  year  \\\n",
       "8401             Star Trek Into Darkness      4479.0           7.4  2013   \n",
       "974                               Aliens      3282.0           7.7  1986   \n",
       "2014                    Fantastic Planet       140.0           7.6  1973   \n",
       "1668          Return from Witch Mountain        38.0           5.6  1978   \n",
       "8658          X-Men: Days of Future Past      6155.0           7.5  2014   \n",
       "1011                      The Terminator      4208.0           7.4  1984   \n",
       "4017                     Hawk the Slayer        13.0           4.5  1980   \n",
       "2132                         Superman II       642.0           6.5  1980   \n",
       "1621  Darby O'Gill and the Little People        35.0           6.7  1959   \n",
       "1376                             Titanic      7770.0           7.5  1997   \n",
       "\n",
       "          id       est  \n",
       "8401   54138  3.319529  \n",
       "974      679  3.293540  \n",
       "2014   16306  3.281897  \n",
       "1668   14822  3.171719  \n",
       "8658  127585  3.109395  \n",
       "1011     218  3.057308  \n",
       "4017   25628  3.004115  \n",
       "2132    8536  2.938497  \n",
       "1621   18887  2.889496  \n",
       "1376     597  2.877240  "
      ]
     },
     "execution_count": 59,
     "metadata": {},
     "output_type": "execute_result"
    }
   ],
   "source": [
    "hybrid(500, 'Avatar')"
   ]
  }
 ],
 "metadata": {
  "kernelspec": {
   "display_name": "Python 3",
   "language": "python",
   "name": "python3"
  },
  "language_info": {
   "codemirror_mode": {
    "name": "ipython",
    "version": 3
   },
   "file_extension": ".py",
   "mimetype": "text/x-python",
   "name": "python",
   "nbconvert_exporter": "python",
   "pygments_lexer": "ipython3",
   "version": "3.7.12"
  },
  "papermill": {
   "default_parameters": {},
   "duration": 180.080591,
   "end_time": "2022-02-22T20:34:47.065498",
   "environment_variables": {},
   "exception": null,
   "input_path": "__notebook__.ipynb",
   "output_path": "__notebook__.ipynb",
   "parameters": {},
   "start_time": "2022-02-22T20:31:46.984907",
   "version": "2.3.3"
  }
 },
 "nbformat": 4,
 "nbformat_minor": 5
}
